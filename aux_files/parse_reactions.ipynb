{
 "cells": [
  {
   "cell_type": "code",
   "execution_count": 1,
   "metadata": {},
   "outputs": [],
   "source": [
    "import json\n",
    "import re\n",
    "from collections import defaultdict\n",
    "import numpy as np"
   ]
  },
  {
   "cell_type": "code",
   "execution_count": 2,
   "metadata": {},
   "outputs": [],
   "source": [
    "def parse_side_interest(side_str):\n",
    "    species = {}\n",
    "    for term in side_str.split('+'):\n",
    "        term = term.strip()\n",
    "        m = re.match(r'(\\d*)\\s*([A-Za-z0-9_]+)', term)\n",
    "        if not m:\n",
    "            raise ValueError(f\"cannot parse '{term}'\")\n",
    "        \n",
    "        name = m.group(2)\n",
    "        name_split = name.split(\"_\")\n",
    "        if len(name_split) != 2:\n",
    "            continue\n",
    "        \n",
    "        print(name)\n",
    "        \n",
    "        coeff = int(m.group(1)) if m.group(1) else 1\n",
    "        species[name] = coeff\n",
    "    return species\n",
    "\n",
    "\n",
    "def parse_side(side_str):\n",
    "    species = {}\n",
    "    for term in side_str.split('+'):\n",
    "        term = term.strip()\n",
    "        m = re.match(r'(\\d*)\\s*([A-Za-z0-9_]+)', term)\n",
    "        if not m:\n",
    "            raise ValueError(f\"cannot parse '{term}'\")\n",
    "        \n",
    "        \n",
    "        coeff = int(m.group(1)) if m.group(1) else 1\n",
    "        name  = m.group(2)\n",
    "        species[name] = coeff\n",
    "    return species\n",
    "\n",
    "\n",
    "def load_reactions(path):\n",
    "    with open(path) as f:\n",
    "        raw = json.load(f)\n",
    "    reactions = []\n",
    "    all_species = set()\n",
    "    for r in raw:\n",
    "        left, right = r['equation'].split('<->') if '<->' in r['equation'] else r['equation'].split('->')\n",
    "        rev = '<->' in r['equation']\n",
    "        left  = parse_side_interest(left)\n",
    "        right = parse_side_interest(right)\n",
    "        \n",
    "        # print(\"left: \", left.keys())\n",
    "        # print(\"right: \", right.keys())\n",
    "        \n",
    "        all_species |= left.keys() | right.keys()\n",
    "        reactions.append({\n",
    "            'id':         r['id'],\n",
    "            'left':     left,\n",
    "            'right':    right,\n",
    "            'rate':     r['rate']\n",
    "        })\n",
    "    species_list = sorted(all_species)\n",
    "    return reactions, species_list"
   ]
  },
  {
   "cell_type": "code",
   "execution_count": 3,
   "metadata": {},
   "outputs": [
    {
     "name": "stdout",
     "output_type": "stream",
     "text": [
      "V_F\n",
      "O_F\n",
      "O_F\n",
      "V_F\n",
      "V_S\n",
      "O_S\n",
      "O_F\n",
      "V_F\n",
      "O_F\n",
      "V_S\n",
      "V_F\n",
      "O_S\n",
      "O_S\n",
      "O_F\n",
      "O_F\n",
      "O_S\n",
      "V_F\n",
      "V_S\n",
      "O_F\n",
      "O_F\n",
      "V_F\n",
      "V_F\n"
     ]
    }
   ],
   "source": [
    "\n",
    "reactions, species_list = load_reactions(\"reactions.json\")"
   ]
  },
  {
   "cell_type": "code",
   "execution_count": 4,
   "metadata": {},
   "outputs": [
    {
     "name": "stdout",
     "output_type": "stream",
     "text": [
      "[{'id': 1, 'left': {'V_F': 1}, 'right': {'O_F': 1}, 'rate': 'adsorption'}, {'id': 2, 'left': {'O_F': 1}, 'right': {'V_F': 1}, 'rate': 'desorption'}, {'id': 3, 'left': {'V_S': 1}, 'right': {'O_S': 1}, 'rate': 'adsorption'}, {'id': 4, 'left': {'O_F': 1}, 'right': {'V_F': 1}, 'rate': 'recomb-ER'}, {'id': 5, 'left': {'O_F': 1, 'V_S': 1}, 'right': {'V_F': 1, 'O_S': 1}, 'rate': 'diffusion'}, {'id': 6, 'left': {'O_S': 1}, 'right': {'O_F': 1}, 'rate': 'adsorption'}, {'id': 7, 'left': {'O_F': 1, 'O_S': 1}, 'right': {'V_F': 1, 'V_S': 1}, 'rate': 'diffusion-recomb'}, {'id': 8, 'left': {'O_F': 1}, 'right': {'V_F': 1}, 'rate': 'recomb-LH'}]\n",
      "['O_F', 'O_S', 'V_F', 'V_S']\n"
     ]
    }
   ],
   "source": [
    "print(reactions)\n",
    "print(species_list)"
   ]
  },
  {
   "cell_type": "code",
   "execution_count": 5,
   "metadata": {},
   "outputs": [
    {
     "name": "stdout",
     "output_type": "stream",
     "text": [
      "[['O', 'F'], ['O', 'S'], ['V', 'F'], ['V', 'S']]\n",
      "['F', 'S']\n",
      "{'V_F': ['O_F'], 'V_S': ['O_S']}\n"
     ]
    }
   ],
   "source": [
    "### conservation laws\n",
    "\n",
    "surface_species = [ele.split('_') for ele in species_list]\n",
    "\n",
    "surface_species_unique = list(set([ele[1] for ele in surface_species]))\n",
    "\n",
    "dictionaires_species = {}\n",
    "\n",
    "for group in surface_species_unique:\n",
    "    vec_species = []\n",
    "    for specie in surface_species:\n",
    "        if group == specie[1] and specie[0] != \"V\":\n",
    "            vec_species.append(\"_\".join(specie))\n",
    "        \n",
    "    dictionaires_species[\"V_\" + group] = vec_species\n",
    "\n",
    "\n",
    "\n",
    "print(surface_species)\n",
    "print(surface_species_unique)\n",
    "print(dictionaires_species)"
   ]
  },
  {
   "cell_type": "code",
   "execution_count": 6,
   "metadata": {},
   "outputs": [
    {
     "name": "stdout",
     "output_type": "stream",
     "text": [
      "['O_F' 'O_S']\n"
     ]
    }
   ],
   "source": [
    "\n",
    "#### compose the matrix S\n",
    "\n",
    "effective_species_list = np.array(list(dictionaires_species.values())).squeeze()\n",
    "print(effective_species_list)\n",
    "\n"
   ]
  },
  {
   "cell_type": "code",
   "execution_count": 7,
   "metadata": {},
   "outputs": [
    {
     "name": "stdout",
     "output_type": "stream",
     "text": [
      "[{'id': 1, 'left': {'V_F': 1}, 'right': {'O_F': 1}, 'rate': 'adsorption'}, {'id': 2, 'left': {'O_F': 1}, 'right': {'V_F': 1}, 'rate': 'desorption'}, {'id': 3, 'left': {'V_S': 1}, 'right': {'O_S': 1}, 'rate': 'adsorption'}, {'id': 4, 'left': {'O_F': 1}, 'right': {'V_F': 1}, 'rate': 'recomb-ER'}, {'id': 5, 'left': {'O_F': 1, 'V_S': 1}, 'right': {'V_F': 1, 'O_S': 1}, 'rate': 'diffusion'}, {'id': 6, 'left': {'O_S': 1}, 'right': {'O_F': 1}, 'rate': 'adsorption'}, {'id': 7, 'left': {'O_F': 1, 'O_S': 1}, 'right': {'V_F': 1, 'V_S': 1}, 'rate': 'diffusion-recomb'}, {'id': 8, 'left': {'O_F': 1}, 'right': {'V_F': 1}, 'rate': 'recomb-LH'}]\n"
     ]
    }
   ],
   "source": [
    "print(reactions)"
   ]
  },
  {
   "cell_type": "code",
   "execution_count": 8,
   "metadata": {},
   "outputs": [
    {
     "name": "stdout",
     "output_type": "stream",
     "text": [
      "['O_F' 'O_S']\n",
      "[[(0, 1), (1, -1), (3, -1), (4, -1), (5, 1), (6, -1), (7, -1)], [(2, 1), (4, 1), (5, -1), (6, -1)]]\n",
      "system [(0, 1), (1, -1), (3, -1), (4, -1), (5, 1), (6, -1), (7, -1)]\n",
      "V_F\n",
      "O_F\n",
      "O_F\n"
     ]
    },
    {
     "ename": "NameError",
     "evalue": "name 'term' is not defined",
     "output_type": "error",
     "traceback": [
      "\u001b[0;31m---------------------------------------------------------------------------\u001b[0m",
      "\u001b[0;31mNameError\u001b[0m                                 Traceback (most recent call last)",
      "\u001b[1;32m/Users/joseafonso/Desktop/PlasmaDM/parse_reactions.ipynb Cell 8\u001b[0m line \u001b[0;36m4\n\u001b[1;32m     <a href='vscode-notebook-cell:/Users/joseafonso/Desktop/PlasmaDM/parse_reactions.ipynb#X11sZmlsZQ%3D%3D?line=43'>44</a>\u001b[0m \u001b[39mif\u001b[39;00m \u001b[39mlen\u001b[39m(term_keys) \u001b[39m==\u001b[39m \u001b[39m1\u001b[39m:\n\u001b[1;32m     <a href='vscode-notebook-cell:/Users/joseafonso/Desktop/PlasmaDM/parse_reactions.ipynb#X11sZmlsZQ%3D%3D?line=45'>46</a>\u001b[0m     \u001b[39mprint\u001b[39m(term_keys[\u001b[39m0\u001b[39m])\n\u001b[0;32m---> <a href='vscode-notebook-cell:/Users/joseafonso/Desktop/PlasmaDM/parse_reactions.ipynb#X11sZmlsZQ%3D%3D?line=47'>48</a>\u001b[0m \u001b[39melif\u001b[39;00m \u001b[39mlen\u001b[39m(term[\u001b[39m'\u001b[39m\u001b[39mright\u001b[39m\u001b[39m'\u001b[39m]\u001b[39m.\u001b[39mkeys()) \u001b[39m==\u001b[39m \u001b[39m2\u001b[39m:\n\u001b[1;32m     <a href='vscode-notebook-cell:/Users/joseafonso/Desktop/PlasmaDM/parse_reactions.ipynb#X11sZmlsZQ%3D%3D?line=49'>50</a>\u001b[0m     \u001b[39mprint\u001b[39m(\u001b[39m\"\u001b[39m\u001b[39m2: \u001b[39m\u001b[39m\"\u001b[39m, term[\u001b[39m'\u001b[39m\u001b[39mright\u001b[39m\u001b[39m'\u001b[39m]\u001b[39m.\u001b[39mkeys())\n\u001b[1;32m     <a href='vscode-notebook-cell:/Users/joseafonso/Desktop/PlasmaDM/parse_reactions.ipynb#X11sZmlsZQ%3D%3D?line=51'>52</a>\u001b[0m \u001b[39melse\u001b[39;00m:\n",
      "\u001b[0;31mNameError\u001b[0m: name 'term' is not defined"
     ]
    }
   ],
   "source": [
    "\n",
    "\n",
    "#### filter reactions for each specie and do the balaance for it \n",
    "\n",
    "print(effective_species_list)\n",
    "filtered_reactions = []\n",
    "\n",
    "\n",
    "for specie in effective_species_list:\n",
    "    \n",
    "    vec_aux = []\n",
    "    for idx, eq in enumerate(reactions):\n",
    "        \n",
    "        # print(eq['left'])\n",
    "        # print(eq['right'])\n",
    "        \n",
    "        if specie in eq[\"left\"].keys():\n",
    "            vec_aux.append((idx, -1))\n",
    "        \n",
    "        if specie in eq[\"right\"].keys():\n",
    "            vec_aux.append((idx, +1))\n",
    "        \n",
    "    filtered_reactions.append(vec_aux)\n",
    "\n",
    "\n",
    "S_constant = []\n",
    "S_linear = []\n",
    "S_quadratic = []\n",
    "\n",
    "\n",
    "print(filtered_reactions)\n",
    "\n",
    "for idx, system in enumerate(filtered_reactions):\n",
    "    \n",
    "    print(\"system\", system)\n",
    "    \n",
    "    S_constant_aux = []\n",
    "    S_linear_aux = []\n",
    "    S_quadratic_aux = []\n",
    "    \n",
    "    S_terms_aux = []\n",
    "    \n",
    "    for idx_eq, sign in system:\n",
    "\n",
    "        term_keys = list(reactions[idx_eq]['left'].keys())\n",
    "        term_nu = list(reactions[idx_eq]['left'].values())\n",
    "        \n",
    "        # print(\"term: \", term_keys)\n",
    "        # print(\"term: \", term_nu)\n",
    "        \n",
    "        ### think about [(idx_1, idx_2, ..., idx_n, idx_reactiob, sigm), ....]\n",
    "        \n",
    "        if len(term_keys) == 1:\n",
    "        \n",
    "            if term_keys[0].split(\"_\") == \"V\":\n",
    "                S_terms_aux.append(([], idx_eq, sign))\n",
    "                vec_aux = list(dictionaires_species[term_keys[0]])\n",
    "                vec_tuple = [([effective_species_list.index(term_keys[0])], idx_eq, -1*sign)]\n",
    "                \n",
    "            else:\n",
    "                ### only update the linear terms\n",
    "                pass\n",
    "        \n",
    "        elif len(term['right'].keys()) == 2:\n",
    "            \n",
    "            ### if V is in : a scheme \n",
    "            \n",
    "            ### if V is not in a different scheme \n",
    "            \n",
    "            print(\"2: \", term['right'].keys())\n",
    "        \n",
    "        else:\n",
    "            pass\n",
    "        \n",
    "    \n",
    "    \n",
    "print(effective_species_list)\n",
    "print(filtered_reactions)\n",
    "\n",
    "\n",
    "\n",
    "\n",
    "\n"
   ]
  },
  {
   "cell_type": "code",
   "execution_count": null,
   "metadata": {},
   "outputs": [],
   "source": []
  }
 ],
 "metadata": {
  "kernelspec": {
   "display_name": "LLM",
   "language": "python",
   "name": "python3"
  },
  "language_info": {
   "codemirror_mode": {
    "name": "ipython",
    "version": 3
   },
   "file_extension": ".py",
   "mimetype": "text/x-python",
   "name": "python",
   "nbconvert_exporter": "python",
   "pygments_lexer": "ipython3",
   "version": "3.12.7"
  }
 },
 "nbformat": 4,
 "nbformat_minor": 2
}
