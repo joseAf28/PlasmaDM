{
 "cells": [
  {
   "cell_type": "code",
   "execution_count": 1,
   "metadata": {},
   "outputs": [],
   "source": [
    "import scipy as sp\n",
    "import matplotlib.pyplot as plt\n",
    "import pandas as pd\n",
    "import os\n",
    "import h5py\n",
    "import numpy as np"
   ]
  },
  {
   "cell_type": "code",
   "execution_count": 2,
   "metadata": {},
   "outputs": [
    {
     "name": "stdout",
     "output_type": "stream",
     "text": [
      "['Experimental_data_CO/Set_Blandine_Tw_50.xlsx', 'Experimental_data_CO/Set_Blandine_Tw_25.xlsx', 'Experimental_data_CO/Data_CO2_TD.xlsx']\n"
     ]
    }
   ],
   "source": [
    "folder_path = \"Experimental_data_CO\"\n",
    "file_name_list = os.listdir(folder_path)\n",
    "filename_path = [os.path.join(folder_path, file_name) for file_name in file_name_list if file_name.endswith(\".xlsx\")]\n",
    "print(filename_path)\n"
   ]
  },
  {
   "cell_type": "code",
   "execution_count": 3,
   "metadata": {},
   "outputs": [
    {
     "name": "stdout",
     "output_type": "stream",
     "text": [
      "3\n"
     ]
    }
   ],
   "source": [
    "print(len(filename_path))"
   ]
  },
  {
   "cell_type": "code",
   "execution_count": 4,
   "metadata": {},
   "outputs": [
    {
     "name": "stdout",
     "output_type": "stream",
     "text": [
      "['Experimental_data_CO/Set_Blandine_Tw_50.xlsx', 'Experimental_data_CO/Set_Blandine_Tw_25.xlsx', 'Experimental_data_CO/Data_CO2_TD.xlsx']\n",
      "['Experimental_data_CO/Set_Blandine_Tw_50.xlsx', 'Experimental_data_CO/Set_Blandine_Tw_25.xlsx', 'Experimental_data_CO/Data_CO2_TD.xlsx']\n"
     ]
    }
   ],
   "source": [
    "print(filename_path)\n",
    "# filename_path = filename_path[1:]\n",
    "# filename_path = [filename_path[0]]\n",
    "print(filename_path)"
   ]
  },
  {
   "cell_type": "code",
   "execution_count": 5,
   "metadata": {},
   "outputs": [
    {
     "name": "stdout",
     "output_type": "stream",
     "text": [
      "[0.3 0.4 0.6 0.8 1.  2.  3.  4.  0.4 0.6 0.8 1.  2.  3.  4.  5.  0.3 0.8\n",
      " 1.  2.  3.  4.  5.  0.6 0.8 1.  2.  3.  4.  5.  1.  2.  3.  4.  5. ]\n",
      "[10 10 10 10 10 10 10 10 20 20 20 20 20 20 20 20 30 30 30 30 30 30 30 40\n",
      " 40 40 40 40 40 40 50 50 50 50 50]\n",
      "[21.15207373 18.4562212  13.20276498 10.85253456  8.50230415  7.32718894\n",
      "  9.88479263 13.82488479 23.01843318 16.38248848 16.58986175 12.09677419\n",
      " 10.16129032 13.06451613 16.58986175 17.62672811 31.86635945 17.97235023\n",
      " 14.30875576 13.82488479 17.00460829 19.42396313 20.59907834 24.19354839\n",
      " 22.11981567 17.69585253 17.28110599 19.49308756 21.84331797 23.640553\n",
      " 21.42857143 20.1843318  23.22580645 26.26728111 27.02764977]\n"
     ]
    }
   ],
   "source": [
    "\n",
    "filename_path = filename_path[0:1]\n",
    "\n",
    "columns_of_interest = ['Pressure(torr)', 'Current(mA)', 'Twall', 'TgasExp', 'TnwExp',\\\n",
    "    'OmeanExp(cm-3)', 'COmeanExp(m-3)', 'N_gas (m-3)',  'fracCO2', 'fracO2', \\\n",
    "    'lossFreqExp', 'recProbExp']\n",
    "\n",
    "\n",
    "pressure_data = []\n",
    "current_data = []\n",
    "\n",
    "Twall_data = []\n",
    "TgasExp_data = []\n",
    "TnwExp_data = []\n",
    "\n",
    "OmeanExp_data = []\n",
    "COmeanExp_data = []\n",
    "NgasExp_data = []\n",
    "\n",
    "fracO2_data = []\n",
    "fracCO2_data = []\n",
    "\n",
    "lossFreqExp_data = []\n",
    "recProbExp_data = []\n",
    "\n",
    "### read data from the excel file\n",
    "for i in range(len(filename_path)):\n",
    "\n",
    "    df = pd.read_excel(filename_path[i])\n",
    "    dt_mod = df[columns_of_interest]\n",
    "    \n",
    "    pressure_aux = dt_mod[columns_of_interest[0]].to_numpy()\n",
    "    current_aux = dt_mod[columns_of_interest[1]].to_numpy()\n",
    "    \n",
    "    Twall_aux = dt_mod[columns_of_interest[2]].to_numpy() + 273.15\n",
    "    TgasExp_aux = dt_mod[columns_of_interest[3]].to_numpy()\n",
    "    TnwExp_aux = dt_mod[columns_of_interest[4]].to_numpy()\n",
    "    \n",
    "    OmeanExp_aux = dt_mod[columns_of_interest[5]].to_numpy()\n",
    "    COmeanExp_aux = dt_mod[columns_of_interest[6]].to_numpy() * 1e-6\n",
    "    NgasExp_aux = dt_mod[columns_of_interest[7]].to_numpy() * 1e-6\n",
    "    \n",
    "    fracO2_aux = dt_mod[columns_of_interest[8]].to_numpy()\n",
    "    fracCO2_aux = dt_mod[columns_of_interest[9]].to_numpy()\n",
    "    \n",
    "    lossFreqExp_aux = dt_mod[columns_of_interest[10]].to_numpy()\n",
    "    recProbExp_aux = dt_mod[columns_of_interest[11]].to_numpy()\n",
    "    \n",
    "    pressure_data.append(pressure_aux[~np.isnan(pressure_aux)])\n",
    "    current_data.append(current_aux[~np.isnan(current_aux)])\n",
    "    \n",
    "    Twall_data.append(Twall_aux[~np.isnan(Twall_aux)])\n",
    "    TgasExp_data.append(TgasExp_aux[~np.isnan(TgasExp_aux)])\n",
    "    TnwExp_data.append(TnwExp_aux[~np.isnan(TnwExp_aux)])\n",
    "    \n",
    "    OmeanExp_data.append(OmeanExp_aux[~np.isnan(OmeanExp_aux)])\n",
    "    COmeanExp_data.append(COmeanExp_aux[~np.isnan(COmeanExp_aux)])\n",
    "    NgasExp_data.append(NgasExp_aux[~np.isnan(NgasExp_aux)])\n",
    "    \n",
    "    fracO2_data.append(fracO2_aux[~np.isnan(fracO2_aux)])\n",
    "    fracCO2_data.append(fracCO2_aux[~np.isnan(fracCO2_aux)])\n",
    "    \n",
    "    lossFreqExp_data.append(lossFreqExp_aux[~np.isnan(lossFreqExp_aux)])\n",
    "    recProbExp_data.append(recProbExp_aux[~np.isnan(recProbExp_aux)])\n",
    "\n",
    "\n",
    "pressure_data = np.concatenate(pressure_data)\n",
    "current_data = np.concatenate(current_data)\n",
    "\n",
    "Twall_data = np.concatenate(Twall_data)\n",
    "TgasExp_data = np.concatenate(TgasExp_data)\n",
    "TnwExp_data = np.concatenate(TnwExp_data)\n",
    "\n",
    "OmeanExp_data = np.concatenate(OmeanExp_data)\n",
    "COmeanExp_data = np.concatenate(COmeanExp_data)\n",
    "NgasExp_data = np.concatenate(NgasExp_data)\n",
    "\n",
    "fracO2_data = np.concatenate(fracO2_data)\n",
    "fracCO2_data = np.concatenate(fracCO2_data)\n",
    "\n",
    "lossFreqExp_data = np.concatenate(lossFreqExp_data)\n",
    "recProbExp_data = np.concatenate(recProbExp_data)\n",
    "\n",
    "\n",
    "print(pressure_data)\n",
    "print(current_data)\n",
    "print(lossFreqExp_data)\n"
   ]
  },
  {
   "cell_type": "code",
   "execution_count": 6,
   "metadata": {},
   "outputs": [
    {
     "name": "stdout",
     "output_type": "stream",
     "text": [
      "[ 181384248210023  248210023866348  477326968973747  610978520286396\n",
      "  840095465393794  983293556085919  649164677804296  811455847255370\n",
      "  372315035799522  773269689737470 1078758949880660 1374701670644390\n",
      " 1766109785202860 1708830548926010 1489260143198090 1374701670644390\n",
      "  362768496420047 1403341288782810 1804295942720760 2386634844868730\n",
      " 2424821002386630 2071599045346060 1928400954653930 1164677804295940\n",
      " 1708830548926010 2214797136038180 3054892601431980 3045346062052500\n",
      " 2758949880668250 2548926014319800 2310262529832930 3494033412887820\n",
      " 3675417661097850 3455847255369920 3073985680190930]\n",
      "[2.54910e+15 2.54910e+15 4.17146e+15 5.27815e+15 6.20070e+15 1.10248e+16\n",
      " 1.48608e+16 1.86321e+16 3.10105e+15 4.80072e+15 5.92077e+15 6.92260e+15\n",
      " 1.22654e+16 1.66292e+16 2.05294e+16 2.45705e+16 2.45705e+16 5.95196e+15\n",
      " 6.95616e+15 1.25490e+16 1.74069e+16 2.12140e+16 2.52507e+16 5.08120e+15\n",
      " 5.92257e+15 7.17556e+15 1.25786e+16 1.25786e+16 1.75191e+16 2.13687e+16\n",
      " 7.11885e+15 1.29340e+16 1.80923e+16 2.15845e+16 2.58047e+16]\n"
     ]
    }
   ],
   "source": [
    "print(OmeanExp_data)\n",
    "print(COmeanExp_data)"
   ]
  },
  {
   "cell_type": "code",
   "execution_count": 7,
   "metadata": {},
   "outputs": [],
   "source": [
    "### creat a hdf5 file to store the data\n",
    "hdf5_file = \"Experimental_data_Blandine_CO.hdf5\"\n",
    "\n",
    "with h5py.File(hdf5_file, 'w') as f:\n",
    "    f.create_dataset(\"Pressure\", data=pressure_data)\n",
    "    f.create_dataset(\"Current\", data=current_data)\n",
    "    \n",
    "    f.create_dataset(\"Twall\", data=Twall_data)\n",
    "    f.create_dataset(\"TgasExp\", data=TgasExp_data)\n",
    "    f.create_dataset(\"TnwExp\", data=TnwExp_data)\n",
    "    \n",
    "    f.create_dataset(\"OmeanExp\", data=OmeanExp_data)\n",
    "    f.create_dataset(\"COmeanExp\", data=COmeanExp_data)\n",
    "    f.create_dataset(\"NExp\", data=NgasExp_data)\n",
    "    \n",
    "    f.create_dataset(\"lossFreqExp\", data=lossFreqExp_data)\n",
    "    f.create_dataset(\"recProbExp\", data=recProbExp_data)\n",
    "    \n",
    "    f.close()"
   ]
  }
 ],
 "metadata": {
  "kernelspec": {
   "display_name": "LLM",
   "language": "python",
   "name": "python3"
  },
  "language_info": {
   "codemirror_mode": {
    "name": "ipython",
    "version": 3
   },
   "file_extension": ".py",
   "mimetype": "text/x-python",
   "name": "python",
   "nbconvert_exporter": "python",
   "pygments_lexer": "ipython3",
   "version": "3.12.7"
  }
 },
 "nbformat": 4,
 "nbformat_minor": 2
}
