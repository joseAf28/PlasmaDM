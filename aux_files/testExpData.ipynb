{
 "cells": [
  {
   "cell_type": "code",
   "execution_count": 1,
   "metadata": {},
   "outputs": [],
   "source": [
    "import scipy as sp\n",
    "import pandas as pd\n",
    "import os\n",
    "import numpy as np\n",
    "import h5py"
   ]
  },
  {
   "cell_type": "code",
   "execution_count": 2,
   "metadata": {},
   "outputs": [
    {
     "name": "stdout",
     "output_type": "stream",
     "text": [
      "['Experimental_data_TD/TDset_oxygen_Tw-20.xlsx', 'Experimental_data_TD/TDset_oxygen_Tw25.xlsx', 'Experimental_data_TD/TDset_oxygen_Tw5.xlsx', 'Experimental_data_TD/TDset_oxygen_Tw50.xlsx']\n"
     ]
    }
   ],
   "source": [
    "folder_path = \"Experimental_data_TD\"\n",
    "file_name_list = os.listdir(folder_path)\n",
    "filename_path = [os.path.join(folder_path, file_name) for file_name in file_name_list if file_name.endswith(\".xlsx\")]\n",
    "print(filename_path)"
   ]
  },
  {
   "cell_type": "code",
   "execution_count": 3,
   "metadata": {},
   "outputs": [
    {
     "name": "stdout",
     "output_type": "stream",
     "text": [
      "   Pressure(torr)  Current(mA)  Flow(sccm)  Twall  fracCO2  fracO2  \\\n",
      "0             0.4           20       7.791    -20        0       1   \n",
      "1             0.6           20       7.791    -20        0       1   \n",
      "2             0.8           20       7.791    -20        0       1   \n",
      "3             1.5           20       7.791    -20        0       1   \n",
      "4             2.0           20       7.791    -20        0       1   \n",
      "\n",
      "   lossFreqExp  recProbExp     TgasExp  ENest(Td)      TnwExp  \\\n",
      "0    16.604905    0.000560  268.941983  71.140809  257.571755   \n",
      "1    20.238391    0.000674  276.610425  65.604231  259.718919   \n",
      "2    22.052369    0.000726  284.986092  61.549791  262.064106   \n",
      "3    26.900785    0.000850  302.968079  53.963316  267.099062   \n",
      "4    27.164979    0.000832  319.053573  51.823836  271.603000   \n",
      "\n",
      "           OmeanExp  Unnamed: 12  Unnamed: 13   TgasExp50  ENest50(Td)  \\\n",
      "0  1493906152913230          NaN          NaN  338.941983    71.140809   \n",
      "1  2482489172052840          NaN          NaN  346.610425    65.604231   \n",
      "2  3044362383817350          NaN          NaN  354.986092    61.549791   \n",
      "3  4814831897137840          NaN          NaN  372.968079    53.963316   \n",
      "4  5660345640080320          NaN          NaN  389.053573    51.823836   \n",
      "\n",
      "   Unnamed: 16  Tgasbefore  \n",
      "0          NaN  286.654776  \n",
      "1          NaN  297.222835  \n",
      "2          NaN  307.194600  \n",
      "3          NaN  337.777078  \n",
      "4          NaN  355.965759  \n"
     ]
    }
   ],
   "source": [
    "df = pd.read_excel(filename_path[0])\n",
    "print(df.head())"
   ]
  },
  {
   "cell_type": "code",
   "execution_count": 4,
   "metadata": {},
   "outputs": [
    {
     "name": "stdout",
     "output_type": "stream",
     "text": [
      "['Pressure(torr)', 'Current(mA)', 'Flow(sccm)', 'Twall', 'fracCO2', 'fracO2', 'lossFreqExp', 'recProbExp', 'TgasExp', 'ENest(Td)', 'TnwExp', 'OmeanExp', 'Unnamed: 12', 'Unnamed: 13', 'TgasExp50', 'ENest50(Td)', 'Unnamed: 16', 'Tgasbefore']\n",
      "[0.4 0.6 0.8 1.5 2.  3.  0.4 0.6 0.8 1.  1.5 2.  3.  5.  7.5]\n",
      "[0.4 0.6 0.8 1.5 2.  3.  0.4 0.6 0.8 1.  1.5 2.  3.  5.  7.5 0.4 0.6 0.8\n",
      " 1.  1.5 2.  3.  5.  0.4 0.6 0.8 1.  1.5 2.  3.  5.  7.5 0.4 0.6 0.8 1.\n",
      " 1.5 2.  3.  5.  0.4 0.6 0.8 1.  1.5 2.  3.  5.  7.5 0.4 0.6 0.8 1.  1.5\n",
      " 2.  3.  5.  0.4 0.6 0.8 1.  1.5 2.  3.  5.  7.5]\n",
      "[-20. -20. -20. -20. -20. -20. -20. -20. -20. -20. -20. -20. -20. -20.\n",
      " -20.  25.  25.  25.  25.  25.  25.  25.  25.  25.  25.  25.  25.  25.\n",
      "  25.  25.  25.  25.   5.   5.   5.   5.   5.   5.   5.   5.   5.   5.\n",
      "   5.   5.   5.   5.   5.   5.   5.  50.  50.  50.  50.  50.  50.  50.\n",
      "  50.  50.  50.  50.  50.  50.  50.  50.  50.  50.]\n",
      "dict_keys(['pressure', 'current', 'Tw', 'Tnw', 'O', 'CO', 'gamma_exp'])\n"
     ]
    }
   ],
   "source": [
    "\n",
    "print(list(df.columns))\n",
    "\n",
    "schema = {\n",
    "    \"Pressure(torr)\": \"pressure\",\n",
    "    \"Current(mA)\": \"current\",\n",
    "    \"Twall\": \"Tw\",\n",
    "    \"TnwExp\": \"Tnw\", \n",
    "    \"OmeanExp\": \"O\",\n",
    "    \"COmeanExp\": \"CO\",\n",
    "    \"recProbExp\": \"gamma_exp\"\n",
    "}\n",
    "\n",
    "data_tensor = {name: [] for name in schema.values()}\n",
    "\n",
    "\n",
    "# print(data_tensor)\n",
    "\n",
    "\n",
    "pressure_vec = df[\"Pressure(torr)\"].to_numpy()\n",
    "print(pressure_vec)\n",
    "\n",
    "\n",
    "for file_name in filename_path:\n",
    "    df = pd.read_excel(file_name)\n",
    "    \n",
    "    for name_exp, name_sim in schema.items():\n",
    "        \n",
    "        if name_exp in df.columns:\n",
    "            vec_aux = df[name_exp].to_numpy()\n",
    "            data_tensor[name_sim].append(vec_aux[~np.isnan(vec_aux)])\n",
    "\n",
    "\n",
    "for name in schema.values():\n",
    "    if len(data_tensor[name]) > 0: \n",
    "        data_tensor[name] = np.concatenate(data_tensor[name])\n",
    "\n",
    "print(data_tensor['pressure'])\n",
    "print(data_tensor['Tw'])\n",
    "\n",
    "print(data_tensor.keys())\n",
    "\n",
    "### write data with hdf5 file "
   ]
  },
  {
   "cell_type": "code",
   "execution_count": 5,
   "metadata": {},
   "outputs": [],
   "source": [
    "\n",
    "###! write data in hdf5 file \n",
    "\n",
    "hdf5_file = \"test_exp_data.hdf5\"\n",
    "\n",
    "with h5py.File(hdf5_file, 'w') as f:\n",
    "    \n",
    "    for name, vec in data_tensor.items():\n",
    "        f.create_dataset(name, data=vec)\n",
    "    \n",
    "    f.close()\n"
   ]
  },
  {
   "cell_type": "code",
   "execution_count": 10,
   "metadata": {},
   "outputs": [
    {
     "name": "stdout",
     "output_type": "stream",
     "text": [
      "<KeysViewHDF5 ['CO', 'O', 'Tnw', 'Tw', 'current', 'gamma_exp', 'pressure']>\n",
      "[]\n",
      "[1.49390615e+15 2.48248917e+15 3.04436238e+15 4.81483190e+15\n",
      " 5.66034564e+15 5.87322990e+15 1.58747774e+15 2.85627673e+15\n",
      " 3.45218295e+15 4.51424757e+15 5.71270024e+15 6.57868821e+15\n",
      " 7.41470218e+15 7.70721080e+15 6.97527853e+15 1.43279928e+15\n",
      " 2.62540281e+15 3.64701206e+15 4.57951835e+15 6.13949515e+15\n",
      " 7.12628229e+15 7.65636648e+15 6.80244088e+15 1.70900118e+15\n",
      " 3.08485244e+15 4.34623353e+15 5.24423561e+15 6.87802883e+15\n",
      " 8.02849464e+15 9.26973051e+15 9.82828986e+15 7.05322789e+15\n",
      " 1.80687919e+15 3.06223611e+15 4.10721898e+15 4.99459996e+15\n",
      " 6.59124649e+15 7.73113278e+15 8.91475344e+15 8.27504332e+15\n",
      " 1.97761540e+15 3.50442408e+15 4.82611243e+15 6.01068056e+15\n",
      " 7.77474960e+15 9.13103058e+15 1.04939622e+16 1.09607510e+16\n",
      " 1.00147976e+16 1.22064007e+15 2.32028959e+15 3.40846622e+15\n",
      " 4.30696647e+15 6.10308420e+15 7.27253759e+15 8.38861398e+15\n",
      " 7.84230376e+15 1.34933921e+15 2.60814796e+15 3.84926420e+15\n",
      " 5.10638668e+15 7.00819546e+15 8.28490321e+15 9.74311697e+15\n",
      " 1.09042205e+16 9.50075082e+15]\n",
      "[257.57175514 259.71891904 262.06410587 267.09906212 271.60300044\n",
      " 276.18416864 259.29651911 264.09946957 268.46158067 271.50117368\n",
      " 276.41384452 282.2238784  290.28079366 303.3456111  315.12752448\n",
      " 302.57175514 304.71891904 307.06410587 308.58711704 312.09906212\n",
      " 316.60300044 321.18416864 329.85776028 304.29651911 309.09946957\n",
      " 313.46158067 316.50117368 321.41384452 327.2238784  335.28079366\n",
      " 348.3456111  360.12752448 282.57175514 284.71891904 287.06410587\n",
      " 288.58711704 292.09906212 296.60300044 301.18416864 309.85776028\n",
      " 284.29651911 289.09946957 293.46158067 296.50117368 301.41384452\n",
      " 307.2238784  315.28079366 328.3456111  340.12752448 327.57175514\n",
      " 329.71891904 332.06410587 333.58711704 337.09906212 341.60300044\n",
      " 346.18416864 354.85776028 329.29651911 334.09946957 338.46158067\n",
      " 341.50117368 346.41384452 352.2238784  360.28079366 373.3456111\n",
      " 385.12752448]\n",
      "[20. 20. 20. 20. 20. 20. 40. 40. 40. 40. 40. 40. 40. 40. 40. 20. 20. 20.\n",
      " 20. 20. 20. 20. 20. 40. 40. 40. 40. 40. 40. 40. 40. 40. 20. 20. 20. 20.\n",
      " 20. 20. 20. 20. 40. 40. 40. 40. 40. 40. 40. 40. 40. 20. 20. 20. 20. 20.\n",
      " 20. 20. 20. 40. 40. 40. 40. 40. 40. 40. 40. 40.]\n",
      "[0.00055986 0.000674   0.00072589 0.00085003 0.00083175 0.00085335\n",
      " 0.00083872 0.00089811 0.00095073 0.00102494 0.00115387 0.00129704\n",
      " 0.00148245 0.0017851  0.00210425 0.00065993 0.0005501  0.00055744\n",
      " 0.00057657 0.00065606 0.00069927 0.00072994 0.00068744 0.00135267\n",
      " 0.00093953 0.00092866 0.00092154 0.00103555 0.00117602 0.00134797\n",
      " 0.0015173  0.0017767  0.00049456 0.00054754 0.00058638 0.00060144\n",
      " 0.00070045 0.00071408 0.00074053 0.00073668 0.00085429 0.00080074\n",
      " 0.00084974 0.00098623 0.00107285 0.00122562 0.00128221 0.00156683\n",
      " 0.00202841 0.00079305 0.00057161 0.00050447 0.00051866 0.00058571\n",
      " 0.0006428  0.00066149 0.00064892 0.00165636 0.00103545 0.00089895\n",
      " 0.00088808 0.00095873 0.00100376 0.00116003 0.00135743 0.0014913 ]\n",
      "[0.4 0.6 0.8 1.5 2.  3.  0.4 0.6 0.8 1.  1.5 2.  3.  5.  7.5 0.4 0.6 0.8\n",
      " 1.  1.5 2.  3.  5.  0.4 0.6 0.8 1.  1.5 2.  3.  5.  7.5 0.4 0.6 0.8 1.\n",
      " 1.5 2.  3.  5.  0.4 0.6 0.8 1.  1.5 2.  3.  5.  7.5 0.4 0.6 0.8 1.  1.5\n",
      " 2.  3.  5.  0.4 0.6 0.8 1.  1.5 2.  3.  5.  7.5]\n"
     ]
    }
   ],
   "source": [
    "\n",
    "\n",
    "### read data to check \n",
    "\n",
    "with h5py.File(hdf5_file, 'r') as f:\n",
    "    print(f.keys())\n",
    "    \n",
    "    print(f['CO'][:])\n",
    "    print(f['O'][:])\n",
    "    print(f['Tnw'][:])\n",
    "    print(f['current'][:])\n",
    "    print(f['gamma_exp'][:])\n",
    "    print(f['pressure'][:])\n"
   ]
  },
  {
   "cell_type": "code",
   "execution_count": null,
   "metadata": {},
   "outputs": [],
   "source": [
    "\n",
    "###  create a folder with outpu\n",
    "\n",
    "os.makedirs()\n"
   ]
  }
 ],
 "metadata": {
  "kernelspec": {
   "display_name": "LLM",
   "language": "python",
   "name": "python3"
  },
  "language_info": {
   "codemirror_mode": {
    "name": "ipython",
    "version": 3
   },
   "file_extension": ".py",
   "mimetype": "text/x-python",
   "name": "python",
   "nbconvert_exporter": "python",
   "pygments_lexer": "ipython3",
   "version": "3.12.7"
  }
 },
 "nbformat": 4,
 "nbformat_minor": 2
}
