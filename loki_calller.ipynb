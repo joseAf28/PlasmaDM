{
 "cells": [
  {
   "cell_type": "code",
   "execution_count": 1,
   "metadata": {},
   "outputs": [],
   "source": [
    "import matlab.engine\n",
    "import numpy as np\n",
    "import h5py\n",
    "from pathlib import Path\n",
    "from tqdm import tqdm\n",
    "\n",
    "import LokiCaller as env\n"
   ]
  },
  {
   "cell_type": "code",
   "execution_count": 2,
   "metadata": {},
   "outputs": [
    {
     "name": "stdout",
     "output_type": "stream",
     "text": [
      "['CO', 'File_Data', 'N', 'O', 'Tgas', 'Tnw', 'Tw', 'current', 'gamma_exp', 'pressure']\n",
      "dict_keys(['Tgas', 'Tnw', 'Tw', 'current', 'pressure'])\n",
      "current:  [20. 20. 20. 20. 20. 20. 40. 40. 40. 40. 40. 40. 40. 40. 40. 20. 20. 20.\n",
      " 20. 20. 20. 20. 20. 40. 40. 40. 40. 40. 40. 40. 40. 40. 20. 20. 20. 20.\n",
      " 20. 20. 20. 20. 40. 40. 40. 40. 40. 40. 40. 40. 40. 20. 20. 20. 20. 20.\n",
      " 20. 20. 20. 40. 40. 40. 40. 40. 40. 40. 40. 40.]\n",
      "Tgas:  [286.65477619 297.22283451 307.19459972 337.77707816 355.9657592\n",
      " 384.9990093  311.66909798 325.28166517 338.27561182 350.6724884\n",
      " 379.19392335 404.4550872  446.5435068  506.41305    563.45371875\n",
      " 309.05030825 318.50558216 327.44533736 335.8930249  355.01334541\n",
      " 371.5712352  398.4654143  437.6272125  332.67671995 345.01181125\n",
      " 356.92211575 368.4187777  395.42388049 420.0874976  463.0867899\n",
      " 528.6492125  586.65006094 323.92320518 333.81151149 343.09123838\n",
      " 351.7918244  371.20273873 387.6379912  413.4214208  449.51935\n",
      " 346.61859939 358.87287997 370.7763961  382.335434   409.76718987\n",
      " 435.183468   480.36248    550.85655    609.83255937 338.79610596\n",
      " 349.11744651 358.73714687 367.6906331  387.39214546 403.7047648\n",
      " 428.3774537  461.4115375  360.56003216 372.73368405 384.63056622\n",
      " 396.25210846 424.11073493 450.27976368 497.63839042 573.0634575\n",
      " 633.01504094]\n",
      "Tw:  [-20. -20. -20. -20. -20. -20. -20. -20. -20. -20. -20. -20. -20. -20.\n",
      " -20.   5.   5.   5.   5.   5.   5.   5.   5.   5.   5.   5.   5.   5.\n",
      "   5.   5.   5.   5.  25.  25.  25.  25.  25.  25.  25.  25.  25.  25.\n",
      "  25.  25.  25.  25.  25.  25.  25.  50.  50.  50.  50.  50.  50.  50.\n",
      "  50.  50.  50.  50.  50.  50.  50.  50.  50.  50.]\n",
      "pressure:  [0.4 0.6 0.8 1.5 2.  3.  0.4 0.6 0.8 1.  1.5 2.  3.  5.  7.5 0.4 0.6 0.8\n",
      " 1.  1.5 2.  3.  5.  0.4 0.6 0.8 1.  1.5 2.  3.  5.  7.5 0.4 0.6 0.8 1.\n",
      " 1.5 2.  3.  5.  0.4 0.6 0.8 1.  1.5 2.  3.  5.  7.5 0.4 0.6 0.8 1.  1.5\n",
      " 2.  3.  5.  0.4 0.6 0.8 1.  1.5 2.  3.  5.  7.5]\n"
     ]
    }
   ],
   "source": [
    "\n",
    "#### experimental data from CO \n",
    "\n",
    "data_dict = {}\n",
    "\n",
    "input_name_h5 = [\"Tgas\", \"Tw\", \"Tnw\", \"current\", \"pressure\"] \n",
    "\n",
    "\n",
    "with h5py.File(\"Buffer_Data/Experimental_data_Paper.hdf5\", \"r\") as file:\n",
    "    keys_hdf5 = list(file.keys())\n",
    "    \n",
    "    print(keys_hdf5)\n",
    "    \n",
    "    for key in keys_hdf5:\n",
    "        if key in input_name_h5:\n",
    "            data_dict[key] = file[key][:]\n",
    "\n",
    "\n",
    "\n",
    "print(data_dict.keys())\n",
    "print(\"current: \", data_dict['current'])\n",
    "print(\"Tgas: \", data_dict['Tgas'])\n",
    "print(\"Tw: \", data_dict[\"Tw\"] )\n",
    "print(\"pressure: \", data_dict[\"pressure\"])\n",
    "\n",
    "\n",
    "data_dict[\"current\"] = data_dict['current'] * 1e-3\n",
    "data_dict[\"Tw\"] = data_dict[\"Tw\"] + 273.15\n"
   ]
  },
  {
   "cell_type": "code",
   "execution_count": 3,
   "metadata": {},
   "outputs": [],
   "source": [
    "\n",
    "base_path = 'LoKI_v3/Code'\n",
    "input_file = 'CO2_novib_28mar2025_mod.in'\n",
    "# output_densities_file = 'sim1/chemFinalDensities.txt'\n",
    "# output_feat_file = 'sim1/swarmParameters.txt'\n",
    "\n",
    "eng = matlab.engine.start_matlab()\n",
    "eng.cd(base_path, nargout=0)"
   ]
  },
  {
   "cell_type": "code",
   "execution_count": 4,
   "metadata": {},
   "outputs": [
    {
     "name": "stdout",
     "output_type": "stream",
     "text": [
      "{'gasPressure': 'pressure', 'gasTemperature': 'Tgas', 'nearWallTemperature': 'Tnw', 'wallTemperature': 'Tw'}\n"
     ]
    }
   ],
   "source": [
    "x_names = [\"gasPressure\", \"gasTemperature\", \"nearWallTemperature\", \"wallTemperature\"]\n",
    "buffer_names = [\"pressure\", \"Tgas\", \"Tnw\", \"Tw\"]\n",
    "\n",
    "map_x_buffer = {x_names[i]:buffer_names[i] for i in range(len(x_names))}\n",
    "\n",
    "print(map_x_buffer)\n",
    "\n",
    "sim = env.PhysicalSimulator(eng, base_path, input_file, x_names)\n"
   ]
  },
  {
   "cell_type": "code",
   "execution_count": 5,
   "metadata": {},
   "outputs": [
    {
     "name": "stdout",
     "output_type": "stream",
     "text": [
      "[[0.4, 286.654776186, 262.53133733208, 253.14999999999998], [0.6, 297.222834506, 265.49039366168, 253.14999999999998], [0.8, 307.194599725, 268.28248792299996, 253.14999999999998], [1.5, 337.777078162499, 276.84558188536, 253.14999999999998], [2.0, 355.9657592, 281.93841257599996, 253.14999999999998], [3.0, 384.9990093, 290.067722604, 253.14999999999998], [0.4, 311.669097978, 269.53534743384, 253.14999999999998], [0.6, 325.281665174, 273.34686624872, 253.14999999999998], [0.8, 338.275611821, 276.98517130988, 253.14999999999998], [1.0, 350.6724884, 280.456296752, 253.14999999999998], [1.5, 379.19392335, 288.442298538, 253.14999999999998], [2.0, 404.4550872, 295.515424416, 253.14999999999998], [3.0, 446.5435068, 307.300181904, 253.14999999999998], [5.0, 506.41305, 324.063654, 253.14999999999998], [7.5, 563.45371875, 340.03504125, 253.14999999999998], [0.4, 309.05030825, 286.80208631, 278.15], [0.6, 318.505582162, 289.44956300536, 278.15], [0.8, 327.445337357, 291.95269445996, 278.15], [1.0, 335.8930249, 294.318046972, 278.15], [1.5, 355.013345412, 299.67173671536, 278.15], [2.0, 371.5712352, 304.307945856, 278.15], [3.0, 398.4654143, 311.838316004, 278.15], [5.0, 437.6272125, 322.80361949999997, 278.15], [0.4, 332.676719949, 293.41748158572, 278.15], [0.6, 345.011811247, 296.87130714916, 278.15], [0.8, 356.92211575, 300.20619240999997, 278.15], [1.0, 368.4187777, 303.425257756, 278.15], [1.5, 395.423880487, 310.98668653635997, 278.15], [2.0, 420.0874976, 317.892499328, 278.15], [3.0, 463.0867899, 329.932301172, 278.15], [5.0, 528.6492125, 348.2897795, 278.15], [7.5, 586.650060937, 364.53001706236, 278.15], [0.4, 323.923205178, 305.36649744984, 298.15], [0.6, 333.811511494, 308.13522321832, 298.15], [0.8, 343.091238381, 310.73354674667996, 298.15], [1.0, 351.7918244, 313.16971083199996, 298.15], [1.5, 371.202738725, 318.604766843, 298.15], [2.0, 387.6379912, 323.20663753599996, 298.15], [3.0, 413.4214208, 330.425997824, 298.15], [5.0, 449.51935, 340.533418, 298.15], [0.4, 346.618599392, 311.72120782976, 298.15], [0.6, 358.872879968, 315.15240639103996, 298.15], [0.8, 370.776396096, 318.48539090687996, 298.15], [1.0, 382.335434, 321.72192151999997, 298.15], [1.5, 409.767189875, 329.402813165, 298.15], [2.0, 435.183468, 336.51937104, 298.15], [3.0, 480.36248, 349.16949439999996, 298.15], [5.0, 550.85655, 368.907834, 298.15], [7.5, 609.832559375, 385.42111662499997, 298.15], [0.4, 338.796105958, 327.53090966824, 323.15], [0.6, 349.11744651, 330.42088502279995, 323.15], [0.8, 358.737146867, 333.11440112276, 323.15], [1.0, 367.6906331, 335.621377268, 323.15], [1.5, 387.392145462, 341.13780072936, 323.15], [2.0, 403.7047648, 345.705334144, 323.15], [3.0, 428.3774537, 352.613687036, 323.15], [5.0, 461.4115375, 361.8632305, 323.15], [0.4, 360.560032157, 333.62480900395997, 323.15], [0.6, 372.733684051, 337.03343153428, 323.15], [0.8, 384.63056622, 340.3645585416, 323.15], [1.0, 396.25210846, 343.61859036879997, 323.15], [1.5, 424.110734928, 351.41900577984, 323.15], [2.0, 450.27976368, 358.7463338304, 323.15], [3.0, 497.63839042, 372.0067493176, 323.15], [5.0, 573.0634575, 393.1257681, 323.15], [7.5, 633.015040938, 409.91221146264, 323.15]]\n"
     ]
    }
   ],
   "source": [
    "\n",
    "current_exp = data_dict[\"current\"]\n",
    "\n",
    "params_list = []\n",
    "for i in range(len(current_exp)):\n",
    "    vec = []\n",
    "    for key in x_names:\n",
    "        key_buffer = map_x_buffer[key]\n",
    "        vec.append(data_dict[key_buffer][i])\n",
    "    params_list.append(vec)\n",
    "\n",
    "print(params_list)"
   ]
  },
  {
   "cell_type": "code",
   "execution_count": 6,
   "metadata": {},
   "outputs": [
    {
     "name": "stdout",
     "output_type": "stream",
     "text": [
      "66\n"
     ]
    }
   ],
   "source": [
    "print(len(current_exp))"
   ]
  },
  {
   "cell_type": "code",
   "execution_count": null,
   "metadata": {},
   "outputs": [
    {
     "name": "stdout",
     "output_type": "stream",
     "text": [
      "[0.4, 323.923205178, 305.36649744984, 298.15]\n",
      "folder:  sim_32\n",
      "electron_density: 3.0000000000000004\n",
      "current_exp: 0.02\n",
      "Call: 1 I: 0.016831340938513236 I_exp: 0.02\n",
      "electron_density: 8.0\n",
      "current_exp: 0.02\n",
      "Call: 2 I: 0.049177506553436265 I_exp: 0.02\n",
      "electron_density: 5.5\n",
      "current_exp: 0.02\n",
      "Call: 3 I: 0.032646716119423415 I_exp: 0.02\n",
      "electron_density: 3.5098806307402555\n",
      "current_exp: 0.02\n",
      "Call: 4 I: 0.01998188117832947 I_exp: 0.02\n",
      "\n",
      "[0.6, 333.811511494, 308.13522321832, 298.15]\n",
      "folder:  sim_33\n",
      "electron_density: 3.0000000000000004\n",
      "current_exp: 0.02\n",
      "Call: 5 I: 0.016142385106953924 I_exp: 0.02\n",
      "electron_density: 8.0\n",
      "current_exp: 0.02\n",
      "Call: 6 I: 0.04304636028521046 I_exp: 0.02\n",
      "electron_density: 5.5\n",
      "current_exp: 0.02\n",
      "Call: 7 I: 0.031190979527670557 I_exp: 0.02\n",
      "electron_density: 3.58813520077159\n",
      "current_exp: 0.02\n",
      "Call: 8 I: 0.019590388549874573 I_exp: 0.02\n",
      "\n",
      "[0.8, 343.091238381, 310.73354674667996, 298.15]\n",
      "folder:  sim_34\n",
      "electron_density: 3.0000000000000004\n",
      "current_exp: 0.02\n",
      "Call: 9 I: 0.015680395465463383 I_exp: 0.02\n",
      "electron_density: 8.0\n",
      "current_exp: 0.02\n",
      "Call: 10 I: 0.04181438790790235 I_exp: 0.02\n",
      "electron_density: 5.5\n",
      "current_exp: 0.02\n"
     ]
    }
   ],
   "source": [
    "\n",
    "results = []\n",
    "\n",
    "ne_min = 3e15\n",
    "ne_max = 6e15\n",
    "\n",
    "\n",
    "for counter in range(40, len(current_exp)):\n",
    "\n",
    "    add_folder = {\"folder\": f\"sim_{counter}\"}\n",
    "\n",
    "    params = params_list[counter]\n",
    "    current_val = current_exp[counter]\n",
    "\n",
    "    print(params)\n",
    "    \n",
    "    results_den, names_den = sim.solver_one_point(params, current_val, ne_min, ne_max, add_folder)\n",
    "    results.append(results_den)\n",
    "    print()\n",
    "\n"
   ]
  },
  {
   "cell_type": "code",
   "execution_count": null,
   "metadata": {},
   "outputs": [],
   "source": [
    "\n",
    "\n",
    "# #### write the results \n",
    "# with h5py.File(\"Buffer_Data/Experimental_data_Paper_LoKI.hdf5\", \"w\") as file:\n",
    "#     dt = h5py.string_dtype(encoding='utf-8')\n",
    "#     file.create_dataset(\"LoKI_data\", data=np.array(results))\n",
    "#     file.create_dataset(\"LoKI_names\", data=names_den)\n"
   ]
  }
 ],
 "metadata": {
  "kernelspec": {
   "display_name": "LLM",
   "language": "python",
   "name": "python3"
  },
  "language_info": {
   "codemirror_mode": {
    "name": "ipython",
    "version": 3
   },
   "file_extension": ".py",
   "mimetype": "text/x-python",
   "name": "python",
   "nbconvert_exporter": "python",
   "pygments_lexer": "ipython3",
   "version": "3.12.7"
  }
 },
 "nbformat": 4,
 "nbformat_minor": 2
}
