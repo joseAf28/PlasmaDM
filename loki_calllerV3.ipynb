{
 "cells": [
  {
   "cell_type": "code",
   "execution_count": 1,
   "metadata": {},
   "outputs": [],
   "source": [
    "import matlab.engine\n",
    "import numpy as np\n",
    "import h5py\n",
    "from pathlib import Path\n",
    "from tqdm import tqdm\n",
    "import pandas as pd\n",
    "import yaml\n",
    "import signal\n",
    "\n",
    "import LokiCallerV2 as env\n"
   ]
  },
  {
   "cell_type": "code",
   "execution_count": 2,
   "metadata": {},
   "outputs": [
    {
     "name": "stdout",
     "output_type": "stream",
     "text": [
      "   pressure  current  frac_CO2      Tw        Tgas  gamma_exp         Tnw  \\\n",
      "0       0.4     0.04       0.0  323.15  360.560032   0.001819  339.984514   \n",
      "1       0.6     0.04       0.0  323.15  372.733684   0.000995  345.462658   \n",
      "2       0.8     0.04       0.0  323.15  384.630566   0.000841  350.816255   \n",
      "3       1.0     0.04       0.0  323.15  396.252108   0.000775  356.045949   \n",
      "4       1.5     0.04       0.0  323.15  424.110735   0.000827  368.582331   \n",
      "\n",
      "   frac_O2  \n",
      "0      1.0  \n",
      "1      1.0  \n",
      "2      1.0  \n",
      "3      1.0  \n",
      "4      1.0  \n",
      "(332, 8)\n"
     ]
    }
   ],
   "source": [
    "###* Experimental Data CO 2\n",
    "\n",
    "schema = {\n",
    "    \"Pressure\":     \"pressure\",\n",
    "    \"CurrentName\":  \"current\",\n",
    "    \"fracCO2ini_relO2\": \"frac_CO2\",\n",
    "    \"WallTemp\":     \"Tw\",\n",
    "    \"T near wall\":  \"Tnw\", \n",
    "    \"Tgas\":         \"Tgas\",\n",
    "    \"O mean\":       \"O\",\n",
    "    \"CO mean\":      \"CO\",\n",
    "    \"MeanLossProb\": \"gamma_exp\"\n",
    "}\n",
    "\n",
    "file_path = \"Experimental_data_CO_2/Data_CO2_TD.xlsx\"\n",
    "\n",
    "pd_exp = pd.read_excel(file_path)\n",
    "pd_result_exp = pd.DataFrame()\n",
    "\n",
    "for old, new in schema.items():\n",
    "    if old in pd_exp.columns:\n",
    "        pd_result_exp[new] = pd_exp[old]\n",
    "\n",
    "\n",
    "pd_result_exp[\"Tw\"] = pd_result_exp[\"Tw\"] + 273.15 \n",
    "pd_result_exp[\"current\"] = pd_result_exp[\"current\"] * 1e-3\n",
    "pd_result_exp[\"Tnw\"] = pd_result_exp[\"Tw\"] + 0.45 * (pd_result_exp[\"Tgas\"] - pd_result_exp[\"Tw\"])\n",
    "pd_result_exp[\"frac_O2\"] = 1.0 - pd_result_exp[\"frac_CO2\"]\n",
    "\n",
    "print(pd_result_exp.head())\n",
    "print(pd_result_exp.shape)\n",
    "\n"
   ]
  },
  {
   "cell_type": "code",
   "execution_count": 3,
   "metadata": {},
   "outputs": [],
   "source": [
    "base_path = 'LoKI_v3/Code'\n",
    "input_file = 'CO2_novib_28mar2025_mod_caller.in'\n",
    "chem_file = 'Oxygen/oxygen_novib_thermalflux_effective.chem'\n",
    "\n",
    "eng = matlab.engine.start_matlab()\n",
    "eng.cd(base_path, nargout=0)\n",
    "\n"
   ]
  },
  {
   "cell_type": "code",
   "execution_count": 4,
   "metadata": {},
   "outputs": [],
   "source": [
    "\n",
    "class MySimulator(env.PhysicalSimulator):\n",
    "    \n",
    "    \n",
    "    def modify_input_data(self, params):\n",
    "        \n",
    "        pressure, Tgas, Tnw, Tw, frac_O, frac_CO2, folder_str = params\n",
    "        \n",
    "        self.data['workingConditions']['gasPressure'] = float(pressure)\n",
    "        self.data['workingConditions']['gasTemperature'] = float(Tgas)\n",
    "        self.data['workingConditions']['nearWallTemperature'] = float(Tnw)\n",
    "        self.data['workingConditions']['wallTemperature'] = float(Tw)\n",
    "        \n",
    "        fractions = [f'O = 0', f'CO2 = {float(frac_CO2)}', 'CO = 0', f'O2 = {float(frac_O)}']\n",
    "        self.data['electronKinetics']['gasProperties']['fraction'] = fractions\n",
    "        self.data['output']['folder'] = folder_str\n",
    "    \n",
    "    \n",
    "    \n",
    "    def modify_params_chem(self, str_vec, content_vec, params_mod):\n",
    "        \n",
    "        idx_interest = str_vec.index(params_mod[0])\n",
    "        content_vec[idx_interest]['rate_expr'][0] = str(params_mod[1])\n",
    "        \n",
    "        return content_vec\n",
    "    \n",
    "\n",
    "\n",
    "sim = MySimulator(eng, base_path, input_file, chem_file)   \n"
   ]
  },
  {
   "cell_type": "code",
   "execution_count": 5,
   "metadata": {},
   "outputs": [
    {
     "name": "stdout",
     "output_type": "stream",
     "text": [
      "332\n"
     ]
    }
   ],
   "source": [
    "print(len(pd_result_exp['pressure']))"
   ]
  },
  {
   "cell_type": "code",
   "execution_count": 6,
   "metadata": {},
   "outputs": [
    {
     "name": "stdout",
     "output_type": "stream",
     "text": [
      "Output: sim2_160\n"
     ]
    },
    {
     "name": "stderr",
     "output_type": "stream",
     "text": [
      "ERROR:root:MATLAB error: \n"
     ]
    },
    {
     "name": "stdout",
     "output_type": "stream",
     "text": [
      "\n",
      "Iteration 160 timed out after 1200s — skipping.\n",
      "\n",
      "Output: sim2_161\n"
     ]
    },
    {
     "name": "stderr",
     "output_type": "stream",
     "text": [
      "ERROR:root:MATLAB error: \n"
     ]
    },
    {
     "name": "stdout",
     "output_type": "stream",
     "text": [
      "\n",
      "Iteration 161 timed out after 1200s — skipping.\n",
      "\n",
      "Output: sim2_162\n"
     ]
    },
    {
     "name": "stderr",
     "output_type": "stream",
     "text": [
      "ERROR:root:MATLAB error: \n"
     ]
    },
    {
     "name": "stdout",
     "output_type": "stream",
     "text": [
      "\n",
      "Iteration 162 timed out after 1200s — skipping.\n",
      "\n",
      "Output: sim2_163\n",
      "the MATLAB function has been cancelled\n"
     ]
    },
    {
     "ename": "FileNotFoundError",
     "evalue": "[Errno 2] No such file or directory: 'LoKI_v3/Code/Output/sim2_163/swarmParameters.txt'",
     "output_type": "error",
     "traceback": [
      "\u001b[0;31m---------------------------------------------------------------------------\u001b[0m",
      "\u001b[0;31mFileNotFoundError\u001b[0m                         Traceback (most recent call last)",
      "\u001b[1;32m/Users/joseafonso/Desktop/PlasmaDM/loki_calllerV3.ipynb Cell 6\u001b[0m line \u001b[0;36m3\n\u001b[1;32m     <a href='vscode-notebook-cell:/Users/joseafonso/Desktop/PlasmaDM/loki_calllerV3.ipynb#W5sZmlsZQ%3D%3D?line=32'>33</a>\u001b[0m \u001b[39mtry\u001b[39;00m:\n\u001b[1;32m     <a href='vscode-notebook-cell:/Users/joseafonso/Desktop/PlasmaDM/loki_calllerV3.ipynb#W5sZmlsZQ%3D%3D?line=33'>34</a>\u001b[0m     signal\u001b[39m.\u001b[39malarm(threshold)\n\u001b[0;32m---> <a href='vscode-notebook-cell:/Users/joseafonso/Desktop/PlasmaDM/loki_calllerV3.ipynb#W5sZmlsZQ%3D%3D?line=34'>35</a>\u001b[0m     results_den, names_den \u001b[39m=\u001b[39m sim\u001b[39m.\u001b[39;49msolver_one_point(params_tuple, params_chem, current_val, ne_min, ne_max)\n\u001b[1;32m     <a href='vscode-notebook-cell:/Users/joseafonso/Desktop/PlasmaDM/loki_calllerV3.ipynb#W5sZmlsZQ%3D%3D?line=35'>36</a>\u001b[0m     results\u001b[39m.\u001b[39mappend(results_den)\n\u001b[1;32m     <a href='vscode-notebook-cell:/Users/joseafonso/Desktop/PlasmaDM/loki_calllerV3.ipynb#W5sZmlsZQ%3D%3D?line=37'>38</a>\u001b[0m \u001b[39mexcept\u001b[39;00m \u001b[39mTimeoutError\u001b[39;00m:\n",
      "File \u001b[0;32m~/Desktop/PlasmaDM/LokiCallerV2.py:228\u001b[0m, in \u001b[0;36mPhysicalSimulator.solver_one_point\u001b[0;34m(self, params_tuple, params_chem, current_exp, ne_min, ne_max)\u001b[0m\n\u001b[1;32m    226\u001b[0m b \u001b[39m=\u001b[39m ne_max\n\u001b[1;32m    227\u001b[0m \u001b[39mtry\u001b[39;00m:\n\u001b[0;32m--> 228\u001b[0m     sol \u001b[39m=\u001b[39m root_scalar(\n\u001b[1;32m    229\u001b[0m         f,\n\u001b[1;32m    230\u001b[0m         method\u001b[39m=\u001b[39;49m\u001b[39m'\u001b[39;49m\u001b[39mridder\u001b[39;49m\u001b[39m'\u001b[39;49m,\n\u001b[1;32m    231\u001b[0m         bracket\u001b[39m=\u001b[39;49m[a, b],\n\u001b[1;32m    232\u001b[0m         xtol\u001b[39m=\u001b[39;49m\u001b[39m1e-3\u001b[39;49m,\n\u001b[1;32m    233\u001b[0m         maxiter\u001b[39m=\u001b[39;49m\u001b[39m25\u001b[39;49m\n\u001b[1;32m    234\u001b[0m     )\n\u001b[1;32m    235\u001b[0m \u001b[39mexcept\u001b[39;00m RightThreshold \u001b[39mas\u001b[39;00m e:\n\u001b[1;32m    236\u001b[0m     \u001b[39mreturn\u001b[39;00m \u001b[39mself\u001b[39m\u001b[39m.\u001b[39m_read_output_densities(output_densities_file)\n",
      "File \u001b[0;32m/opt/miniconda3/envs/LLM/lib/python3.12/site-packages/scipy/optimize/_root_scalar.py:279\u001b[0m, in \u001b[0;36mroot_scalar\u001b[0;34m(f, args, method, bracket, fprime, fprime2, x0, x1, xtol, rtol, maxiter, options)\u001b[0m\n\u001b[1;32m    277\u001b[0m a, b \u001b[39m=\u001b[39m bracket[:\u001b[39m2\u001b[39m]\n\u001b[1;32m    278\u001b[0m \u001b[39mtry\u001b[39;00m:\n\u001b[0;32m--> 279\u001b[0m     r, sol \u001b[39m=\u001b[39m methodc(f, a, b, args\u001b[39m=\u001b[39;49margs, \u001b[39m*\u001b[39;49m\u001b[39m*\u001b[39;49mkwargs)\n\u001b[1;32m    280\u001b[0m \u001b[39mexcept\u001b[39;00m \u001b[39mValueError\u001b[39;00m \u001b[39mas\u001b[39;00m e:\n\u001b[1;32m    281\u001b[0m     \u001b[39m# gh-17622 fixed some bugs in low-level solvers by raising an error\u001b[39;00m\n\u001b[1;32m    282\u001b[0m     \u001b[39m# (rather than returning incorrect results) when the callable\u001b[39;00m\n\u001b[1;32m    283\u001b[0m     \u001b[39m# returns a NaN. It did so by wrapping the callable rather than\u001b[39;00m\n\u001b[1;32m    284\u001b[0m     \u001b[39m# modifying compiled code, so the iteration count is not available.\u001b[39;00m\n\u001b[1;32m    285\u001b[0m     \u001b[39mif\u001b[39;00m \u001b[39mhasattr\u001b[39m(e, \u001b[39m\"\u001b[39m\u001b[39m_x\u001b[39m\u001b[39m\"\u001b[39m):\n",
      "File \u001b[0;32m/opt/miniconda3/envs/LLM/lib/python3.12/site-packages/scipy/optimize/_zeros_py.py:675\u001b[0m, in \u001b[0;36mridder\u001b[0;34m(f, a, b, args, xtol, rtol, maxiter, full_output, disp)\u001b[0m\n\u001b[1;32m    673\u001b[0m     \u001b[39mraise\u001b[39;00m \u001b[39mValueError\u001b[39;00m(\u001b[39mf\u001b[39m\u001b[39m\"\u001b[39m\u001b[39mrtol too small (\u001b[39m\u001b[39m{\u001b[39;00mrtol\u001b[39m:\u001b[39;00m\u001b[39mg\u001b[39m\u001b[39m}\u001b[39;00m\u001b[39m < \u001b[39m\u001b[39m{\u001b[39;00m_rtol\u001b[39m:\u001b[39;00m\u001b[39mg\u001b[39m\u001b[39m}\u001b[39;00m\u001b[39m)\u001b[39m\u001b[39m\"\u001b[39m)\n\u001b[1;32m    674\u001b[0m f \u001b[39m=\u001b[39m _wrap_nan_raise(f)\n\u001b[0;32m--> 675\u001b[0m r \u001b[39m=\u001b[39m _zeros\u001b[39m.\u001b[39;49m_ridder(f, a, b, xtol, rtol, maxiter, args, full_output, disp)\n\u001b[1;32m    676\u001b[0m \u001b[39mreturn\u001b[39;00m results_c(full_output, r, \u001b[39m\"\u001b[39m\u001b[39mridder\u001b[39m\u001b[39m\"\u001b[39m)\n",
      "File \u001b[0;32m/opt/miniconda3/envs/LLM/lib/python3.12/site-packages/scipy/optimize/_zeros_py.py:94\u001b[0m, in \u001b[0;36m_wrap_nan_raise.<locals>.f_raise\u001b[0;34m(x, *args)\u001b[0m\n\u001b[1;32m     93\u001b[0m \u001b[39mdef\u001b[39;00m \u001b[39mf_raise\u001b[39m(x, \u001b[39m*\u001b[39margs):\n\u001b[0;32m---> 94\u001b[0m     fx \u001b[39m=\u001b[39m f(x, \u001b[39m*\u001b[39;49margs)\n\u001b[1;32m     95\u001b[0m     f_raise\u001b[39m.\u001b[39m_function_calls \u001b[39m+\u001b[39m\u001b[39m=\u001b[39m \u001b[39m1\u001b[39m\n\u001b[1;32m     96\u001b[0m     \u001b[39mif\u001b[39;00m np\u001b[39m.\u001b[39misnan(fx):\n",
      "File \u001b[0;32m~/Desktop/PlasmaDM/LokiCallerV2.py:223\u001b[0m, in \u001b[0;36mPhysicalSimulator.solver_one_point.<locals>.f\u001b[0;34m(x)\u001b[0m\n\u001b[1;32m    222\u001b[0m \u001b[39mdef\u001b[39;00m \u001b[39mf\u001b[39m(x):\n\u001b[0;32m--> 223\u001b[0m     \u001b[39mreturn\u001b[39;00m \u001b[39mself\u001b[39;49m\u001b[39m.\u001b[39;49mobjective_current(x, current_exp, output_feat_file) \u001b[39m-\u001b[39m current_exp\n",
      "File \u001b[0;32m~/Desktop/PlasmaDM/LokiCallerV2.py:192\u001b[0m, in \u001b[0;36mPhysicalSimulator.objective_current\u001b[0;34m(self, electron_density, current_exp, output_feat_file, print_flag, epsilon)\u001b[0m\n\u001b[1;32m    188\u001b[0m \u001b[39mself\u001b[39m\u001b[39m.\u001b[39mwrite_input_file()\n\u001b[1;32m    190\u001b[0m \u001b[39mself\u001b[39m\u001b[39m.\u001b[39m_run_matlab()\n\u001b[0;32m--> 192\u001b[0m results, names \u001b[39m=\u001b[39m \u001b[39mself\u001b[39;49m\u001b[39m.\u001b[39;49m_read_output_feat(output_feat_file)\n\u001b[1;32m    193\u001b[0m idx_drift \u001b[39m=\u001b[39m names\u001b[39m.\u001b[39mindex(\u001b[39mself\u001b[39m\u001b[39m.\u001b[39mdrift_name)\n\u001b[1;32m    194\u001b[0m drift_velocity \u001b[39m=\u001b[39m results[idx_drift]\n",
      "File \u001b[0;32m~/Desktop/PlasmaDM/LokiCallerV2.py:139\u001b[0m, in \u001b[0;36mPhysicalSimulator._read_output_feat\u001b[0;34m(self, output_feat_path)\u001b[0m\n\u001b[1;32m    137\u001b[0m results \u001b[39m=\u001b[39m []\n\u001b[1;32m    138\u001b[0m names \u001b[39m=\u001b[39m []\n\u001b[0;32m--> 139\u001b[0m \u001b[39mwith\u001b[39;00m \u001b[39mopen\u001b[39;49m(output_feat_path, \u001b[39m'\u001b[39;49m\u001b[39mr\u001b[39;49m\u001b[39m'\u001b[39;49m) \u001b[39mas\u001b[39;00m f:\n\u001b[1;32m    140\u001b[0m     \u001b[39mfor\u001b[39;00m line \u001b[39min\u001b[39;00m f:\n\u001b[1;32m    141\u001b[0m         line \u001b[39m=\u001b[39m line\u001b[39m.\u001b[39mstrip()\n",
      "\u001b[0;31mFileNotFoundError\u001b[0m: [Errno 2] No such file or directory: 'LoKI_v3/Code/Output/sim2_163/swarmParameters.txt'"
     ]
    }
   ],
   "source": [
    "\n",
    "\n",
    "def _timeout_handler(signum, frame):\n",
    "    raise TimeoutError()\n",
    "\n",
    "signal.signal(signal.SIGALRM, _timeout_handler)\n",
    "\n",
    "threshold = 20*60  # seconds\n",
    "\n",
    "results = []\n",
    "\n",
    "# ne_min = 1e15\n",
    "# ne_max = 1e16\n",
    "\n",
    "ne_min = 3e15\n",
    "ne_max = 9.5e15\n",
    "\n",
    "\n",
    "for counter in range(160, 180):\n",
    "    pressure = pd_result_exp['pressure'][counter]\n",
    "    Tw       = pd_result_exp[\"Tw\"][counter]\n",
    "    Tnw      = pd_result_exp['Tnw'][counter]\n",
    "    Tgas     = pd_result_exp[\"Tgas\"][counter]\n",
    "    frac_CO2 = pd_result_exp['frac_CO2'][counter]\n",
    "    frac_O2  = 1.0 - frac_CO2\n",
    "    folder_str  = f\"sim2_{counter}\"\n",
    "    current_val = pd_result_exp['current'][counter]\n",
    "    gamma_exp   = pd_result_exp['gamma_exp'][counter]\n",
    "\n",
    "    params_tuple = (pressure, Tgas, Tnw, Tw, frac_O2, frac_CO2, folder_str)\n",
    "    params_chem  = ['O(3P) + wall -> 0.5O2(X)', gamma_exp]\n",
    "    \n",
    "    print(f\"Output: {folder_str}\")\n",
    "    \n",
    "    try:\n",
    "        signal.alarm(threshold)\n",
    "        results_den, names_den = sim.solver_one_point(params_tuple, params_chem, current_val, ne_min, ne_max)\n",
    "        results.append(results_den)\n",
    "\n",
    "    except TimeoutError:\n",
    "        print()\n",
    "        print(f\"Iteration {counter} timed out after {threshold}s — skipping.\")\n",
    "        print()\n",
    "    finally:\n",
    "        signal.alarm(0)\n",
    "\n",
    "print(\"Done.\")\n"
   ]
  }
 ],
 "metadata": {
  "kernelspec": {
   "display_name": "LLM",
   "language": "python",
   "name": "python3"
  },
  "language_info": {
   "codemirror_mode": {
    "name": "ipython",
    "version": 3
   },
   "file_extension": ".py",
   "mimetype": "text/x-python",
   "name": "python",
   "nbconvert_exporter": "python",
   "pygments_lexer": "ipython3",
   "version": "3.12.7"
  }
 },
 "nbformat": 4,
 "nbformat_minor": 2
}
