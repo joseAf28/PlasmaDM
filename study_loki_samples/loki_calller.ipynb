{
 "cells": [
  {
   "cell_type": "code",
   "execution_count": 1,
   "metadata": {},
   "outputs": [],
   "source": [
    "import sys, os\n",
    "ROOT = os.path.abspath(os.curdir)\n",
    "PARENT = os.path.dirname(ROOT)\n",
    "\n",
    "if PARENT not in sys.path:\n",
    "    sys.path.insert(0, PARENT)"
   ]
  },
  {
   "cell_type": "code",
   "execution_count": 2,
   "metadata": {},
   "outputs": [],
   "source": [
    "import matlab.engine\n",
    "import numpy as np\n",
    "import h5py\n",
    "from pathlib import Path\n",
    "from tqdm import tqdm\n",
    "import pandas as pd\n",
    "import yaml\n",
    "import signal\n",
    "\n",
    "import src.LokiCaller as env\n"
   ]
  },
  {
   "cell_type": "code",
   "execution_count": 3,
   "metadata": {},
   "outputs": [
    {
     "name": "stdout",
     "output_type": "stream",
     "text": [
      "   pressure  current  frac_CO2      Tw        Tgas  gamma_exp         Tnw  \\\n",
      "0       0.4     0.04       0.0  323.15  360.560032   0.001819  339.984514   \n",
      "1       0.6     0.04       0.0  323.15  372.733684   0.000995  345.462658   \n",
      "2       0.8     0.04       0.0  323.15  384.630566   0.000841  350.816255   \n",
      "3       1.0     0.04       0.0  323.15  396.252108   0.000775  356.045949   \n",
      "4       1.5     0.04       0.0  323.15  424.110735   0.000827  368.582331   \n",
      "\n",
      "   frac_O2  \n",
      "0      1.0  \n",
      "1      1.0  \n",
      "2      1.0  \n",
      "3      1.0  \n",
      "4      1.0  \n",
      "(332, 8)\n"
     ]
    }
   ],
   "source": [
    "###* Experimental Data CO 2\n",
    "\n",
    "schema = {\n",
    "    \"Pressure\":     \"pressure\",\n",
    "    \"CurrentName\":  \"current\",\n",
    "    \"fracCO2ini_relO2\": \"frac_CO2\",\n",
    "    \"WallTemp\":     \"Tw\",\n",
    "    \"T near wall\":  \"Tnw\", \n",
    "    \"Tgas\":         \"Tgas\",\n",
    "    \"O mean\":       \"O\",\n",
    "    \"CO mean\":      \"CO\",\n",
    "    \"MeanLossProb\": \"gamma_exp\"\n",
    "}\n",
    "\n",
    "file_path = \"../Experimental_data_CO/Data_CO2_TD.xlsx\"\n",
    "\n",
    "pd_exp = pd.read_excel(file_path)\n",
    "pd_result_exp = pd.DataFrame()\n",
    "\n",
    "for old, new in schema.items():\n",
    "    if old in pd_exp.columns:\n",
    "        pd_result_exp[new] = pd_exp[old]\n",
    "\n",
    "\n",
    "pd_result_exp[\"Tw\"] = pd_result_exp[\"Tw\"] + 273.15 \n",
    "pd_result_exp[\"current\"] = pd_result_exp[\"current\"] * 1e-3\n",
    "pd_result_exp[\"Tnw\"] = pd_result_exp[\"Tw\"] + 0.45 * (pd_result_exp[\"Tgas\"] - pd_result_exp[\"Tw\"])\n",
    "pd_result_exp[\"frac_O2\"] = 1.0 - pd_result_exp[\"frac_CO2\"]\n",
    "\n",
    "print(pd_result_exp.head())\n",
    "print(pd_result_exp.shape)\n",
    "\n"
   ]
  },
  {
   "cell_type": "code",
   "execution_count": 4,
   "metadata": {},
   "outputs": [],
   "source": [
    "base_path = '../LoKI_v3/Code'\n",
    "input_file = 'CO2_novib_28mar2025_mod_caller.in'\n",
    "chem_file = 'Oxygen/oxygen_novib_thermalflux_effective.chem'\n",
    "\n",
    "eng = matlab.engine.start_matlab()\n",
    "eng.cd(base_path, nargout=0)\n",
    "\n"
   ]
  },
  {
   "cell_type": "code",
   "execution_count": 5,
   "metadata": {},
   "outputs": [],
   "source": [
    "\n",
    "class MySimulator(env.PhysicalSimulator):\n",
    "    \n",
    "    \n",
    "    def modify_input_data(self, params):\n",
    "        \n",
    "        pressure, Tgas, Tnw, Tw, frac_O, frac_CO2, folder_str = params\n",
    "        \n",
    "        self.data['workingConditions']['gasPressure'] = float(pressure)\n",
    "        self.data['workingConditions']['gasTemperature'] = float(Tgas)\n",
    "        self.data['workingConditions']['nearWallTemperature'] = float(Tnw)\n",
    "        self.data['workingConditions']['wallTemperature'] = float(Tw)\n",
    "        \n",
    "        fractions = [f'O = 0', f'CO2 = {float(frac_CO2)}', 'CO = 0', f'O2 = {float(frac_O)}']\n",
    "        self.data['electronKinetics']['gasProperties']['fraction'] = fractions\n",
    "        self.data['output']['folder'] = folder_str\n",
    "    \n",
    "    \n",
    "    \n",
    "    def modify_params_chem(self, str_vec, content_vec, params_mod):\n",
    "        \n",
    "        idx_interest = str_vec.index(params_mod[0])\n",
    "        content_vec[idx_interest]['rate_expr'][0] = str(params_mod[1])\n",
    "        \n",
    "        return content_vec\n",
    "    \n",
    "\n",
    "\n",
    "sim = MySimulator(eng, base_path, input_file, chem_file)   \n"
   ]
  },
  {
   "cell_type": "code",
   "execution_count": 6,
   "metadata": {},
   "outputs": [
    {
     "name": "stdout",
     "output_type": "stream",
     "text": [
      "332\n"
     ]
    }
   ],
   "source": [
    "print(len(pd_result_exp['pressure']))"
   ]
  },
  {
   "cell_type": "code",
   "execution_count": 7,
   "metadata": {},
   "outputs": [
    {
     "name": "stdout",
     "output_type": "stream",
     "text": [
      "Output: sim_final_315\n",
      "Call: 1 I: 0.011081744942402015 I_exp: 0.02\n",
      "Call: 2 I: 0.047946283942919624 I_exp: 0.02\n",
      "Call: 3 I: 0.029543589117533096 I_exp: 0.02\n",
      "Call: 4 I: 0.02017599322149871 I_exp: 0.02\n",
      "Output: sim_final_316\n"
     ]
    }
   ],
   "source": [
    "\n",
    "\n",
    "def _timeout_handler(signum, frame):\n",
    "    raise TimeoutError()\n",
    "\n",
    "signal.signal(signal.SIGALRM, _timeout_handler)\n",
    "\n",
    "threshold = 100*60  # seconds\n",
    "\n",
    "results = []\n",
    "\n",
    "# ne_min = 1e15\n",
    "# ne_max = 1e16\n",
    "\n",
    "ne_min = 3e15\n",
    "ne_max = 12.5e15\n",
    "\n",
    "\n",
    "\n",
    "for counter in range(315, pd_result_exp.shape[0]):\n",
    "# for counter in range(128, 140):\n",
    "    pressure = pd_result_exp['pressure'][counter] * 133.3223684\n",
    "    Tw       = pd_result_exp[\"Tw\"][counter]\n",
    "    Tnw      = pd_result_exp['Tnw'][counter]\n",
    "    Tgas     = pd_result_exp[\"Tgas\"][counter]\n",
    "    frac_CO2 = pd_result_exp['frac_CO2'][counter]\n",
    "    frac_O2  = 1.0 - frac_CO2\n",
    "    folder_str  = f\"sim_final_{counter}\"\n",
    "    current_val = pd_result_exp['current'][counter]\n",
    "    gamma_exp   = pd_result_exp['gamma_exp'][counter]\n",
    "\n",
    "    params_tuple = (pressure, Tgas, Tnw, Tw, frac_O2, frac_CO2, folder_str)\n",
    "    params_chem  = ['O(3P) + wall -> 0.5O2(X)', gamma_exp]\n",
    "    \n",
    "    print(f\"Output: {folder_str}\")\n",
    "    \n",
    "    try:\n",
    "        signal.alarm(threshold)\n",
    "        results_den, names_den = sim.solver_one_point(params_tuple, params_chem, current_val, ne_min, ne_max)\n",
    "        results.append(results_den)\n",
    "\n",
    "    except TimeoutError:\n",
    "        print()\n",
    "        print(f\"Iteration {counter} timed out after {threshold}s — skipping.\")\n",
    "        print()\n",
    "    finally:\n",
    "        signal.alarm(0)\n",
    "\n",
    "print(\"Done.\")\n"
   ]
  },
  {
   "cell_type": "code",
   "execution_count": null,
   "metadata": {},
   "outputs": [],
   "source": []
  }
 ],
 "metadata": {
  "kernelspec": {
   "display_name": "LLM",
   "language": "python",
   "name": "python3"
  },
  "language_info": {
   "codemirror_mode": {
    "name": "ipython",
    "version": 3
   },
   "file_extension": ".py",
   "mimetype": "text/x-python",
   "name": "python",
   "nbconvert_exporter": "python",
   "pygments_lexer": "ipython3",
   "version": "3.12.7"
  }
 },
 "nbformat": 4,
 "nbformat_minor": 2
}
