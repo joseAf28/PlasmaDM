{
 "cells": [
  {
   "cell_type": "code",
   "execution_count": 1,
   "metadata": {},
   "outputs": [
    {
     "name": "stdout",
     "output_type": "stream",
     "text": [
      "  d[CO2_F]/dt = -CO2_F*r_29 + r_28*(-CO2_F - CO_F - O2_F - O_F + 1.0)\n",
      "  d[CO_F]/dt = -CO_F*O_F*r_34 - 0.02*CO_F*O_S*r_39 - CO_F*r_31 - CO_F*r_33 - 0.02*CO_F*r_35*(-CO_S - O_S - Odb_S - Vdb_S + 1.0) + r_30*(-CO2_F - CO_F - O2_F - O_F + 1.0)\n",
      "  d[CO_S]/dt = CO_F*r_35*(-CO_S - O_S - Odb_S - Vdb_S + 1.0) - CO_S*O_F*r_38 - CO_S*r_36 + r_32*(-CO_S - O_S - Odb_S - Vdb_S + 1.0)\n",
      "  d[O2_F]/dt = -O2_F*O_F*r_15 - O2_F*r_10 - O2_F*r_12 - O2_F*r_14 + r_9*(-CO2_F - CO_F - O2_F - O_F + 1.0)\n",
      "  d[O_F]/dt = -CO_F*O_F*r_34 - 0.02*CO_S*O_F*r_38 - O2_F*O_F*r_15 - 2*O_F**2*r_8 - 0.02*O_F*O_S*r_7 - 0.02*O_F*Odb_S*r_27 - 0.02*O_F*Vdb_S*r_26 - O_F*r_11 - O_F*r_2 - O_F*r_4 - 0.02*O_F*r_5*(-CO_S - O_S - Odb_S - Vdb_S + 1.0) + r_1*(-CO2_F - CO_F - O2_F - O_F + 1.0)\n",
      "  d[O_S]/dt = -CO_F*O_S*r_39 - O_F*O_S*r_7 + O_F*r_5*(-CO_S - O_S - Odb_S - Vdb_S + 1.0) - O_S*r_16 - O_S*r_17 - O_S*r_37 - O_S*r_6 + r_3*(-CO_S - O_S - Odb_S - Vdb_S + 1.0)\n",
      "  d[Odb_S]/dt = -O_F*Odb_S*r_27 + O_F*Vdb_S*r_26 - Odb_S*r_23 - Odb_S*r_24 - Odb_S*r_25 + Vdb_S*r_20\n",
      "  d[Vdb_S]/dt = O_F*Odb_S*r_27 - O_F*Vdb_S*r_26 + O_S*r_16 + O_S*r_17 + Odb_S*r_25 - Vdb_S*r_20 - Vdb_S*r_21 - Vdb_S*r_22 + r_18*(-CO_S - O_S - Odb_S - Vdb_S + 1.0) + r_19*(-CO_S - O_S - Odb_S - Vdb_S + 1.0)\n"
     ]
    }
   ],
   "source": [
    "\n",
    "import sys, os\n",
    "PATH = os.path.dirname(os.path.abspath(os.curdir))\n",
    "if PATH not in sys.path:\n",
    "    sys.path.insert(0, PATH)\n",
    "\n",
    "from pathos.multiprocessing import ProcessPool\n",
    "import src.Simulator as sim_system\n",
    "import src.Optimizer as opt\n",
    "import src.SimGrad as sim_diff\n",
    "import src.Grad_based_methods as grad_based\n",
    "import scipy as sp\n",
    "import numpy as np\n",
    "import torch\n",
    "import tqdm\n",
    "import time\n",
    "\n",
    "\n",
    "###* Create Simulator object\n",
    "reactions_file = \"../reactions/reactionsSimpleV1.json\"\n",
    "\n",
    "const_dict = {\n",
    "        \"F0\": 1.5e15,           # cm^-2\n",
    "        \"S0\": 3e13,             # cm^-2\n",
    "        \n",
    "        \"R\": 0.00831442,        # kJ/mol*K\n",
    "        \"kBoltz\": 1.380649e-23, # J/K\n",
    "}\n",
    "\n",
    "initial_state_dict = {'O_F': 0.1, 'O2_F':0.1 ,'O_S': 0.1, 'Vdb_S':0.1, \n",
    "                    'Odb_S': 0.1, 'CO_F': 0.1, 'CO2_F':0.1, 'CO_S': 0.1, \n",
    "                    'COdb_S': 0.0}\n",
    "\n",
    "###* Functions for the data transformation\n",
    "def compute_flux(const_dict, exp_dict, specie, molar_mass):\n",
    "    den = exp_dict.get(specie, 0.0)\n",
    "    v_th = np.sqrt((8.0 * const_dict['R'] * 1000 * exp_dict['Tnw'])/(molar_mass * np.pi))\n",
    "    flux = 0.25 * v_th * den * 100\n",
    "    return flux\n",
    "\n",
    "\n",
    "def compute_remaining_flux(const_dict, exp_dict, molar_mass): \n",
    "    den = exp_dict['N'] - exp_dict['O'] - exp_dict['CO']\n",
    "    v_th = np.sqrt((8.0 * const_dict['R'] * 1000 * exp_dict['Tnw'])/(molar_mass * np.pi))\n",
    "    flux = 0.25 * v_th * den * 100\n",
    "    return flux\n",
    "\n",
    "####? EavgMB data extracted from the Booth et al. 2019 paper\n",
    "p_data_exp = [0.2, 0.3, 0.4, 0.5, 0.6, 0.75, 1.5]\n",
    "EavgMB_data = [1.04, 0.91, 0.87, 0.83, 0.77, 0.5, 0.001]\n",
    "interpolator = sp.interpolate.interp1d(p_data_exp, EavgMB_data, kind='linear', fill_value=0.001, bounds_error=False)\n",
    "\n",
    "\n",
    "transformations_exp = {\n",
    "    'Tw':       lambda const_dict, exp_dict: exp_dict['Tw'] + 273.15,\n",
    "    'fluxO' :   lambda const_dict, exp_dict: compute_flux(const_dict, exp_dict,'O', 0.016),\n",
    "    'fluxO2' :  lambda const_dict, exp_dict: compute_flux(const_dict, exp_dict,'O2', 0.032),\n",
    "    'fluxO3' :  lambda const_dict, exp_dict: compute_flux(const_dict, exp_dict,'O3', 0.048),\n",
    "    'fluxC':    lambda const_dict, exp_dict: compute_flux(const_dict, exp_dict, 'C', 0.012),\n",
    "    'fluxCO':   lambda const_dict, exp_dict: compute_flux(const_dict, exp_dict, 'CO', 0.028),\n",
    "    'fluxCO2':  lambda const_dict, exp_dict: compute_flux(const_dict, exp_dict, 'CO2', 0.048),\n",
    "    'EavgMB':   lambda const_dict, exp_dict: interpolator(exp_dict['pressure']).item(),\n",
    "    'Ion':      lambda const_dict, exp_dict: 1e14 * exp_dict[\"current\"]\n",
    "}\n",
    "\n",
    "output_folder_path = \"../Buffer_Data\"\n",
    "exp_data_file = \"Experimental_data_CO_Jorge.hdf5\"\n",
    "exp_file = os.path.join(output_folder_path, exp_data_file)\n",
    "\n",
    "sim = sim_system.Simulator(reactions_file, const_dict, exp_file, initial_state_dict, transformations_exp=transformations_exp)\n",
    "\n",
    "\n",
    "\n",
    "###* Create optimization and diff objects\n",
    "\n",
    "def func_optimization(params, flag='numpy'):\n",
    "    \n",
    "    SF_vec = params\n",
    "    \n",
    "    dict_mod_vec = [\n",
    "    {\"id\": 1, \"rate\": None, \"model_dict\": {\"SF\": None}},\n",
    "    {\"id\": 2, \"rate\": None, \"model_dict\": {\"SF\": None}},\n",
    "    {\"id\": 3, \"rate\": None, \"model_dict\": {\"SF\": None}},\n",
    "    {\"id\": 4, \"rate\": None, \"model_dict\": {\"SF\": None}},\n",
    "    {\"id\": 5, \"rate\": None, \"model_dict\": {\"SF\": None}},\n",
    "    {\"id\": 6, \"rate\": None, \"model_dict\": {\"SF\": None}},\n",
    "    {\"id\": 7, \"rate\": None, \"model_dict\": {\"SF\": None}},\n",
    "    {\"id\": 8, \"rate\": None, \"model_dict\": {\"SF\": None}},\n",
    "    {\"id\": 9, \"rate\": None, \"model_dict\": {\"SF\": None}},\n",
    "    {\"id\": 10, \"rate\": None, \"model_dict\": {\"SF\": None}},\n",
    "    ]\n",
    "        \n",
    "    for i in range(len(params)):\n",
    "        dict_mod_vec[i]['model_dict']['SF'] = SF_vec[i]\n",
    "    \n",
    "    dict_mod_vec = [dict_mod_vec[i] for i in range(len(params))]\n",
    "    return dict_mod_vec\n",
    "\n",
    "\n",
    "def loss_function(exp, teo, flag='numpy'):\n",
    "    \n",
    "    func = ((teo-exp)**2)/(exp**2)\n",
    "    if flag == 'numpy':\n",
    "        return np.mean(func)\n",
    "    elif flag == 'torch':\n",
    "        return torch.mean(func)\n",
    "    else:\n",
    "        raise ValueError(f\"{flag} does not exist\")\n",
    "\n",
    "\n",
    "\n",
    "###* Optimization\n",
    "def loss_and_grads(params, opt_object, diff_object):\n",
    "    loss_val, frac_solutions_arr, rates_arr, _, gammas_predicted_arr = opt_object.objective_function_diff(params)\n",
    "    grad_val = diff_object.objective_function_grad(params, frac_solutions_arr, rates_arr, gammas_predicted_arr)\n",
    "    \n",
    "    return loss_val, grad_val.numpy()\n",
    "\n",
    "\n",
    "\n",
    "def loss_grad_num(params, opt_object, h_step = 1e-3):\n",
    "    loss2grad_vec = np.zeros(len(params), dtype=float)\n",
    "    for i in range(len(params)):\n",
    "        params_plus = params.copy()\n",
    "        params_plus[i] += h_step\n",
    "        params_minus = params.copy()\n",
    "        params_minus[i] -= h_step\n",
    "        \n",
    "        loss_plus, _, _, _, _ = opt_object.objective_function_diff(params_plus)\n",
    "        loss_minus, _, _, _, _ = opt_object.objective_function_diff(params_minus)\n",
    "        \n",
    "        loss2grad_vec[i] = (loss_plus - loss_minus)/(2*h_step)\n",
    "    \n",
    "    return loss2grad_vec\n",
    "\n"
   ]
  },
  {
   "cell_type": "code",
   "execution_count": 2,
   "metadata": {},
   "outputs": [
    {
     "name": "stderr",
     "output_type": "stream",
     "text": [
      "  0%|          | 0/120 [00:00<?, ?it/s]"
     ]
    },
    {
     "name": "stderr",
     "output_type": "stream",
     "text": [
      "100%|██████████| 120/120 [36:31<00:00, 18.26s/it]\n"
     ]
    }
   ],
   "source": [
    "\n",
    "\n",
    "sample_size = 12\n",
    "torch_vec = []\n",
    "torch_time = []\n",
    "\n",
    "num_vec = []\n",
    "num_time = []\n",
    "\n",
    "pbar = tqdm.tqdm(total=10*sample_size)\n",
    "\n",
    "\n",
    "##! define the default parameters\n",
    "for n in range(1, 11):\n",
    "    torch_time_aux = []\n",
    "    torch_vec_aux = []\n",
    "    num_time_aux = []\n",
    "    num_vec_aux = []\n",
    "    params_default = [1.0]*n\n",
    "    \n",
    "    optimizer = opt.Optimizer(sim, \n",
    "                            lambda params: func_optimization(params, 'numpy'), \n",
    "                            lambda exp, teo: loss_function(exp, teo, 'numpy')\n",
    "                            )\n",
    "    \n",
    "    diff = sim_diff.SimDiff(sim, \n",
    "                            lambda params: func_optimization(params, 'torch'),\n",
    "                            params_default=params_default,\n",
    "                            gamma_exp_data=sim.gamma_exp_data_arr,\n",
    "                            loss_function=lambda exp, teo: loss_function(exp, teo, 'torch')\n",
    "                            )\n",
    "        \n",
    "    for i in range(sample_size):\n",
    "        params_default = np.array(params_default) + 1e-2*np.random.randn(len(params_default))\n",
    "        \n",
    "        time_init = time.time()\n",
    "        loss, grads = loss_and_grads(params_default, optimizer, diff)\n",
    "        torch_time_aux.append(time.time() - time_init)\n",
    "        torch_vec_aux.append(grads)\n",
    "        \n",
    "        time_init = time.time()\n",
    "        grads = loss_grad_num(params_default, optimizer)\n",
    "        num_time_aux.append(time.time() - time_init)\n",
    "        num_vec_aux.append(grads)\n",
    "        \n",
    "        pbar.update(1)\n",
    "    \n",
    "    torch_time.append(torch_time_aux)\n",
    "    torch_vec.append(torch_vec_aux)\n",
    "    \n",
    "    num_time.append(num_time_aux)\n",
    "    num_vec.append(num_vec_aux)\n",
    "    \n",
    "    \n",
    "\n",
    "pbar.close()"
   ]
  },
  {
   "cell_type": "code",
   "execution_count": 3,
   "metadata": {},
   "outputs": [
    {
     "name": "stdout",
     "output_type": "stream",
     "text": [
      "[[2.1397950649261475, 2.1298060417175293, 2.049053907394409, 2.028076648712158, 2.0169601440429688, 2.030134916305542, 2.0169670581817627, 2.0149619579315186, 2.0623538494110107, 2.020437002182007, 2.031759262084961, 2.0765600204467773], [2.03924298286438, 2.0489299297332764, 2.047945976257324, 2.039867877960205, 2.096705913543701, 2.0434181690216064, 2.090399980545044, 2.0285539627075195, 2.083996057510376, 2.073979139328003, 2.0305352210998535, 2.030627727508545], [2.0796561241149902, 2.0718369483947754, 2.064703941345215, 2.0974109172821045, 2.0412240028381348, 2.0580320358276367, 2.060331106185913, 2.0446531772613525, 2.0324301719665527, 2.010434150695801, 2.0226869583129883, 2.013293981552124], [2.1006948947906494, 2.1239218711853027, 2.13045072555542, 2.1464319229125977, 2.1001980304718018, 2.103959083557129, 2.083559989929199, 2.090424060821533, 2.092073917388916, 2.131371021270752, 2.137874126434326, 2.088449001312256], [2.1231508255004883, 2.116791009902954, 2.088787317276001, 2.080622911453247, 2.1132521629333496, 2.137347936630249, 2.0949339866638184, 2.0963988304138184, 2.094191074371338, 2.121123790740967, 2.11543607711792, 2.106907844543457], [2.095332145690918, 2.1276729106903076, 2.13275408744812, 2.098062038421631, 2.1305758953094482, 2.102228879928589, 2.191103935241699, 2.1137900352478027, 2.106335163116455, 2.1352930068969727, 2.098021984100342, 2.181763172149658], [2.1649489402770996, 2.1645021438598633, 2.12862491607666, 2.1673331260681152, 2.142622947692871, 2.127511978149414, 2.226402997970581, 2.1444270610809326, 2.1610701084136963, 2.1738219261169434, 2.1274049282073975, 2.201751947402954], [2.2342350482940674, 2.135579824447632, 2.1052191257476807, 2.1245229244232178, 2.1335601806640625, 2.1903021335601807, 2.2017390727996826, 2.2354929447174072, 2.1571578979492188, 2.143691062927246, 2.1524460315704346, 2.164881944656372], [2.2770402431488037, 2.2284789085388184, 2.3270761966705322, 2.2160608768463135, 2.203387975692749, 2.19903302192688, 2.227353096008301, 2.2189009189605713, 2.221024990081787, 2.247039794921875, 2.235445976257324, 2.237891912460327], [2.2248470783233643, 2.223045825958252, 2.25943922996521, 2.20793080329895, 2.19507098197937, 2.1776580810546875, 2.1935811042785645, 2.2014918327331543, 2.187981128692627, 2.1955130100250244, 2.1427829265594482, 2.2291579246520996]]\n"
     ]
    }
   ],
   "source": [
    "print(torch_time)"
   ]
  },
  {
   "cell_type": "code",
   "execution_count": 5,
   "metadata": {},
   "outputs": [],
   "source": [
    "torch_time_arr = np.array(torch_time)\n",
    "num_time_arr = np.array(num_time)\n"
   ]
  },
  {
   "cell_type": "code",
   "execution_count": 6,
   "metadata": {},
   "outputs": [
    {
     "name": "stdout",
     "output_type": "stream",
     "text": [
      "(10, 12)\n",
      "(10, 12)\n"
     ]
    }
   ],
   "source": [
    "print(torch_time_arr.shape)\n",
    "print(num_time_arr.shape)"
   ]
  },
  {
   "cell_type": "code",
   "execution_count": 7,
   "metadata": {},
   "outputs": [],
   "source": [
    "mean_torch_time = np.mean(torch_time_arr, axis=1)\n",
    "mean_num_time = np.mean(num_time_arr, axis=1)\n",
    "\n",
    "std_torch_time = np.std(torch_time_arr, axis=1)\n",
    "std_num_time = np.std(num_time_arr, axis=1)"
   ]
  },
  {
   "cell_type": "code",
   "execution_count": 11,
   "metadata": {},
   "outputs": [
    {
     "name": "stdout",
     "output_type": "stream",
     "text": [
      "[ 2.99163399  5.95344824  8.78777633 11.88633821 14.68502486 17.6013791\n",
      " 20.56523093 23.11650205 26.829587   28.89862166]\n",
      "[2.05140549 2.05451691 2.04972446 2.11078405 2.10741198 2.12607777\n",
      " 2.16086859 2.16490235 2.23656116 2.20320833]\n"
     ]
    }
   ],
   "source": [
    "print(mean_num_time)\n",
    "print(mean_torch_time)"
   ]
  },
  {
   "cell_type": "code",
   "execution_count": 24,
   "metadata": {},
   "outputs": [
    {
     "name": "stdout",
     "output_type": "stream",
     "text": [
      "[0.04159309 0.02377088 0.02592259 0.02092225 0.01590313 0.03042527\n",
      " 0.02898425 0.04030295 0.03363628 0.02810151]\n",
      "[0.04085427 0.04260038 0.14281092 0.12015862 0.09109512 0.16348072\n",
      " 0.17272312 0.3677832  0.10982981 0.40229081]\n"
     ]
    }
   ],
   "source": [
    "print(std_torch_time)\n",
    "print(std_num_time)"
   ]
  },
  {
   "cell_type": "code",
   "execution_count": 30,
   "metadata": {},
   "outputs": [
    {
     "name": "stdout",
     "output_type": "stream",
     "text": [
      "[ 1  2  3  4  5  6  7  8  9 10]\n",
      "LinregressResult(slope=0.02051723701785309, intercept=2.013701305124495, rvalue=0.9562394329913723, pvalue=1.521665325814824e-05, stderr=0.002219523296384034, intercept_stderr=0.013771779878899848)\n",
      "LinregressResult(slope=2.908439523162264, intercept=0.13513685862223035, rvalue=0.9996556837333606, pvalue=6.14651247257755e-14, stderr=0.026991124963684124, intercept_stderr=0.1674755260687384)\n"
     ]
    },
    {
     "data": {
      "image/png": "[encoded data removed]",
      "text/plain": [
       "<Figure size 640x480 with 1 Axes>"
      ]
     },
     "metadata": {},
     "output_type": "display_data"
    }
   ],
   "source": [
    "\n",
    "import matplotlib.pyplot as plt\n",
    "\n",
    "plt.figure()\n",
    "\n",
    "n_size_vec = np.arange(1, 11, 1)\n",
    "print(n_size_vec)\n",
    "\n",
    "plt.plot(n_size_vec, mean_torch_time, label=\"PyTorch |  Time ~ 3\")\n",
    "plt.plot(n_size_vec, mean_num_time, label=\"Numeric |  Time ~ 3 dim\")\n",
    "plt.xlim(0, 11)\n",
    "plt.yscale('log')\n",
    "plt.legend()\n",
    "plt.xlabel(\"Input Space Dimensions\")\n",
    "plt.ylabel(\"Time [s]\")\n",
    "plt.grid()\n",
    "plt.savefig(\"scaling_grads.png\")\n",
    "\n",
    "\n",
    "from scipy.stats import linregress\n",
    "\n",
    "fit_torch = linregress(n_size_vec, mean_torch_time)\n",
    "print(fit_torch)\n",
    "fit_num = linregress(n_size_vec, mean_num_time)\n",
    "print(fit_num)"
   ]
  },
  {
   "cell_type": "code",
   "execution_count": null,
   "metadata": {},
   "outputs": [],
   "source": []
  }
 ],
 "metadata": {
  "kernelspec": {
   "display_name": "LLM",
   "language": "python",
   "name": "python3"
  },
  "language_info": {
   "codemirror_mode": {
    "name": "ipython",
    "version": 3
   },
   "file_extension": ".py",
   "mimetype": "text/x-python",
   "name": "python",
   "nbconvert_exporter": "python",
   "pygments_lexer": "ipython3",
   "version": "3.12.7"
  }
 },
 "nbformat": 4,
 "nbformat_minor": 2
}
