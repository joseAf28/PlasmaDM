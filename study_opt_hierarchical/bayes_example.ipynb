{
 "cells": [
  {
   "cell_type": "code",
   "execution_count": 1,
   "metadata": {},
   "outputs": [
    {
     "name": "stdout",
     "output_type": "stream",
     "text": [
      "Starting Bayesian Optimization...\n",
      "Running simulator with: {'learning_rate': 0.03918194347141743, 'num_layers': np.int64(2), 'regularization': 0.7818940902700418}\n",
      "-> Loss: 0.9905\n",
      "\n",
      "Running simulator with: {'learning_rate': 0.01562069367563987, 'num_layers': np.int64(3), 'regularization': 0.10897516665982288}\n",
      "-> Loss: 1.6312\n",
      "\n",
      "Running simulator with: {'learning_rate': 0.008288916866885144, 'num_layers': np.int64(2), 'regularization': 0.1514381497427214}\n",
      "-> Loss: 0.4624\n",
      "\n",
      "Running simulator with: {'learning_rate': 0.020034427927560734, 'num_layers': np.int64(1), 'regularization': 0.7247787845441566}\n",
      "-> Loss: 0.5267\n",
      "\n",
      "Running simulator with: {'learning_rate': 0.07535384509295551, 'num_layers': np.int64(1), 'regularization': 0.9922894436983055}\n",
      "-> Loss: 0.8807\n",
      "\n",
      "Running simulator with: {'learning_rate': 0.017177621112338382, 'num_layers': np.int64(3), 'regularization': 0.016995642167520232}\n",
      "-> Loss: 1.6165\n",
      "\n",
      "Running simulator with: {'learning_rate': 0.0011120513715710632, 'num_layers': np.int64(3), 'regularization': 0.40586236199810305}\n",
      "-> Loss: 1.8128\n",
      "\n",
      "Running simulator with: {'learning_rate': 0.0012397420340784146, 'num_layers': np.int64(5), 'regularization': 0.24044362702600125}\n",
      "-> Loss: 0.9230\n",
      "\n",
      "Running simulator with: {'learning_rate': 0.0015177941306507494, 'num_layers': np.int64(3), 'regularization': 0.3886373713544912}\n",
      "-> Loss: 1.7983\n",
      "\n",
      "Running simulator with: {'learning_rate': 0.09256818992066886, 'num_layers': np.int64(3), 'regularization': 0.8613410026689575}\n",
      "-> Loss: 2.2156\n",
      "\n",
      "Running simulator with: {'learning_rate': 0.1, 'num_layers': np.int64(1), 'regularization': 0.01}\n",
      "-> Loss: -0.1488\n",
      "\n",
      "Running simulator with: {'learning_rate': 0.001, 'num_layers': np.int64(1), 'regularization': 0.01}\n",
      "-> Loss: 0.0392\n",
      "\n"
     ]
    },
    {
     "name": "stderr",
     "output_type": "stream",
     "text": [
      "/opt/miniconda3/envs/qp_paper/lib/python3.11/site-packages/skopt/optimizer/optimizer.py:517: UserWarning: The objective has been evaluated at point [0.1, np.int64(1), 0.01] before, using random point [0.0029298377021523903, np.int64(2), 0.8074322801916747]\n",
      "  warnings.warn(\n",
      "/opt/miniconda3/envs/qp_paper/lib/python3.11/site-packages/skopt/optimizer/optimizer.py:517: UserWarning: The objective has been evaluated at point [0.1, np.int64(1), 0.01] before, using random point [0.04690659135616665, np.int64(1), 0.2584080224704182]\n",
      "  warnings.warn(\n"
     ]
    },
    {
     "name": "stdout",
     "output_type": "stream",
     "text": [
      "Running simulator with: {'learning_rate': 0.0029298377021523903, 'num_layers': np.int64(2), 'regularization': 0.8074322801916747}\n",
      "-> Loss: 1.1021\n",
      "\n",
      "Running simulator with: {'learning_rate': 0.1, 'num_layers': np.int64(5), 'regularization': 1.0}\n",
      "-> Loss: 1.6776\n",
      "\n",
      "Running simulator with: {'learning_rate': 0.04690659135616665, 'num_layers': np.int64(1), 'regularization': 0.2584080224704182}\n",
      "-> Loss: 0.0162\n",
      "\n",
      "Running simulator with: {'learning_rate': 0.09547820648870331, 'num_layers': np.int64(4), 'regularization': 0.012967876030627433}\n",
      "-> Loss: 1.7313\n",
      "\n",
      "Running simulator with: {'learning_rate': 0.09059805690359586, 'num_layers': np.int64(5), 'regularization': 0.02871332615096723}\n",
      "-> Loss: 0.6955\n",
      "\n",
      "Running simulator with: {'learning_rate': 0.09112989750807478, 'num_layers': np.int64(1), 'regularization': 0.02724048553098872}\n",
      "-> Loss: -0.1321\n",
      "\n",
      "Running simulator with: {'learning_rate': 0.001, 'num_layers': np.int64(5), 'regularization': 0.9978846712527794}\n",
      "-> Loss: 1.8614\n",
      "\n",
      "Running simulator with: {'learning_rate': 0.08709709103532914, 'num_layers': np.int64(1), 'regularization': 0.01701033003304011}\n",
      "-> Loss: -0.1252\n",
      "\n",
      "Running simulator with: {'learning_rate': 0.09812206593906499, 'num_layers': np.int64(1), 'regularization': 0.017781944269425087}\n",
      "-> Loss: -0.1452\n",
      "\n",
      "Running simulator with: {'learning_rate': 0.07463344009629214, 'num_layers': np.int64(1), 'regularization': 0.010652228684856407}\n",
      "-> Loss: -0.1025\n",
      "\n",
      "Running simulator with: {'learning_rate': 0.09806697748879777, 'num_layers': np.int64(1), 'regularization': 0.03561494796375232}\n",
      "-> Loss: -0.1442\n",
      "\n",
      "Running simulator with: {'learning_rate': 0.09279536222665805, 'num_layers': np.int64(1), 'regularization': 0.015241613969101623}\n",
      "-> Loss: -0.1357\n",
      "\n",
      "Running simulator with: {'learning_rate': 0.0852798349527577, 'num_layers': np.int64(1), 'regularization': 0.022067329041884277}\n",
      "-> Loss: -0.1217\n",
      "\n",
      "Running simulator with: {'learning_rate': 0.08836659254533881, 'num_layers': np.int64(1), 'regularization': 0.02268775343310417}\n",
      "-> Loss: -0.1273\n",
      "\n",
      "Running simulator with: {'learning_rate': 0.09435268142806708, 'num_layers': np.int64(1), 'regularization': 0.07561491042368852}\n",
      "-> Loss: -0.1330\n",
      "\n"
     ]
    },
    {
     "name": "stderr",
     "output_type": "stream",
     "text": [
      "/opt/miniconda3/envs/qp_paper/lib/python3.11/site-packages/skopt/optimizer/optimizer.py:517: UserWarning: The objective has been evaluated at point [0.1, np.int64(1), 0.01] before, using random point [0.07491436216450623, np.int64(3), 0.3655186423701857]\n",
      "  warnings.warn(\n",
      "/opt/miniconda3/envs/qp_paper/lib/python3.11/site-packages/skopt/optimizer/optimizer.py:517: UserWarning: The objective has been evaluated at point [0.1, np.int64(1), 0.01] before, using random point [0.012285485956594955, np.int64(2), 0.44885749674568165]\n",
      "  warnings.warn(\n"
     ]
    },
    {
     "name": "stdout",
     "output_type": "stream",
     "text": [
      "Running simulator with: {'learning_rate': 0.07491436216450623, 'num_layers': np.int64(3), 'regularization': 0.3655186423701857}\n",
      "-> Loss: 1.6397\n",
      "\n",
      "Running simulator with: {'learning_rate': 0.012285485956594955, 'num_layers': np.int64(2), 'regularization': 0.44885749674568165}\n",
      "-> Loss: 0.6330\n",
      "\n",
      "Running simulator with: {'learning_rate': 0.005982624162540801, 'num_layers': np.int64(5), 'regularization': 0.41236250673838093}\n",
      "-> Loss: 1.0258\n",
      "\n",
      "Optimization finished.\n",
      "Best parameters found: \n",
      " - learning_rate: 0.100000\n",
      " - num_layers: 1\n",
      " - regularization: 0.0100\n",
      "Best loss found: -0.1488\n"
     ]
    },
    {
     "name": "stderr",
     "output_type": "stream",
     "text": [
      "/opt/miniconda3/envs/qp_paper/lib/python3.11/site-packages/skopt/optimizer/optimizer.py:517: UserWarning: The objective has been evaluated at point [0.1, np.int64(1), 0.01] before, using random point [0.005982624162540801, np.int64(5), 0.41236250673838093]\n",
      "  warnings.warn(\n"
     ]
    },
    {
     "data": {
      "text/plain": [
       "<Axes: title={'center': 'Convergence plot'}, xlabel='Number of calls $n$', ylabel='$\\\\min f(x)$ after $n$ calls'>"
      ]
     },
     "execution_count": 1,
     "metadata": {},
     "output_type": "execute_result"
    },
    {
     "data": {
      "image/png": "[encoded data removed]",
      "text/plain": [
       "<Figure size 640x480 with 1 Axes>"
      ]
     },
     "metadata": {},
     "output_type": "display_data"
    }
   ],
   "source": [
    "import numpy as np\n",
    "from skopt import gp_minimize\n",
    "from skopt.space import Real, Integer\n",
    "from skopt.utils import use_named_args\n",
    "from skopt.plots import plot_convergence, plot_objective\n",
    "\n",
    "# 1. Define your parameter search space\n",
    "# Let's say your simulator has 3 parameters:\n",
    "# - 'learning_rate': a float between 0.001 and 0.1 (log scale)\n",
    "# - 'num_layers': an integer between 1 and 5\n",
    "# - 'regularization': a float between 0.01 and 1.0\n",
    "\n",
    "space = [\n",
    "    Real(1e-3, 1e-1, prior='log-uniform', name='learning_rate'),\n",
    "    Integer(1, 5, name='num_layers'),\n",
    "    Real(0.01, 1.0, name='regularization')\n",
    "]\n",
    "\n",
    "# 2. Define your expensive loss function\n",
    "# This function runs your simulator, compares to experimental data, and returns a single loss value.\n",
    "# We will create a dummy function here for demonstration.\n",
    "@use_named_args(space)\n",
    "def loss_function(**params):\n",
    "    \"\"\"\n",
    "    This is your black-box function.\n",
    "    It takes named parameters, runs the simulation, and returns the loss.\n",
    "    \"\"\"\n",
    "    # In your real code, you would use the 'params' dict to configure and run your simulator\n",
    "    print(f\"Running simulator with: {params}\")\n",
    "    \n",
    "    # --- YOUR SIMULATOR & COMPARISON CODE GOES HERE ---\n",
    "    # For this example, let's just use a simple mathematical function\n",
    "    lr = params['learning_rate']\n",
    "    nl = params['num_layers']\n",
    "    reg = params['regularization']\n",
    "    \n",
    "    # An arbitrary formula to simulate a complex loss surface\n",
    "    loss = np.sin(5 * nl) + (1 - lr)**2 + reg**2\n",
    "    \n",
    "    print(f\"-> Loss: {loss:.4f}\\n\")\n",
    "    return loss\n",
    "\n",
    "# 3. Run Bayesian Optimization\n",
    "# n_calls is the total number of times you are willing to run your expensive simulator\n",
    "print(\"Starting Bayesian Optimization...\")\n",
    "result = gp_minimize(\n",
    "    func=loss_function,      # the function to minimize\n",
    "    dimensions=space,        # the search space\n",
    "    n_calls=30,              # total number of evaluations\n",
    "    n_initial_points=10,     # number of random points to start with\n",
    "    random_state=42\n",
    ")\n",
    "\n",
    "# 4. Check the results\n",
    "print(\"Optimization finished.\")\n",
    "print(f\"Best parameters found: \")\n",
    "print(f\" - learning_rate: {result.x[0]:.6f}\")\n",
    "print(f\" - num_layers: {result.x[1]}\")\n",
    "print(f\" - regularization: {result.x[2]:.4f}\")\n",
    "print(f\"Best loss found: {result.fun:.4f}\")\n",
    "\n",
    "# You can also plot the convergence\n",
    "plot_convergence(result)"
   ]
  }
 ],
 "metadata": {
  "kernelspec": {
   "display_name": "LLM",
   "language": "python",
   "name": "python3"
  },
  "language_info": {
   "codemirror_mode": {
    "name": "ipython",
    "version": 3
   },
   "file_extension": ".py",
   "mimetype": "text/x-python",
   "name": "python",
   "nbconvert_exporter": "python",
   "pygments_lexer": "ipython3",
   "version": "3.11.13"
  }
 },
 "nbformat": 4,
 "nbformat_minor": 2
}
