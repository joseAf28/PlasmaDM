{
 "cells": [
  {
   "cell_type": "code",
   "execution_count": 1,
   "metadata": {},
   "outputs": [
    {
     "name": "stdout",
     "output_type": "stream",
     "text": [
      "  d[CO2_F]/dt = -CO2_F*r_29 + r_28*(-CO2_F - CO_F - O2_F - O_F + 1.0)\n",
      "  d[CO_F]/dt = -CO_F*O_F*r_34 - 0.02*CO_F*O_S*r_39 - CO_F*r_31 - CO_F*r_33 - 0.02*CO_F*r_35*(-CO_S - O_S - Odb_S - Vdb_S + 1.0) + r_30*(-CO2_F - CO_F - O2_F - O_F + 1.0)\n",
      "  d[CO_S]/dt = CO_F*r_35*(-CO_S - O_S - Odb_S - Vdb_S + 1.0) - CO_S*O_F*r_38 - CO_S*r_36 + r_32*(-CO_S - O_S - Odb_S - Vdb_S + 1.0)\n",
      "  d[O2_F]/dt = -O2_F*O_F*r_15 - O2_F*r_10 - O2_F*r_12 - O2_F*r_14 + r_9*(-CO2_F - CO_F - O2_F - O_F + 1.0)\n",
      "  d[O_F]/dt = -CO_F*O_F*r_34 - 0.02*CO_S*O_F*r_38 - O2_F*O_F*r_15 - 2*O_F**2*r_8 - 0.02*O_F*O_S*r_7 - 0.02*O_F*Odb_S*r_27 - 0.02*O_F*Vdb_S*r_26 - O_F*r_11 - O_F*r_2 - O_F*r_4 - 0.02*O_F*r_5*(-CO_S - O_S - Odb_S - Vdb_S + 1.0) + r_1*(-CO2_F - CO_F - O2_F - O_F + 1.0)\n",
      "  d[O_S]/dt = -CO_F*O_S*r_39 - O_F*O_S*r_7 + O_F*r_5*(-CO_S - O_S - Odb_S - Vdb_S + 1.0) - O_S*r_16 - O_S*r_17 - O_S*r_37 - O_S*r_6 + r_3*(-CO_S - O_S - Odb_S - Vdb_S + 1.0)\n",
      "  d[Odb_S]/dt = -O_F*Odb_S*r_27 + O_F*Vdb_S*r_26 - Odb_S*r_23 - Odb_S*r_24 - Odb_S*r_25 + Vdb_S*r_20\n",
      "  d[Vdb_S]/dt = O_F*Odb_S*r_27 - O_F*Vdb_S*r_26 + O_S*r_16 + O_S*r_17 + Odb_S*r_25 - Vdb_S*r_20 - Vdb_S*r_21 - Vdb_S*r_22 + r_18*(-CO_S - O_S - Odb_S - Vdb_S + 1.0) + r_19*(-CO_S - O_S - Odb_S - Vdb_S + 1.0)\n"
     ]
    }
   ],
   "source": [
    "import sys, os\n",
    "PATH = os.path.dirname(os.path.abspath(os.curdir))\n",
    "if PATH not in sys.path:\n",
    "    sys.path.insert(0, PATH)\n",
    "\n",
    "import logging\n",
    "\n",
    "logging.basicConfig(level=logging.ERROR)\n",
    "logging.getLogger(\"torch\").setLevel(logging.ERROR)\n",
    "logging.getLogger(\"transformers\").setLevel(logging.ERROR)\n",
    "\n",
    "from pathos.multiprocessing import ProcessPool\n",
    "import src.Simulator as sim_system\n",
    "import src.Optimizer as opt\n",
    "import src.SimGrad as sim_diff\n",
    "import scipy as sp\n",
    "import numpy as np\n",
    "import torch\n",
    "import tqdm\n",
    "\n",
    "\n",
    "###* Create Simulator object\n",
    "reactions_file = \"../reactions/reactionsSimpleV1.json\"\n",
    "\n",
    "const_dict = {\n",
    "        \"F0\": 1.5e15,           # cm^-2\n",
    "        \"S0\": 3e13,             # cm^-2\n",
    "        \n",
    "        \"R\": 0.00831442,        # kJ/mol*K\n",
    "        \"kBoltz\": 1.380649e-23, # J/K\n",
    "}\n",
    "\n",
    "initial_state_dict = {'O_F': 0.1, 'O2_F':0.1 ,'O_S': 0.1, 'Vdb_S':0.1, \n",
    "                    'Odb_S': 0.1, 'CO_F': 0.1, 'CO2_F':0.1, 'CO_S': 0.1, \n",
    "                    'COdb_S': 0.0}\n",
    "\n",
    "###* Functions for the data transformation\n",
    "def compute_flux(const_dict, exp_dict, specie, molar_mass):\n",
    "    den = exp_dict.get(specie, 0.0)\n",
    "    v_th = np.sqrt((8.0 * const_dict['R'] * 1000 * exp_dict['Tnw'])/(molar_mass * np.pi))\n",
    "    flux = 0.25 * v_th * den * 100\n",
    "    return flux\n",
    "\n",
    "\n",
    "def compute_remaining_flux(const_dict, exp_dict, molar_mass): \n",
    "    den = exp_dict['N'] - exp_dict['O'] - exp_dict['CO']\n",
    "    v_th = np.sqrt((8.0 * const_dict['R'] * 1000 * exp_dict['Tnw'])/(molar_mass * np.pi))\n",
    "    flux = 0.25 * v_th * den * 100\n",
    "    return flux\n",
    "\n",
    "####? EavgMB data extracted from the Booth et al. 2019 paper\n",
    "p_data_exp = [0.2, 0.3, 0.4, 0.5, 0.6, 0.75, 1.5]\n",
    "EavgMB_data = [1.04, 0.91, 0.87, 0.83, 0.77, 0.5, 0.001]\n",
    "interpolator = sp.interpolate.interp1d(p_data_exp, EavgMB_data, kind='linear', fill_value=0.001, bounds_error=False)\n",
    "\n",
    "\n",
    "transformations_exp = {\n",
    "    'Tw':       lambda const_dict, exp_dict: exp_dict['Tw'] + 273.15,\n",
    "    'fluxO' :   lambda const_dict, exp_dict: compute_flux(const_dict, exp_dict,'O', 0.016),\n",
    "    'fluxO2' :  lambda const_dict, exp_dict: compute_flux(const_dict, exp_dict,'O2', 0.032),\n",
    "    'fluxO3' :  lambda const_dict, exp_dict: compute_flux(const_dict, exp_dict,'O3', 0.048),\n",
    "    'fluxC':    lambda const_dict, exp_dict: compute_flux(const_dict, exp_dict, 'C', 0.012),\n",
    "    'fluxCO':   lambda const_dict, exp_dict: compute_flux(const_dict, exp_dict, 'CO', 0.028),\n",
    "    'fluxCO2':  lambda const_dict, exp_dict: compute_flux(const_dict, exp_dict, 'CO2', 0.048),\n",
    "    'EavgMB':   lambda const_dict, exp_dict: interpolator(exp_dict['pressure']).item(),\n",
    "    'Ion':      lambda const_dict, exp_dict: 1e14 * exp_dict[\"current\"]\n",
    "}\n",
    "\n",
    "output_folder_path = \"../Buffer_Data\"\n",
    "exp_data_file = \"Experimental_data_CO_Jorge.hdf5\"\n",
    "exp_file = os.path.join(output_folder_path, exp_data_file)\n",
    "\n",
    "sim = sim_system.Simulator(reactions_file, const_dict, exp_file, initial_state_dict, transformations_exp=transformations_exp)\n"
   ]
  },
  {
   "cell_type": "code",
   "execution_count": 2,
   "metadata": {},
   "outputs": [
    {
     "name": "stdout",
     "output_type": "stream",
     "text": [
      "params_default:  (0.03267998065359961, 16.715715715715714, 0.6583333333333333, 1.0, 1.0, 0.00999009990099901, 0.0999909999099991, 0.0999909999099991, 0.00999009990099901, 0.0999909999099991, 0.0999909999099991, 0.0999909999099991, 0.0999909999099991)\n",
      "rx_update_vec:  ['r_2', 'r_10', 'r_31', 'r_30', 'r_32', 'r_33', 'r_34', 'r_35', 'r_36', 'r_37', 'r_38', 'r_39'] 12\n",
      "rx_no_update_vec:  ['r_1', 'r_3', 'r_4', 'r_5', 'r_6', 'r_7', 'r_8', 'r_9', 'r_11', 'r_12', 'r_14', 'r_15', 'r_16', 'r_17', 'r_18', 'r_19', 'r_20', 'r_21', 'r_22', 'r_23', 'r_24', 'r_25', 'r_26', 'r_27', 'r_28', 'r_29']\n"
     ]
    }
   ],
   "source": [
    "###* Create optimization and diff objects with the proper bounds\n",
    "lower_bounds = np.array([1e-8, 1e-8, 0.0, \\\n",
    "                    1e-5, 1e-5, 1e-5, 1e-5, 1e-5, \\\n",
    "                    1e-5, 1e-5, 1e-5, 1e-5, 1e-5\n",
    "                    ])\n",
    "\n",
    "upper_bounds = np.array([5e-1, 1e-5, 30.0, \\\n",
    "                    1.0, 1.0, 1.0, 1.0, 1.0, \\\n",
    "                    1.0, 1.0, 1.0, 1.0, 1.0\n",
    "                    ])\n",
    "\n",
    "##! define parameters to optimize\n",
    "def func_optimization(params, flag='numpy'):\n",
    "    \n",
    "    A_d, B_d, E_d, SF_1, SF_2, SF_3, SF_4, SF_5, SF_6, SF_7, SF_8, SF_9, SF_10 = params\n",
    "    \n",
    "    A_d = lower_bounds[0] + (upper_bounds[0] - lower_bounds[0]) * A_d\n",
    "    B_d = lower_bounds[1] + (upper_bounds[1] - lower_bounds[1]) * B_d\n",
    "    E_d = lower_bounds[2] + (upper_bounds[2] - lower_bounds[2]) * E_d\n",
    "    \n",
    "    SF_1 = lower_bounds[3] + (upper_bounds[3] - lower_bounds[3]) * SF_1\n",
    "    SF_2 = lower_bounds[4] + (upper_bounds[4] - lower_bounds[4]) * SF_2\n",
    "    SF_3 = lower_bounds[5] + (upper_bounds[5] - lower_bounds[5]) * SF_3\n",
    "    SF_4 = lower_bounds[6] + (upper_bounds[6] - lower_bounds[6]) * SF_4\n",
    "    SF_5 = lower_bounds[7] + (upper_bounds[7] - lower_bounds[7]) * SF_5\n",
    "    \n",
    "    SF_6 = lower_bounds[8] + (upper_bounds[8] - lower_bounds[8]) * SF_6\n",
    "    SF_7 = lower_bounds[9] + (upper_bounds[9] - lower_bounds[9]) * SF_7\n",
    "    SF_8 = lower_bounds[10] + (upper_bounds[10] - lower_bounds[10]) * SF_8\n",
    "    SF_9 = lower_bounds[11] + (upper_bounds[11] - lower_bounds[11]) * SF_9\n",
    "    SF_10 = lower_bounds[12] + (upper_bounds[12] - lower_bounds[12]) * SF_10\n",
    "    \n",
    "    if flag=='numpy':\n",
    "        nu_d_mod = lambda T: 1e15 * (A_d + B_d * np.exp(E_d/(const_dict['R'] * T)))\n",
    "    elif flag=='torch':\n",
    "        nu_d_mod = lambda T: 1e15 * (A_d + B_d * torch.exp(E_d/(const_dict['R'] * T)))\n",
    "    else:\n",
    "        raise ValueError(f\"{flag} does not exist\")\n",
    "    \n",
    "    dict_mod_vec = [\n",
    "    {\"id\": 2, \"rate\": None, \"model_dict\": {\"nu_d\": nu_d_mod}},\n",
    "    {\"id\": 10, \"rate\": None, \"model_dict\": {\"nu_d\": nu_d_mod}},\n",
    "    {\"id\": 31, \"rate\": None, \"model_dict\": {\"SF\": SF_2, \"nu_d\": nu_d_mod}},\n",
    "    \n",
    "    {\"id\": 30, \"rate\": None, \"model_dict\": {\"SF\": SF_1}},\n",
    "    # {\"id\": 31, \"rate\": None, \"model_dict\": {\"SF\": SF_2}},\n",
    "    {\"id\": 32, \"rate\": None, \"model_dict\": {\"SF\": SF_3}},\n",
    "    {\"id\": 33, \"rate\": None, \"model_dict\": {\"SF\": SF_4}},\n",
    "    {\"id\": 34, \"rate\": None, \"model_dict\": {\"SF\": SF_5}},\n",
    "    \n",
    "    {\"id\": 35, \"rate\": None, \"model_dict\": {\"SF\": SF_6}},\n",
    "    {\"id\": 36, \"rate\": None, \"model_dict\": {\"SF\": SF_7}},\n",
    "    {\"id\": 37, \"rate\": None, \"model_dict\": {\"SF\": SF_8}},\n",
    "    {\"id\": 38, \"rate\": None, \"model_dict\": {\"SF\": SF_9}},\n",
    "    {\"id\": 39, \"rate\": None, \"model_dict\": {\"SF\": SF_10}},\n",
    "    ]\n",
    "    \n",
    "    return dict_mod_vec\n",
    "\n",
    "##! define the default parameters\n",
    "params_default = []\n",
    "params_default_aux = list((0.01634, 1.67e-4, 19.75, \\\n",
    "                1.0, 1.0, 1e-2, 1e-1, 1e-1, \\\n",
    "                1e-2, 1e-1, 1e-1, 1e-1, 1e-1\n",
    "                ))\n",
    "for idx, param in enumerate(params_default_aux):\n",
    "    value = (param - lower_bounds[idx])/(upper_bounds[idx] - lower_bounds[idx])\n",
    "    params_default.append(value)\n",
    "\n",
    "params_default = tuple(params_default)\n",
    "print(\"params_default: \", params_default)\n",
    "\n",
    "def loss_function(exp, teo, flag='numpy'):\n",
    "    \n",
    "    func = ((teo-exp)**2)/(exp**2)\n",
    "    if flag == 'numpy':\n",
    "        return np.mean(func)\n",
    "    elif flag == 'torch':\n",
    "        return torch.mean(func)\n",
    "    else:\n",
    "        raise ValueError(f\"{flag} does not exist\")\n",
    "\n",
    "\n",
    "optimizer = opt.Optimizer(sim, \n",
    "                        lambda params: func_optimization(params, 'numpy'), \n",
    "                        lambda exp, teo: loss_function(exp, teo, 'numpy')\n",
    "                        )\n",
    "\n",
    "diff = sim_diff.SimDiff(sim, \n",
    "                        lambda params: func_optimization(params, 'torch'),\n",
    "                        params_default=params_default,\n",
    "                        gamma_exp_data=sim.gamma_exp_data_arr,\n",
    "                        loss_function=lambda exp, teo: loss_function(exp, teo, 'torch')\n",
    "                        )\n"
   ]
  },
  {
   "cell_type": "code",
   "execution_count": 3,
   "metadata": {},
   "outputs": [],
   "source": [
    "# def loss_and_grads(params, opt_object, diff_object):\n",
    "#     loss_val, frac_solutions_arr, rates_arr, _, gammas_predicted_arr = opt_object.objective_function_diff(params)\n",
    "#     grad_val = diff_object.objective_function_grad(params, frac_solutions_arr, rates_arr, gammas_predicted_arr)\n",
    "#     # print(\"loss_val: \", loss_val, \"grad_val: \", grad_val, \"params: \", params)\n",
    "#     # print(\"loss_val: \", loss_val)\n",
    "#     return loss_val, grad_val.numpy()\n",
    "\n",
    "\n",
    "def loss_and_grads(params, opt_object, diff_object):\n",
    "    loss_val, frac_solutions_arr, rates_arr, _, gammas_predicted_arr = opt_object.objective_function_diff(params)\n",
    "    # grad_val = diff_object.objective_function_grad(params, frac_solutions_arr, rates_arr, gammas_predicted_arr)\n",
    "    # print(\"loss_val: \", loss_val, \"grad_val: \", grad_val, \"params: \", params)\n",
    "    # print(\"loss_val: \", loss_val)\n",
    "    return loss_val"
   ]
  },
  {
   "cell_type": "code",
   "execution_count": 4,
   "metadata": {},
   "outputs": [
    {
     "name": "stdout",
     "output_type": "stream",
     "text": [
      "(0.03267998065359961, 16.715715715715714, 0.6583333333333333, 1.0, 1.0, 0.00999009990099901, 0.0999909999099991, 0.0999909999099991, 0.00999009990099901, 0.0999909999099991, 0.0999909999099991, 0.0999909999099991, 0.0999909999099991)\n",
      "13\n"
     ]
    }
   ],
   "source": [
    "print(params_default)\n",
    "print(len(params_default))"
   ]
  },
  {
   "cell_type": "code",
   "execution_count": 5,
   "metadata": {},
   "outputs": [
    {
     "name": "stdout",
     "output_type": "stream",
     "text": [
      "0.11222424225336039\n"
     ]
    }
   ],
   "source": [
    "\n",
    "loss_val = loss_and_grads(params_default, optimizer, diff)\n",
    "\n",
    "print(loss_val)"
   ]
  },
  {
   "cell_type": "code",
   "execution_count": 6,
   "metadata": {},
   "outputs": [],
   "source": [
    "\n",
    "\n",
    "def grads(params, opt_object, diff_object):\n",
    "    loss_val, frac_solutions_arr, rates_arr, _, gammas_predicted_arr = opt_object.objective_function_diff(params)\n",
    "    grad_val = diff_object.objective_function_grad(params, frac_solutions_arr, rates_arr, gammas_predicted_arr)\n",
    "    # print(\"loss_val: \", loss_val, \"grad_val: \", grad_val, \"params: \", params)\n",
    "    # print(\"loss_val: \", loss_val)\n",
    "    return grad_val.numpy()\n",
    "\n",
    "\n",
    "def grads_wise(params, opt_object, diff_object):\n",
    "    loss_val, frac_solutions_arr, rates_arr, _, gammas_predicted_arr = opt_object.objective_function_diff(params)\n",
    "    grad_val = diff_object.objective_function_grad_element_wise(params, frac_solutions_arr, rates_arr, gammas_predicted_arr)\n",
    "    # print(\"loss_val: \", loss_val, \"grad_val: \", grad_val, \"params: \", params)\n",
    "    # print(\"loss_val: \", loss_val)\n",
    "    return grad_val.numpy()"
   ]
  },
  {
   "cell_type": "code",
   "execution_count": 7,
   "metadata": {},
   "outputs": [
    {
     "name": "stdout",
     "output_type": "stream",
     "text": [
      "[-1.99182384e+01 -6.87047729e-01 -1.30721298e+02 -8.06332614e+00\n",
      " -1.21316643e+01 -2.02025640e-04  1.28716850e-04 -7.00524873e+00\n",
      " -1.05356400e-01  1.19004749e-02  1.06162163e-04  2.09839589e-04\n",
      "  9.43306574e-07]\n"
     ]
    }
   ],
   "source": [
    "\n",
    "grads_val = grads(params_default, optimizer, diff)\n",
    "\n",
    "print(grads_val)"
   ]
  },
  {
   "cell_type": "code",
   "execution_count": 8,
   "metadata": {},
   "outputs": [
    {
     "name": "stdout",
     "output_type": "stream",
     "text": [
      "(94,)\n"
     ]
    }
   ],
   "source": [
    "print(sim.gamma_exp_data_arr.shape)"
   ]
  },
  {
   "cell_type": "code",
   "execution_count": 9,
   "metadata": {},
   "outputs": [
    {
     "name": "stdout",
     "output_type": "stream",
     "text": [
      "(94, 13)\n"
     ]
    }
   ],
   "source": [
    "grads_wise = -grads_wise(params_default, optimizer, diff) / sim.gamma_exp_data_arr.reshape(-1, 1)\n",
    "F_matrix = np.matmul(grads_wise.T, grads_wise)\n",
    "\n",
    "\n",
    "# print(grads_wise_val.shape)\n",
    "print(grads_wise.shape)"
   ]
  },
  {
   "cell_type": "code",
   "execution_count": 10,
   "metadata": {},
   "outputs": [],
   "source": [
    "eigenvalues, eigenvector = np.linalg.eigh(F_matrix)\n",
    "\n",
    "idx = np.argsort(np.abs(eigenvalues))[::-1]\n",
    "eigvals_sorted = eigenvalues[idx]\n",
    "eigvecs_sorted = eigenvector[:,idx]\n",
    "\n",
    "total_info = np.sum(np.abs(eigvals_sorted))\n",
    "\n",
    "cumulative = np.cumsum(np.abs(eigvals_sorted))\n",
    "threshold = 0.90 * total_info\n",
    "num_components = np.searchsorted(cumulative, threshold) + 1\n",
    "\n",
    "\n",
    "eigvals_selected = eigvals_sorted[:num_components]\n",
    "eigvecs_selected = eigvecs_sorted[:,:num_components]\n"
   ]
  },
  {
   "cell_type": "code",
   "execution_count": 11,
   "metadata": {},
   "outputs": [
    {
     "data": {
      "image/png": "[encoded data removed]",
      "text/plain": [
       "<Figure size 640x480 with 1 Axes>"
      ]
     },
     "metadata": {},
     "output_type": "display_data"
    }
   ],
   "source": [
    "import matplotlib.pyplot as plt\n",
    "\n",
    "plt.plot(eigvals_sorted, '.')\n",
    "plt.yscale('log')"
   ]
  },
  {
   "cell_type": "code",
   "execution_count": null,
   "metadata": {},
   "outputs": [],
   "source": []
  },
  {
   "cell_type": "code",
   "execution_count": 12,
   "metadata": {},
   "outputs": [],
   "source": [
    "\n",
    "Vs = eigvecs_selected\n",
    "Vl = eigvecs_sorted[:,num_components:]\n",
    "\n",
    "theta0 = np.array(params_default)\n",
    "phi0 = np.linalg.solve(eigvecs_sorted,theta0)\n"
   ]
  },
  {
   "cell_type": "code",
   "execution_count": 13,
   "metadata": {},
   "outputs": [
    {
     "name": "stdout",
     "output_type": "stream",
     "text": [
      "[3.26799807e-02 1.67157157e+01 6.58333333e-01 1.00000000e+00\n",
      " 1.00000000e+00 9.99009990e-03 9.99909999e-02 9.99909999e-02\n",
      " 9.99009990e-03 9.99909999e-02 9.99909999e-02 9.99909999e-02\n",
      " 9.99909999e-02]\n"
     ]
    }
   ],
   "source": [
    "theta0 = np.matmul(eigvecs_sorted, phi0)\n",
    "print(theta0)"
   ]
  },
  {
   "cell_type": "code",
   "execution_count": 14,
   "metadata": {},
   "outputs": [
    {
     "name": "stdout",
     "output_type": "stream",
     "text": [
      "[[ 1.25749793e-01]\n",
      " [ 4.52587694e-03]\n",
      " [ 8.67738961e-01]\n",
      " [ 4.39347982e-02]\n",
      " [ 7.97411406e-02]\n",
      " [ 1.21707050e-06]\n",
      " [-6.39023558e-07]\n",
      " [ 3.98516173e-02]\n",
      " [ 4.77496757e-04]\n",
      " [-7.89795340e-05]\n",
      " [-4.60108196e-07]\n",
      " [-7.28323338e-07]\n",
      " [-2.86627905e-09]]\n",
      "[-9.30698126e-02  1.67111898e+01 -2.09405627e-01  9.56065202e-01\n",
      "  9.20258859e-01  9.98888283e-03  9.99916389e-02  6.01393826e-02\n",
      "  9.51260314e-03  1.00069979e-01  9.99914600e-02  9.99917282e-02\n",
      "  9.99910028e-02]\n",
      "\n",
      "[3.26799807e-02 1.67157157e+01 6.58333333e-01 1.00000000e+00\n",
      " 1.00000000e+00 9.99009990e-03 9.99909999e-02 9.99909999e-02\n",
      " 9.99009990e-03 9.99909999e-02 9.99909999e-02 9.99909999e-02\n",
      " 9.99909999e-02]\n"
     ]
    }
   ],
   "source": [
    "print(np.dot(Vs, phi0[0]))\n",
    "print(np.dot(Vl, phi0[1:]))\n",
    "print()\n",
    "print(np.dot(Vs, phi0[0]).squeeze() + np.dot(Vl, phi0[1:]) )"
   ]
  },
  {
   "cell_type": "code",
   "execution_count": 15,
   "metadata": {},
   "outputs": [],
   "source": [
    "\n",
    "def loss_new(phi, Vs, Vl, opt_object, diff_object):\n",
    "    \n",
    "    params_aux = np.dot(Vs, phi).reshape(-1) + np.dot(Vl, phi0[1:]).reshape(-1)\n",
    "    params = tuple(np.abs(params_aux).reshape(-1))    \n",
    "    \n",
    "    loss_val, frac_solutions_arr, rates_arr, _, gammas_predicted_arr = opt_object.objective_function_diff(params)\n",
    "    return loss_val"
   ]
  },
  {
   "cell_type": "code",
   "execution_count": 26,
   "metadata": {},
   "outputs": [
    {
     "name": "stdout",
     "output_type": "stream",
     "text": [
      "0\n",
      "1\n",
      "2\n",
      "3\n",
      "4\n",
      "5\n",
      "6\n",
      "7\n",
      "8\n",
      "9\n"
     ]
    }
   ],
   "source": [
    "\n",
    "phiVec = np.linspace(0.87, 0.9, 10)\n",
    "lossVec = np.zeros_like(phiVec)\n",
    "\n",
    "for idx, phi in enumerate(phiVec):\n",
    "    lossVec[idx] = loss_new(phi, Vs, Vl, optimizer, diff)\n",
    "    \n",
    "    print(idx)\n",
    "        "
   ]
  },
  {
   "cell_type": "code",
   "execution_count": 27,
   "metadata": {},
   "outputs": [
    {
     "name": "stdout",
     "output_type": "stream",
     "text": [
      "[0.35078053 0.26126068 0.19229803 0.14061958 0.10342748 0.07833207\n",
      " 0.06329431 0.05657624 0.05669838 0.06240302]\n"
     ]
    }
   ],
   "source": [
    "print(lossVec)"
   ]
  },
  {
   "cell_type": "code",
   "execution_count": 28,
   "metadata": {},
   "outputs": [
    {
     "data": {
      "image/png": "[encoded data removed]",
      "text/plain": [
       "<Figure size 640x480 with 1 Axes>"
      ]
     },
     "metadata": {},
     "output_type": "display_data"
    }
   ],
   "source": [
    "plt.figure()\n",
    "plt.plot(phiVec, lossVec)\n",
    "plt.yscale('log')\n",
    "# plt.ylim(0.0, 0.5)\n",
    "# plt.yscale('log')"
   ]
  },
  {
   "cell_type": "code",
   "execution_count": 19,
   "metadata": {},
   "outputs": [],
   "source": [
    "# eigenvalues, eigenvector = np.linalg.eigh(F_matrix)\n",
    "\n",
    "# print(eigenvalues.real)\n",
    "\n",
    "# print(eigenvector[-1])"
   ]
  },
  {
   "cell_type": "code",
   "execution_count": null,
   "metadata": {},
   "outputs": [],
   "source": []
  }
 ],
 "metadata": {
  "kernelspec": {
   "display_name": "LLM",
   "language": "python",
   "name": "python3"
  },
  "language_info": {
   "codemirror_mode": {
    "name": "ipython",
    "version": 3
   },
   "file_extension": ".py",
   "mimetype": "text/x-python",
   "name": "python",
   "nbconvert_exporter": "python",
   "pygments_lexer": "ipython3",
   "version": "3.12.7"
  }
 },
 "nbformat": 4,
 "nbformat_minor": 2
}
