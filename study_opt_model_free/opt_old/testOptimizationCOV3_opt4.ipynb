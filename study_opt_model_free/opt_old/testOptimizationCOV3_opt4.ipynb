{
 "cells": [
  {
   "cell_type": "code",
   "execution_count": null,
   "metadata": {},
   "outputs": [],
   "source": [
    "import sys, os\n",
    "ROOT = os.path.abspath(os.curdir)\n",
    "PARENT = os.path.dirname(ROOT)\n",
    "\n",
    "if PARENT not in sys.path:\n",
    "    sys.path.insert(0, PARENT)"
   ]
  },
  {
   "cell_type": "code",
   "execution_count": 1,
   "metadata": {},
   "outputs": [],
   "source": [
    "\n",
    "import numpy as np\n",
    "import scipy as sp\n",
    "import h5py\n",
    "\n",
    "import src.SimData as sim_data\n",
    "import src.Simulator as sim_system\n",
    "import src.Optimizer as opt"
   ]
  },
  {
   "cell_type": "code",
   "execution_count": 2,
   "metadata": {},
   "outputs": [],
   "source": [
    "\n",
    "\n",
    "###* Input files and function\n",
    "\n",
    "reactions_file = \"../reactions/reactionsSimpleV1.json\"\n",
    "\n",
    "const_dict = {\n",
    "        \"F0\": 1.5e15,           # cm^-2\n",
    "        \"S0\": 3e13,             # cm^-2\n",
    "        \n",
    "        \"R\": 0.00831442,        # kJ/mol*K\n",
    "        \"kBoltz\": 1.380649e-23, # J/K\n",
    "}\n",
    "\n",
    "initial_state_dict = {'O_F': 0.1, 'O2_F':0.1 ,'O_S': 0.1, 'Vdb_S':0.1, \n",
    "                      'Odb_S': 0.1, 'CO_F': 0.1, 'CO2_F':0.1, 'CO_S': 0.1, \n",
    "                      'COdb_S': 0.0}\n",
    "\n",
    "###* Functions for the data transformation\n",
    "def compute_flux(const_dict, exp_dict, specie, molar_mass):\n",
    "    den = exp_dict.get(specie, 0.0)\n",
    "    v_th = np.sqrt((8.0 * const_dict['R'] * 1000 * exp_dict['Tnw'])/(molar_mass * np.pi))\n",
    "    flux = 0.25 * v_th * den * 100\n",
    "    return flux\n",
    "\n",
    "\n",
    "def compute_remaining_flux(const_dict, exp_dict, molar_mass): \n",
    "    den = exp_dict['N'] - exp_dict['O'] - exp_dict['CO']\n",
    "    v_th = np.sqrt((8.0 * const_dict['R'] * 1000 * exp_dict['Tnw'])/(molar_mass * np.pi))\n",
    "    flux = 0.25 * v_th * den * 100\n",
    "    return flux\n",
    "\n",
    "####? EavgMB data extracted from the Booth et al. 2019 paper\n",
    "p_data_exp = [0.2, 0.3, 0.4, 0.5, 0.6, 0.75, 1.5]\n",
    "EavgMB_data = [1.04, 0.91, 0.87, 0.83, 0.77, 0.5, 0.001]\n",
    "interpolator = sp.interpolate.interp1d(p_data_exp, EavgMB_data, kind='linear', fill_value=0.001, bounds_error=False)\n",
    "\n",
    "\n",
    "transformations_exp = {\n",
    "    'Tw':       lambda const_dict, exp_dict: exp_dict['Tw'] + 273.15,\n",
    "    'fluxO' :   lambda const_dict, exp_dict: compute_flux(const_dict, exp_dict,'O', 0.016),\n",
    "    'fluxO2' :  lambda const_dict, exp_dict: compute_flux(const_dict, exp_dict,'O2', 0.032),\n",
    "    'fluxO3' :  lambda const_dict, exp_dict: compute_flux(const_dict, exp_dict,'O3', 0.048),\n",
    "    'fluxC':    lambda const_dict, exp_dict: compute_flux(const_dict, exp_dict, 'C', 0.012),\n",
    "    'fluxCO':   lambda const_dict, exp_dict: compute_flux(const_dict, exp_dict, 'CO', 0.028),\n",
    "    'fluxCO2':  lambda const_dict, exp_dict: compute_flux(const_dict, exp_dict, 'CO2', 0.048),\n",
    "    'EavgMB':   lambda const_dict, exp_dict: interpolator(exp_dict['pressure']).item(),\n",
    "    'Ion':      lambda const_dict, exp_dict: 1e14 * exp_dict[\"current\"]\n",
    "}\n",
    "\n",
    "output_folder_path = \"../Buffer_Data\"\n",
    "exp_data_file = \"Experimental_data_CO_Jorge.hdf5\""
   ]
  },
  {
   "cell_type": "code",
   "execution_count": 3,
   "metadata": {},
   "outputs": [
    {
     "name": "stdout",
     "output_type": "stream",
     "text": [
      "  d[CO2_F]/dt = -CO2_F*r_29 + r_28*(-CO2_F - CO_F - O2_F - O_F + 1.0)\n",
      "  d[CO_F]/dt = -CO_F*O_F*r_34 - 0.02*CO_F*O_S*r_39 - CO_F*r_31 - CO_F*r_33 - 0.02*CO_F*r_35*(-CO_S - O_S - Odb_S - Vdb_S + 1.0) + r_30*(-CO2_F - CO_F - O2_F - O_F + 1.0)\n",
      "  d[CO_S]/dt = CO_F*r_35*(-CO_S - O_S - Odb_S - Vdb_S + 1.0) - CO_S*O_F*r_38 - CO_S*r_36 + r_32*(-CO_S - O_S - Odb_S - Vdb_S + 1.0)\n",
      "  d[O2_F]/dt = -O2_F*O_F*r_15 - O2_F*r_10 - O2_F*r_12 - O2_F*r_14 + r_9*(-CO2_F - CO_F - O2_F - O_F + 1.0)\n",
      "  d[O_F]/dt = -CO_F*O_F*r_34 - 0.02*CO_S*O_F*r_38 - O2_F*O_F*r_15 - 2*O_F**2*r_8 - 0.02*O_F*O_S*r_7 - 0.02*O_F*Odb_S*r_27 - 0.02*O_F*Vdb_S*r_26 - O_F*r_11 - O_F*r_2 - O_F*r_4 - 0.02*O_F*r_5*(-CO_S - O_S - Odb_S - Vdb_S + 1.0) + r_1*(-CO2_F - CO_F - O2_F - O_F + 1.0)\n",
      "  d[O_S]/dt = -CO_F*O_S*r_39 - O_F*O_S*r_7 + O_F*r_5*(-CO_S - O_S - Odb_S - Vdb_S + 1.0) - O_S*r_16 - O_S*r_17 - O_S*r_37 - O_S*r_6 + r_3*(-CO_S - O_S - Odb_S - Vdb_S + 1.0)\n",
      "  d[Odb_S]/dt = -O_F*Odb_S*r_27 + O_F*Vdb_S*r_26 - Odb_S*r_23 - Odb_S*r_24 - Odb_S*r_25 + Vdb_S*r_20\n",
      "  d[Vdb_S]/dt = O_F*Odb_S*r_27 - O_F*Vdb_S*r_26 + O_S*r_16 + O_S*r_17 + Odb_S*r_25 - Vdb_S*r_20 - Vdb_S*r_21 - Vdb_S*r_22 + r_18*(-CO_S - O_S - Odb_S - Vdb_S + 1.0) + r_19*(-CO_S - O_S - Odb_S - Vdb_S + 1.0)\n"
     ]
    }
   ],
   "source": [
    "\n",
    "\n",
    "def func_optimization(params):\n",
    "    \n",
    "    A_D, B_D, E_D = params\n",
    "    \n",
    "    A = 0.01634\n",
    "    B = 1.67e-4\n",
    "    E = 19.75\n",
    "    nu_d_mod = lambda T: 1e15 * (A + B * np.exp(E/(const_dict['R'] * T)))\n",
    "    \n",
    "    nu_D_mod = lambda T: 1e13 * (A_D + B_D * np.exp(E_D/(const_dict['R'] * T)))\n",
    "    \n",
    "    \n",
    "    \n",
    "    dict_mod_vec = [\n",
    "    {\"id\": 2, \"rate\": None, \"model_dict\": {\"nu_d\": nu_d_mod}},\n",
    "    {\"id\": 10, \"rate\": None, \"model_dict\": {\"nu_d\": nu_d_mod}},\n",
    "    {\"id\": 31, \"rate\": None, \"model_dict\": {\"nu_d\": nu_d_mod}},\n",
    "    \n",
    "    {\"id\": None, \"rate\": None, \"model_dict\": {\"nu_D\": nu_D_mod}},\n",
    "    ]\n",
    "    \n",
    "    return dict_mod_vec\n",
    "\n",
    "loss_function = lambda exp, teo: np.mean((np.reciprocal(exp)*(exp-teo))**2)\n",
    "\n",
    "exp_file = os.path.join(output_folder_path, exp_data_file)\n",
    "sim = sim_system.Simulator(reactions_file, const_dict, exp_file, initial_state_dict, transformations_exp=transformations_exp)\n"
   ]
  },
  {
   "cell_type": "code",
   "execution_count": 4,
   "metadata": {},
   "outputs": [],
   "source": [
    "\n",
    "if __name__ == '__main__':\n",
    "    optimizer = opt.Optimizer(sim, func_optimization, loss_function)\n",
    "\n",
    "    global_bounds = [\n",
    "                    (1e-4, 1e-1), (1e-6, 1e-3), (10.0, 25.0)\n",
    "                    ]\n",
    "\n",
    "    config = {\n",
    "        \"bounds\": global_bounds,\n",
    "        \"de_maxiter\": 3,\n",
    "        \"de_num_iterations\": 1,\n",
    "    }\n",
    "    \n",
    "    # best_local, best_local_loss = optimizer.hybrid_optimization_searchV2(config)\n",
    "\n",
    "# differential_evolution step 50: f(x)= 0.041662857183863554\n"
   ]
  },
  {
   "cell_type": "code",
   "execution_count": 5,
   "metadata": {},
   "outputs": [],
   "source": [
    "# print(best_local)\n",
    "# print(best_local_loss)"
   ]
  },
  {
   "cell_type": "code",
   "execution_count": 6,
   "metadata": {},
   "outputs": [
    {
     "data": {
      "text/plain": [
       "[<matplotlib.lines.Line2D at 0x16596bec0>]"
      ]
     },
     "execution_count": 6,
     "metadata": {},
     "output_type": "execute_result"
    },
    {
     "data": {
      "image/png": "[encoded data removed]",
      "text/plain": [
       "<Figure size 640x480 with 1 Axes>"
      ]
     },
     "metadata": {},
     "output_type": "display_data"
    }
   ],
   "source": [
    "\n",
    "# 0.10488771444827552\n",
    "\n",
    "A_D = 9.890e-02  \n",
    "B_D = 9.999e-04  \n",
    "E_D = 1.671e+01\n",
    "nu_D_mod = lambda T: 1e13 * (A_D + B_D * np.exp(E_D/(const_dict['R'] * (T+273.15))))\n",
    "\n",
    "\n",
    "\n",
    "import matplotlib.pyplot as plt \n",
    "Tspace = np.linspace(5, 50, 100)\n",
    "plt.plot(Tspace, nu_D_mod(Tspace))\n",
    "\n",
    "\n",
    "    \n"
   ]
  },
  {
   "cell_type": "code",
   "execution_count": 7,
   "metadata": {},
   "outputs": [
    {
     "name": "stdout",
     "output_type": "stream",
     "text": [
      "0.5119692641986203\n"
     ]
    }
   ],
   "source": [
    "loss = optimizer.objective_function((0.0, 0.0, 5.0))\n",
    "print(loss)"
   ]
  },
  {
   "cell_type": "code",
   "execution_count": null,
   "metadata": {},
   "outputs": [],
   "source": []
  }
 ],
 "metadata": {
  "kernelspec": {
   "display_name": "LLM",
   "language": "python",
   "name": "python3"
  },
  "language_info": {
   "codemirror_mode": {
    "name": "ipython",
    "version": 3
   },
   "file_extension": ".py",
   "mimetype": "text/x-python",
   "name": "python",
   "nbconvert_exporter": "python",
   "pygments_lexer": "ipython3",
   "version": "3.12.7"
  }
 },
 "nbformat": 4,
 "nbformat_minor": 2
}
