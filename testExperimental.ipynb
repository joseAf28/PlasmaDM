{
 "cells": [
  {
   "cell_type": "code",
   "execution_count": 1,
   "metadata": {},
   "outputs": [],
   "source": [
    "\n",
    "import numpy as np\n",
    "import scipy as sp\n",
    "import h5py\n",
    "\n",
    "\n",
    "import SimulatorData as sim_data\n"
   ]
  },
  {
   "cell_type": "code",
   "execution_count": 2,
   "metadata": {},
   "outputs": [],
   "source": [
    "schema = {\n",
    "    \"Pressure(torr)\": \"pressure\",\n",
    "    \"Current(mA)\": \"current\",\n",
    "    \"Twall\": \"Tw\",\n",
    "    \"TnwExp\": \"Tnw\", \n",
    "    \"OmeanExp\": \"O\",\n",
    "    \"COmeanExp\": \"CO\",\n",
    "    \"recProbExp\": \"gamma_exp\"\n",
    "}\n",
    "\n",
    "\n",
    "folder_path = \"Experimental_data_TD\"\n",
    "output_file = \"Experimental_data_TD.hdf5\"\n"
   ]
  },
  {
   "cell_type": "code",
   "execution_count": 3,
   "metadata": {},
   "outputs": [
    {
     "name": "stdout",
     "output_type": "stream",
     "text": [
      "Summary Buffer:\n",
      "File Data : [b'Experimental_data_TD/TDset_oxygen_Tw-20.xlsx'\n",
      " b'Experimental_data_TD/TDset_oxygen_Tw25.xlsx'\n",
      " b'Experimental_data_TD/TDset_oxygen_Tw5.xlsx'\n",
      " b'Experimental_data_TD/TDset_oxygen_Tw50.xlsx']\n",
      "col CO: shape(66,)\n",
      "col File_Data: shape(4,)\n",
      "col O: shape(66,)\n",
      "col Tnw: shape(66,)\n",
      "col Tw: shape(66,)\n",
      "col current: shape(66,)\n",
      "col gamma_exp: shape(66,)\n",
      "col pressure: shape(66,)\n"
     ]
    }
   ],
   "source": [
    "\n",
    "\n",
    "data_loader = sim_data.DataLoader(schema, folder_path=folder_path, output_file=output_file)\n",
    "\n",
    "data_loader.load_data(force_update=True)"
   ]
  }
 ],
 "metadata": {
  "kernelspec": {
   "display_name": "LLM",
   "language": "python",
   "name": "python3"
  },
  "language_info": {
   "codemirror_mode": {
    "name": "ipython",
    "version": 3
   },
   "file_extension": ".py",
   "mimetype": "text/x-python",
   "name": "python",
   "nbconvert_exporter": "python",
   "pygments_lexer": "ipython3",
   "version": "3.12.7"
  }
 },
 "nbformat": 4,
 "nbformat_minor": 2
}
