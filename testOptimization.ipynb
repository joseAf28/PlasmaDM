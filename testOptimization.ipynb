{
 "cells": [
  {
   "cell_type": "code",
   "execution_count": 1,
   "metadata": {},
   "outputs": [],
   "source": [
    "\n",
    "import numpy as np\n",
    "import scipy as sp\n",
    "import h5py\n",
    "import os\n",
    "\n",
    "import SimData as sim_data\n",
    "import Simulator as sim_system\n",
    "import Optimization as opt"
   ]
  },
  {
   "cell_type": "code",
   "execution_count": 2,
   "metadata": {},
   "outputs": [],
   "source": [
    "\n",
    "\n",
    "##! keys values are the columns of interest of exp data,\n",
    "##! but the values are the ones used by the simulator \n",
    "##* the experimental data is read as it is presented, modfications are added later in the Simaulator object\n",
    "##* gas species must be consistent with the chemical equations from the json file\n",
    "\n",
    "\n",
    "schema = {\n",
    "    \"Pressure\":     \"pressure\",\n",
    "    \"CurrentName\":  \"current\",\n",
    "    \"WallTemp\":     \"Tw\",\n",
    "    \"T near wall\":  \"Tnw\", \n",
    "    \"Tgas\":         \"Tgas\",\n",
    "    \"O mean\":       \"O\",\n",
    "    \"N\":            \"N\",\n",
    "    \"CO mean\":      \"CO\",\n",
    "    \"gamma.1\":      \"gamma_exp\"\n",
    "}\n",
    "\n",
    "\n",
    "###* Input files and function\n",
    "\n",
    "reactions_file = \"reactionsSimpleV2.json\"\n",
    "\n",
    "const_dict = {\n",
    "        \"F0\": 1.5e15,           # cm^-2\n",
    "        \"S0\": 3e13,             # cm^-2\n",
    "        \n",
    "        \"R\": 0.00831442,        # kJ/mol*K\n",
    "        \"kBoltz\": 1.380649e-23, # J/K\n",
    "}\n",
    "\n",
    "initial_state_dict = {'O_F': 0.1, 'O2_F':0.1 ,'O_S': 0.1, 'Vdb_S':0.1, \n",
    "                      'Odb_S': 0.1, 'CO_F': 0.1, 'CO2_F':0.1, 'CO_S': 0.1, \n",
    "                      'COdb_S': 0.1}\n",
    "\n",
    "###* Functions for the data transformation\n",
    "def compute_flux(const_dict, exp_dict, specie, molar_mass):\n",
    "    den = exp_dict.get(specie, 0.0)\n",
    "    v_th = np.sqrt((8.0 * const_dict['R'] * 1000 * exp_dict['Tnw'])/(molar_mass * np.pi))\n",
    "    flux = 0.25 * v_th * den * 100\n",
    "    return flux\n",
    "\n",
    "\n",
    "def compute_remaining_flux(const_dict, exp_dict, molar_mass): \n",
    "    den = exp_dict['N'] - exp_dict['O'] - exp_dict['CO']\n",
    "    v_th = np.sqrt((8.0 * const_dict['R'] * 1000 * exp_dict['Tnw'])/(molar_mass * np.pi))\n",
    "    flux = 0.25 * v_th * den * 100\n",
    "    return flux\n",
    "\n",
    "####? EavgMB data extracted from the Booth et al. 2019 paper\n",
    "p_data_exp = [0.2, 0.3, 0.4, 0.5, 0.6, 0.75, 1.5]\n",
    "EavgMB_data = [1.04, 0.91, 0.87, 0.83, 0.77, 0.5, 0.001]\n",
    "interpolator = sp.interpolate.interp1d(p_data_exp, EavgMB_data, kind='linear', fill_value=0.001, bounds_error=False)\n",
    "\n",
    "\n",
    "transformations_exp = {\n",
    "    'Tw':       lambda const_dict, exp_dict: exp_dict['Tw'] + 273.15,\n",
    "    'fluxO2' :  lambda const_dict, exp_dict: compute_remaining_flux(const_dict, exp_dict, 0.032),\n",
    "    'fluxO' :   lambda const_dict, exp_dict: compute_flux(const_dict, exp_dict, 'O', 0.016),\n",
    "    'fluxCO':   lambda const_dict, exp_dict: compute_flux(const_dict, exp_dict, 'CO', 0.028),\n",
    "    'fluxCO2':  lambda const_dict, exp_dict: compute_flux(const_dict, exp_dict, 'CO2', 0.048),\n",
    "    'EavgMB':   lambda const_dict, exp_dict: interpolator(exp_dict['pressure']).item(),\n",
    "    'Ion':      lambda const_dict, exp_dict: 1e14 * exp_dict[\"current\"]\n",
    "}\n",
    "\n",
    "input_folder_path = \"Experimental_data_Paper\"\n",
    "\n",
    "output_folder_path = \"Buffer_Data\"\n",
    "exp_data_file = input_folder_path + \".hdf5\""
   ]
  },
  {
   "cell_type": "code",
   "execution_count": 3,
   "metadata": {},
   "outputs": [
    {
     "name": "stderr",
     "output_type": "stream",
     "text": [
      "WARNING:root:Column 'CO mean' not found in file 'Experimental_data_Paper/gammas_TD2019.xlsx'.\n"
     ]
    }
   ],
   "source": [
    "\n",
    "data_loader = sim_data.DataLoader(schema, folder_path=input_folder_path, output_file=exp_data_file, output_folder=output_folder_path)\n",
    "data_loader.load_data(force_update=True)\n"
   ]
  },
  {
   "cell_type": "code",
   "execution_count": 4,
   "metadata": {},
   "outputs": [
    {
     "name": "stdout",
     "output_type": "stream",
     "text": [
      "  d[CO2_F]/dt = -CO2_F*r_29 + r_28*(-CO2_F - CO_F - O2_F - O_F + 1.0)\n",
      "  d[CO_F]/dt = -CO_F*O_F*r_34 - 0.02*CO_F*O_S*r_39 - 0.02*CO_F*Odb_S*r_60 - 0.02*CO_F*Vdb_S*r_59 - CO_F*r_31 - CO_F*r_33 - 0.02*CO_F*r_35*(-CO_S - COdb_S - O_S - Odb_S - Vdb_S + 1.0) + r_30*(-CO2_F - CO_F - O2_F - O_F + 1.0)\n",
      "  d[CO_S]/dt = CO_F*r_35*(-CO_S - COdb_S - O_S - Odb_S - Vdb_S + 1.0) - CO_S*O_F*r_38 - CO_S*r_36 - CO_S*r_42 - CO_S*r_43 - CO_S*r_44 - CO_S*r_45 + r_32*(-CO_S - COdb_S - O_S - Odb_S - Vdb_S + 1.0)\n",
      "  d[COdb_S]/dt = CO_F*Vdb_S*r_59 - COdb_S*O_F*r_61 - COdb_S*r_53 - COdb_S*r_54 - COdb_S*r_55 - COdb_S*r_56 - COdb_S*r_58 + Vdb_S*r_48\n",
      "  d[O2_F]/dt = -O2_F*O_F*r_15 - O2_F*r_10 - O2_F*r_12 - O2_F*r_14 + r_9*(-CO2_F - CO_F - O2_F - O_F + 1.0)\n",
      "  d[O_F]/dt = -CO_F*O_F*r_34 - 0.02*CO_S*O_F*r_38 - 0.02*COdb_S*O_F*r_61 - O2_F*O_F*r_15 - 2*O_F**2*r_8 - 0.02*O_F*O_S*r_7 - 0.02*O_F*Odb_S*r_27 - 0.02*O_F*Vdb_S*r_26 - O_F*r_11 - O_F*r_2 - O_F*r_4 - 0.02*O_F*r_5*(-CO_S - COdb_S - O_S - Odb_S - Vdb_S + 1.0) + r_1*(-CO2_F - CO_F - O2_F - O_F + 1.0)\n",
      "  d[O_S]/dt = -CO_F*O_S*r_39 - O_F*O_S*r_7 + O_F*r_5*(-CO_S - COdb_S - O_S - Odb_S - Vdb_S + 1.0) - O_S*r_16 - O_S*r_17 - O_S*r_37 - O_S*r_40 - O_S*r_41 - O_S*r_6 + r_3*(-CO_S - COdb_S - O_S - Odb_S - Vdb_S + 1.0)\n",
      "  d[Odb_S]/dt = -CO_F*Odb_S*r_60 - O_F*Odb_S*r_27 + O_F*Vdb_S*r_26 - Odb_S*r_23 - Odb_S*r_24 - Odb_S*r_25 - Odb_S*r_51 - Odb_S*r_52 - Odb_S*r_57 + Vdb_S*r_20\n",
      "  d[Vdb_S]/dt = CO_F*Odb_S*r_60 - CO_F*Vdb_S*r_59 + CO_S*r_42 + CO_S*r_43 + CO_S*r_44 + CO_S*r_45 + COdb_S*O_F*r_61 + COdb_S*r_58 + O_F*Odb_S*r_27 - O_F*Vdb_S*r_26 + O_S*r_16 + O_S*r_17 + O_S*r_40 + O_S*r_41 + Odb_S*r_25 + Odb_S*r_57 - Vdb_S*r_20 - Vdb_S*r_21 - Vdb_S*r_22 - Vdb_S*r_48 - Vdb_S*r_49 - Vdb_S*r_50 + r_18*(-CO_S - COdb_S - O_S - Odb_S - Vdb_S + 1.0) + r_19*(-CO_S - COdb_S - O_S - Odb_S - Vdb_S + 1.0) + r_46*(-CO_S - COdb_S - O_S - Odb_S - Vdb_S + 1.0) + r_47*(-CO_S - COdb_S - O_S - Odb_S - Vdb_S + 1.0)\n"
     ]
    }
   ],
   "source": [
    "\n",
    "exp_file = os.path.join(output_folder_path, exp_data_file)\n",
    "\n",
    "sim = sim_system.Simulator(reactions_file, const_dict, exp_file, initial_state_dict, transformations_exp=transformations_exp)\n",
    "\n",
    "# print()\n",
    "# print(sim.output_parser['rates_model'])\n",
    "# print(sim.output_parser['reactions_list'])\n"
   ]
  },
  {
   "cell_type": "code",
   "execution_count": 5,
   "metadata": {},
   "outputs": [],
   "source": [
    "\n",
    "\n",
    "def func_optimization(params):\n",
    "    \n",
    "    E, nu_D = params\n",
    "\n",
    "    dict_mod_vec = [\n",
    "    {\"id\": 1, \"rate\": \"adsorption\", \"model_dict\": {\"E\": E}},\n",
    "    {\"id\": 8, \"rate\": None, \"model_dict\": {\"nu_D\": nu_D}}\n",
    "    ]\n",
    "    \n",
    "    return dict_mod_vec\n",
    "\n",
    "loss_function = lambda exp, teo: np.mean((np.reciprocal(exp)*(exp-teo))**2)\n",
    "\n",
    "\n",
    "# optimzer = opt.Optimizer(sim, func_optimization, loss_function)"
   ]
  },
  {
   "cell_type": "code",
   "execution_count": 6,
   "metadata": {},
   "outputs": [
    {
     "name": "stdout",
     "output_type": "stream",
     "text": [
      "  d[CO2_F]/dt = -CO2_F*r_29 + r_28*(-CO2_F - CO_F - O2_F - O_F + 1.0)\n",
      "  d[CO_F]/dt = -CO_F*O_F*r_34 - 0.02*CO_F*O_S*r_39 - 0.02*CO_F*Odb_S*r_60 - 0.02*CO_F*Vdb_S*r_59 - CO_F*r_31 - CO_F*r_33 - 0.02*CO_F*r_35*(-CO_S - COdb_S - O_S - Odb_S - Vdb_S + 1.0) + r_30*(-CO2_F - CO_F - O2_F - O_F + 1.0)\n",
      "  d[CO_S]/dt = CO_F*r_35*(-CO_S - COdb_S - O_S - Odb_S - Vdb_S + 1.0) - CO_S*O_F*r_38 - CO_S*r_36 - CO_S*r_42 - CO_S*r_43 - CO_S*r_44 - CO_S*r_45 + r_32*(-CO_S - COdb_S - O_S - Odb_S - Vdb_S + 1.0)\n",
      "  d[COdb_S]/dt = CO_F*Vdb_S*r_59 - COdb_S*O_F*r_61 - COdb_S*r_53 - COdb_S*r_54 - COdb_S*r_55 - COdb_S*r_56 - COdb_S*r_58 + Vdb_S*r_48\n",
      "  d[O2_F]/dt = -O2_F*O_F*r_15 - O2_F*r_10 - O2_F*r_12 - O2_F*r_14 + r_9*(-CO2_F - CO_F - O2_F - O_F + 1.0)\n",
      "  d[O_F]/dt = -CO_F*O_F*r_34 - 0.02*CO_S*O_F*r_38 - 0.02*COdb_S*O_F*r_61 - O2_F*O_F*r_15 - 2*O_F**2*r_8 - 0.02*O_F*O_S*r_7 - 0.02*O_F*Odb_S*r_27 - 0.02*O_F*Vdb_S*r_26 - O_F*r_11 - O_F*r_2 - O_F*r_4 - 0.02*O_F*r_5*(-CO_S - COdb_S - O_S - Odb_S - Vdb_S + 1.0) + r_1*(-CO2_F - CO_F - O2_F - O_F + 1.0)\n",
      "  d[O_S]/dt = -CO_F*O_S*r_39 - O_F*O_S*r_7 + O_F*r_5*(-CO_S - COdb_S - O_S - Odb_S - Vdb_S + 1.0) - O_S*r_16 - O_S*r_17 - O_S*r_37 - O_S*r_40 - O_S*r_41 - O_S*r_6 + r_3*(-CO_S - COdb_S - O_S - Odb_S - Vdb_S + 1.0)\n",
      "  d[Odb_S]/dt = -CO_F*Odb_S*r_60 - O_F*Odb_S*r_27 + O_F*Vdb_S*r_26 - Odb_S*r_23 - Odb_S*r_24 - Odb_S*r_25 - Odb_S*r_51 - Odb_S*r_52 - Odb_S*r_57 + Vdb_S*r_20\n",
      "  d[Vdb_S]/dt = CO_F*Odb_S*r_60 - CO_F*Vdb_S*r_59 + CO_S*r_42 + CO_S*r_43 + CO_S*r_44 + CO_S*r_45 + COdb_S*O_F*r_61 + COdb_S*r_58 + O_F*Odb_S*r_27 - O_F*Vdb_S*r_26 + O_S*r_16 + O_S*r_17 + O_S*r_40 + O_S*r_41 + Odb_S*r_25 + Odb_S*r_57 - Vdb_S*r_20 - Vdb_S*r_21 - Vdb_S*r_22 - Vdb_S*r_48 - Vdb_S*r_49 - Vdb_S*r_50 + r_18*(-CO_S - COdb_S - O_S - Odb_S - Vdb_S + 1.0) + r_19*(-CO_S - COdb_S - O_S - Odb_S - Vdb_S + 1.0) + r_46*(-CO_S - COdb_S - O_S - Odb_S - Vdb_S + 1.0) + r_47*(-CO_S - COdb_S - O_S - Odb_S - Vdb_S + 1.0)\n"
     ]
    },
    {
     "ename": "AttributeError",
     "evalue": "'Optimizer' object has no attribute 'functional_calls'",
     "output_type": "error",
     "traceback": [
      "\u001b[0;31m---------------------------------------------------------------------------\u001b[0m",
      "\u001b[0;31mRemoteTraceback\u001b[0m                           Traceback (most recent call last)",
      "\u001b[0;31mRemoteTraceback\u001b[0m: \n\"\"\"\nTraceback (most recent call last):\n  File \"/opt/miniconda3/envs/LLM/lib/python3.12/site-packages/multiprocess/pool.py\", line 125, in worker\n    result = (True, func(*args, **kwds))\n                    ^^^^^^^^^^^^^^^^^^^\n  File \"/opt/miniconda3/envs/LLM/lib/python3.12/site-packages/multiprocess/pool.py\", line 48, in mapstar\n    return list(map(*args))\n           ^^^^^^^^^^^^^^^^\n  File \"/opt/miniconda3/envs/LLM/lib/python3.12/site-packages/pathos/helpers/mp_helper.py\", line 15, in <lambda>\n    func = lambda args: f(*args)\n                        ^^^^^^^^\n  File \"/opt/miniconda3/envs/LLM/lib/python3.12/site-packages/scipy/_lib/_util.py\", line 441, in __call__\n    return self.f(x, *self.args)\n           ^^^^^^^^^^^^^^^^^^^^^\n  File \"/Users/joseafonso/Desktop/PlasmaDM/Optimization.py\", line 140, in objective_function\n    current_call_number = self.functional_calls # For logging\n                          ^^^^^^^^^^^^^^^^^^^^^\nAttributeError: 'Optimizer' object has no attribute 'functional_calls'\n\"\"\"",
      "\nThe above exception was the direct cause of the following exception:\n",
      "\u001b[0;31mAttributeError\u001b[0m                            Traceback (most recent call last)",
      "\u001b[1;32m/Users/joseafonso/Desktop/PlasmaDM/testOptimization.ipynb Cell 6\u001b[0m line \u001b[0;36m2\n\u001b[1;32m      <a href='vscode-notebook-cell:/Users/joseafonso/Desktop/PlasmaDM/testOptimization.ipynb#W5sZmlsZQ%3D%3D?line=8'>9</a>\u001b[0m config \u001b[39m=\u001b[39m {\n\u001b[1;32m     <a href='vscode-notebook-cell:/Users/joseafonso/Desktop/PlasmaDM/testOptimization.ipynb#W5sZmlsZQ%3D%3D?line=9'>10</a>\u001b[0m     \u001b[39m\"\u001b[39m\u001b[39mbounds\u001b[39m\u001b[39m\"\u001b[39m: global_bounds,\n\u001b[1;32m     <a href='vscode-notebook-cell:/Users/joseafonso/Desktop/PlasmaDM/testOptimization.ipynb#W5sZmlsZQ%3D%3D?line=10'>11</a>\u001b[0m     \u001b[39m\"\u001b[39m\u001b[39mnb_calls\u001b[39m\u001b[39m\"\u001b[39m: \u001b[39m3\u001b[39m, \u001b[39m# 5\u001b[39;00m\n\u001b[0;32m   (...)\u001b[0m\n\u001b[1;32m     <a href='vscode-notebook-cell:/Users/joseafonso/Desktop/PlasmaDM/testOptimization.ipynb#W5sZmlsZQ%3D%3D?line=14'>15</a>\u001b[0m     \u001b[39m\"\u001b[39m\u001b[39mepsilon_local\u001b[39m\u001b[39m\"\u001b[39m: \u001b[39m1e-2\u001b[39m\n\u001b[1;32m     <a href='vscode-notebook-cell:/Users/joseafonso/Desktop/PlasmaDM/testOptimization.ipynb#W5sZmlsZQ%3D%3D?line=15'>16</a>\u001b[0m }\n\u001b[1;32m     <a href='vscode-notebook-cell:/Users/joseafonso/Desktop/PlasmaDM/testOptimization.ipynb#W5sZmlsZQ%3D%3D?line=18'>19</a>\u001b[0m \u001b[39m# loss = optimizer.objective_function(np.array([0.0, 1e13]))\u001b[39;00m\n\u001b[1;32m     <a href='vscode-notebook-cell:/Users/joseafonso/Desktop/PlasmaDM/testOptimization.ipynb#W5sZmlsZQ%3D%3D?line=19'>20</a>\u001b[0m \n\u001b[1;32m     <a href='vscode-notebook-cell:/Users/joseafonso/Desktop/PlasmaDM/testOptimization.ipynb#W5sZmlsZQ%3D%3D?line=20'>21</a>\u001b[0m \u001b[39m# print(loss)\u001b[39;00m\n\u001b[0;32m---> <a href='vscode-notebook-cell:/Users/joseafonso/Desktop/PlasmaDM/testOptimization.ipynb#W5sZmlsZQ%3D%3D?line=22'>23</a>\u001b[0m best_local, best_local_loss \u001b[39m=\u001b[39m optimizer\u001b[39m.\u001b[39;49mhybrid_optimization_search(config)\n",
      "File \u001b[0;32m~/Desktop/PlasmaDM/Optimization.py:256\u001b[0m, in \u001b[0;36mOptimizer.hybrid_optimization_search\u001b[0;34m(self, config, num_workers)\u001b[0m\n\u001b[1;32m    254\u001b[0m \u001b[39mif\u001b[39;00m \u001b[39mself\u001b[39m\u001b[39m.\u001b[39muse_logging:\n\u001b[1;32m    255\u001b[0m     logging\u001b[39m.\u001b[39minfo(\u001b[39mf\u001b[39m\u001b[39m\"\u001b[39m\u001b[39mDE Iteration \u001b[39m\u001b[39m{\u001b[39;00mi\u001b[39m+\u001b[39m\u001b[39m1\u001b[39m\u001b[39m}\u001b[39;00m\u001b[39m/\u001b[39m\u001b[39m{\u001b[39;00mde_num_iterations\u001b[39m}\u001b[39;00m\u001b[39m...\u001b[39m\u001b[39m\"\u001b[39m)\n\u001b[0;32m--> 256\u001b[0m de_result \u001b[39m=\u001b[39m sp\u001b[39m.\u001b[39;49moptimize\u001b[39m.\u001b[39;49mdifferential_evolution(\n\u001b[1;32m    257\u001b[0m     func\u001b[39m=\u001b[39;49m\u001b[39mself\u001b[39;49m\u001b[39m.\u001b[39;49mobjective_function,\n\u001b[1;32m    258\u001b[0m     bounds\u001b[39m=\u001b[39;49mbounds,\n\u001b[1;32m    259\u001b[0m     strategy\u001b[39m=\u001b[39;49m\u001b[39m'\u001b[39;49m\u001b[39mbest1bin\u001b[39;49m\u001b[39m'\u001b[39;49m,\n\u001b[1;32m    260\u001b[0m     maxiter\u001b[39m=\u001b[39;49mde_max_generations,\n\u001b[1;32m    261\u001b[0m     popsize\u001b[39m=\u001b[39;49mde_pop_size,\n\u001b[1;32m    262\u001b[0m     tol\u001b[39m=\u001b[39;49m\u001b[39m0.01\u001b[39;49m,\n\u001b[1;32m    263\u001b[0m     mutation\u001b[39m=\u001b[39;49m(\u001b[39m0.5\u001b[39;49m, \u001b[39m1\u001b[39;49m),\n\u001b[1;32m    264\u001b[0m     recombination\u001b[39m=\u001b[39;49m\u001b[39m0.7\u001b[39;49m,\n\u001b[1;32m    265\u001b[0m     polish\u001b[39m=\u001b[39;49mde_polish,\n\u001b[1;32m    266\u001b[0m     disp\u001b[39m=\u001b[39;49m\u001b[39mFalse\u001b[39;49;00m,         \u001b[39m# Quieter output, rely on logging\u001b[39;49;00m\n\u001b[1;32m    267\u001b[0m     workers\u001b[39m=\u001b[39;49mpool\u001b[39m.\u001b[39;49mmap,   \u001b[39m# Parallel evaluation of population\u001b[39;49;00m\n\u001b[1;32m    268\u001b[0m     updating\u001b[39m=\u001b[39;49m\u001b[39m\"\u001b[39;49m\u001b[39mdeferred\u001b[39;49m\u001b[39m\"\u001b[39;49m \u001b[39m# Good for parallel\u001b[39;49;00m\n\u001b[1;32m    269\u001b[0m )\n\u001b[1;32m    270\u001b[0m \u001b[39mif\u001b[39;00m de_result\u001b[39m.\u001b[39msuccess:\n\u001b[1;32m    271\u001b[0m     global_search_candidates_params\u001b[39m.\u001b[39mappend(de_result\u001b[39m.\u001b[39mx)\n",
      "File \u001b[0;32m/opt/miniconda3/envs/LLM/lib/python3.12/site-packages/scipy/optimize/_differentialevolution.py:502\u001b[0m, in \u001b[0;36mdifferential_evolution\u001b[0;34m(func, bounds, args, strategy, maxiter, popsize, tol, mutation, recombination, seed, callback, disp, polish, init, atol, updating, workers, constraints, x0, integrality, vectorized)\u001b[0m\n\u001b[1;32m    485\u001b[0m \u001b[39m# using a context manager means that any created Pool objects are\u001b[39;00m\n\u001b[1;32m    486\u001b[0m \u001b[39m# cleared up.\u001b[39;00m\n\u001b[1;32m    487\u001b[0m \u001b[39mwith\u001b[39;00m DifferentialEvolutionSolver(func, bounds, args\u001b[39m=\u001b[39margs,\n\u001b[1;32m    488\u001b[0m                                  strategy\u001b[39m=\u001b[39mstrategy,\n\u001b[1;32m    489\u001b[0m                                  maxiter\u001b[39m=\u001b[39mmaxiter,\n\u001b[0;32m   (...)\u001b[0m\n\u001b[1;32m    500\u001b[0m                                  integrality\u001b[39m=\u001b[39mintegrality,\n\u001b[1;32m    501\u001b[0m                                  vectorized\u001b[39m=\u001b[39mvectorized) \u001b[39mas\u001b[39;00m solver:\n\u001b[0;32m--> 502\u001b[0m     ret \u001b[39m=\u001b[39m solver\u001b[39m.\u001b[39;49msolve()\n\u001b[1;32m    504\u001b[0m \u001b[39mreturn\u001b[39;00m ret\n",
      "File \u001b[0;32m/opt/miniconda3/envs/LLM/lib/python3.12/site-packages/scipy/optimize/_differentialevolution.py:1155\u001b[0m, in \u001b[0;36mDifferentialEvolutionSolver.solve\u001b[0;34m(self)\u001b[0m\n\u001b[1;32m   1150\u001b[0m     \u001b[39mself\u001b[39m\u001b[39m.\u001b[39mfeasible, \u001b[39mself\u001b[39m\u001b[39m.\u001b[39mconstraint_violation \u001b[39m=\u001b[39m (\n\u001b[1;32m   1151\u001b[0m         \u001b[39mself\u001b[39m\u001b[39m.\u001b[39m_calculate_population_feasibilities(\u001b[39mself\u001b[39m\u001b[39m.\u001b[39mpopulation))\n\u001b[1;32m   1153\u001b[0m     \u001b[39m# only work out population energies for feasible solutions\u001b[39;00m\n\u001b[1;32m   1154\u001b[0m     \u001b[39mself\u001b[39m\u001b[39m.\u001b[39mpopulation_energies[\u001b[39mself\u001b[39m\u001b[39m.\u001b[39mfeasible] \u001b[39m=\u001b[39m (\n\u001b[0;32m-> 1155\u001b[0m         \u001b[39mself\u001b[39;49m\u001b[39m.\u001b[39;49m_calculate_population_energies(\n\u001b[1;32m   1156\u001b[0m             \u001b[39mself\u001b[39;49m\u001b[39m.\u001b[39;49mpopulation[\u001b[39mself\u001b[39;49m\u001b[39m.\u001b[39;49mfeasible]))\n\u001b[1;32m   1158\u001b[0m     \u001b[39mself\u001b[39m\u001b[39m.\u001b[39m_promote_lowest_energy()\n\u001b[1;32m   1160\u001b[0m \u001b[39m# do the optimization.\u001b[39;00m\n",
      "File \u001b[0;32m/opt/miniconda3/envs/LLM/lib/python3.12/site-packages/scipy/optimize/_differentialevolution.py:1316\u001b[0m, in \u001b[0;36mDifferentialEvolutionSolver._calculate_population_energies\u001b[0;34m(self, population)\u001b[0m\n\u001b[1;32m   1313\u001b[0m parameters_pop \u001b[39m=\u001b[39m \u001b[39mself\u001b[39m\u001b[39m.\u001b[39m_scale_parameters(population)\n\u001b[1;32m   1314\u001b[0m \u001b[39mtry\u001b[39;00m:\n\u001b[1;32m   1315\u001b[0m     calc_energies \u001b[39m=\u001b[39m \u001b[39mlist\u001b[39m(\n\u001b[0;32m-> 1316\u001b[0m         \u001b[39mself\u001b[39;49m\u001b[39m.\u001b[39;49m_mapwrapper(\u001b[39mself\u001b[39;49m\u001b[39m.\u001b[39;49mfunc, parameters_pop[\u001b[39m0\u001b[39;49m:S])\n\u001b[1;32m   1317\u001b[0m     )\n\u001b[1;32m   1318\u001b[0m     calc_energies \u001b[39m=\u001b[39m np\u001b[39m.\u001b[39msqueeze(calc_energies)\n\u001b[1;32m   1319\u001b[0m \u001b[39mexcept\u001b[39;00m (\u001b[39mTypeError\u001b[39;00m, \u001b[39mValueError\u001b[39;00m) \u001b[39mas\u001b[39;00m e:\n\u001b[1;32m   1320\u001b[0m     \u001b[39m# wrong number of arguments for _mapwrapper\u001b[39;00m\n\u001b[1;32m   1321\u001b[0m     \u001b[39m# or wrong length returned from the mapper\u001b[39;00m\n",
      "File \u001b[0;32m/opt/miniconda3/envs/LLM/lib/python3.12/site-packages/scipy/_lib/_util.py:511\u001b[0m, in \u001b[0;36mMapWrapper.__call__\u001b[0;34m(self, func, iterable)\u001b[0m\n\u001b[1;32m    508\u001b[0m \u001b[39mdef\u001b[39;00m \u001b[39m__call__\u001b[39m(\u001b[39mself\u001b[39m, func, iterable):\n\u001b[1;32m    509\u001b[0m     \u001b[39m# only accept one iterable because that's all Pool.map accepts\u001b[39;00m\n\u001b[1;32m    510\u001b[0m     \u001b[39mtry\u001b[39;00m:\n\u001b[0;32m--> 511\u001b[0m         \u001b[39mreturn\u001b[39;00m \u001b[39mself\u001b[39;49m\u001b[39m.\u001b[39;49m_mapfunc(func, iterable)\n\u001b[1;32m    512\u001b[0m     \u001b[39mexcept\u001b[39;00m \u001b[39mTypeError\u001b[39;00m \u001b[39mas\u001b[39;00m e:\n\u001b[1;32m    513\u001b[0m         \u001b[39m# wrong number of arguments\u001b[39;00m\n\u001b[1;32m    514\u001b[0m         \u001b[39mraise\u001b[39;00m \u001b[39mTypeError\u001b[39;00m(\u001b[39m\"\u001b[39m\u001b[39mThe map-like callable must be of the\u001b[39m\u001b[39m\"\u001b[39m\n\u001b[1;32m    515\u001b[0m                         \u001b[39m\"\u001b[39m\u001b[39m form f(func, iterable)\u001b[39m\u001b[39m\"\u001b[39m) \u001b[39mfrom\u001b[39;00m \u001b[39me\u001b[39;00m\n",
      "File \u001b[0;32m/opt/miniconda3/envs/LLM/lib/python3.12/site-packages/pathos/multiprocessing.py:154\u001b[0m, in \u001b[0;36mProcessPool.map\u001b[0;34m(self, f, *args, **kwds)\u001b[0m\n\u001b[1;32m    152\u001b[0m \u001b[39mif\u001b[39;00m \u001b[39mnot\u001b[39;00m OLD312a7:\n\u001b[1;32m    153\u001b[0m     warnings\u001b[39m.\u001b[39mfilterwarnings(\u001b[39m'\u001b[39m\u001b[39mignore\u001b[39m\u001b[39m'\u001b[39m, category\u001b[39m=\u001b[39m\u001b[39mDeprecationWarning\u001b[39;00m)\n\u001b[0;32m--> 154\u001b[0m \u001b[39mreturn\u001b[39;00m _pool\u001b[39m.\u001b[39;49mmap(star(f), \u001b[39mzip\u001b[39;49m(\u001b[39m*\u001b[39;49margs), \u001b[39m*\u001b[39;49m\u001b[39m*\u001b[39;49mkwds)\n",
      "File \u001b[0;32m/opt/miniconda3/envs/LLM/lib/python3.12/site-packages/multiprocess/pool.py:367\u001b[0m, in \u001b[0;36mPool.map\u001b[0;34m(self, func, iterable, chunksize)\u001b[0m\n\u001b[1;32m    362\u001b[0m \u001b[39mdef\u001b[39;00m \u001b[39mmap\u001b[39m(\u001b[39mself\u001b[39m, func, iterable, chunksize\u001b[39m=\u001b[39m\u001b[39mNone\u001b[39;00m):\n\u001b[1;32m    363\u001b[0m \u001b[39m    \u001b[39m\u001b[39m'''\u001b[39;00m\n\u001b[1;32m    364\u001b[0m \u001b[39m    Apply `func` to each element in `iterable`, collecting the results\u001b[39;00m\n\u001b[1;32m    365\u001b[0m \u001b[39m    in a list that is returned.\u001b[39;00m\n\u001b[1;32m    366\u001b[0m \u001b[39m    '''\u001b[39;00m\n\u001b[0;32m--> 367\u001b[0m     \u001b[39mreturn\u001b[39;00m \u001b[39mself\u001b[39;49m\u001b[39m.\u001b[39;49m_map_async(func, iterable, mapstar, chunksize)\u001b[39m.\u001b[39;49mget()\n",
      "File \u001b[0;32m/opt/miniconda3/envs/LLM/lib/python3.12/site-packages/multiprocess/pool.py:774\u001b[0m, in \u001b[0;36mApplyResult.get\u001b[0;34m(self, timeout)\u001b[0m\n\u001b[1;32m    772\u001b[0m     \u001b[39mreturn\u001b[39;00m \u001b[39mself\u001b[39m\u001b[39m.\u001b[39m_value\n\u001b[1;32m    773\u001b[0m \u001b[39melse\u001b[39;00m:\n\u001b[0;32m--> 774\u001b[0m     \u001b[39mraise\u001b[39;00m \u001b[39mself\u001b[39m\u001b[39m.\u001b[39m_value\n",
      "\u001b[0;31mAttributeError\u001b[0m: 'Optimizer' object has no attribute 'functional_calls'"
     ]
    }
   ],
   "source": [
    "\n",
    "if __name__ == '__main__':\n",
    "    exp_file = os.path.join(output_folder_path, exp_data_file)\n",
    "\n",
    "    sim = sim_system.Simulator(reactions_file, const_dict, exp_file, initial_state_dict, transformations_exp=transformations_exp)\n",
    "    optimizer = opt.Optimizer(sim, func_optimization, loss_function)\n",
    "\n",
    "    global_bounds = [(1.0, 3.0), (5e12, 10e13)]\n",
    "\n",
    "    config = {\n",
    "        \"bounds\": global_bounds,\n",
    "        \"nb_calls\": 3, # 5\n",
    "        \"de_maxiter\": 10,\n",
    "        \"top_k\": 1,\n",
    "        \"local_attempts\": 2,\n",
    "        \"epsilon_local\": 1e-2\n",
    "    }\n",
    "\n",
    "\n",
    "    # loss = optimizer.objective_function(np.array([0.0, 1e13]))\n",
    "    \n",
    "    # print(loss)\n",
    "    \n",
    "    best_local, best_local_loss = optimizer.hybrid_optimization_search(config)\n"
   ]
  },
  {
   "cell_type": "code",
   "execution_count": null,
   "metadata": {},
   "outputs": [],
   "source": [
    "\n",
    "\n",
    "##### add the Error Propagation Class: error in model parameters and experimental data as well\n",
    "### add the CO reactions"
   ]
  }
 ],
 "metadata": {
  "kernelspec": {
   "display_name": "LLM",
   "language": "python",
   "name": "python3"
  },
  "language_info": {
   "codemirror_mode": {
    "name": "ipython",
    "version": 3
   },
   "file_extension": ".py",
   "mimetype": "text/x-python",
   "name": "python",
   "nbconvert_exporter": "python",
   "pygments_lexer": "ipython3",
   "version": "3.12.7"
  }
 },
 "nbformat": 4,
 "nbformat_minor": 2
}
