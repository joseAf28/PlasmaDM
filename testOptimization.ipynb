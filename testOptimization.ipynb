{
 "cells": [
  {
   "cell_type": "code",
   "execution_count": 1,
   "metadata": {},
   "outputs": [],
   "source": [
    "\n",
    "import numpy as np\n",
    "import scipy as sp\n",
    "import h5py\n",
    "import os\n",
    "\n",
    "import SimulatorData as sim_data\n",
    "import Simulator as sim_system\n",
    "import Optimization as opt"
   ]
  },
  {
   "cell_type": "code",
   "execution_count": 2,
   "metadata": {},
   "outputs": [],
   "source": [
    "\n",
    "##! keys values are the columns of interest of exp data,\n",
    "##! but the values are the ones used by the simulator \n",
    "##* the experimental data is read as it is presented, modfications are added later in the Simaulator object\n",
    "##* gas species must be consistent with the chemical equations from the json file\n",
    "\n",
    "\n",
    "schema = {\n",
    "    \"Pressure\":     \"pressure\",\n",
    "    \"CurrentName\":  \"current\",\n",
    "    \"WallTemp\":     \"Tw\",\n",
    "    \"T near wall\":  \"Tnw\", \n",
    "    \"O mean\":       \"O\",\n",
    "    \"N\":            \"N\",\n",
    "    \"CO mean\":      \"CO\",\n",
    "    \"gamma.1\":      \"gamma_exp\"\n",
    "}\n",
    "\n",
    "\n",
    "###* Input files and function\n",
    "\n",
    "reactions_file = \"reactionsSimple.json\"\n",
    "\n",
    "const_dict = {\n",
    "        \"F0\": 1.5e15,           # cm^-2\n",
    "        \"S0\": 3e13,             # cm^-2\n",
    "        \n",
    "        \"R\": 0.00831442,        # kJ/mol*K\n",
    "        \"kBoltz\": 1.380649e-23, # J/K\n",
    "}\n",
    "\n",
    "initial_state_dict = {'O_F': 0.1, 'O2_F':0.1 ,'O_S': 0.6, 'Vdb_S':0.1, 'Odb_S': 0.1}\n",
    "\n",
    "###* Functions for the data transformation\n",
    "def compute_flux(const_dict, exp_dict, specie, molar_mass):\n",
    "    den = exp_dict.get(specie, 0.0)\n",
    "    v_th = np.sqrt((8.0 * const_dict['R'] * 1000 * exp_dict['Tnw'])/(molar_mass * np.pi))\n",
    "    flux = 0.25 * v_th * den * 100\n",
    "    return flux\n",
    "\n",
    "\n",
    "def compute_remaining_flux(const_dict, exp_dict, molar_mass): \n",
    "    den = exp_dict['N'] - exp_dict['O'] - exp_dict['CO']\n",
    "    v_th = np.sqrt((8.0 * const_dict['R'] * 1000 * exp_dict['Tnw'])/(molar_mass * np.pi))\n",
    "    flux = 0.25 * v_th * den * 100\n",
    "    return flux\n",
    "\n",
    "####? EavgMB data extracted from the Booth et al. 2019 paper\n",
    "p_data_exp = [0.2, 0.3, 0.4, 0.5, 0.6, 0.75, 1.5]\n",
    "EavgMB_data = [1.04, 0.91, 0.87, 0.83, 0.77, 0.5, 0.001]\n",
    "interpolator = sp.interpolate.interp1d(p_data_exp, EavgMB_data, kind='linear', fill_value=0.001, bounds_error=False)\n",
    "\n",
    "\n",
    "transformations_exp = {\n",
    "    'Tw':       lambda const_dict, exp_dict: exp_dict['Tw'] + 273.15,\n",
    "    'fluxO2' :  lambda const_dict, exp_dict: compute_remaining_flux(const_dict, exp_dict, 0.032),\n",
    "    'fluxO' :   lambda const_dict, exp_dict: compute_flux(const_dict, exp_dict, 'O', 0.016),\n",
    "    'fluxCO':   lambda const_dict, exp_dict: compute_flux(const_dict, exp_dict, 'CO', 0.028),\n",
    "    'fluxCO2':  lambda const_dict, exp_dict: compute_flux(const_dict, exp_dict, 'CO2', 0.048),\n",
    "    'EavgMB':   lambda const_dict, exp_dict: interpolator(exp_dict['pressure']).item(),\n",
    "    'Ion':      lambda const_dict, exp_dict: 1e14 * exp_dict[\"current\"]\n",
    "}\n",
    "\n",
    "input_folder_path = \"Experimental_data_Paper\"\n",
    "\n",
    "output_folder_path = \"Buffer_Data\"\n",
    "exp_data_file = input_folder_path + \".hdf5\""
   ]
  },
  {
   "cell_type": "code",
   "execution_count": 3,
   "metadata": {},
   "outputs": [
    {
     "name": "stdout",
     "output_type": "stream",
     "text": [
      "Summary Buffer:\n",
      "File Data : [b'Experimental_data_Paper/gammas_TD2019.xlsx']\n",
      "col CO: shape(66,)\n",
      "col File_Data: shape(1,)\n",
      "col N: shape(66,)\n",
      "col O: shape(66,)\n",
      "col Tnw: shape(66,)\n",
      "col Tw: shape(66,)\n",
      "col current: shape(66,)\n",
      "col gamma_exp: shape(66,)\n",
      "col pressure: shape(66,)\n"
     ]
    }
   ],
   "source": [
    "\n",
    "data_loader = sim_data.DataLoader(schema, folder_path=input_folder_path, output_file=exp_data_file, output_folder=output_folder_path)\n",
    "data_loader.load_data(force_update=True)\n"
   ]
  },
  {
   "cell_type": "code",
   "execution_count": 4,
   "metadata": {},
   "outputs": [
    {
     "name": "stdout",
     "output_type": "stream",
     "text": [
      "dO_S/dt = -1.0*O_F*O_S*r_7 + 1.0*O_F*r_5*(-O_S - Odb_S - Vdb_S + 1.0) - 1.0*O_S*r_16 - 1.0*O_S*r_17 - 1.0*O_S*r_6 + 1.0*r_3*(-O_S - Odb_S - Vdb_S + 1.0)\n",
      "dOdb_S/dt = -1.0*O_F*Odb_S*r_27 + 1.0*O_F*Vdb_S*r_26 - 1.0*Odb_S*r_23 - 1.0*Odb_S*r_24 - 1.0*Odb_S*r_25 + 1.0*Vdb_S*r_20\n",
      "dVdb_S/dt = 1.0*O_F*Odb_S*r_27 - 1.0*O_F*Vdb_S*r_26 + 1.0*O_S*r_16 + 1.0*O_S*r_17 + 1.0*Odb_S*r_25 - 1.0*Vdb_S*r_20 - 1.0*Vdb_S*r_21 - 1.0*Vdb_S*r_22 + 1.0*r_18*(-O_S - Odb_S - Vdb_S + 1.0) + 1.0*r_19*(-O_S - Odb_S - Vdb_S + 1.0)\n",
      "dO2_F/dt = -1.0*O2_F*O_F*r_15 - 1.0*O2_F*r_10 - 1.0*O2_F*r_12 - 1.0*O2_F*r_14 + 1.0*r_9*(-O2_F - O_F + 1.0)\n",
      "dO_F/dt = -1.0*O2_F*O_F*r_15 - 2.0*O_F**2*r_8 - 0.02*O_F*O_S*r_7 - 0.02*O_F*Odb_S*r_27 - 0.02*O_F*Vdb_S*r_26 - 1.0*O_F*r_11 - 1.0*O_F*r_2 - 1.0*O_F*r_4 - 0.02*O_F*r_5*(-O_S - Odb_S - Vdb_S + 1.0) + 1.0*r_1*(-O2_F - O_F + 1.0)\n",
      "['r_1', 'r_2', 'r_3', 'r_4', 'r_5', 'r_6', 'r_7', 'r_8', 'r_9', 'r_10', 'r_11', 'r_12', 'r_14', 'r_15', 'r_16', 'r_17', 'r_18', 'r_19', 'r_20', 'r_21', 'r_22', 'r_23', 'r_24', 'r_25', 'r_26', 'r_27']\n",
      "[{'id': 1, 'left': {'V_F': 1}, 'right': {'O_F': 1}, 'rate': 'adsorption', 'gas_specie': 'O', 'model_dict': {'SF': 1.0, 'E': 0.0}, 'gamma': False}, {'id': 2, 'left': {'O_F': 1}, 'right': {'V_F': 1}, 'rate': 'desorption', 'gas_specie': '', 'model_dict': {'SF': 1.0, 'E': 30.0, 'nu_d': 1000000000000000.0}, 'gamma': False}, {'id': 3, 'left': {'V_S': 1}, 'right': {'O_S': 1}, 'rate': 'adsorption', 'gas_specie': 'O', 'model_dict': {'SF': 1.0, 'E': 0.0}, 'gamma': False}, {'id': 4, 'left': {'O_F': 1}, 'right': {'V_F': 1}, 'rate': 'recomb_ER', 'gas_specie': 'O', 'model_dict': {'SF': 1.0, 'E': 0.0}, 'gamma': True}, {'id': 5, 'left': {'O_F': 1, 'V_S': 1}, 'right': {'V_F': 1, 'O_S': 1}, 'rate': 'diffusion', 'gas_specie': '', 'model_dict': {'SF': 1.0, 'E': 15.0, 'nu_D': 10000000000000.0, 'factor': 0.75}, 'gamma': False}, {'id': 6, 'left': {'O_S': 1}, 'right': {'V_S': 1}, 'rate': 'recomb_ER', 'gas_specie': 'O', 'model_dict': {'SF': 1.0, 'E': 15.0}, 'gamma': True}, {'id': 7, 'left': {'O_F': 1, 'O_S': 1}, 'right': {'V_F': 1, 'V_S': 1}, 'rate': 'recomb_LH', 'gas_specie': '', 'model_dict': {'SF': 1.0, 'E': 35.0, 'nu_D': 10000000000000.0, 'factor': 1.0}, 'gamma': True}, {'id': 8, 'left': {'O_F': 2}, 'right': {'V_F': 2}, 'rate': 'recomb_LH', 'gas_specie': '', 'model_dict': {'SF': 1.0, 'E': 15.0, 'nu_D': 10000000000000.0, 'factor': 1.0}, 'gamma': True}, {'id': 9, 'left': {'V_F': 1}, 'right': {'O2_F': 1}, 'rate': 'adsorption', 'gas_specie': 'O2', 'model_dict': {'SF': 1.0, 'E': 0.0}, 'gamma': False}, {'id': 10, 'left': {'O2_F': 1}, 'right': {'V_F': 1}, 'rate': 'desorption', 'gas_specie': '', 'model_dict': {'SF': 1.0, 'E': 17.5, 'nu_d': 1000000000000000.0}, 'gamma': False}, {'id': 11, 'left': {'O_F': 1}, 'right': {'V_F': 1}, 'rate': 'recomb_ER', 'gas_specie': 'O2', 'model_dict': {'SF': 1.0, 'E': 0.0}, 'gamma': True}, {'id': 12, 'left': {'O2_F': 1}, 'right': {'V_F': 1}, 'rate': 'recomb_ER', 'gas_specie': 'O2', 'model_dict': {'SF': 1.0, 'E': 0.0}, 'gamma': True}, {'id': 14, 'left': {'O2_F': 1}, 'right': {'V_F': 2}, 'rate': 'recomb_ER', 'gas_specie': 'O', 'model_dict': {'SF': 1.0, 'E': 0.0}, 'gamma': True}, {'id': 15, 'left': {'O2_F': 1, 'O_F': 1}, 'right': {'V_F': 2}, 'rate': 'recomb_LH', 'gas_specie': '', 'model_dict': {'SF': 1.0, 'E': 15.0, 'nu_D': 10000000000000.0, 'factor': 1.0}, 'gamma': True}, {'id': 16, 'left': {'O_S': 1}, 'right': {'Vdb_S': 1}, 'rate': 'create_meta', 'gas_specie': 'O2fast', 'model_dict': {'SF': 1.0, 'E': 0.0, 'Emin': 2.9, 'E_de': 30.0, 'E_di': 15.0}, 'gamma': False}, {'id': 17, 'left': {'O_S': 1}, 'right': {'Vdb_S': 1}, 'rate': 'create_meta', 'gas_specie': 'Ofast', 'model_dict': {'SF': 0.0, 'E': 0.0, 'Emin': 2.9, 'E_de': 30.0, 'E_di': 15.0}, 'gamma': False}, {'id': 18, 'left': {'V_S': 1}, 'right': {'Vdb_S': 1}, 'rate': 'create_meta', 'gas_specie': 'O2fast', 'model_dict': {'SF': 1.0, 'E': 0.0, 'Emin': 2.9, 'E_de': 30.0, 'E_di': 15.0}, 'gamma': False}, {'id': 19, 'left': {'V_S': 1}, 'right': {'Vdb_S': 1}, 'rate': 'create_meta', 'gas_specie': 'Ofast', 'model_dict': {'SF': 0.0, 'E': 0.0, 'Emin': 2.9, 'E_de': 30.0, 'E_di': 15.0}, 'gamma': False}, {'id': 20, 'left': {'Vdb_S': 1}, 'right': {'Odb_S': 1}, 'rate': 'adsorption', 'gas_specie': 'O', 'model_dict': {'SF': 1.0, 'E': 0.0}, 'gamma': False}, {'id': 21, 'left': {'Vdb_S': 1}, 'right': {'V_S': 1}, 'rate': 'destroy_meta', 'gas_specie': 'O', 'model_dict': {'SF': 1.0, 'E': 0.0, 'Ealpha': 3400.0}, 'gamma': False}, {'id': 22, 'left': {'Vdb_S': 1}, 'right': {'V_S': 1}, 'rate': 'destroy_meta', 'gas_specie': 'O2', 'model_dict': {'SF': 1.0, 'E': 0.0, 'Ealpha': 3400.0}, 'gamma': False}, {'id': 23, 'left': {'Odb_S': 1}, 'right': {'V_S': 1}, 'rate': 'destroy_meta', 'gas_specie': 'O2', 'model_dict': {'SF': 1.0, 'E': 0.0, 'Ealpha': 3400.0}, 'gamma': True}, {'id': 24, 'left': {'Odb_S': 1}, 'right': {'V_S': 1}, 'rate': 'destroy_meta', 'gas_specie': 'O', 'model_dict': {'SF': 1.0, 'E': 0.0, 'Ealpha': 3400.0}, 'gamma': True}, {'id': 25, 'left': {'Odb_S': 1}, 'right': {'Vdb_S': 1}, 'rate': 'recomb_ER_meta', 'gas_specie': 'O', 'model_dict': {'SF': 1.0, 'E': 0.0, 'Ealpha': 3400.0}, 'gamma': True}, {'id': 26, 'left': {'O_F': 1, 'Vdb_S': 1}, 'right': {'Odb_S': 1, 'V_F': 1}, 'rate': 'diffusion', 'gas_specie': '', 'model_dict': {'SF': 1.0, 'E': 30.0, 'nu_D': 10000000000000.0, 'factor': 0.75}, 'gamma': False}, {'id': 27, 'left': {'O_F': 1, 'Odb_S': 1}, 'right': {'V_F': 1, 'Vdb_S': 1}, 'rate': 'recomb_LH', 'gas_specie': '', 'model_dict': {'SF': 1.0, 'E': 30.0, 'nu_D': 10000000000000.0, 'factor': 0.75}, 'gamma': True}]\n"
     ]
    }
   ],
   "source": [
    "\n",
    "exp_file = os.path.join(output_folder_path, exp_data_file)\n",
    "\n",
    "sim = sim_system.Simulator(reactions_file, const_dict, exp_file, initial_state_dict, transformations_exp=transformations_exp)\n",
    "print(sim.output_parser['rates_model'])\n",
    "print(sim.output_parser['reactions_list'])\n"
   ]
  },
  {
   "cell_type": "code",
   "execution_count": 5,
   "metadata": {},
   "outputs": [],
   "source": [
    "\n",
    "\n",
    "def func_optimization(params):\n",
    "    \n",
    "    E, nu_D = params\n",
    "    # dict_mod_vec = [\n",
    "    # {\"id\": None, \"rate\": \"adsorption\", \"model_dict\": {\"E\": E}},\n",
    "    # {\"id\": None, \"rate\": None, \"model_dict\": {\"nu_D\": nu_D}}\n",
    "    # ]\n",
    "    \n",
    "    dict_mod_vec = [\n",
    "    {\"id\": 1, \"rate\": \"adsorption\", \"model_dict\": {\"E\": E}},\n",
    "    {\"id\": 8, \"rate\": None, \"model_dict\": {\"nu_D\": nu_D}}\n",
    "    ]\n",
    "    \n",
    "    return dict_mod_vec\n",
    "\n",
    "loss_function = lambda exp, teo: np.mean((np.reciprocal(exp)*(exp-teo))**2)\n",
    "\n",
    "\n",
    "# optimzer = opt.Optimizer(sim, func_optimization, loss_function)"
   ]
  },
  {
   "cell_type": "code",
   "execution_count": 6,
   "metadata": {},
   "outputs": [],
   "source": [
    "\n",
    "\n",
    "# loss, gammas_sum = optimzer.functional_loss((3.0, 20.0e13))\n",
    "\n",
    "# print(loss)\n",
    "# print(gammas_sum)\n"
   ]
  },
  {
   "cell_type": "code",
   "execution_count": 7,
   "metadata": {},
   "outputs": [],
   "source": [
    "\n",
    "\n",
    "# loss, gammas_sum = optimzer.functional_loss((0.0, 1.0e13))\n",
    "\n",
    "# print(loss)\n",
    "# print(gammas_sum)"
   ]
  },
  {
   "cell_type": "code",
   "execution_count": 8,
   "metadata": {},
   "outputs": [
    {
     "name": "stdout",
     "output_type": "stream",
     "text": [
      "dO_S/dt = -1.0*O_F*O_S*r_7 + 1.0*O_F*r_5*(-O_S - Odb_S - Vdb_S + 1.0) - 1.0*O_S*r_16 - 1.0*O_S*r_17 - 1.0*O_S*r_6 + 1.0*r_3*(-O_S - Odb_S - Vdb_S + 1.0)\n",
      "dOdb_S/dt = -1.0*O_F*Odb_S*r_27 + 1.0*O_F*Vdb_S*r_26 - 1.0*Odb_S*r_23 - 1.0*Odb_S*r_24 - 1.0*Odb_S*r_25 + 1.0*Vdb_S*r_20\n",
      "dVdb_S/dt = 1.0*O_F*Odb_S*r_27 - 1.0*O_F*Vdb_S*r_26 + 1.0*O_S*r_16 + 1.0*O_S*r_17 + 1.0*Odb_S*r_25 - 1.0*Vdb_S*r_20 - 1.0*Vdb_S*r_21 - 1.0*Vdb_S*r_22 + 1.0*r_18*(-O_S - Odb_S - Vdb_S + 1.0) + 1.0*r_19*(-O_S - Odb_S - Vdb_S + 1.0)\n",
      "dO2_F/dt = -1.0*O2_F*O_F*r_15 - 1.0*O2_F*r_10 - 1.0*O2_F*r_12 - 1.0*O2_F*r_14 + 1.0*r_9*(-O2_F - O_F + 1.0)\n",
      "dO_F/dt = -1.0*O2_F*O_F*r_15 - 2.0*O_F**2*r_8 - 0.02*O_F*O_S*r_7 - 0.02*O_F*Odb_S*r_27 - 0.02*O_F*Vdb_S*r_26 - 1.0*O_F*r_11 - 1.0*O_F*r_2 - 1.0*O_F*r_4 - 0.02*O_F*r_5*(-O_S - Odb_S - Vdb_S + 1.0) + 1.0*r_1*(-O2_F - O_F + 1.0)\n"
     ]
    },
    {
     "name": "stdout",
     "output_type": "stream",
     "text": [
      "loss:  1.6449261481935022 rate r1:  9058.790569095916 rate r2:  645547731.6715667 rate r8:  31961719513.736305\n",
      "loss:  0.30690913794832925 rate r1:  6380.874750261344 rate r2:  645547731.6715667 rate r8:  7296207551.037283\n",
      "loss:  0.28185204342866815 rate r1:  5132.19278708809 rate r2:  645547731.6715667 rate r8:  22045532493.36495\n",
      "loss:  1.1331586868249988 rate r1:  7828.67973040531 rate r2:  645547731.6715667 rate r8:  35364258088.90757\n",
      "loss:  4.25548322318621 rate r1:  8559.81852898491 rate r2:  645547731.6715667 rate r8:  56005202585.85553\n",
      "loss:  0.28613705723364136 rate r1:  3695.905335193742 rate r2:  645547731.6715667 rate r8:  47916022161.45255\n",
      "loss:  0.3248942560414535 rate r1:  4822.904911965273 rate r2:  645547731.6715667 rate r8:  12251843099.89253\n",
      "loss:  1.7771175331174636 rate r1:  5780.220727455272 rate r2:  645547731.6715667 rate r8:  78423943764.18715\n",
      "loss:  1.5910935777330433 rate r1:  8759.162463988037 rate r2:  645547731.6715667 rate r8:  33573744082.47127\n",
      "loss:  0.2870304148080409 rate r1:  5540.505229977942 rate r2:  645547731.6715667 rate r8:  15168643454.470345\n",
      "loss:  0.2873212555261787 rate r1:  6240.482834282615 rate r2:  645547731.6715667 rate r8:  19051382218.124718\n",
      "loss:  3.46135711418636 rate r1:  7033.527672856224 rate r2:  645547731.6715667 rate r8:  73752292489.40956\n",
      "loss:  1.5094176120957998 rate r1:  6114.129956345446 rate r2:  645547731.6715667 rate r8:  65308288380.094246\n",
      "loss:  0.3870522867499482 rate r1:  4633.106833627714 rate r2:  645547731.6715667 rate r8:  52047193024.82537\n",
      "loss:  0.3627875535581019 rate r1:  3873.909596069926 rate r2:  645547731.6715667 rate r8:  69286931902.73503\n",
      "loss:  0.386793366248201 rate r1:  6625.830580089527 rate r2:  645547731.6715667 rate r8:  25820379017.990322\n",
      "loss:  1.818090628765822 rate r1:  7717.508375575915 rate r2:  645547731.6715667 rate r8:  45696904706.3941\n",
      "loss:  4.515289109017621 rate r1:  8207.740592959892 rate r2:  645547731.6715667 rate r8:  62372976639.50502\n"
     ]
    }
   ],
   "source": [
    "\n",
    "if __name__ == '__main__':\n",
    "    exp_file = os.path.join(output_folder_path, exp_data_file)\n",
    "\n",
    "    sim = sim_system.Simulator(reactions_file, const_dict, exp_file, initial_state_dict, transformations_exp=transformations_exp)\n",
    "    optimzer = opt.Optimizer(sim, func_optimization, loss_function)\n",
    "\n",
    "    global_bounds = [(1.0, 3.0), (5e12, 10e13)]\n",
    "\n",
    "    config = {\n",
    "        \"bounds\": global_bounds,\n",
    "        \"nb_calls\": 3, # 5\n",
    "        \"de_maxiter\": 10,\n",
    "        \"top_k\": 1,\n",
    "        \"local_attempts\": 2,\n",
    "        \"epsilon_local\": 1e-2\n",
    "    }\n",
    "\n",
    "\n",
    "    best_local, best_local_loss = optimzer.hybrid_search(config, print_flag=True)\n"
   ]
  }
 ],
 "metadata": {
  "kernelspec": {
   "display_name": "LLM",
   "language": "python",
   "name": "python3"
  },
  "language_info": {
   "codemirror_mode": {
    "name": "ipython",
    "version": 3
   },
   "file_extension": ".py",
   "mimetype": "text/x-python",
   "name": "python",
   "nbconvert_exporter": "python",
   "pygments_lexer": "ipython3",
   "version": "3.12.7"
  }
 },
 "nbformat": 4,
 "nbformat_minor": 2
}
