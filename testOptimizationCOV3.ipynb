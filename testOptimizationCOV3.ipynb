{
 "cells": [
  {
   "cell_type": "code",
   "execution_count": 1,
   "metadata": {},
   "outputs": [],
   "source": [
    "\n",
    "import numpy as np\n",
    "import scipy as sp\n",
    "import h5py\n",
    "\n",
    "import os\n",
    "\n",
    "import SimData as sim_data\n",
    "import Simulator as sim_system\n",
    "import Optimization as opt"
   ]
  },
  {
   "cell_type": "code",
   "execution_count": 2,
   "metadata": {},
   "outputs": [],
   "source": [
    "\n",
    "\n",
    "###* Input files and function\n",
    "\n",
    "reactions_file = \"reactionsSimpleV1.json\"\n",
    "\n",
    "const_dict = {\n",
    "        \"F0\": 1.5e15,           # cm^-2\n",
    "        \"S0\": 3e13,             # cm^-2\n",
    "        \n",
    "        \"R\": 0.00831442,        # kJ/mol*K\n",
    "        \"kBoltz\": 1.380649e-23, # J/K\n",
    "}\n",
    "\n",
    "initial_state_dict = {'O_F': 0.1, 'O2_F':0.1 ,'O_S': 0.1, 'Vdb_S':0.1, \n",
    "                      'Odb_S': 0.1, 'CO_F': 0.1, 'CO2_F':0.1, 'CO_S': 0.1, \n",
    "                      'COdb_S': 0.0}\n",
    "\n",
    "###* Functions for the data transformation\n",
    "def compute_flux(const_dict, exp_dict, specie, molar_mass):\n",
    "    den = exp_dict.get(specie, 0.0)\n",
    "    v_th = np.sqrt((8.0 * const_dict['R'] * 1000 * exp_dict['Tnw'])/(molar_mass * np.pi))\n",
    "    flux = 0.25 * v_th * den * 100\n",
    "    return flux\n",
    "\n",
    "\n",
    "def compute_remaining_flux(const_dict, exp_dict, molar_mass): \n",
    "    den = exp_dict['N'] - exp_dict['O'] - exp_dict['CO']\n",
    "    v_th = np.sqrt((8.0 * const_dict['R'] * 1000 * exp_dict['Tnw'])/(molar_mass * np.pi))\n",
    "    flux = 0.25 * v_th * den * 100\n",
    "    return flux\n",
    "\n",
    "####? EavgMB data extracted from the Booth et al. 2019 paper\n",
    "p_data_exp = [0.2, 0.3, 0.4, 0.5, 0.6, 0.75, 1.5]\n",
    "EavgMB_data = [1.04, 0.91, 0.87, 0.83, 0.77, 0.5, 0.001]\n",
    "interpolator = sp.interpolate.interp1d(p_data_exp, EavgMB_data, kind='linear', fill_value=0.001, bounds_error=False)\n",
    "\n",
    "\n",
    "transformations_exp = {\n",
    "    'Tw':       lambda const_dict, exp_dict: exp_dict['Tw'] + 273.15,\n",
    "    'fluxO' :   lambda const_dict, exp_dict: compute_flux(const_dict, exp_dict,'O', 0.016),\n",
    "    'fluxO2' :  lambda const_dict, exp_dict: compute_flux(const_dict, exp_dict,'O2', 0.032),\n",
    "    'fluxO3' :  lambda const_dict, exp_dict: compute_flux(const_dict, exp_dict,'O3', 0.048),\n",
    "    'fluxC':    lambda const_dict, exp_dict: compute_flux(const_dict, exp_dict, 'C', 0.012),\n",
    "    'fluxCO':   lambda const_dict, exp_dict: compute_flux(const_dict, exp_dict, 'CO', 0.028),\n",
    "    'fluxCO2':  lambda const_dict, exp_dict: compute_flux(const_dict, exp_dict, 'CO2', 0.048),\n",
    "    'EavgMB':   lambda const_dict, exp_dict: interpolator(exp_dict['pressure']).item(),\n",
    "    'Ion':      lambda const_dict, exp_dict: 1e14 * exp_dict[\"current\"]\n",
    "}\n",
    "\n",
    "output_folder_path = \"Buffer_Data\"\n",
    "exp_data_file = \"Experimental_data_CO_Jorge.hdf5\""
   ]
  },
  {
   "cell_type": "code",
   "execution_count": 3,
   "metadata": {},
   "outputs": [
    {
     "name": "stdout",
     "output_type": "stream",
     "text": [
      "  d[CO2_F]/dt = -CO2_F*r_29 + r_28*(-CO2_F - CO_F - O2_F - O_F + 1.0)\n",
      "  d[CO_F]/dt = -CO_F*O_F*r_34 - 0.02*CO_F*O_S*r_39 - CO_F*r_31 - CO_F*r_33 - 0.02*CO_F*r_35*(-CO_S - O_S - Odb_S - Vdb_S + 1.0) + r_30*(-CO2_F - CO_F - O2_F - O_F + 1.0)\n",
      "  d[CO_S]/dt = CO_F*r_35*(-CO_S - O_S - Odb_S - Vdb_S + 1.0) - CO_S*O_F*r_38 - CO_S*r_36 + r_32*(-CO_S - O_S - Odb_S - Vdb_S + 1.0)\n",
      "  d[O2_F]/dt = -O2_F*O_F*r_15 - O2_F*r_10 - O2_F*r_12 - O2_F*r_14 + r_9*(-CO2_F - CO_F - O2_F - O_F + 1.0)\n",
      "  d[O_F]/dt = -CO_F*O_F*r_34 - 0.02*CO_S*O_F*r_38 - O2_F*O_F*r_15 - 2*O_F**2*r_8 - 0.02*O_F*O_S*r_7 - 0.02*O_F*Odb_S*r_27 - 0.02*O_F*Vdb_S*r_26 - O_F*r_11 - O_F*r_2 - O_F*r_4 - 0.02*O_F*r_5*(-CO_S - O_S - Odb_S - Vdb_S + 1.0) + r_1*(-CO2_F - CO_F - O2_F - O_F + 1.0)\n",
      "  d[O_S]/dt = -CO_F*O_S*r_39 - O_F*O_S*r_7 + O_F*r_5*(-CO_S - O_S - Odb_S - Vdb_S + 1.0) - O_S*r_16 - O_S*r_17 - O_S*r_37 - O_S*r_6 + r_3*(-CO_S - O_S - Odb_S - Vdb_S + 1.0)\n",
      "  d[Odb_S]/dt = -O_F*Odb_S*r_27 + O_F*Vdb_S*r_26 - Odb_S*r_23 - Odb_S*r_24 - Odb_S*r_25 + Vdb_S*r_20\n",
      "  d[Vdb_S]/dt = O_F*Odb_S*r_27 - O_F*Vdb_S*r_26 + O_S*r_16 + O_S*r_17 + Odb_S*r_25 - Vdb_S*r_20 - Vdb_S*r_21 - Vdb_S*r_22 + r_18*(-CO_S - O_S - Odb_S - Vdb_S + 1.0) + r_19*(-CO_S - O_S - Odb_S - Vdb_S + 1.0)\n"
     ]
    }
   ],
   "source": [
    "\n",
    "\n",
    "def func_optimization(params):\n",
    "    \n",
    "    A_O, B_O, E_O, A_CO, B_CO, E_CO, SF_1, SF_2 = params\n",
    "    \n",
    "    nu_d_mod = lambda T: 1e15 * (A_O + B_O * np.exp(E_O/(const_dict['R'] * T)))\n",
    "    nu_d_mod_2 = lambda T: 1e15 * (A_CO + B_CO * np.exp(E_CO/(const_dict['R'] * T)))\n",
    "    \n",
    "    dict_mod_vec = [\n",
    "    {\"id\": 2, \"rate\": None, \"model_dict\": {\"nu_d\": nu_d_mod}},\n",
    "    {\"id\": 10, \"rate\": None, \"model_dict\": {\"nu_d\": nu_d_mod}},\n",
    "    {\"id\": 31, \"rate\": None, \"model_dict\": {\"nu_d\": nu_d_mod_2}},\n",
    "    \n",
    "    {\"id\": 32, \"rate\": None, \"model_dict\": {\"SF\": SF_1}},\n",
    "    {\"id\": 35, \"rate\": None, \"model_dict\": {\"SF\": SF_1}},\n",
    "    \n",
    "    {\"id\": 33, \"rate\": None, \"model_dict\": {\"SF\": SF_2}},\n",
    "    {\"id\": 34, \"rate\": None, \"model_dict\": {\"SF\": SF_2}},\n",
    "    {\"id\": 36, \"rate\": None, \"model_dict\": {\"SF\": SF_2}},\n",
    "    {\"id\": 37, \"rate\": None, \"model_dict\": {\"SF\": SF_2}},\n",
    "    {\"id\": 38, \"rate\": None, \"model_dict\": {\"SF\": SF_2}},\n",
    "    {\"id\": 39, \"rate\": None, \"model_dict\": {\"SF\": SF_2}},\n",
    "    ]\n",
    "    \n",
    "    return dict_mod_vec\n",
    "\n",
    "loss_function = lambda exp, teo: np.mean((np.reciprocal(exp)*(exp-teo))**2)\n",
    "\n",
    "exp_file = os.path.join(output_folder_path, exp_data_file)\n",
    "sim = sim_system.Simulator(reactions_file, const_dict, exp_file, initial_state_dict, transformations_exp=transformations_exp)\n"
   ]
  },
  {
   "cell_type": "code",
   "execution_count": 4,
   "metadata": {},
   "outputs": [
    {
     "name": "stdout",
     "output_type": "stream",
     "text": [
      "differential_evolution step 1: f(x)= 0.21071210453236106\n",
      "differential_evolution step 2: f(x)= 0.1537843213116148\n",
      "differential_evolution step 3: f(x)= 0.1537843213116148\n",
      "differential_evolution step 4: f(x)= 0.1537843213116148\n",
      "differential_evolution step 5: f(x)= 0.1537843213116148\n",
      "differential_evolution step 6: f(x)= 0.1537843213116148\n",
      "differential_evolution step 7: f(x)= 0.10299461195749077\n",
      "differential_evolution step 8: f(x)= 0.10299461195749077\n",
      "differential_evolution step 9: f(x)= 0.10299461195749077\n",
      "differential_evolution step 10: f(x)= 0.10299461195749077\n",
      "differential_evolution step 11: f(x)= 0.09595094650859375\n",
      "differential_evolution step 12: f(x)= 0.09595094650859375\n",
      "differential_evolution step 13: f(x)= 0.09595094650859375\n"
     ]
    },
    {
     "name": "stderr",
     "output_type": "stream",
     "text": [
      "WARNING:root:Root finder converged (message: The solution converged.), but solution check failed.\n",
      "WARNING:root:Condition 11 ({'C': 0.0, 'CO': 0, 'CO2': 0, 'O': 10227815146721590, 'O2': 34456006222794272, 'O3': 1115479208075.123, 'Tgas': 441.238008153174, 'Tnw': 337.912930739729, 'Tw': 323.15, 'current': 40, 'frac_CO2': 0.0, 'pressure': 2.0, 'fluxO': 1.7098236884647297e+20, 'fluxO2': 4.0730374083815014e+20, 'fluxO3': 1.0766370272295388e+16, 'fluxC': 0.0, 'fluxCO': 0.0, 'fluxCO2': 0.0, 'EavgMB': 0.001, 'Ion': 4000000000000000.0}): Solver failed or solution check failed.\n",
      "WARNING:root:Root finder converged (message: The solution converged.), but solution check failed.\n",
      "WARNING:root:Condition 12 ({'C': 0.0, 'CO': 0, 'CO2': 0, 'O': 10227815146721590, 'O2': 34456006222794272, 'O3': 1115479208075.123, 'Tgas': 441.238008153174, 'Tnw': 337.912930739729, 'Tw': 323.15, 'current': 40, 'frac_CO2': 0.0, 'pressure': 2.0, 'fluxO': 1.7098236884647297e+20, 'fluxO2': 4.0730374083815014e+20, 'fluxO3': 1.0766370272295388e+16, 'fluxC': 0.0, 'fluxCO': 0.0, 'fluxCO2': 0.0, 'EavgMB': 0.001, 'Ion': 4000000000000000.0}): Solver failed or solution check failed.\n"
     ]
    },
    {
     "name": "stdout",
     "output_type": "stream",
     "text": [
      "differential_evolution step 14: f(x)= 0.09595094650859375\n",
      "differential_evolution step 15: f(x)= 0.08807196601881409\n",
      "differential_evolution step 16: f(x)= 0.08807196601881409\n",
      "differential_evolution step 17: f(x)= 0.08807196601881409\n",
      "differential_evolution step 18: f(x)= 0.0809414670156313\n",
      "differential_evolution step 19: f(x)= 0.0809414670156313\n",
      "differential_evolution step 20: f(x)= 0.0809414670156313\n",
      "differential_evolution step 21: f(x)= 0.07220329653755296\n",
      "differential_evolution step 22: f(x)= 0.06315364853871847\n",
      "differential_evolution step 23: f(x)= 0.06315364853871847\n",
      "differential_evolution step 24: f(x)= 0.06315364853871847\n",
      "differential_evolution step 25: f(x)= 0.06315364853871847\n",
      "differential_evolution step 26: f(x)= 0.06315364853871847\n",
      "differential_evolution step 27: f(x)= 0.06315364853871847\n",
      "differential_evolution step 28: f(x)= 0.06315364853871847\n"
     ]
    },
    {
     "name": "stderr",
     "output_type": "stream",
     "text": [
      "WARNING:root:Root finder converged (message: The solution converged.), but solution check failed.\n",
      "WARNING:root:Condition 1 ({'C': 0.0, 'CO': 0, 'CO2': 0, 'O': 8157238605327579, 'O2': 16385293162655330, 'O3': 546065957887.2443, 'Tgas': 394.8481502500865, 'Tnw': 332.243199758804, 'Tw': 323.15, 'current': 40, 'frac_CO2': 0.0, 'pressure': 1.0, 'fluxO': 1.352188600260873e+20, 'fluxO2': 1.9205840711049527e+20, 'fluxO3': 5226110403792976.0, 'fluxC': 0.0, 'fluxCO': 0.0, 'fluxCO2': 0.0, 'EavgMB': 0.33366666666666667, 'Ion': 4000000000000000.0}): Solver failed or solution check failed.\n",
      "WARNING:root:Root finder converged (message: The solution converged.), but solution check failed.\n",
      "WARNING:root:Condition 2 ({'C': 0.0, 'CO': 0, 'CO2': 0, 'O': 8157238605327579, 'O2': 16385293162655330, 'O3': 546065957887.2443, 'Tgas': 394.8481502500865, 'Tnw': 332.243199758804, 'Tw': 323.15, 'current': 40, 'frac_CO2': 0.0, 'pressure': 1.0, 'fluxO': 1.352188600260873e+20, 'fluxO2': 1.9205840711049527e+20, 'fluxO3': 5226110403792976.0, 'fluxC': 0.0, 'fluxCO': 0.0, 'fluxCO2': 0.0, 'EavgMB': 0.33366666666666667, 'Ion': 4000000000000000.0}): Solver failed or solution check failed.\n"
     ]
    },
    {
     "name": "stdout",
     "output_type": "stream",
     "text": [
      "differential_evolution step 29: f(x)= 0.06315364853871847\n"
     ]
    },
    {
     "name": "stderr",
     "output_type": "stream",
     "text": [
      "WARNING:root:Root finder converged (message: The solution converged.), but solution check failed.\n",
      "WARNING:root:Condition 9 ({'C': 0.0, 'CO': 0, 'CO2': 0, 'O': 10551273476311810, 'O2': 34191785973519152, 'O3': 1128037915895.378, 'Tgas': 440.9518449183849, 'Tnw': 337.843817904925, 'Tw': 323.15, 'current': 40, 'frac_CO2': 0.0, 'pressure': 2.0, 'fluxO': 1.763717084169756e+20, 'fluxO2': 4.041390633812239e+20, 'fluxO3': 1.0886470806177898e+16, 'fluxC': 0.0, 'fluxCO': 0.0, 'fluxCO2': 0.0, 'EavgMB': 0.001, 'Ion': 4000000000000000.0}): Solver failed or solution check failed.\n",
      "WARNING:root:Root finder converged (message: The solution converged.), but solution check failed.\n",
      "WARNING:root:Condition 10 ({'C': 0.0, 'CO': 0, 'CO2': 0, 'O': 10551273476311810, 'O2': 34191785973519152, 'O3': 1128037915895.378, 'Tgas': 440.9518449183849, 'Tnw': 337.843817904925, 'Tw': 323.15, 'current': 40, 'frac_CO2': 0.0, 'pressure': 2.0, 'fluxO': 1.763717084169756e+20, 'fluxO2': 4.041390633812239e+20, 'fluxO3': 1.0886470806177898e+16, 'fluxC': 0.0, 'fluxCO': 0.0, 'fluxCO2': 0.0, 'EavgMB': 0.001, 'Ion': 4000000000000000.0}): Solver failed or solution check failed.\n",
      "WARNING:root:Root finder converged (message: The solution converged.), but solution check failed.\n",
      "WARNING:root:Condition 15 ({'C': 0.0, 'CO': 0, 'CO2': 0, 'O': 12437793259850040, 'O2': 82787381940537104, 'O3': 2007970176632.502, 'Tgas': 540.039475009039, 'Tnw': 350.690744737831, 'Tw': 323.15, 'current': 40, 'frac_CO2': 0.0, 'pressure': 5.0, 'fluxO': 2.1182223196099582e+20, 'fluxO2': 9.969591348547536e+20, 'fluxO3': 1.9743531498678736e+16, 'fluxC': 0.0, 'fluxCO': 0.0, 'fluxCO2': 0.0, 'EavgMB': 0.001, 'Ion': 4000000000000000.0}): Solver failed or solution check failed.\n",
      "WARNING:root:Root finder converged (message: The solution converged.), but solution check failed.\n",
      "WARNING:root:Condition 16 ({'C': 0.0, 'CO': 0, 'CO2': 0, 'O': 12437793259850040, 'O2': 82787381940537104, 'O3': 2007970176632.502, 'Tgas': 540.039475009039, 'Tnw': 350.690744737831, 'Tw': 323.15, 'current': 40, 'frac_CO2': 0.0, 'pressure': 5.0, 'fluxO': 2.1182223196099582e+20, 'fluxO2': 9.969591348547536e+20, 'fluxO3': 1.9743531498678736e+16, 'fluxC': 0.0, 'fluxCO': 0.0, 'fluxCO2': 0.0, 'EavgMB': 0.001, 'Ion': 4000000000000000.0}): Solver failed or solution check failed.\n"
     ]
    },
    {
     "name": "stdout",
     "output_type": "stream",
     "text": [
      "differential_evolution step 30: f(x)= 0.06315364853871847\n",
      "differential_evolution step 31: f(x)= 0.06315364853871847\n"
     ]
    },
    {
     "name": "stderr",
     "output_type": "stream",
     "text": [
      "WARNING:root:Root finder converged (message: The solution converged.), but solution check failed.\n",
      "WARNING:root:Condition 15 ({'C': 0.0, 'CO': 0, 'CO2': 0, 'O': 12437793259850040, 'O2': 82787381940537104, 'O3': 2007970176632.502, 'Tgas': 540.039475009039, 'Tnw': 350.690744737831, 'Tw': 323.15, 'current': 40, 'frac_CO2': 0.0, 'pressure': 5.0, 'fluxO': 2.1182223196099582e+20, 'fluxO2': 9.969591348547536e+20, 'fluxO3': 1.9743531498678736e+16, 'fluxC': 0.0, 'fluxCO': 0.0, 'fluxCO2': 0.0, 'EavgMB': 0.001, 'Ion': 4000000000000000.0}): Solver failed or solution check failed.\n",
      "WARNING:root:Root finder converged (message: The solution converged.), but solution check failed.\n",
      "WARNING:root:Condition 16 ({'C': 0.0, 'CO': 0, 'CO2': 0, 'O': 12437793259850040, 'O2': 82787381940537104, 'O3': 2007970176632.502, 'Tgas': 540.039475009039, 'Tnw': 350.690744737831, 'Tw': 323.15, 'current': 40, 'frac_CO2': 0.0, 'pressure': 5.0, 'fluxO': 2.1182223196099582e+20, 'fluxO2': 9.969591348547536e+20, 'fluxO3': 1.9743531498678736e+16, 'fluxC': 0.0, 'fluxCO': 0.0, 'fluxCO2': 0.0, 'EavgMB': 0.001, 'Ion': 4000000000000000.0}): Solver failed or solution check failed.\n",
      "WARNING:root:Root finder converged (message: The solution converged.), but solution check failed.\n",
      "WARNING:root:Condition 23 ({'C': 0.0, 'CO': 0, 'CO2': 0, 'O': 9390671668457340, 'O2': 61021370254285984, 'O3': 2576869576784.18, 'Tgas': 419.8906073079275, 'Tnw': 334.405966019031, 'Tw': 323.15, 'current': 20, 'frac_CO2': 0.0, 'pressure': 3.0, 'fluxO': 1.56170758192786e+20, 'fluxO2': 7.175794951547236e+20, 'fluxO3': 2.4742004025268896e+16, 'fluxC': 0.0, 'fluxCO': 0.0, 'fluxCO2': 0.0, 'EavgMB': 0.001, 'Ion': 2000000000000000.0}): Solver failed or solution check failed.\n",
      "WARNING:root:Root finder converged (message: The solution converged.), but solution check failed.\n",
      "WARNING:root:Condition 24 ({'C': 0.0, 'CO': 0, 'CO2': 0, 'O': 9390671668457340, 'O2': 61021370254285984, 'O3': 2576869576784.18, 'Tgas': 419.8906073079275, 'Tnw': 334.405966019031, 'Tw': 323.15, 'current': 20, 'frac_CO2': 0.0, 'pressure': 3.0, 'fluxO': 1.56170758192786e+20, 'fluxO2': 7.175794951547236e+20, 'fluxO3': 2.4742004025268896e+16, 'fluxC': 0.0, 'fluxCO': 0.0, 'fluxCO2': 0.0, 'EavgMB': 0.001, 'Ion': 2000000000000000.0}): Solver failed or solution check failed.\n"
     ]
    },
    {
     "name": "stdout",
     "output_type": "stream",
     "text": [
      "differential_evolution step 32: f(x)= 0.06315364853871847\n",
      "differential_evolution step 33: f(x)= 0.06315364853871847\n",
      "differential_evolution step 34: f(x)= 0.06315364853871847\n",
      "differential_evolution step 35: f(x)= 0.06315364853871847\n"
     ]
    },
    {
     "name": "stderr",
     "output_type": "stream",
     "text": [
      "WARNING:root:Root finder converged (message: The solution converged.), but solution check failed.\n",
      "WARNING:root:Condition 15 ({'C': 0.0, 'CO': 0, 'CO2': 0, 'O': 12437793259850040, 'O2': 82787381940537104, 'O3': 2007970176632.502, 'Tgas': 540.039475009039, 'Tnw': 350.690744737831, 'Tw': 323.15, 'current': 40, 'frac_CO2': 0.0, 'pressure': 5.0, 'fluxO': 2.1182223196099582e+20, 'fluxO2': 9.969591348547536e+20, 'fluxO3': 1.9743531498678736e+16, 'fluxC': 0.0, 'fluxCO': 0.0, 'fluxCO2': 0.0, 'EavgMB': 0.001, 'Ion': 4000000000000000.0}): Solver failed or solution check failed.\n",
      "WARNING:root:Root finder converged (message: The solution converged.), but solution check failed.\n",
      "WARNING:root:Condition 16 ({'C': 0.0, 'CO': 0, 'CO2': 0, 'O': 12437793259850040, 'O2': 82787381940537104, 'O3': 2007970176632.502, 'Tgas': 540.039475009039, 'Tnw': 350.690744737831, 'Tw': 323.15, 'current': 40, 'frac_CO2': 0.0, 'pressure': 5.0, 'fluxO': 2.1182223196099582e+20, 'fluxO2': 9.969591348547536e+20, 'fluxO3': 1.9743531498678736e+16, 'fluxC': 0.0, 'fluxCO': 0.0, 'fluxCO2': 0.0, 'EavgMB': 0.001, 'Ion': 4000000000000000.0}): Solver failed or solution check failed.\n"
     ]
    },
    {
     "name": "stdout",
     "output_type": "stream",
     "text": [
      "differential_evolution step 36: f(x)= 0.06282534768274338\n"
     ]
    },
    {
     "name": "stderr",
     "output_type": "stream",
     "text": [
      "WARNING:root:Root finder converged (message: The solution converged.), but solution check failed.\n",
      "WARNING:root:Condition 9 ({'C': 0.0, 'CO': 0, 'CO2': 0, 'O': 10551273476311810, 'O2': 34191785973519152, 'O3': 1128037915895.378, 'Tgas': 440.9518449183849, 'Tnw': 337.843817904925, 'Tw': 323.15, 'current': 40, 'frac_CO2': 0.0, 'pressure': 2.0, 'fluxO': 1.763717084169756e+20, 'fluxO2': 4.041390633812239e+20, 'fluxO3': 1.0886470806177898e+16, 'fluxC': 0.0, 'fluxCO': 0.0, 'fluxCO2': 0.0, 'EavgMB': 0.001, 'Ion': 4000000000000000.0}): Solver failed or solution check failed.\n",
      "WARNING:root:Root finder converged (message: The solution converged.), but solution check failed.\n",
      "WARNING:root:Condition 10 ({'C': 0.0, 'CO': 0, 'CO2': 0, 'O': 10551273476311810, 'O2': 34191785973519152, 'O3': 1128037915895.378, 'Tgas': 440.9518449183849, 'Tnw': 337.843817904925, 'Tw': 323.15, 'current': 40, 'frac_CO2': 0.0, 'pressure': 2.0, 'fluxO': 1.763717084169756e+20, 'fluxO2': 4.041390633812239e+20, 'fluxO3': 1.0886470806177898e+16, 'fluxC': 0.0, 'fluxCO': 0.0, 'fluxCO2': 0.0, 'EavgMB': 0.001, 'Ion': 4000000000000000.0}): Solver failed or solution check failed.\n"
     ]
    },
    {
     "name": "stdout",
     "output_type": "stream",
     "text": [
      "differential_evolution step 37: f(x)= 0.05926010557132315\n",
      "differential_evolution step 38: f(x)= 0.058975233970018665\n",
      "differential_evolution step 39: f(x)= 0.053904121114424226\n",
      "differential_evolution step 40: f(x)= 0.053904121114424226\n",
      "differential_evolution step 41: f(x)= 0.053904121114424226\n",
      "differential_evolution step 42: f(x)= 0.053904121114424226\n",
      "differential_evolution step 43: f(x)= 0.053904121114424226\n"
     ]
    },
    {
     "name": "stderr",
     "output_type": "stream",
     "text": [
      "WARNING:root:Root finder converged (message: The solution converged.), but solution check failed.\n",
      "WARNING:root:Condition 21 ({'C': 0.0, 'CO': 0, 'CO2': 0, 'O': 8555223967509234, 'O2': 40793202589105752, 'O3': 1794960440173.376, 'Tgas': 397.533920840751, 'Tnw': 331.595772689096, 'Tw': 323.15, 'current': 20, 'frac_CO2': 0.0, 'pressure': 2.0, 'fluxO': 1.4167784099393474e+20, 'fluxO2': 4.776869215527232e+20, 'fluxO3': 1.7161877620027228e+16, 'fluxC': 0.0, 'fluxCO': 0.0, 'fluxCO2': 0.0, 'EavgMB': 0.001, 'Ion': 2000000000000000.0}): Solver failed or solution check failed.\n",
      "WARNING:root:Root finder converged (message: The solution converged.), but solution check failed.\n",
      "WARNING:root:Condition 22 ({'C': 0.0, 'CO': 0, 'CO2': 0, 'O': 8555223967509234, 'O2': 40793202589105752, 'O3': 1794960440173.376, 'Tgas': 397.533920840751, 'Tnw': 331.595772689096, 'Tw': 323.15, 'current': 20, 'frac_CO2': 0.0, 'pressure': 2.0, 'fluxO': 1.4167784099393474e+20, 'fluxO2': 4.776869215527232e+20, 'fluxO3': 1.7161877620027228e+16, 'fluxC': 0.0, 'fluxCO': 0.0, 'fluxCO2': 0.0, 'EavgMB': 0.001, 'Ion': 2000000000000000.0}): Solver failed or solution check failed.\n"
     ]
    },
    {
     "name": "stdout",
     "output_type": "stream",
     "text": [
      "differential_evolution step 44: f(x)= 0.05193659746084193\n",
      "differential_evolution step 45: f(x)= 0.05161455129120877\n",
      "differential_evolution step 46: f(x)= 0.05161455129120877\n",
      "differential_evolution step 47: f(x)= 0.05091978549956669\n",
      "differential_evolution step 48: f(x)= 0.050182184264784026\n",
      "differential_evolution step 49: f(x)= 0.050182184264784026\n"
     ]
    },
    {
     "name": "stderr",
     "output_type": "stream",
     "text": [
      "WARNING:root:Root finder converged (message: The solution converged.), but solution check failed.\n",
      "WARNING:root:Condition 9 ({'C': 0.0, 'CO': 0, 'CO2': 0, 'O': 10551273476311810, 'O2': 34191785973519152, 'O3': 1128037915895.378, 'Tgas': 440.9518449183849, 'Tnw': 337.843817904925, 'Tw': 323.15, 'current': 40, 'frac_CO2': 0.0, 'pressure': 2.0, 'fluxO': 1.763717084169756e+20, 'fluxO2': 4.041390633812239e+20, 'fluxO3': 1.0886470806177898e+16, 'fluxC': 0.0, 'fluxCO': 0.0, 'fluxCO2': 0.0, 'EavgMB': 0.001, 'Ion': 4000000000000000.0}): Solver failed or solution check failed.\n",
      "WARNING:root:Root finder converged (message: The solution converged.), but solution check failed.\n",
      "WARNING:root:Condition 10 ({'C': 0.0, 'CO': 0, 'CO2': 0, 'O': 10551273476311810, 'O2': 34191785973519152, 'O3': 1128037915895.378, 'Tgas': 440.9518449183849, 'Tnw': 337.843817904925, 'Tw': 323.15, 'current': 40, 'frac_CO2': 0.0, 'pressure': 2.0, 'fluxO': 1.763717084169756e+20, 'fluxO2': 4.041390633812239e+20, 'fluxO3': 1.0886470806177898e+16, 'fluxC': 0.0, 'fluxCO': 0.0, 'fluxCO2': 0.0, 'EavgMB': 0.001, 'Ion': 4000000000000000.0}): Solver failed or solution check failed.\n",
      "WARNING:root:Root finder converged (message: The solution converged.), but solution check failed.\n",
      "WARNING:root:Condition 25 ({'C': 0.0, 'CO': 0, 'CO2': 0, 'O': 11080348104371450, 'O2': 98081100063129136, 'O3': 3913022261520.635, 'Tgas': 451.8449522468635, 'Tnw': 339.118490883537, 'Tw': 323.15, 'current': 20, 'frac_CO2': 0.0, 'pressure': 5.0, 'fluxO': 1.8556462742738305e+20, 'fluxO2': 1.1614810266246557e+21, 'fluxO3': 3.7834977558898056e+16, 'fluxC': 0.0, 'fluxCO': 0.0, 'fluxCO2': 0.0, 'EavgMB': 0.001, 'Ion': 2000000000000000.0}): Solver failed or solution check failed.\n",
      "WARNING:root:Root finder converged (message: The solution converged.), but solution check failed.\n",
      "WARNING:root:Condition 26 ({'C': 0.0, 'CO': 0, 'CO2': 0, 'O': 11080348104371450, 'O2': 98081100063129136, 'O3': 3913022261520.635, 'Tgas': 451.8449522468635, 'Tnw': 339.118490883537, 'Tw': 323.15, 'current': 20, 'frac_CO2': 0.0, 'pressure': 5.0, 'fluxO': 1.8556462742738305e+20, 'fluxO2': 1.1614810266246557e+21, 'fluxO3': 3.7834977558898056e+16, 'fluxC': 0.0, 'fluxCO': 0.0, 'fluxCO2': 0.0, 'EavgMB': 0.001, 'Ion': 2000000000000000.0}): Solver failed or solution check failed.\n"
     ]
    },
    {
     "name": "stdout",
     "output_type": "stream",
     "text": [
      "differential_evolution step 50: f(x)= 0.04913076434830774\n",
      "differential_evolution step 51: f(x)= 0.04913076434830774\n"
     ]
    },
    {
     "name": "stderr",
     "output_type": "stream",
     "text": [
      "WARNING:root:Root finder converged (message: The solution converged.), but solution check failed.\n",
      "WARNING:root:Condition 15 ({'C': 0.0, 'CO': 0, 'CO2': 0, 'O': 12437793259850040, 'O2': 82787381940537104, 'O3': 2007970176632.502, 'Tgas': 540.039475009039, 'Tnw': 350.690744737831, 'Tw': 323.15, 'current': 40, 'frac_CO2': 0.0, 'pressure': 5.0, 'fluxO': 2.1182223196099582e+20, 'fluxO2': 9.969591348547536e+20, 'fluxO3': 1.9743531498678736e+16, 'fluxC': 0.0, 'fluxCO': 0.0, 'fluxCO2': 0.0, 'EavgMB': 0.001, 'Ion': 4000000000000000.0}): Solver failed or solution check failed.\n",
      "WARNING:root:Root finder converged (message: The solution converged.), but solution check failed.\n",
      "WARNING:root:Condition 16 ({'C': 0.0, 'CO': 0, 'CO2': 0, 'O': 12437793259850040, 'O2': 82787381940537104, 'O3': 2007970176632.502, 'Tgas': 540.039475009039, 'Tnw': 350.690744737831, 'Tw': 323.15, 'current': 40, 'frac_CO2': 0.0, 'pressure': 5.0, 'fluxO': 2.1182223196099582e+20, 'fluxO2': 9.969591348547536e+20, 'fluxO3': 1.9743531498678736e+16, 'fluxC': 0.0, 'fluxCO': 0.0, 'fluxCO2': 0.0, 'EavgMB': 0.001, 'Ion': 4000000000000000.0}): Solver failed or solution check failed.\n",
      "WARNING:root:Root finder converged (message: The solution converged.), but solution check failed.\n",
      "WARNING:root:Condition 15 ({'C': 0.0, 'CO': 0, 'CO2': 0, 'O': 12437793259850040, 'O2': 82787381940537104, 'O3': 2007970176632.502, 'Tgas': 540.039475009039, 'Tnw': 350.690744737831, 'Tw': 323.15, 'current': 40, 'frac_CO2': 0.0, 'pressure': 5.0, 'fluxO': 2.1182223196099582e+20, 'fluxO2': 9.969591348547536e+20, 'fluxO3': 1.9743531498678736e+16, 'fluxC': 0.0, 'fluxCO': 0.0, 'fluxCO2': 0.0, 'EavgMB': 0.001, 'Ion': 4000000000000000.0}): Solver failed or solution check failed.\n",
      "WARNING:root:Root finder converged (message: The solution converged.), but solution check failed.\n",
      "WARNING:root:Condition 16 ({'C': 0.0, 'CO': 0, 'CO2': 0, 'O': 12437793259850040, 'O2': 82787381940537104, 'O3': 2007970176632.502, 'Tgas': 540.039475009039, 'Tnw': 350.690744737831, 'Tw': 323.15, 'current': 40, 'frac_CO2': 0.0, 'pressure': 5.0, 'fluxO': 2.1182223196099582e+20, 'fluxO2': 9.969591348547536e+20, 'fluxO3': 1.9743531498678736e+16, 'fluxC': 0.0, 'fluxCO': 0.0, 'fluxCO2': 0.0, 'EavgMB': 0.001, 'Ion': 4000000000000000.0}): Solver failed or solution check failed.\n"
     ]
    },
    {
     "name": "stdout",
     "output_type": "stream",
     "text": [
      "differential_evolution step 52: f(x)= 0.04913076434830774\n",
      "differential_evolution step 53: f(x)= 0.049102554533180166\n",
      "differential_evolution step 54: f(x)= 0.049102554533180166\n",
      "differential_evolution step 55: f(x)= 0.049102554533180166\n"
     ]
    },
    {
     "name": "stderr",
     "output_type": "stream",
     "text": [
      "WARNING:root:Root finder converged (message: The solution converged.), but solution check failed.\n",
      "WARNING:root:Condition 15 ({'C': 0.0, 'CO': 0, 'CO2': 0, 'O': 12437793259850040, 'O2': 82787381940537104, 'O3': 2007970176632.502, 'Tgas': 540.039475009039, 'Tnw': 350.690744737831, 'Tw': 323.15, 'current': 40, 'frac_CO2': 0.0, 'pressure': 5.0, 'fluxO': 2.1182223196099582e+20, 'fluxO2': 9.969591348547536e+20, 'fluxO3': 1.9743531498678736e+16, 'fluxC': 0.0, 'fluxCO': 0.0, 'fluxCO2': 0.0, 'EavgMB': 0.001, 'Ion': 4000000000000000.0}): Solver failed or solution check failed.\n",
      "WARNING:root:Root finder converged (message: The solution converged.), but solution check failed.\n",
      "WARNING:root:Condition 16 ({'C': 0.0, 'CO': 0, 'CO2': 0, 'O': 12437793259850040, 'O2': 82787381940537104, 'O3': 2007970176632.502, 'Tgas': 540.039475009039, 'Tnw': 350.690744737831, 'Tw': 323.15, 'current': 40, 'frac_CO2': 0.0, 'pressure': 5.0, 'fluxO': 2.1182223196099582e+20, 'fluxO2': 9.969591348547536e+20, 'fluxO3': 1.9743531498678736e+16, 'fluxC': 0.0, 'fluxCO': 0.0, 'fluxCO2': 0.0, 'EavgMB': 0.001, 'Ion': 4000000000000000.0}): Solver failed or solution check failed.\n"
     ]
    },
    {
     "name": "stdout",
     "output_type": "stream",
     "text": [
      "differential_evolution step 56: f(x)= 0.049102554533180166\n",
      "differential_evolution step 57: f(x)= 0.049102554533180166\n",
      "differential_evolution step 58: f(x)= 0.047756311379645484\n"
     ]
    },
    {
     "name": "stderr",
     "output_type": "stream",
     "text": [
      "WARNING:root:Root finder converged (message: The solution converged.), but solution check failed.\n",
      "WARNING:root:Condition 9 ({'C': 0.0, 'CO': 0, 'CO2': 0, 'O': 10551273476311810, 'O2': 34191785973519152, 'O3': 1128037915895.378, 'Tgas': 440.9518449183849, 'Tnw': 337.843817904925, 'Tw': 323.15, 'current': 40, 'frac_CO2': 0.0, 'pressure': 2.0, 'fluxO': 1.763717084169756e+20, 'fluxO2': 4.041390633812239e+20, 'fluxO3': 1.0886470806177898e+16, 'fluxC': 0.0, 'fluxCO': 0.0, 'fluxCO2': 0.0, 'EavgMB': 0.001, 'Ion': 4000000000000000.0}): Solver failed or solution check failed.\n",
      "WARNING:root:Root finder converged (message: The solution converged.), but solution check failed.\n",
      "WARNING:root:Condition 10 ({'C': 0.0, 'CO': 0, 'CO2': 0, 'O': 10551273476311810, 'O2': 34191785973519152, 'O3': 1128037915895.378, 'Tgas': 440.9518449183849, 'Tnw': 337.843817904925, 'Tw': 323.15, 'current': 40, 'frac_CO2': 0.0, 'pressure': 2.0, 'fluxO': 1.763717084169756e+20, 'fluxO2': 4.041390633812239e+20, 'fluxO3': 1.0886470806177898e+16, 'fluxC': 0.0, 'fluxCO': 0.0, 'fluxCO2': 0.0, 'EavgMB': 0.001, 'Ion': 4000000000000000.0}): Solver failed or solution check failed.\n",
      "WARNING:root:Root finder converged (message: The solution converged.), but solution check failed.\n",
      "WARNING:root:Condition 15 ({'C': 0.0, 'CO': 0, 'CO2': 0, 'O': 12437793259850040, 'O2': 82787381940537104, 'O3': 2007970176632.502, 'Tgas': 540.039475009039, 'Tnw': 350.690744737831, 'Tw': 323.15, 'current': 40, 'frac_CO2': 0.0, 'pressure': 5.0, 'fluxO': 2.1182223196099582e+20, 'fluxO2': 9.969591348547536e+20, 'fluxO3': 1.9743531498678736e+16, 'fluxC': 0.0, 'fluxCO': 0.0, 'fluxCO2': 0.0, 'EavgMB': 0.001, 'Ion': 4000000000000000.0}): Solver failed or solution check failed.\n",
      "WARNING:root:Root finder converged (message: The solution converged.), but solution check failed.\n",
      "WARNING:root:Condition 16 ({'C': 0.0, 'CO': 0, 'CO2': 0, 'O': 12437793259850040, 'O2': 82787381940537104, 'O3': 2007970176632.502, 'Tgas': 540.039475009039, 'Tnw': 350.690744737831, 'Tw': 323.15, 'current': 40, 'frac_CO2': 0.0, 'pressure': 5.0, 'fluxO': 2.1182223196099582e+20, 'fluxO2': 9.969591348547536e+20, 'fluxO3': 1.9743531498678736e+16, 'fluxC': 0.0, 'fluxCO': 0.0, 'fluxCO2': 0.0, 'EavgMB': 0.001, 'Ion': 4000000000000000.0}): Solver failed or solution check failed.\n",
      "WARNING:root:Root finder converged (message: The solution converged.), but solution check failed.\n",
      "WARNING:root:Condition 23 ({'C': 0.0, 'CO': 0, 'CO2': 0, 'O': 9390671668457340, 'O2': 61021370254285984, 'O3': 2576869576784.18, 'Tgas': 419.8906073079275, 'Tnw': 334.405966019031, 'Tw': 323.15, 'current': 20, 'frac_CO2': 0.0, 'pressure': 3.0, 'fluxO': 1.56170758192786e+20, 'fluxO2': 7.175794951547236e+20, 'fluxO3': 2.4742004025268896e+16, 'fluxC': 0.0, 'fluxCO': 0.0, 'fluxCO2': 0.0, 'EavgMB': 0.001, 'Ion': 2000000000000000.0}): Solver failed or solution check failed.\n",
      "WARNING:root:Root finder converged (message: The solution converged.), but solution check failed.\n",
      "WARNING:root:Condition 24 ({'C': 0.0, 'CO': 0, 'CO2': 0, 'O': 9390671668457340, 'O2': 61021370254285984, 'O3': 2576869576784.18, 'Tgas': 419.8906073079275, 'Tnw': 334.405966019031, 'Tw': 323.15, 'current': 20, 'frac_CO2': 0.0, 'pressure': 3.0, 'fluxO': 1.56170758192786e+20, 'fluxO2': 7.175794951547236e+20, 'fluxO3': 2.4742004025268896e+16, 'fluxC': 0.0, 'fluxCO': 0.0, 'fluxCO2': 0.0, 'EavgMB': 0.001, 'Ion': 2000000000000000.0}): Solver failed or solution check failed.\n",
      "WARNING:root:Root finder converged (message: The solution converged.), but solution check failed.\n",
      "WARNING:root:Condition 25 ({'C': 0.0, 'CO': 0, 'CO2': 0, 'O': 11080348104371450, 'O2': 98081100063129136, 'O3': 3913022261520.635, 'Tgas': 451.8449522468635, 'Tnw': 339.118490883537, 'Tw': 323.15, 'current': 20, 'frac_CO2': 0.0, 'pressure': 5.0, 'fluxO': 1.8556462742738305e+20, 'fluxO2': 1.1614810266246557e+21, 'fluxO3': 3.7834977558898056e+16, 'fluxC': 0.0, 'fluxCO': 0.0, 'fluxCO2': 0.0, 'EavgMB': 0.001, 'Ion': 2000000000000000.0}): Solver failed or solution check failed.\n",
      "WARNING:root:Root finder converged (message: The solution converged.), but solution check failed.\n",
      "WARNING:root:Condition 26 ({'C': 0.0, 'CO': 0, 'CO2': 0, 'O': 11080348104371450, 'O2': 98081100063129136, 'O3': 3913022261520.635, 'Tgas': 451.8449522468635, 'Tnw': 339.118490883537, 'Tw': 323.15, 'current': 20, 'frac_CO2': 0.0, 'pressure': 5.0, 'fluxO': 1.8556462742738305e+20, 'fluxO2': 1.1614810266246557e+21, 'fluxO3': 3.7834977558898056e+16, 'fluxC': 0.0, 'fluxCO': 0.0, 'fluxCO2': 0.0, 'EavgMB': 0.001, 'Ion': 2000000000000000.0}): Solver failed or solution check failed.\n",
      "WARNING:root:Root finder converged (message: The solution converged.), but solution check failed.\n",
      "WARNING:root:Condition 9 ({'C': 0.0, 'CO': 0, 'CO2': 0, 'O': 10551273476311810, 'O2': 34191785973519152, 'O3': 1128037915895.378, 'Tgas': 440.9518449183849, 'Tnw': 337.843817904925, 'Tw': 323.15, 'current': 40, 'frac_CO2': 0.0, 'pressure': 2.0, 'fluxO': 1.763717084169756e+20, 'fluxO2': 4.041390633812239e+20, 'fluxO3': 1.0886470806177898e+16, 'fluxC': 0.0, 'fluxCO': 0.0, 'fluxCO2': 0.0, 'EavgMB': 0.001, 'Ion': 4000000000000000.0}): Solver failed or solution check failed.\n",
      "WARNING:root:Root finder converged (message: The solution converged.), but solution check failed.\n",
      "WARNING:root:Condition 10 ({'C': 0.0, 'CO': 0, 'CO2': 0, 'O': 10551273476311810, 'O2': 34191785973519152, 'O3': 1128037915895.378, 'Tgas': 440.9518449183849, 'Tnw': 337.843817904925, 'Tw': 323.15, 'current': 40, 'frac_CO2': 0.0, 'pressure': 2.0, 'fluxO': 1.763717084169756e+20, 'fluxO2': 4.041390633812239e+20, 'fluxO3': 1.0886470806177898e+16, 'fluxC': 0.0, 'fluxCO': 0.0, 'fluxCO2': 0.0, 'EavgMB': 0.001, 'Ion': 4000000000000000.0}): Solver failed or solution check failed.\n"
     ]
    },
    {
     "name": "stdout",
     "output_type": "stream",
     "text": [
      "differential_evolution step 59: f(x)= 0.047756311379645484\n",
      "differential_evolution step 60: f(x)= 0.04712446224218804\n",
      "differential_evolution step 61: f(x)= 0.04671110984993845\n",
      "differential_evolution step 62: f(x)= 0.0462733565975873\n",
      "differential_evolution step 63: f(x)= 0.04557630285534677\n"
     ]
    },
    {
     "name": "stderr",
     "output_type": "stream",
     "text": [
      "WARNING:root:Root finder converged (message: The solution converged.), but solution check failed.\n",
      "WARNING:root:Condition 11 ({'C': 0.0, 'CO': 0, 'CO2': 0, 'O': 10227815146721590, 'O2': 34456006222794272, 'O3': 1115479208075.123, 'Tgas': 441.238008153174, 'Tnw': 337.912930739729, 'Tw': 323.15, 'current': 40, 'frac_CO2': 0.0, 'pressure': 2.0, 'fluxO': 1.7098236884647297e+20, 'fluxO2': 4.0730374083815014e+20, 'fluxO3': 1.0766370272295388e+16, 'fluxC': 0.0, 'fluxCO': 0.0, 'fluxCO2': 0.0, 'EavgMB': 0.001, 'Ion': 4000000000000000.0}): Solver failed or solution check failed.\n",
      "WARNING:root:Root finder converged (message: The solution converged.), but solution check failed.\n",
      "WARNING:root:Condition 12 ({'C': 0.0, 'CO': 0, 'CO2': 0, 'O': 10227815146721590, 'O2': 34456006222794272, 'O3': 1115479208075.123, 'Tgas': 441.238008153174, 'Tnw': 337.912930739729, 'Tw': 323.15, 'current': 40, 'frac_CO2': 0.0, 'pressure': 2.0, 'fluxO': 1.7098236884647297e+20, 'fluxO2': 4.0730374083815014e+20, 'fluxO3': 1.0766370272295388e+16, 'fluxC': 0.0, 'fluxCO': 0.0, 'fluxCO2': 0.0, 'EavgMB': 0.001, 'Ion': 4000000000000000.0}): Solver failed or solution check failed.\n"
     ]
    },
    {
     "name": "stdout",
     "output_type": "stream",
     "text": [
      "differential_evolution step 64: f(x)= 0.04557630285534677\n"
     ]
    },
    {
     "name": "stderr",
     "output_type": "stream",
     "text": [
      "WARNING:root:Root finder converged (message: The solution converged.), but solution check failed.\n",
      "WARNING:root:Condition 15 ({'C': 0.0, 'CO': 0, 'CO2': 0, 'O': 12437793259850040, 'O2': 82787381940537104, 'O3': 2007970176632.502, 'Tgas': 540.039475009039, 'Tnw': 350.690744737831, 'Tw': 323.15, 'current': 40, 'frac_CO2': 0.0, 'pressure': 5.0, 'fluxO': 2.1182223196099582e+20, 'fluxO2': 9.969591348547536e+20, 'fluxO3': 1.9743531498678736e+16, 'fluxC': 0.0, 'fluxCO': 0.0, 'fluxCO2': 0.0, 'EavgMB': 0.001, 'Ion': 4000000000000000.0}): Solver failed or solution check failed.\n",
      "WARNING:root:Root finder converged (message: The solution converged.), but solution check failed.\n",
      "WARNING:root:Condition 16 ({'C': 0.0, 'CO': 0, 'CO2': 0, 'O': 12437793259850040, 'O2': 82787381940537104, 'O3': 2007970176632.502, 'Tgas': 540.039475009039, 'Tnw': 350.690744737831, 'Tw': 323.15, 'current': 40, 'frac_CO2': 0.0, 'pressure': 5.0, 'fluxO': 2.1182223196099582e+20, 'fluxO2': 9.969591348547536e+20, 'fluxO3': 1.9743531498678736e+16, 'fluxC': 0.0, 'fluxCO': 0.0, 'fluxCO2': 0.0, 'EavgMB': 0.001, 'Ion': 4000000000000000.0}): Solver failed or solution check failed.\n"
     ]
    },
    {
     "name": "stdout",
     "output_type": "stream",
     "text": [
      "differential_evolution step 65: f(x)= 0.04432619685608442\n",
      "differential_evolution step 66: f(x)= 0.0435841084787234\n",
      "differential_evolution step 67: f(x)= 0.043445237240822755\n",
      "differential_evolution step 68: f(x)= 0.04265391769027569\n",
      "differential_evolution step 69: f(x)= 0.04265391769027569\n",
      "differential_evolution step 70: f(x)= 0.042545949431174304\n",
      "differential_evolution step 71: f(x)= 0.04206189184200132\n",
      "differential_evolution step 72: f(x)= 0.04178315981574201\n",
      "differential_evolution step 73: f(x)= 0.04178315981574201\n",
      "differential_evolution step 74: f(x)= 0.041592220413429276\n",
      "differential_evolution step 75: f(x)= 0.041458107411516065\n",
      "differential_evolution step 76: f(x)= 0.04126779148889978\n",
      "differential_evolution step 77: f(x)= 0.041136346433818\n",
      "differential_evolution step 78: f(x)= 0.041136346433818\n",
      "differential_evolution step 79: f(x)= 0.041136346433818\n"
     ]
    },
    {
     "name": "stderr",
     "output_type": "stream",
     "text": [
      "WARNING:root:Root finder converged (message: The solution converged.), but solution check failed.\n",
      "WARNING:root:Condition 25 ({'C': 0.0, 'CO': 0, 'CO2': 0, 'O': 11080348104371450, 'O2': 98081100063129136, 'O3': 3913022261520.635, 'Tgas': 451.8449522468635, 'Tnw': 339.118490883537, 'Tw': 323.15, 'current': 20, 'frac_CO2': 0.0, 'pressure': 5.0, 'fluxO': 1.8556462742738305e+20, 'fluxO2': 1.1614810266246557e+21, 'fluxO3': 3.7834977558898056e+16, 'fluxC': 0.0, 'fluxCO': 0.0, 'fluxCO2': 0.0, 'EavgMB': 0.001, 'Ion': 2000000000000000.0}): Solver failed or solution check failed.\n",
      "WARNING:root:Root finder converged (message: The solution converged.), but solution check failed.\n",
      "WARNING:root:Condition 26 ({'C': 0.0, 'CO': 0, 'CO2': 0, 'O': 11080348104371450, 'O2': 98081100063129136, 'O3': 3913022261520.635, 'Tgas': 451.8449522468635, 'Tnw': 339.118490883537, 'Tw': 323.15, 'current': 20, 'frac_CO2': 0.0, 'pressure': 5.0, 'fluxO': 1.8556462742738305e+20, 'fluxO2': 1.1614810266246557e+21, 'fluxO3': 3.7834977558898056e+16, 'fluxC': 0.0, 'fluxCO': 0.0, 'fluxCO2': 0.0, 'EavgMB': 0.001, 'Ion': 2000000000000000.0}): Solver failed or solution check failed.\n"
     ]
    },
    {
     "name": "stdout",
     "output_type": "stream",
     "text": [
      "differential_evolution step 80: f(x)= 0.04104801125934555\n",
      "top_k_mod:  12\n",
      "res:  0.04125195850550937 [5.05400495e-04 1.25720940e-03 1.51916654e+01 5.93548432e-01\n",
      " 7.13883866e-01 1.18344768e+01 4.15599417e-02 6.67854869e-01] [5.05400495e-04 1.25720940e-03 1.51916654e+01 5.93548432e-01\n",
      " 7.13883866e-01 1.18344768e+01 4.15599417e-02 6.36052256e-01]\n",
      "res:  0.04102696093862821 [4.09903828e-03 1.18390562e-03 1.53637837e+01 3.43796400e-01\n",
      " 6.11472254e-01 2.23511371e+01 4.17940678e-02 8.12984010e-01] [4.09903828e-03 1.18390562e-03 1.53637837e+01 3.43796400e-01\n",
      " 6.11472254e-01 2.23511371e+01 3.98038741e-02 8.12984010e-01]\n",
      "res:  0.041297504121159616 [6.34723968e-03 1.27109273e-03 1.52078467e+01 6.10433466e-01\n",
      " 6.27993326e-01 1.28502315e+01 3.25551501e-02 7.45268500e-01] [6.34723968e-03 1.27109273e-03 1.52078467e+01 6.10433466e-01\n",
      " 6.27993326e-01 1.28502315e+01 3.10049048e-02 7.45268500e-01]\n",
      "res: \n",
      " 0.04105266025342026 [4.87706965e-03 1.15656072e-03 1.53942209e+01 4.50921062e-01\n",
      " 8.79103407e-01 2.65438272e+01 5.35272039e-02 8.59282251e-01] [4.84726032e-03 1.14891368e-03 1.53896651e+01 4.48164970e-01\n",
      " 8.73730206e-01 2.63815876e+01 5.32000382e-02 8.54030199e-01]res:  0.0412315209176185 [9.19333966e-03 1.23085125e-03 1.52291477e+01 5.44140073e-01\n",
      " 9.47816671e-01 2.24853709e+01 4.63333306e-02 8.39665329e-01] [9.19333966e-03 1.23085125e-03 1.52291477e+01 5.44140073e-01\n",
      " 9.47816671e-01 2.24853709e+01 4.63333306e-02 7.99681266e-01]\n",
      "res:  0.04148514484576509 [9.46194863e-03 1.32724885e-03 1.50583436e+01 3.51001627e-01\n",
      " 9.63718998e-01 1.15609902e+01 3.14258700e-02 6.31702859e-01] [9.46194863e-03 1.32724885e-03 1.50583436e+01 3.51001627e-01\n",
      " 9.63718998e-01 1.15609902e+01 3.14258700e-02 6.31702859e-01]\n",
      "res:  0.04138335882982606 [1.25213760e-02 1.23816085e-03 1.51968349e+01 8.71863544e-01\n",
      " 5.41815102e-01 1.65283415e+01 3.87644379e-02 7.16789088e-01] [1.25213760e-02 1.23816085e-03 1.51968349e+01 8.71863544e-01\n",
      " 5.41815102e-01 1.65283415e+01 3.87644379e-02 6.82656274e-01]\n",
      "res:  0.04107486562170934 [4.51360264e-04 1.19925565e-03 1.53201913e+01 2.33100969e-01\n",
      " 3.02342743e-01 2.64546960e+01 5.55733338e-02 8.91338333e-01] [4.44007778e-04 1.20216431e-03 1.53354657e+01 2.29303844e-01\n",
      " 2.97417695e-01 2.60237592e+01 5.82493459e-02 8.76818773e-01]\n",
      "res:  0.04141012384258167 [1.27749351e-02 1.26708261e-03 1.51590135e+01 6.84067517e-01\n",
      " 9.74397624e-01 2.28803959e+01 3.97658312e-02 8.32411396e-01] [1.27749351e-02 1.26708261e-03 1.51590135e+01 6.84067517e-01\n",
      " 9.74397624e-01 2.28803959e+01 3.78722202e-02 8.32411396e-01]\n",
      "res:  0.041485334499269604 [1.68200176e-02 1.23121767e-03 1.52071801e+01 5.05246332e-01\n",
      " 7.32448113e-01 1.62151519e+01 3.23367571e-02 6.76461006e-01] [1.68200176e-02 1.23121767e-03 1.52071801e+01 5.05246332e-01\n",
      " 7.32448113e-01 1.62151519e+01 3.07969115e-02 6.76461006e-01]\n",
      "res:  0.041476117863798116 [1.02027551e-02 1.12405886e-03 1.53938782e+01 6.87012546e-01\n",
      " 8.77347216e-01 2.39068346e+01 5.85509999e-02 7.81364711e-01] [1.02027551e-02 1.12405886e-03 1.53938782e+01 6.87012546e-01\n",
      " 8.77347216e-01 2.39068346e+01 5.85509999e-02 7.44156868e-01]\n",
      "res:  0.041401543162700886 [1.86308288e-03 1.27229776e-03 1.51653419e+01 8.26975338e-01\n",
      " 6.06252274e-01 2.39780622e+01 3.98927526e-02 5.91338150e-01] [1.85106868e-03 1.26853286e-03 1.51411280e+01 8.21642542e-01\n",
      " 6.02342822e-01 2.38234383e+01 3.96355020e-02 5.87524873e-01]\n",
      "differential_evolution step 1: f(x)= 0.04102696093862777\n",
      "Polishing solution with 'L-BFGS-B'\n"
     ]
    }
   ],
   "source": [
    "\n",
    "if __name__ == '__main__':\n",
    "    optimizer = opt.Optimizer(sim, func_optimization, loss_function)\n",
    "\n",
    "    global_bounds = [(1e-5, 1.0), (1e-8, 1.0), (5, 30), (1e-5, 1.0), (1e-8, 1.0), (5, 30), \\\n",
    "                    (4e-4, 0.2), (1e-2, 1.0)]\n",
    "\n",
    "    config = {\n",
    "        \"bounds\": global_bounds,\n",
    "        \"de_maxiter\": 3,\n",
    "        \"de_num_iterations\": 1,\n",
    "    }\n",
    "    \n",
    "    best_local, best_local_loss = optimizer.hybrid_optimization_searchV2(config)\n",
    "\n",
    "# differential_evolution step 50: f(x)= 0.041662857183863554\n"
   ]
  },
  {
   "cell_type": "code",
   "execution_count": 5,
   "metadata": {},
   "outputs": [
    {
     "name": "stdout",
     "output_type": "stream",
     "text": [
      "             message: Maximum number of iterations has been exceeded.\n",
      "             success: False\n",
      "                 fun: 0.04104801125934555\n",
      "                   x: [ 4.099e-03  1.184e-03  1.536e+01  3.438e-01\n",
      "                        6.115e-01  2.235e+01  3.980e-02  8.130e-01]\n",
      "                 nit: 80\n",
      "                nfev: 9720\n",
      "          population: [[ 4.099e-03  1.184e-03 ...  3.980e-02  8.130e-01]\n",
      "                       [ 1.341e-02  1.622e-03 ...  1.159e-02  3.105e-01]\n",
      "                       ...\n",
      "                       [ 1.924e-02  1.732e-03 ...  3.338e-02  8.113e-01]\n",
      "                       [ 4.834e-03  9.254e-04 ...  5.363e-02  6.425e-01]]\n",
      " population_energies: [ 4.105e-02  4.563e-02 ...  4.648e-02  4.502e-02]\n",
      "             message: Optimization terminated successfully.\n",
      "             success: True\n",
      "                 fun: 0.041019383761423125\n",
      "                   x: [ 1.612e-03  1.188e-03  1.536e+01  3.438e-01\n",
      "                        6.115e-01  2.235e+01  4.213e-02  8.130e-01]\n",
      "                 nit: 1\n",
      "                nfev: 195\n",
      "          population: [[ 4.099e-03  1.184e-03 ...  4.179e-02  8.130e-01]\n",
      "                       [ 4.877e-03  1.157e-03 ...  5.353e-02  8.593e-01]\n",
      "                       ...\n",
      "                       [ 1.682e-02  1.231e-03 ...  3.234e-02  6.765e-01]\n",
      "                       [ 1.030e-02  1.243e-03 ...  3.989e-02  8.269e-01]]\n",
      " population_energies: [ 4.102e-02  4.105e-02  4.123e-02  4.125e-02\n",
      "                        4.115e-02  4.138e-02  4.105e-02  4.141e-02\n",
      "                        4.149e-02  4.148e-02  4.149e-02  4.126e-02]\n",
      "                 jac: [-7.380e-04  6.570e-03 -5.492e-04  7.702e-08\n",
      "                        4.025e-08  6.870e-08 -6.396e-03  2.414e-04]\n"
     ]
    }
   ],
   "source": [
    "print(best_local)\n",
    "print(best_local_loss)"
   ]
  },
  {
   "cell_type": "code",
   "execution_count": 6,
   "metadata": {},
   "outputs": [],
   "source": [
    "\n",
    "# def func_optimization(params):\n",
    "    \n",
    "#     A_O, B_O, E_O, A_CO, B_CO, E_CO, SF_1, SF_2 = params\n",
    "    \n",
    "#     nu_d_mod = lambda T: 1e15 * (A_O + B_O * np.exp(E_O/(const_dict['R'] * T)))\n",
    "#     nu_d_mod_2 = lambda T: 1e15 * (A_CO + B_CO * np.exp(E_CO/(const_dict['R'] * T)))\n",
    "    \n",
    "#     dict_mod_vec = [\n",
    "#     {\"id\": 2, \"rate\": None, \"model_dict\": {\"nu_d\": nu_d_mod}},\n",
    "#     {\"id\": 10, \"rate\": None, \"model_dict\": {\"nu_d\": nu_d_mod}},\n",
    "#     {\"id\": 31, \"rate\": None, \"model_dict\": {\"nu_d\": nu_d_mod_2}},\n",
    "    \n",
    "#     {\"id\": 32, \"rate\": None, \"model_dict\": {\"SF\": SF_1}},\n",
    "#     {\"id\": 35, \"rate\": None, \"model_dict\": {\"SF\": SF_1}},\n",
    "    \n",
    "#     {\"id\": 33, \"rate\": None, \"model_dict\": {\"SF\": SF_2}},\n",
    "#     {\"id\": 34, \"rate\": None, \"model_dict\": {\"SF\": SF_2}},\n",
    "#     {\"id\": 36, \"rate\": None, \"model_dict\": {\"SF\": SF_2}},\n",
    "#     {\"id\": 37, \"rate\": None, \"model_dict\": {\"SF\": SF_2}},\n",
    "#     {\"id\": 38, \"rate\": None, \"model_dict\": {\"SF\": SF_2}},\n",
    "#     {\"id\": 39, \"rate\": None, \"model_dict\": {\"SF\": SF_2}},\n",
    "#     ]\n",
    "    \n",
    "#     return dict_mod_vec ----->\n",
    "\n",
    "#          message: Maximum number of iterations has been exceeded.\n",
    "#              success: False\n",
    "#                  fun: 0.04104801125934555\n",
    "#                    x: [ 4.099e-03  1.184e-03  1.536e+01  3.438e-01\n",
    "#                         6.115e-01  2.235e+01  3.980e-02  8.130e-01]\n",
    "#                  nit: 80\n",
    "#                 nfev: 9720\n",
    "#           population: [[ 4.099e-03  1.184e-03 ...  3.980e-02  8.130e-01]\n",
    "#                        [ 1.341e-02  1.622e-03 ...  1.159e-02  3.105e-01]\n",
    "#                        ...\n",
    "#                        [ 1.924e-02  1.732e-03 ...  3.338e-02  8.113e-01]\n",
    "#                        [ 4.834e-03  9.254e-04 ...  5.363e-02  6.425e-01]]\n",
    "#  population_energies: [ 4.105e-02  4.563e-02 ...  4.648e-02  4.502e-02]\n",
    "#              message: Optimization terminated successfully.\n",
    "#              success: True\n",
    "#                  fun: 0.041019383761423125\n",
    "#                    x: [ 1.612e-03  1.188e-03  1.536e+01  3.438e-01\n",
    "#                         6.115e-01  2.235e+01  4.213e-02  8.130e-01]\n",
    "#                  nit: 1\n",
    "#                 nfev: 195\n",
    "#           population: [[ 4.099e-03  1.184e-03 ...  4.179e-02  8.130e-01]\n",
    "#                        [ 4.877e-03  1.157e-03 ...  5.353e-02  8.593e-01]\n",
    "#                        ...\n",
    "#                        [ 1.682e-02  1.231e-03 ...  3.234e-02  6.765e-01]\n",
    "#                        [ 1.030e-02  1.243e-03 ...  3.989e-02  8.269e-01]]\n",
    "#  population_energies: [ 4.102e-02  4.105e-02  4.123e-02  4.125e-02\n",
    "#                         4.115e-02  4.138e-02  4.105e-02  4.141e-02\n",
    "#                         4.149e-02  4.148e-02  4.149e-02  4.126e-02]\n",
    "#                  jac: [-7.380e-04  6.570e-03 -5.492e-04  7.702e-08\n",
    "#                         4.025e-08  6.870e-08 -6.396e-03  2.414e-04]\n",
    "\n",
    "\n",
    "\n",
    "\n",
    "\n",
    "#   fun: 0.04481267533902918\n",
    "#                    x: [ 1.000e-05  1.788e-03  1.427e+01  3.978e-01\n",
    "#                         2.591e-01  2.163e+01]\n",
    "\n",
    "\n",
    "# DE resul: [7.54561369e-02 3.30911944e-04 1.80716671e+01 6.55878140e-02\n",
    "#  9.49664603e-01 5.15676107e+00] | 0.04027624574740497\n",
    "\n",
    "\n",
    "\n",
    "#              message: Maximum number of iterations has been exceeded.\n",
    "#              success: False\n",
    "#                  fun: 0.04132735187758759\n",
    "#                    x: [ 2.584e-02  6.806e-04  1.656e+01  6.329e-01\n",
    "#                         8.919e-01  1.696e+01]\n",
    "#                  nit: 50\n",
    "#                 nfev: 4590\n",
    "#           population: [[ 2.584e-02  6.806e-04 ...  8.919e-01  1.696e+01]\n",
    "#                        [ 2.777e-02  1.851e-03 ...  6.498e-01  1.415e+01]\n",
    "#                        ...\n",
    "#                        [ 1.123e-01  1.465e-03 ...  2.758e-01  2.268e+01]\n",
    "#                        [ 9.516e-02  1.558e-03 ...  7.147e-01  1.032e+01]]\n",
    "#  population_energies: [ 4.133e-02  5.156e-02 ...  6.500e-02  6.471e-02]\n",
    "#              message: Optimization terminated successfully.\n",
    "#              success: True\n",
    "#                  fun: 0.0412456072148422\n",
    "#                    x: [ 2.649e-02  6.797e-04  1.653e+01  9.830e-01\n",
    "#                         8.385e-02  2.636e+01]\n",
    "#                  nit: 1\n",
    "#                 nfev: 18\n",
    "#           population: [[ 2.649e-02  6.797e-04 ...  8.385e-02  2.636e+01]\n",
    "#                        [ 3.264e-02  6.970e-04 ...  8.901e-02  2.424e+01]\n",
    "#                        ...\n",
    "#                        [ 9.326e-03  7.979e-04 ...  1.930e-01  2.220e+01]\n",
    "#                        [ 6.376e-02  6.047e-04 ...  1.204e-01  2.659e+01]]\n",
    "#  population_energies: [ 4.125e-02  4.135e-02  4.137e-02  4.161e-02\n",
    "#                         4.146e-02  4.133e-02  4.187e-02  4.155e-02\n",
    "#                         4.231e-02]\n",
    "\n",
    "# ####* Test default \n",
    "\n",
    "import matplotlib.pyplot as plt\n",
    "\n",
    "\n",
    "def do_plots(params):\n",
    "\n",
    "\n",
    "    loss = optimizer.objective_function(params)\n",
    "    print(\"PARAMS: \", params, \"Loss: \", loss)\n",
    "\n",
    "    frac_solutions_arr, gammas_results_arr, gammas_sum_arr, gamma_exp_data = optimizer.solve_simulations_updated(params)\n",
    "    exp_data_arr = optimizer.exp_data_arr\n",
    "\n",
    "    inv_Tnw_vec = np.array([300/vec['Tnw'] for vec in exp_data_arr])\n",
    "\n",
    "    plt.figure\n",
    "    plt.plot(inv_Tnw_vec, gamma_exp_data, '.', label=\"Exp\")\n",
    "    plt.plot(inv_Tnw_vec, gammas_sum_arr, '.', label=\"Sim\")\n",
    "    plt.legend()\n",
    "    plt.xlabel(r\"$300/T_{nw}$\")\n",
    "    plt.ylabel(r\"$\\gamma$\")\n",
    "\n",
    "    current_vec = np.array([vec['current'] for vec in exp_data_arr])\n",
    "    Tw_vec = np.array([vec['Tw'] for vec in exp_data_arr])\n",
    "\n",
    "    current_unique = np.unique(current_vec)\n",
    "    Tw_unique = np.unique([vec['Tw'] for vec in exp_data_arr])\n",
    "\n",
    "\n",
    "    A, B = np.meshgrid(current_unique, Tw_unique)\n",
    "    combinations = np.stack([A.ravel(), B.ravel()], axis=1)\n",
    "\n",
    "    for comb in combinations:\n",
    "        current = comb[0]\n",
    "        Tw = comb[1]\n",
    "\n",
    "        idx_valid = np.logical_and(current_vec == current, Tw_vec == Tw)\n",
    "        data_arr = exp_data_arr[idx_valid]\n",
    "        \n",
    "        pressure_vec = np.array([vec['pressure'] for vec in data_arr])\n",
    "        gamma_exp = gamma_exp_data[idx_valid]\n",
    "        gamma_sim = gammas_sum_arr[idx_valid]\n",
    "        \n",
    "        plt.figure()\n",
    "        plt.plot(pressure_vec, gamma_exp*1e4, 's', label=\"Exp\")\n",
    "        plt.plot(pressure_vec, gamma_sim*1e4, 's', label=\"Sim\")\n",
    "        plt.title(f\"I = {current} and Tw = {Tw}\")\n",
    "        plt.xlabel(\"Pressure\")\n",
    "        plt.ylabel(r\"$\\gamma$\")\n",
    "        plt.legend()\n",
    "        plt.grid()\n",
    "        plt.ylim(1, 14)\n",
    "        plt.show()\n",
    "\n"
   ]
  },
  {
   "cell_type": "code",
   "execution_count": 7,
   "metadata": {},
   "outputs": [],
   "source": [
    "\n",
    "# params_1 = np.array([0.01634, 1.67e-4, 19.75])\n",
    "# do_plots(params_1)\n"
   ]
  },
  {
   "cell_type": "code",
   "execution_count": 8,
   "metadata": {},
   "outputs": [],
   "source": [
    "\n",
    "\n",
    "\n",
    "\n",
    "\n",
    "# params_2 = np.array([2.39375716e-02, 7.11846527e-04, 1.64416626e+01])\n",
    "# do_plots(params_2)"
   ]
  },
  {
   "cell_type": "code",
   "execution_count": 9,
   "metadata": {},
   "outputs": [],
   "source": [
    "\n",
    "# def nu_d_func(T, params):\n",
    "#     A, B, E = params\n",
    "    \n",
    "#     nu_d_mod = 1e15 * (A + B * np.exp(E * np.reciprocal(const_dict['R'] * T)))\n",
    "    \n",
    "#     return nu_d_mod\n",
    "\n",
    "\n",
    "# T_space = np.linspace(-20+273.15, 50+273.15, 200)\n",
    "\n",
    "# vec_1 = np.array([nu_d_func(T, params_1) for T in T_space])\n",
    "# vec_2 = np.array([nu_d_func(T, params_2) for T in T_space])\n",
    "# vec_3 = np.array([nu_d_func(T, params_3) for T in T_space])\n",
    "\n",
    "# plt.plot(T_space, vec_1, label=\"Paper\")\n",
    "# plt.plot(T_space, vec_2, label=\"DE 1\")\n",
    "# plt.plot(T_space, vec_3, label=\"DE 2\")\n",
    "# plt.legend()\n",
    "# plt.xlabel(\"Tw\")\n",
    "# plt.ylabel(r\"$\\nu_{d}$\")"
   ]
  },
  {
   "cell_type": "code",
   "execution_count": null,
   "metadata": {},
   "outputs": [],
   "source": []
  }
 ],
 "metadata": {
  "kernelspec": {
   "display_name": "LLM",
   "language": "python",
   "name": "python3"
  },
  "language_info": {
   "codemirror_mode": {
    "name": "ipython",
    "version": 3
   },
   "file_extension": ".py",
   "mimetype": "text/x-python",
   "name": "python",
   "nbconvert_exporter": "python",
   "pygments_lexer": "ipython3",
   "version": "3.12.7"
  }
 },
 "nbformat": 4,
 "nbformat_minor": 2
}
