{
 "cells": [
  {
   "cell_type": "code",
   "execution_count": 1,
   "metadata": {},
   "outputs": [],
   "source": [
    "\n",
    "import numpy as np\n",
    "import scipy as sp\n",
    "import h5py\n",
    "\n",
    "import os\n",
    "\n",
    "import SimData as sim_data\n",
    "import Simulator as sim_system\n",
    "import Optimization as opt"
   ]
  },
  {
   "cell_type": "code",
   "execution_count": 2,
   "metadata": {},
   "outputs": [],
   "source": [
    "\n",
    "\n",
    "###* Input files and function\n",
    "\n",
    "reactions_file = \"reactionsSimpleV1.json\"\n",
    "\n",
    "const_dict = {\n",
    "        \"F0\": 1.5e15,           # cm^-2\n",
    "        \"S0\": 3e13,             # cm^-2\n",
    "        \n",
    "        \"R\": 0.00831442,        # kJ/mol*K\n",
    "        \"kBoltz\": 1.380649e-23, # J/K\n",
    "}\n",
    "\n",
    "initial_state_dict = {'O_F': 0.1, 'O2_F':0.1 ,'O_S': 0.1, 'Vdb_S':0.1, \n",
    "                      'Odb_S': 0.1, 'CO_F': 0.1, 'CO2_F':0.1, 'CO_S': 0.1, \n",
    "                      'COdb_S': 0.0}\n",
    "\n",
    "###* Functions for the data transformation\n",
    "def compute_flux(const_dict, exp_dict, specie, molar_mass):\n",
    "    den = exp_dict.get(specie, 0.0)\n",
    "    v_th = np.sqrt((8.0 * const_dict['R'] * 1000 * exp_dict['Tnw'])/(molar_mass * np.pi))\n",
    "    flux = 0.25 * v_th * den * 100\n",
    "    return flux\n",
    "\n",
    "\n",
    "def compute_remaining_flux(const_dict, exp_dict, molar_mass): \n",
    "    den = exp_dict['N'] - exp_dict['O'] - exp_dict['CO']\n",
    "    v_th = np.sqrt((8.0 * const_dict['R'] * 1000 * exp_dict['Tnw'])/(molar_mass * np.pi))\n",
    "    flux = 0.25 * v_th * den * 100\n",
    "    return flux\n",
    "\n",
    "####? EavgMB data extracted from the Booth et al. 2019 paper\n",
    "p_data_exp = [0.2, 0.3, 0.4, 0.5, 0.6, 0.75, 1.5]\n",
    "EavgMB_data = [1.04, 0.91, 0.87, 0.83, 0.77, 0.5, 0.001]\n",
    "interpolator = sp.interpolate.interp1d(p_data_exp, EavgMB_data, kind='linear', fill_value=0.001, bounds_error=False)\n",
    "\n",
    "\n",
    "transformations_exp = {\n",
    "    'Tw':       lambda const_dict, exp_dict: exp_dict['Tw'] + 273.15,\n",
    "    'fluxO' :   lambda const_dict, exp_dict: compute_flux(const_dict, exp_dict,'O', 0.016),\n",
    "    'fluxO2' :  lambda const_dict, exp_dict: compute_flux(const_dict, exp_dict,'O2', 0.032),\n",
    "    'fluxO3' :  lambda const_dict, exp_dict: compute_flux(const_dict, exp_dict,'O3', 0.048),\n",
    "    'fluxC':    lambda const_dict, exp_dict: compute_flux(const_dict, exp_dict, 'C', 0.012),\n",
    "    'fluxCO':   lambda const_dict, exp_dict: compute_flux(const_dict, exp_dict, 'CO', 0.028),\n",
    "    'fluxCO2':  lambda const_dict, exp_dict: compute_flux(const_dict, exp_dict, 'CO2', 0.048),\n",
    "    'EavgMB':   lambda const_dict, exp_dict: interpolator(exp_dict['pressure']).item(),\n",
    "    'Ion':      lambda const_dict, exp_dict: 1e14 * exp_dict[\"current\"]\n",
    "}\n",
    "\n",
    "output_folder_path = \"Buffer_Data\"\n",
    "exp_data_file = \"Experimental_data_CO_Jorge.hdf5\""
   ]
  },
  {
   "cell_type": "code",
   "execution_count": 3,
   "metadata": {},
   "outputs": [
    {
     "name": "stdout",
     "output_type": "stream",
     "text": [
      "  d[CO2_F]/dt = -CO2_F*r_29 + r_28*(-CO2_F - CO_F - O2_F - O_F + 1.0)\n",
      "  d[CO_F]/dt = -CO_F*O_F*r_34 - 0.02*CO_F*O_S*r_39 - CO_F*r_31 - CO_F*r_33 - 0.02*CO_F*r_35*(-CO_S - O_S - Odb_S - Vdb_S + 1.0) + r_30*(-CO2_F - CO_F - O2_F - O_F + 1.0)\n",
      "  d[CO_S]/dt = CO_F*r_35*(-CO_S - O_S - Odb_S - Vdb_S + 1.0) - CO_S*O_F*r_38 - CO_S*r_36 + r_32*(-CO_S - O_S - Odb_S - Vdb_S + 1.0)\n",
      "  d[O2_F]/dt = -O2_F*O_F*r_15 - O2_F*r_10 - O2_F*r_12 - O2_F*r_14 + r_9*(-CO2_F - CO_F - O2_F - O_F + 1.0)\n",
      "  d[O_F]/dt = -CO_F*O_F*r_34 - 0.02*CO_S*O_F*r_38 - O2_F*O_F*r_15 - 2*O_F**2*r_8 - 0.02*O_F*O_S*r_7 - 0.02*O_F*Odb_S*r_27 - 0.02*O_F*Vdb_S*r_26 - O_F*r_11 - O_F*r_2 - O_F*r_4 - 0.02*O_F*r_5*(-CO_S - O_S - Odb_S - Vdb_S + 1.0) + r_1*(-CO2_F - CO_F - O2_F - O_F + 1.0)\n",
      "  d[O_S]/dt = -CO_F*O_S*r_39 - O_F*O_S*r_7 + O_F*r_5*(-CO_S - O_S - Odb_S - Vdb_S + 1.0) - O_S*r_16 - O_S*r_17 - O_S*r_37 - O_S*r_6 + r_3*(-CO_S - O_S - Odb_S - Vdb_S + 1.0)\n",
      "  d[Odb_S]/dt = -O_F*Odb_S*r_27 + O_F*Vdb_S*r_26 - Odb_S*r_23 - Odb_S*r_24 - Odb_S*r_25 + Vdb_S*r_20\n",
      "  d[Vdb_S]/dt = O_F*Odb_S*r_27 - O_F*Vdb_S*r_26 + O_S*r_16 + O_S*r_17 + Odb_S*r_25 - Vdb_S*r_20 - Vdb_S*r_21 - Vdb_S*r_22 + r_18*(-CO_S - O_S - Odb_S - Vdb_S + 1.0) + r_19*(-CO_S - O_S - Odb_S - Vdb_S + 1.0)\n"
     ]
    }
   ],
   "source": [
    "\n",
    "\n",
    "def func_optimization(params):\n",
    "    \n",
    "    A_O, B_O, E_O, \\\n",
    "    A_CO, B_CO, E_CO = params\n",
    "    \n",
    "    nu_d_mod = lambda T: 1e15 * (A_O + B_O * np.exp(E_O/(const_dict['R'] * T)))\n",
    "    nu_d_mod_2 = lambda T: 1e15 * (A_CO + B_CO * np.exp(E_CO/(const_dict['R'] * T)))\n",
    "    \n",
    "    dict_mod_vec = [\n",
    "    {\"id\": 2, \"rate\": None, \"model_dict\": {\"nu_d\": nu_d_mod}},\n",
    "    {\"id\": 10, \"rate\": None, \"model_dict\": {\"nu_d\": nu_d_mod}},\n",
    "    {\"id\": 31, \"rate\": None, \"model_dict\": {\"nu_d\": nu_d_mod_2}}\n",
    "    ]\n",
    "    \n",
    "    return dict_mod_vec\n",
    "\n",
    "loss_function = lambda exp, teo: np.mean((np.reciprocal(exp)*(exp-teo))**2)\n",
    "\n",
    "exp_file = os.path.join(output_folder_path, exp_data_file)\n",
    "sim = sim_system.Simulator(reactions_file, const_dict, exp_file, initial_state_dict, transformations_exp=transformations_exp)\n"
   ]
  },
  {
   "cell_type": "code",
   "execution_count": 4,
   "metadata": {},
   "outputs": [
    {
     "name": "stdout",
     "output_type": "stream",
     "text": [
      "differential_evolution step 1: f(x)= 0.25301640942027137\n",
      "differential_evolution step 2: f(x)= 0.25301640942027137\n",
      "differential_evolution step 3: f(x)= 0.25301640942027137\n",
      "differential_evolution step 4: f(x)= 0.25301640942027137\n",
      "differential_evolution step 5: f(x)= 0.1621422123882075\n",
      "differential_evolution step 6: f(x)= 0.16030325380635727\n",
      "differential_evolution step 7: f(x)= 0.11576226802183723\n",
      "differential_evolution step 8: f(x)= 0.11576226802183723\n",
      "differential_evolution step 9: f(x)= 0.11576226802183723\n",
      "differential_evolution step 10: f(x)= 0.11576226802183723\n",
      "differential_evolution step 11: f(x)= 0.11399738083840434\n",
      "differential_evolution step 12: f(x)= 0.11399738083840434\n",
      "differential_evolution step 13: f(x)= 0.10850095964817844\n",
      "differential_evolution step 14: f(x)= 0.10850095964817844\n",
      "differential_evolution step 15: f(x)= 0.0836481166197149\n",
      "differential_evolution step 16: f(x)= 0.0836481166197149\n",
      "differential_evolution step 17: f(x)= 0.0836481166197149\n",
      "differential_evolution step 18: f(x)= 0.0836481166197149\n",
      "differential_evolution step 19: f(x)= 0.0786694534543104\n",
      "differential_evolution step 20: f(x)= 0.0786694534543104\n",
      "differential_evolution step 21: f(x)= 0.0750992828034893\n",
      "differential_evolution step 22: f(x)= 0.07507940972172675\n",
      "differential_evolution step 23: f(x)= 0.06795952809413422\n",
      "differential_evolution step 24: f(x)= 0.06795952809413422\n",
      "differential_evolution step 25: f(x)= 0.06795952809413422\n",
      "differential_evolution step 26: f(x)= 0.06795952809413422\n",
      "differential_evolution step 27: f(x)= 0.06659838814207782\n",
      "differential_evolution step 28: f(x)= 0.0654837278787286\n",
      "differential_evolution step 29: f(x)= 0.0654837278787286\n",
      "differential_evolution step 30: f(x)= 0.06026702251259394\n",
      "differential_evolution step 31: f(x)= 0.060266934100965036\n",
      "differential_evolution step 32: f(x)= 0.060266934100965036\n",
      "differential_evolution step 33: f(x)= 0.060266934100965036\n",
      "differential_evolution step 34: f(x)= 0.05723582893628383\n",
      "differential_evolution step 35: f(x)= 0.05684569152704586\n",
      "differential_evolution step 36: f(x)= 0.05483025645233981\n",
      "differential_evolution step 37: f(x)= 0.05272467157892331\n",
      "differential_evolution step 38: f(x)= 0.05272467157892331\n",
      "differential_evolution step 39: f(x)= 0.0523023755361019\n",
      "differential_evolution step 40: f(x)= 0.04859685499400896\n",
      "differential_evolution step 41: f(x)= 0.04859685499400896\n"
     ]
    },
    {
     "name": "stderr",
     "output_type": "stream",
     "text": [
      "WARNING:root:Root finder converged (message: The solution converged.), but solution check failed.\n",
      "WARNING:root:Condition 3 ({'C': 0.0, 'CO': 0, 'CO2': 0, 'O': 7734088067177275, 'O2': 16748044168456480, 'O3': 543279786949.2826, 'Tgas': 395.3334940722305, 'Tnw': 332.346773039308, 'Tw': 323.15, 'current': 40, 'frac_CO2': 0.0, 'pressure': 1.0, 'fluxO': 1.2822446631169155e+20, 'fluxO2': 1.9634094947387762e+20, 'fluxO3': 5200255798205985.0, 'fluxC': 0.0, 'fluxCO': 0.0, 'fluxCO2': 0.0, 'EavgMB': 0.33366666666666667, 'Ion': 4000000000000000.0}): Solver failed or solution check failed.\n",
      "WARNING:root:Root finder converged (message: The solution converged.), but solution check failed.\n",
      "WARNING:root:Condition 4 ({'C': 0.0, 'CO': 0, 'CO2': 0, 'O': 7734088067177275, 'O2': 16748044168456480, 'O3': 543279786949.2826, 'Tgas': 395.3334940722305, 'Tnw': 332.346773039308, 'Tw': 323.15, 'current': 40, 'frac_CO2': 0.0, 'pressure': 1.0, 'fluxO': 1.2822446631169155e+20, 'fluxO2': 1.9634094947387762e+20, 'fluxO3': 5200255798205985.0, 'fluxC': 0.0, 'fluxCO': 0.0, 'fluxCO2': 0.0, 'EavgMB': 0.33366666666666667, 'Ion': 4000000000000000.0}): Solver failed or solution check failed.\n"
     ]
    },
    {
     "name": "stdout",
     "output_type": "stream",
     "text": [
      "differential_evolution step 42: f(x)= 0.045041585982753\n",
      "differential_evolution step 43: f(x)= 0.045041585982753\n",
      "differential_evolution step 44: f(x)= 0.045041585982753\n",
      "differential_evolution step 45: f(x)= 0.045041585982753\n",
      "differential_evolution step 46: f(x)= 0.04365172494878103\n",
      "differential_evolution step 47: f(x)= 0.04344082532308932\n"
     ]
    },
    {
     "name": "stderr",
     "output_type": "stream",
     "text": [
      "WARNING:root:Root finder converged (message: The solution converged.), but solution check failed.\n",
      "WARNING:root:Condition 9 ({'C': 0.0, 'CO': 0, 'CO2': 0, 'O': 10551273476311810, 'O2': 34191785973519152, 'O3': 1128037915895.378, 'Tgas': 440.9518449183849, 'Tnw': 337.843817904925, 'Tw': 323.15, 'current': 40, 'frac_CO2': 0.0, 'pressure': 2.0, 'fluxO': 1.763717084169756e+20, 'fluxO2': 4.041390633812239e+20, 'fluxO3': 1.0886470806177898e+16, 'fluxC': 0.0, 'fluxCO': 0.0, 'fluxCO2': 0.0, 'EavgMB': 0.001, 'Ion': 4000000000000000.0}): Solver failed or solution check failed.\n",
      "WARNING:root:Root finder converged (message: The solution converged.), but solution check failed.\n",
      "WARNING:root:Condition 10 ({'C': 0.0, 'CO': 0, 'CO2': 0, 'O': 10551273476311810, 'O2': 34191785973519152, 'O3': 1128037915895.378, 'Tgas': 440.9518449183849, 'Tnw': 337.843817904925, 'Tw': 323.15, 'current': 40, 'frac_CO2': 0.0, 'pressure': 2.0, 'fluxO': 1.763717084169756e+20, 'fluxO2': 4.041390633812239e+20, 'fluxO3': 1.0886470806177898e+16, 'fluxC': 0.0, 'fluxCO': 0.0, 'fluxCO2': 0.0, 'EavgMB': 0.001, 'Ion': 4000000000000000.0}): Solver failed or solution check failed.\n"
     ]
    },
    {
     "name": "stdout",
     "output_type": "stream",
     "text": [
      "differential_evolution step 48: f(x)= 0.04344082532308932\n",
      "differential_evolution step 49: f(x)= 0.043422080178348345\n"
     ]
    },
    {
     "name": "stderr",
     "output_type": "stream",
     "text": [
      "WARNING:root:DE Iteration 1 did not converge successfully (Message: Maximum number of iterations has been exceeded.).\n"
     ]
    },
    {
     "name": "stdout",
     "output_type": "stream",
     "text": [
      "differential_evolution step 50: f(x)= 0.04258241188073605\n",
      "DE Iteration 1 | False\n",
      "DE resul: [1.51005575e-03 1.15770584e-03 1.53086278e+01 6.55738205e-01\n",
      " 6.09171409e-01 2.34081195e+01] | 0.04258241188073605\n",
      "DE:              message: Maximum number of iterations has been exceeded.\n",
      "             success: False\n",
      "                 fun: 0.04258241188073605\n",
      "                   x: [ 1.510e-03  1.158e-03  1.531e+01  6.557e-01\n",
      "                        6.092e-01  2.341e+01]\n",
      "                 nit: 50\n",
      "                nfev: 4590\n",
      "          population: [[ 1.510e-03  1.158e-03 ...  6.092e-01  2.341e+01]\n",
      "                       [ 2.461e-02  3.445e-03 ...  3.647e-01  1.835e+01]\n",
      "                       ...\n",
      "                       [ 4.697e-02  3.283e-03 ...  1.431e-01  1.525e+01]\n",
      "                       [ 6.516e-03  3.475e-03 ...  6.291e-02  2.303e+01]]\n",
      " population_energies: [ 4.258e-02  6.091e-02 ...  6.329e-02  5.568e-02]\n",
      "calls:  4590\n",
      "itts:  50\n",
      "differential_evolution step 1: f(x)= 0.228876498775014\n",
      "differential_evolution step 2: f(x)= 0.228876498775014\n",
      "differential_evolution step 3: f(x)= 0.21192120760367097\n",
      "differential_evolution step 4: f(x)= 0.21192120760367097\n",
      "differential_evolution step 5: f(x)= 0.19507332019218712\n",
      "differential_evolution step 6: f(x)= 0.16881694185817778\n",
      "differential_evolution step 7: f(x)= 0.12380984226796768\n",
      "differential_evolution step 8: f(x)= 0.12380984226796768\n",
      "differential_evolution step 9: f(x)= 0.12380984226796768\n",
      "differential_evolution step 10: f(x)= 0.12380984226796768\n",
      "differential_evolution step 11: f(x)= 0.1141706508675242\n",
      "differential_evolution step 12: f(x)= 0.09771941655561141\n",
      "differential_evolution step 13: f(x)= 0.09771941655561141\n",
      "differential_evolution step 14: f(x)= 0.09561278886318647\n",
      "differential_evolution step 15: f(x)= 0.09561278886318647\n",
      "differential_evolution step 16: f(x)= 0.09561278886318647\n",
      "differential_evolution step 17: f(x)= 0.09561278886318647\n",
      "differential_evolution step 18: f(x)= 0.08601803187382372\n",
      "differential_evolution step 19: f(x)= 0.07481255988248234\n",
      "differential_evolution step 20: f(x)= 0.07260727813338387\n",
      "differential_evolution step 21: f(x)= 0.07260727813338387\n",
      "differential_evolution step 22: f(x)= 0.07260727813338387\n",
      "differential_evolution step 23: f(x)= 0.07260727812875672\n",
      "differential_evolution step 24: f(x)= 0.05412224575740676\n",
      "differential_evolution step 25: f(x)= 0.05412224575740676\n",
      "differential_evolution step 26: f(x)= 0.05412224575740676\n",
      "differential_evolution step 27: f(x)= 0.05412224575740676\n",
      "differential_evolution step 28: f(x)= 0.05412224575740676\n",
      "differential_evolution step 29: f(x)= 0.05412224575740676\n",
      "differential_evolution step 30: f(x)= 0.05262658030229802\n",
      "differential_evolution step 31: f(x)= 0.046925281825567024\n",
      "differential_evolution step 32: f(x)= 0.046925281825567024\n",
      "differential_evolution step 33: f(x)= 0.046925281825567024\n",
      "differential_evolution step 34: f(x)= 0.046925281825567024\n",
      "differential_evolution step 35: f(x)= 0.046925281825567024\n",
      "differential_evolution step 36: f(x)= 0.046925281825567024\n",
      "differential_evolution step 37: f(x)= 0.046925281825567024\n"
     ]
    },
    {
     "name": "stderr",
     "output_type": "stream",
     "text": [
      "WARNING:root:Root finder converged (message: The solution converged.), but solution check failed.\n",
      "WARNING:root:Condition 1 ({'C': 0.0, 'CO': 0, 'CO2': 0, 'O': 8157238605327579, 'O2': 16385293162655330, 'O3': 546065957887.2443, 'Tgas': 394.8481502500865, 'Tnw': 332.243199758804, 'Tw': 323.15, 'current': 40, 'frac_CO2': 0.0, 'pressure': 1.0, 'fluxO': 1.352188600260873e+20, 'fluxO2': 1.9205840711049527e+20, 'fluxO3': 5226110403792976.0, 'fluxC': 0.0, 'fluxCO': 0.0, 'fluxCO2': 0.0, 'EavgMB': 0.33366666666666667, 'Ion': 4000000000000000.0}): Solver failed or solution check failed.\n",
      "WARNING:root:Root finder converged (message: The solution converged.), but solution check failed.\n",
      "WARNING:root:Condition 2 ({'C': 0.0, 'CO': 0, 'CO2': 0, 'O': 8157238605327579, 'O2': 16385293162655330, 'O3': 546065957887.2443, 'Tgas': 394.8481502500865, 'Tnw': 332.243199758804, 'Tw': 323.15, 'current': 40, 'frac_CO2': 0.0, 'pressure': 1.0, 'fluxO': 1.352188600260873e+20, 'fluxO2': 1.9205840711049527e+20, 'fluxO3': 5226110403792976.0, 'fluxC': 0.0, 'fluxCO': 0.0, 'fluxCO2': 0.0, 'EavgMB': 0.33366666666666667, 'Ion': 4000000000000000.0}): Solver failed or solution check failed.\n"
     ]
    },
    {
     "name": "stdout",
     "output_type": "stream",
     "text": [
      "differential_evolution step 38: f(x)= 0.046925281825567024\n",
      "differential_evolution step 39: f(x)= 0.046925281825567024\n",
      "differential_evolution step 40: f(x)= 0.04480647914280494\n",
      "differential_evolution step 41: f(x)= 0.04480647914280494\n",
      "differential_evolution step 42: f(x)= 0.04480647914280494\n",
      "differential_evolution step 43: f(x)= 0.04480647914280494\n",
      "differential_evolution step 44: f(x)= 0.041673425392833204\n",
      "differential_evolution step 45: f(x)= 0.041673425392833204\n"
     ]
    },
    {
     "name": "stderr",
     "output_type": "stream",
     "text": [
      "WARNING:root:Root finder converged (message: The solution converged.), but solution check failed.\n",
      "WARNING:root:Condition 1 ({'C': 0.0, 'CO': 0, 'CO2': 0, 'O': 8157238605327579, 'O2': 16385293162655330, 'O3': 546065957887.2443, 'Tgas': 394.8481502500865, 'Tnw': 332.243199758804, 'Tw': 323.15, 'current': 40, 'frac_CO2': 0.0, 'pressure': 1.0, 'fluxO': 1.352188600260873e+20, 'fluxO2': 1.9205840711049527e+20, 'fluxO3': 5226110403792976.0, 'fluxC': 0.0, 'fluxCO': 0.0, 'fluxCO2': 0.0, 'EavgMB': 0.33366666666666667, 'Ion': 4000000000000000.0}): Solver failed or solution check failed.\n",
      "WARNING:root:Root finder converged (message: The solution converged.), but solution check failed.\n",
      "WARNING:root:Condition 2 ({'C': 0.0, 'CO': 0, 'CO2': 0, 'O': 8157238605327579, 'O2': 16385293162655330, 'O3': 546065957887.2443, 'Tgas': 394.8481502500865, 'Tnw': 332.243199758804, 'Tw': 323.15, 'current': 40, 'frac_CO2': 0.0, 'pressure': 1.0, 'fluxO': 1.352188600260873e+20, 'fluxO2': 1.9205840711049527e+20, 'fluxO3': 5226110403792976.0, 'fluxC': 0.0, 'fluxCO': 0.0, 'fluxCO2': 0.0, 'EavgMB': 0.33366666666666667, 'Ion': 4000000000000000.0}): Solver failed or solution check failed.\n"
     ]
    },
    {
     "name": "stdout",
     "output_type": "stream",
     "text": [
      "differential_evolution step 46: f(x)= 0.041673425392833204\n",
      "differential_evolution step 47: f(x)= 0.041673425392833204\n",
      "differential_evolution step 48: f(x)= 0.041673425392833204\n",
      "differential_evolution step 49: f(x)= 0.041673425392833204\n"
     ]
    },
    {
     "name": "stderr",
     "output_type": "stream",
     "text": [
      "WARNING:root:DE Iteration 2 did not converge successfully (Message: Maximum number of iterations has been exceeded.).\n"
     ]
    },
    {
     "name": "stdout",
     "output_type": "stream",
     "text": [
      "differential_evolution step 50: f(x)= 0.041673425392833204\n",
      "DE Iteration 2 | False\n",
      "DE resul: [2.44127139e-02 8.06950872e-04 1.61086518e+01 6.22930409e-01\n",
      " 6.60914819e-01 1.45187105e+01] | 0.041673425392833204\n",
      "DE:              message: Maximum number of iterations has been exceeded.\n",
      "             success: False\n",
      "                 fun: 0.041673425392833204\n",
      "                   x: [ 2.441e-02  8.070e-04  1.611e+01  6.229e-01\n",
      "                        6.609e-01  1.452e+01]\n",
      "                 nit: 50\n",
      "                nfev: 4590\n",
      "          population: [[ 2.441e-02  8.070e-04 ...  6.609e-01  1.452e+01]\n",
      "                       [ 1.814e-02  1.877e-03 ...  5.281e-01  1.882e+01]\n",
      "                       ...\n",
      "                       [ 4.040e-02  3.561e-03 ...  8.595e-01  2.154e+01]\n",
      "                       [ 1.404e-02  9.901e-04 ...  8.905e-01  1.374e+01]]\n",
      " population_energies: [ 4.167e-02  6.122e-02 ...  7.561e-02  4.593e-02]\n",
      "calls:  9180\n",
      "itts:  100\n"
     ]
    }
   ],
   "source": [
    "\n",
    "if __name__ == '__main__':\n",
    "    optimizer = opt.Optimizer(sim, func_optimization, loss_function)\n",
    "\n",
    "    global_bounds = [(1e-5, 1.0), (1e-8, 1.0), (5, 30), \\\n",
    "                    (1e-5, 1.0), (1e-8, 1.0), (5, 30)]\n",
    "\n",
    "    config = {\n",
    "        \"bounds\": global_bounds,\n",
    "        \"nb_calls\": 3, # 5\n",
    "        \"de_maxiter\": 10,\n",
    "        \"de_num_iterations\": 2,\n",
    "        \"de_max_generations\": 100,\n",
    "        \"top_k\": 3,\n",
    "        \"local_attempts\": 1,\n",
    "        \"epsilon_local\": 1e-2\n",
    "    }\n",
    "    \n",
    "    best_local, best_local_loss = optimizer.hybrid_optimization_search(config)\n",
    "\n",
    "# differential_evolution step 50: f(x)= 0.041662857183863554\n"
   ]
  },
  {
   "cell_type": "code",
   "execution_count": 5,
   "metadata": {},
   "outputs": [
    {
     "name": "stdout",
     "output_type": "stream",
     "text": [
      "[2.44127139e-02 8.06950872e-04 1.61086518e+01 6.22930409e-01\n",
      " 6.60914819e-01 1.45187105e+01]\n",
      "0.041673425392833204\n"
     ]
    }
   ],
   "source": [
    "# DE resul: [2.44127139e-02 8.06950872e-04 1.61086518e+01 6.22930409e-01\n",
    "#  6.60914819e-01 1.45187105e+01] | 0.041673425392833204\n",
    "\n",
    "\n",
    "print(best_local)\n",
    "print(best_local_loss)"
   ]
  },
  {
   "cell_type": "code",
   "execution_count": 6,
   "metadata": {},
   "outputs": [],
   "source": [
    "\n",
    "# ####* Test default \n",
    "\n",
    "import matplotlib.pyplot as plt\n",
    "\n",
    "params = np.array([0.01634, 1.67e-4, 19.75])\n",
    "\n",
    "\n",
    "\n",
    "def do_plots(params):\n",
    "\n",
    "\n",
    "    loss = optimizer.objective_function(params)\n",
    "    print(\"PARAMS: \", params, \"Loss: \", loss)\n",
    "\n",
    "    frac_solutions_arr, gammas_results_arr, gammas_sum_arr, gamma_exp_data = optimizer.solve_simulations_updated(params)\n",
    "    exp_data_arr = optimizer.exp_data_arr\n",
    "\n",
    "    inv_Tnw_vec = np.array([300/vec['Tnw'] for vec in exp_data_arr])\n",
    "\n",
    "    plt.figure\n",
    "    plt.plot(inv_Tnw_vec, gamma_exp_data, '.', label=\"Exp\")\n",
    "    plt.plot(inv_Tnw_vec, gammas_sum_arr, '.', label=\"Sim\")\n",
    "    plt.legend()\n",
    "    plt.xlabel(r\"$300/T_{nw}$\")\n",
    "    plt.ylabel(r\"$\\gamma$\")\n",
    "\n",
    "    current_vec = np.array([vec['current'] for vec in exp_data_arr])\n",
    "    Tw_vec = np.array([vec['Tw'] for vec in exp_data_arr])\n",
    "\n",
    "    current_unique = np.unique(current_vec)\n",
    "    Tw_unique = np.unique([vec['Tw'] for vec in exp_data_arr])\n",
    "\n",
    "\n",
    "    A, B = np.meshgrid(current_unique, Tw_unique)\n",
    "    combinations = np.stack([A.ravel(), B.ravel()], axis=1)\n",
    "\n",
    "    for comb in combinations:\n",
    "        current = comb[0]\n",
    "        Tw = comb[1]\n",
    "\n",
    "        idx_valid = np.logical_and(current_vec == current, Tw_vec == Tw)\n",
    "        data_arr = exp_data_arr[idx_valid]\n",
    "        \n",
    "        pressure_vec = np.array([vec['pressure'] for vec in data_arr])\n",
    "        gamma_exp = gamma_exp_data[idx_valid]\n",
    "        gamma_sim = gammas_sum_arr[idx_valid]\n",
    "        \n",
    "        plt.figure()\n",
    "        plt.plot(pressure_vec, gamma_exp*1e4, 's', label=\"Exp\")\n",
    "        plt.plot(pressure_vec, gamma_sim*1e4, 's', label=\"Sim\")\n",
    "        plt.title(f\"I = {current} and Tw = {Tw}\")\n",
    "        plt.xlabel(\"Pressure\")\n",
    "        plt.ylabel(r\"$\\gamma$\")\n",
    "        plt.legend()\n",
    "        plt.grid()\n",
    "        plt.ylim(1, 14)\n",
    "        plt.show()\n",
    "\n"
   ]
  },
  {
   "cell_type": "code",
   "execution_count": 7,
   "metadata": {},
   "outputs": [
    {
     "ename": "ValueError",
     "evalue": "not enough values to unpack (expected 6, got 3)",
     "output_type": "error",
     "traceback": [
      "\u001b[0;31m---------------------------------------------------------------------------\u001b[0m",
      "\u001b[0;31mValueError\u001b[0m                                Traceback (most recent call last)",
      "\u001b[1;32m/Users/joseafonso/Desktop/PlasmaDM/testOptimizationCOV3_2.ipynb Cell 7\u001b[0m line \u001b[0;36m2\n\u001b[1;32m      <a href='vscode-notebook-cell:/Users/joseafonso/Desktop/PlasmaDM/testOptimizationCOV3_2.ipynb#W6sZmlsZQ%3D%3D?line=0'>1</a>\u001b[0m params_1 \u001b[39m=\u001b[39m np\u001b[39m.\u001b[39marray([\u001b[39m0.01634\u001b[39m, \u001b[39m1.67e-4\u001b[39m, \u001b[39m19.75\u001b[39m])\n\u001b[0;32m----> <a href='vscode-notebook-cell:/Users/joseafonso/Desktop/PlasmaDM/testOptimizationCOV3_2.ipynb#W6sZmlsZQ%3D%3D?line=1'>2</a>\u001b[0m do_plots(params_1)\n",
      "\u001b[1;32m/Users/joseafonso/Desktop/PlasmaDM/testOptimizationCOV3_2.ipynb Cell 7\u001b[0m line \u001b[0;36m1\n\u001b[1;32m      <a href='vscode-notebook-cell:/Users/joseafonso/Desktop/PlasmaDM/testOptimizationCOV3_2.ipynb#W6sZmlsZQ%3D%3D?line=8'>9</a>\u001b[0m \u001b[39mdef\u001b[39;00m \u001b[39mdo_plots\u001b[39m(params):\n\u001b[0;32m---> <a href='vscode-notebook-cell:/Users/joseafonso/Desktop/PlasmaDM/testOptimizationCOV3_2.ipynb#W6sZmlsZQ%3D%3D?line=11'>12</a>\u001b[0m     loss \u001b[39m=\u001b[39m optimizer\u001b[39m.\u001b[39;49mobjective_function(params)\n\u001b[1;32m     <a href='vscode-notebook-cell:/Users/joseafonso/Desktop/PlasmaDM/testOptimizationCOV3_2.ipynb#W6sZmlsZQ%3D%3D?line=12'>13</a>\u001b[0m     \u001b[39mprint\u001b[39m(\u001b[39m\"\u001b[39m\u001b[39mPARAMS: \u001b[39m\u001b[39m\"\u001b[39m, params, \u001b[39m\"\u001b[39m\u001b[39mLoss: \u001b[39m\u001b[39m\"\u001b[39m, loss)\n\u001b[1;32m     <a href='vscode-notebook-cell:/Users/joseafonso/Desktop/PlasmaDM/testOptimizationCOV3_2.ipynb#W6sZmlsZQ%3D%3D?line=14'>15</a>\u001b[0m     frac_solutions_arr, gammas_results_arr, gammas_sum_arr, gamma_exp_data \u001b[39m=\u001b[39m optimizer\u001b[39m.\u001b[39msolve_simulations_updated(params)\n",
      "File \u001b[0;32m~/Desktop/PlasmaDM/Optimization.py:151\u001b[0m, in \u001b[0;36mOptimizer.objective_function\u001b[0;34m(self, params)\u001b[0m\n\u001b[1;32m    149\u001b[0m \u001b[39mdef\u001b[39;00m \u001b[39mobjective_function\u001b[39m(\u001b[39mself\u001b[39m, params: np\u001b[39m.\u001b[39mndarray) \u001b[39m-\u001b[39m\u001b[39m>\u001b[39m \u001b[39mfloat\u001b[39m:\n\u001b[0;32m--> 151\u001b[0m     param_update_instructions \u001b[39m=\u001b[39m \u001b[39mself\u001b[39;49m\u001b[39m.\u001b[39;49mfunc_new_model_dict(params)\n\u001b[1;32m    152\u001b[0m     current_reactions_list \u001b[39m=\u001b[39m \u001b[39mself\u001b[39m\u001b[39m.\u001b[39m_update_reactions_list_for_params(\u001b[39mself\u001b[39m\u001b[39m.\u001b[39m_base_reactions_list, param_update_instructions)\n\u001b[1;32m    154\u001b[0m     _, _, gammas_simulated_sum \u001b[39m=\u001b[39m \u001b[39mself\u001b[39m\u001b[39m.\u001b[39m_run_simulation_with_updated_reactions(\u001b[39mself\u001b[39m\u001b[39m.\u001b[39mexp_data_arr, current_reactions_list, solver_type\u001b[39m=\u001b[39m\u001b[39m\"\u001b[39m\u001b[39mfixed_point\u001b[39m\u001b[39m\"\u001b[39m)\n",
      "\u001b[1;32m/Users/joseafonso/Desktop/PlasmaDM/testOptimizationCOV3_2.ipynb Cell 7\u001b[0m line \u001b[0;36m3\n\u001b[1;32m      <a href='vscode-notebook-cell:/Users/joseafonso/Desktop/PlasmaDM/testOptimizationCOV3_2.ipynb#W6sZmlsZQ%3D%3D?line=0'>1</a>\u001b[0m \u001b[39mdef\u001b[39;00m \u001b[39mfunc_optimization\u001b[39m(params):\n\u001b[0;32m----> <a href='vscode-notebook-cell:/Users/joseafonso/Desktop/PlasmaDM/testOptimizationCOV3_2.ipynb#W6sZmlsZQ%3D%3D?line=2'>3</a>\u001b[0m     A_O, B_O, E_O, \\\n\u001b[1;32m      <a href='vscode-notebook-cell:/Users/joseafonso/Desktop/PlasmaDM/testOptimizationCOV3_2.ipynb#W6sZmlsZQ%3D%3D?line=3'>4</a>\u001b[0m     A_CO, B_CO, E_CO \u001b[39m=\u001b[39m params\n\u001b[1;32m      <a href='vscode-notebook-cell:/Users/joseafonso/Desktop/PlasmaDM/testOptimizationCOV3_2.ipynb#W6sZmlsZQ%3D%3D?line=5'>6</a>\u001b[0m     nu_d_mod \u001b[39m=\u001b[39m \u001b[39mlambda\u001b[39;00m T: \u001b[39m1e15\u001b[39m \u001b[39m*\u001b[39m (A_O \u001b[39m+\u001b[39m B_O \u001b[39m*\u001b[39m np\u001b[39m.\u001b[39mexp(E_O\u001b[39m/\u001b[39m(const_dict[\u001b[39m'\u001b[39m\u001b[39mR\u001b[39m\u001b[39m'\u001b[39m] \u001b[39m*\u001b[39m T)))\n\u001b[1;32m      <a href='vscode-notebook-cell:/Users/joseafonso/Desktop/PlasmaDM/testOptimizationCOV3_2.ipynb#W6sZmlsZQ%3D%3D?line=6'>7</a>\u001b[0m     nu_d_mod_2 \u001b[39m=\u001b[39m \u001b[39mlambda\u001b[39;00m T: \u001b[39m1e15\u001b[39m \u001b[39m*\u001b[39m (A_CO \u001b[39m+\u001b[39m B_CO \u001b[39m*\u001b[39m np\u001b[39m.\u001b[39mexp(E_CO\u001b[39m/\u001b[39m(const_dict[\u001b[39m'\u001b[39m\u001b[39mR\u001b[39m\u001b[39m'\u001b[39m] \u001b[39m*\u001b[39m T)))\n",
      "\u001b[0;31mValueError\u001b[0m: not enough values to unpack (expected 6, got 3)"
     ]
    }
   ],
   "source": [
    "\n",
    "params_1 = np.array([0.01634, 1.67e-4, 19.75])\n",
    "do_plots(params_1)\n"
   ]
  },
  {
   "cell_type": "code",
   "execution_count": null,
   "metadata": {},
   "outputs": [],
   "source": [
    "\n",
    "\n",
    "\n",
    "\n",
    "\n",
    "params_2 = np.array([2.39375716e-02, 7.11846527e-04, 1.64416626e+01])\n",
    "do_plots(params_2)"
   ]
  },
  {
   "cell_type": "code",
   "execution_count": null,
   "metadata": {},
   "outputs": [],
   "source": [
    "\n",
    "params_3 = np.array([8.32874763e-03, 8.32658918e-04, 1.61121534e+01])\n",
    "do_plots(params_3)"
   ]
  },
  {
   "cell_type": "code",
   "execution_count": null,
   "metadata": {},
   "outputs": [],
   "source": [
    "\n",
    "def nu_d_func(T, params):\n",
    "    A, B, E = params\n",
    "    \n",
    "    nu_d_mod = 1e15 * (A + B * np.exp(E * np.reciprocal(const_dict['R'] * T)))\n",
    "    \n",
    "    return nu_d_mod\n",
    "\n",
    "\n",
    "T_space = np.linspace(-20+273.15, 50+273.15, 200)\n",
    "\n",
    "vec_1 = np.array([nu_d_func(T, params_1) for T in T_space])\n",
    "vec_2 = np.array([nu_d_func(T, params_2) for T in T_space])\n",
    "vec_3 = np.array([nu_d_func(T, params_3) for T in T_space])\n",
    "\n",
    "plt.plot(T_space, vec_1, label=\"Paper\")\n",
    "plt.plot(T_space, vec_2, label=\"DE 1\")\n",
    "plt.plot(T_space, vec_3, label=\"DE 2\")\n",
    "plt.legend()\n",
    "plt.xlabel(\"Tw\")\n",
    "plt.ylabel(r\"$\\nu_{d}$\")"
   ]
  },
  {
   "cell_type": "code",
   "execution_count": null,
   "metadata": {},
   "outputs": [],
   "source": []
  }
 ],
 "metadata": {
  "kernelspec": {
   "display_name": "LLM",
   "language": "python",
   "name": "python3"
  },
  "language_info": {
   "codemirror_mode": {
    "name": "ipython",
    "version": 3
   },
   "file_extension": ".py",
   "mimetype": "text/x-python",
   "name": "python",
   "nbconvert_exporter": "python",
   "pygments_lexer": "ipython3",
   "version": "3.12.7"
  }
 },
 "nbformat": 4,
 "nbformat_minor": 2
}
