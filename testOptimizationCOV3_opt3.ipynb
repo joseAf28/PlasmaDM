{
 "cells": [
  {
   "cell_type": "code",
   "execution_count": 1,
   "metadata": {},
   "outputs": [],
   "source": [
    "\n",
    "import numpy as np\n",
    "import scipy as sp\n",
    "import h5py\n",
    "\n",
    "import os\n",
    "\n",
    "import SimData as sim_data\n",
    "import Simulator as sim_system\n",
    "import Optimization as opt"
   ]
  },
  {
   "cell_type": "code",
   "execution_count": 2,
   "metadata": {},
   "outputs": [],
   "source": [
    "\n",
    "\n",
    "###* Input files and function\n",
    "\n",
    "reactions_file = \"reactionsSimpleV1.json\"\n",
    "\n",
    "const_dict = {\n",
    "        \"F0\": 1.5e15,           # cm^-2\n",
    "        \"S0\": 3e13,             # cm^-2\n",
    "        \n",
    "        \"R\": 0.00831442,        # kJ/mol*K\n",
    "        \"kBoltz\": 1.380649e-23, # J/K\n",
    "}\n",
    "\n",
    "initial_state_dict = {'O_F': 0.1, 'O2_F':0.1 ,'O_S': 0.1, 'Vdb_S':0.1, \n",
    "                      'Odb_S': 0.1, 'CO_F': 0.1, 'CO2_F':0.1, 'CO_S': 0.1, \n",
    "                      'COdb_S': 0.0}\n",
    "\n",
    "###* Functions for the data transformation\n",
    "def compute_flux(const_dict, exp_dict, specie, molar_mass):\n",
    "    den = exp_dict.get(specie, 0.0)\n",
    "    v_th = np.sqrt((8.0 * const_dict['R'] * 1000 * exp_dict['Tnw'])/(molar_mass * np.pi))\n",
    "    flux = 0.25 * v_th * den * 100\n",
    "    return flux\n",
    "\n",
    "\n",
    "def compute_remaining_flux(const_dict, exp_dict, molar_mass): \n",
    "    den = exp_dict['N'] - exp_dict['O'] - exp_dict['CO']\n",
    "    v_th = np.sqrt((8.0 * const_dict['R'] * 1000 * exp_dict['Tnw'])/(molar_mass * np.pi))\n",
    "    flux = 0.25 * v_th * den * 100\n",
    "    return flux\n",
    "\n",
    "####? EavgMB data extracted from the Booth et al. 2019 paper\n",
    "p_data_exp = [0.2, 0.3, 0.4, 0.5, 0.6, 0.75, 1.5]\n",
    "EavgMB_data = [1.04, 0.91, 0.87, 0.83, 0.77, 0.5, 0.001]\n",
    "interpolator = sp.interpolate.interp1d(p_data_exp, EavgMB_data, kind='linear', fill_value=0.001, bounds_error=False)\n",
    "\n",
    "\n",
    "transformations_exp = {\n",
    "    'Tw':       lambda const_dict, exp_dict: exp_dict['Tw'] + 273.15,\n",
    "    'fluxO' :   lambda const_dict, exp_dict: compute_flux(const_dict, exp_dict,'O', 0.016),\n",
    "    'fluxO2' :  lambda const_dict, exp_dict: compute_flux(const_dict, exp_dict,'O2', 0.032),\n",
    "    'fluxO3' :  lambda const_dict, exp_dict: compute_flux(const_dict, exp_dict,'O3', 0.048),\n",
    "    'fluxC':    lambda const_dict, exp_dict: compute_flux(const_dict, exp_dict, 'C', 0.012),\n",
    "    'fluxCO':   lambda const_dict, exp_dict: compute_flux(const_dict, exp_dict, 'CO', 0.028),\n",
    "    'fluxCO2':  lambda const_dict, exp_dict: compute_flux(const_dict, exp_dict, 'CO2', 0.048),\n",
    "    'EavgMB':   lambda const_dict, exp_dict: interpolator(exp_dict['pressure']).item(),\n",
    "    'Ion':      lambda const_dict, exp_dict: 1e14 * exp_dict[\"current\"]\n",
    "}\n",
    "\n",
    "output_folder_path = \"Buffer_Data\"\n",
    "exp_data_file = \"Experimental_data_CO_Jorge.hdf5\""
   ]
  },
  {
   "cell_type": "code",
   "execution_count": 3,
   "metadata": {},
   "outputs": [
    {
     "name": "stdout",
     "output_type": "stream",
     "text": [
      "  d[CO2_F]/dt = -CO2_F*r_29 + r_28*(-CO2_F - CO_F - O2_F - O_F + 1.0)\n",
      "  d[CO_F]/dt = -CO_F*O_F*r_34 - 0.02*CO_F*O_S*r_39 - CO_F*r_31 - CO_F*r_33 - 0.02*CO_F*r_35*(-CO_S - O_S - Odb_S - Vdb_S + 1.0) + r_30*(-CO2_F - CO_F - O2_F - O_F + 1.0)\n",
      "  d[CO_S]/dt = CO_F*r_35*(-CO_S - O_S - Odb_S - Vdb_S + 1.0) - CO_S*O_F*r_38 - CO_S*r_36 + r_32*(-CO_S - O_S - Odb_S - Vdb_S + 1.0)\n",
      "  d[O2_F]/dt = -O2_F*O_F*r_15 - O2_F*r_10 - O2_F*r_12 - O2_F*r_14 + r_9*(-CO2_F - CO_F - O2_F - O_F + 1.0)\n",
      "  d[O_F]/dt = -CO_F*O_F*r_34 - 0.02*CO_S*O_F*r_38 - O2_F*O_F*r_15 - 2*O_F**2*r_8 - 0.02*O_F*O_S*r_7 - 0.02*O_F*Odb_S*r_27 - 0.02*O_F*Vdb_S*r_26 - O_F*r_11 - O_F*r_2 - O_F*r_4 - 0.02*O_F*r_5*(-CO_S - O_S - Odb_S - Vdb_S + 1.0) + r_1*(-CO2_F - CO_F - O2_F - O_F + 1.0)\n",
      "  d[O_S]/dt = -CO_F*O_S*r_39 - O_F*O_S*r_7 + O_F*r_5*(-CO_S - O_S - Odb_S - Vdb_S + 1.0) - O_S*r_16 - O_S*r_17 - O_S*r_37 - O_S*r_6 + r_3*(-CO_S - O_S - Odb_S - Vdb_S + 1.0)\n",
      "  d[Odb_S]/dt = -O_F*Odb_S*r_27 + O_F*Vdb_S*r_26 - Odb_S*r_23 - Odb_S*r_24 - Odb_S*r_25 + Vdb_S*r_20\n",
      "  d[Vdb_S]/dt = O_F*Odb_S*r_27 - O_F*Vdb_S*r_26 + O_S*r_16 + O_S*r_17 + Odb_S*r_25 - Vdb_S*r_20 - Vdb_S*r_21 - Vdb_S*r_22 + r_18*(-CO_S - O_S - Odb_S - Vdb_S + 1.0) + r_19*(-CO_S - O_S - Odb_S - Vdb_S + 1.0)\n"
     ]
    }
   ],
   "source": [
    "\n",
    "\n",
    "def func_optimization(params):\n",
    "    \n",
    "    SF_1, SF_2, SF_3, SF_4, SF_5, SF_6, SF_7, SF_8 = params\n",
    "    \n",
    "    A = 2.777e-02\n",
    "    B = 7.792e-04\n",
    "    E = 1.627e+01\n",
    "    \n",
    "    nu_d_mod = lambda T: 1e15 * (A + B * np.exp(E/(const_dict['R'] * T)))\n",
    "    \n",
    "    dict_mod_vec = [\n",
    "    {\"id\": 2, \"rate\": None, \"model_dict\": {\"nu_d\": nu_d_mod}},\n",
    "    {\"id\": 10, \"rate\": None, \"model_dict\": {\"nu_d\": nu_d_mod}},\n",
    "    {\"id\": 31, \"rate\": None, \"model_dict\": {\"nu_d\": nu_d_mod}},\n",
    "    \n",
    "    {\"id\": 32, \"rate\": None, \"model_dict\": {\"SF\": SF_1}},\n",
    "    {\"id\": 35, \"rate\": None, \"model_dict\": {\"SF\": SF_2}},\n",
    "    \n",
    "    {\"id\": 33, \"rate\": None, \"model_dict\": {\"SF\": SF_3}},\n",
    "    {\"id\": 34, \"rate\": None, \"model_dict\": {\"SF\": SF_4}},\n",
    "    \n",
    "    {\"id\": 36, \"rate\": None, \"model_dict\": {\"SF\": SF_5}},\n",
    "    {\"id\": 37, \"rate\": None, \"model_dict\": {\"SF\": SF_6}},\n",
    "    \n",
    "    {\"id\": 38, \"rate\": None, \"model_dict\": {\"SF\": SF_7}},\n",
    "    {\"id\": 39, \"rate\": None, \"model_dict\": {\"SF\": SF_8}},\n",
    "    ]\n",
    "    \n",
    "    return dict_mod_vec\n",
    "\n",
    "loss_function = lambda exp, teo: np.mean((np.reciprocal(exp)*(exp-teo))**2)\n",
    "\n",
    "exp_file = os.path.join(output_folder_path, exp_data_file)\n",
    "sim = sim_system.Simulator(reactions_file, const_dict, exp_file, initial_state_dict, transformations_exp=transformations_exp)\n"
   ]
  },
  {
   "cell_type": "code",
   "execution_count": 4,
   "metadata": {},
   "outputs": [
    {
     "name": "stdout",
     "output_type": "stream",
     "text": [
      "differential_evolution step 1: f(x)= 0.2713657004235628\n",
      "differential_evolution step 2: f(x)= 0.18866985102513506\n",
      "differential_evolution step 3: f(x)= 0.18866985102513506\n",
      "differential_evolution step 4: f(x)= 0.06597974647731862\n",
      "differential_evolution step 5: f(x)= 0.06597974647731862\n",
      "differential_evolution step 6: f(x)= 0.06597974647731862\n",
      "differential_evolution step 7: f(x)= 0.06597974647731862\n",
      "differential_evolution step 8: f(x)= 0.06597974647731862\n",
      "differential_evolution step 9: f(x)= 0.06597974647731862\n",
      "differential_evolution step 10: f(x)= 0.06597974647731862\n",
      "differential_evolution step 11: f(x)= 0.06597974647731862\n",
      "differential_evolution step 12: f(x)= 0.06597974647731862\n",
      "differential_evolution step 13: f(x)= 0.06597974647731862\n",
      "differential_evolution step 14: f(x)= 0.06597974647731862\n",
      "differential_evolution step 15: f(x)= 0.06597974647731862\n",
      "differential_evolution step 16: f(x)= 0.06597974647731862\n",
      "differential_evolution step 17: f(x)= 0.05345341143925609\n"
     ]
    },
    {
     "name": "stderr",
     "output_type": "stream",
     "text": [
      "WARNING:root:Root finder converged (message: The solution converged.), but solution check failed.\n",
      "WARNING:root:Condition 15 ({'C': 0.0, 'CO': 0, 'CO2': 0, 'O': 12437793259850040, 'O2': 82787381940537104, 'O3': 2007970176632.502, 'Tgas': 540.039475009039, 'Tnw': 350.690744737831, 'Tw': 323.15, 'current': 40, 'frac_CO2': 0.0, 'pressure': 5.0, 'fluxO': 2.1182223196099582e+20, 'fluxO2': 9.969591348547536e+20, 'fluxO3': 1.9743531498678736e+16, 'fluxC': 0.0, 'fluxCO': 0.0, 'fluxCO2': 0.0, 'EavgMB': 0.001, 'Ion': 4000000000000000.0}): Solver failed or solution check failed.\n",
      "WARNING:root:Root finder converged (message: The solution converged.), but solution check failed.\n",
      "WARNING:root:Condition 16 ({'C': 0.0, 'CO': 0, 'CO2': 0, 'O': 12437793259850040, 'O2': 82787381940537104, 'O3': 2007970176632.502, 'Tgas': 540.039475009039, 'Tnw': 350.690744737831, 'Tw': 323.15, 'current': 40, 'frac_CO2': 0.0, 'pressure': 5.0, 'fluxO': 2.1182223196099582e+20, 'fluxO2': 9.969591348547536e+20, 'fluxO3': 1.9743531498678736e+16, 'fluxC': 0.0, 'fluxCO': 0.0, 'fluxCO2': 0.0, 'EavgMB': 0.001, 'Ion': 4000000000000000.0}): Solver failed or solution check failed.\n"
     ]
    },
    {
     "name": "stdout",
     "output_type": "stream",
     "text": [
      "differential_evolution step 18: f(x)= 0.05345341143925609\n",
      "differential_evolution step 19: f(x)= 0.05345341143925609\n",
      "differential_evolution step 20: f(x)= 0.05345341143925609\n",
      "differential_evolution step 21: f(x)= 0.05345341143925609\n"
     ]
    },
    {
     "name": "stderr",
     "output_type": "stream",
     "text": [
      "WARNING:root:Root finder converged (message: The solution converged.), but solution check failed.\n",
      "WARNING:root:Condition 9 ({'C': 0.0, 'CO': 0, 'CO2': 0, 'O': 10551273476311810, 'O2': 34191785973519152, 'O3': 1128037915895.378, 'Tgas': 440.9518449183849, 'Tnw': 337.843817904925, 'Tw': 323.15, 'current': 40, 'frac_CO2': 0.0, 'pressure': 2.0, 'fluxO': 1.763717084169756e+20, 'fluxO2': 4.041390633812239e+20, 'fluxO3': 1.0886470806177898e+16, 'fluxC': 0.0, 'fluxCO': 0.0, 'fluxCO2': 0.0, 'EavgMB': 0.001, 'Ion': 4000000000000000.0}): Solver failed or solution check failed.\n",
      "WARNING:root:Root finder converged (message: The solution converged.), but solution check failed.\n",
      "WARNING:root:Condition 10 ({'C': 0.0, 'CO': 0, 'CO2': 0, 'O': 10551273476311810, 'O2': 34191785973519152, 'O3': 1128037915895.378, 'Tgas': 440.9518449183849, 'Tnw': 337.843817904925, 'Tw': 323.15, 'current': 40, 'frac_CO2': 0.0, 'pressure': 2.0, 'fluxO': 1.763717084169756e+20, 'fluxO2': 4.041390633812239e+20, 'fluxO3': 1.0886470806177898e+16, 'fluxC': 0.0, 'fluxCO': 0.0, 'fluxCO2': 0.0, 'EavgMB': 0.001, 'Ion': 4000000000000000.0}): Solver failed or solution check failed.\n",
      "WARNING:root:Root finder converged (message: The solution converged.), but solution check failed.\n",
      "WARNING:root:Condition 15 ({'C': 0.0, 'CO': 0, 'CO2': 0, 'O': 12437793259850040, 'O2': 82787381940537104, 'O3': 2007970176632.502, 'Tgas': 540.039475009039, 'Tnw': 350.690744737831, 'Tw': 323.15, 'current': 40, 'frac_CO2': 0.0, 'pressure': 5.0, 'fluxO': 2.1182223196099582e+20, 'fluxO2': 9.969591348547536e+20, 'fluxO3': 1.9743531498678736e+16, 'fluxC': 0.0, 'fluxCO': 0.0, 'fluxCO2': 0.0, 'EavgMB': 0.001, 'Ion': 4000000000000000.0}): Solver failed or solution check failed.\n",
      "WARNING:root:Root finder converged (message: The solution converged.), but solution check failed.\n",
      "WARNING:root:Condition 16 ({'C': 0.0, 'CO': 0, 'CO2': 0, 'O': 12437793259850040, 'O2': 82787381940537104, 'O3': 2007970176632.502, 'Tgas': 540.039475009039, 'Tnw': 350.690744737831, 'Tw': 323.15, 'current': 40, 'frac_CO2': 0.0, 'pressure': 5.0, 'fluxO': 2.1182223196099582e+20, 'fluxO2': 9.969591348547536e+20, 'fluxO3': 1.9743531498678736e+16, 'fluxC': 0.0, 'fluxCO': 0.0, 'fluxCO2': 0.0, 'EavgMB': 0.001, 'Ion': 4000000000000000.0}): Solver failed or solution check failed.\n"
     ]
    },
    {
     "name": "stdout",
     "output_type": "stream",
     "text": [
      "differential_evolution step 22: f(x)= 0.05345341143925609\n",
      "differential_evolution step 23: f(x)= 0.05345341143925609\n"
     ]
    },
    {
     "name": "stderr",
     "output_type": "stream",
     "text": [
      "WARNING:root:Root finder converged (message: The solution converged.), but solution check failed.\n",
      "WARNING:root:Condition 15 ({'C': 0.0, 'CO': 0, 'CO2': 0, 'O': 12437793259850040, 'O2': 82787381940537104, 'O3': 2007970176632.502, 'Tgas': 540.039475009039, 'Tnw': 350.690744737831, 'Tw': 323.15, 'current': 40, 'frac_CO2': 0.0, 'pressure': 5.0, 'fluxO': 2.1182223196099582e+20, 'fluxO2': 9.969591348547536e+20, 'fluxO3': 1.9743531498678736e+16, 'fluxC': 0.0, 'fluxCO': 0.0, 'fluxCO2': 0.0, 'EavgMB': 0.001, 'Ion': 4000000000000000.0}): Solver failed or solution check failed.\n",
      "WARNING:root:Root finder converged (message: The solution converged.), but solution check failed.\n",
      "WARNING:root:Condition 16 ({'C': 0.0, 'CO': 0, 'CO2': 0, 'O': 12437793259850040, 'O2': 82787381940537104, 'O3': 2007970176632.502, 'Tgas': 540.039475009039, 'Tnw': 350.690744737831, 'Tw': 323.15, 'current': 40, 'frac_CO2': 0.0, 'pressure': 5.0, 'fluxO': 2.1182223196099582e+20, 'fluxO2': 9.969591348547536e+20, 'fluxO3': 1.9743531498678736e+16, 'fluxC': 0.0, 'fluxCO': 0.0, 'fluxCO2': 0.0, 'EavgMB': 0.001, 'Ion': 4000000000000000.0}): Solver failed or solution check failed.\n"
     ]
    },
    {
     "name": "stdout",
     "output_type": "stream",
     "text": [
      "differential_evolution step 24: f(x)= 0.05345341143925609\n"
     ]
    },
    {
     "name": "stderr",
     "output_type": "stream",
     "text": [
      "WARNING:root:Root finder converged (message: The solution converged.), but solution check failed.\n",
      "WARNING:root:Condition 13 ({'C': 0.0, 'CO': 0, 'CO2': 0, 'O': 11661406206185850, 'O2': 51164656024443752, 'O3': 1541988507687.184, 'Tgas': 479.362708334399, 'Tnw': 342.580364153413, 'Tw': 323.15, 'current': 40, 'frac_CO2': 0.0, 'pressure': 3.0, 'fluxO': 1.9629001620284414e+20, 'fluxO2': 6.08979044200974e+20, 'fluxO3': 1.4985381264008032e+16, 'fluxC': 0.0, 'fluxCO': 0.0, 'fluxCO2': 0.0, 'EavgMB': 0.001, 'Ion': 4000000000000000.0}): Solver failed or solution check failed.\n",
      "WARNING:root:Root finder converged (message: The solution converged.), but solution check failed.\n",
      "WARNING:root:Condition 14 ({'C': 0.0, 'CO': 0, 'CO2': 0, 'O': 11661406206185850, 'O2': 51164656024443752, 'O3': 1541988507687.184, 'Tgas': 479.362708334399, 'Tnw': 342.580364153413, 'Tw': 323.15, 'current': 40, 'frac_CO2': 0.0, 'pressure': 3.0, 'fluxO': 1.9629001620284414e+20, 'fluxO2': 6.08979044200974e+20, 'fluxO3': 1.4985381264008032e+16, 'fluxC': 0.0, 'fluxCO': 0.0, 'fluxCO2': 0.0, 'EavgMB': 0.001, 'Ion': 4000000000000000.0}): Solver failed or solution check failed.\n",
      "WARNING:root:Root finder converged (message: The solution converged.), but solution check failed.\n",
      "WARNING:root:Condition 5 ({'C': 0.0, 'CO': 0, 'CO2': 0, 'O': 9699256414667572, 'O2': 25296339610481060, 'O3': 860377340101.0089, 'Tgas': 419.001165642662, 'Tnw': 335.174979357197, 'Tw': 323.15, 'current': 40, 'frac_CO2': 0.0, 'pressure': 1.5, 'fluxO': 1.6148801280473068e+20, 'fluxO2': 2.978136058423108e+20, 'fluxO3': 8270469912468653.0, 'fluxC': 0.0, 'fluxCO': 0.0, 'fluxCO2': 0.0, 'EavgMB': 0.001, 'Ion': 4000000000000000.0}): Solver failed or solution check failed.\n",
      "WARNING:root:Root finder converged (message: The solution converged.), but solution check failed.\n",
      "WARNING:root:Condition 6 ({'C': 0.0, 'CO': 0, 'CO2': 0, 'O': 9699256414667572, 'O2': 25296339610481060, 'O3': 860377340101.0089, 'Tgas': 419.001165642662, 'Tnw': 335.174979357197, 'Tw': 323.15, 'current': 40, 'frac_CO2': 0.0, 'pressure': 1.5, 'fluxO': 1.6148801280473068e+20, 'fluxO2': 2.978136058423108e+20, 'fluxO3': 8270469912468653.0, 'fluxC': 0.0, 'fluxCO': 0.0, 'fluxCO2': 0.0, 'EavgMB': 0.001, 'Ion': 4000000000000000.0}): Solver failed or solution check failed.\n"
     ]
    },
    {
     "name": "stdout",
     "output_type": "stream",
     "text": [
      "differential_evolution step 25: f(x)= 0.05345341143925609\n",
      "differential_evolution step 26: f(x)= 0.05345341143925609\n",
      "differential_evolution step 27: f(x)= 0.05345341143925609\n"
     ]
    },
    {
     "name": "stderr",
     "output_type": "stream",
     "text": [
      "WARNING:root:Root finder converged (message: The solution converged.), but solution check failed.\n",
      "WARNING:root:Condition 25 ({'C': 0.0, 'CO': 0, 'CO2': 0, 'O': 11080348104371450, 'O2': 98081100063129136, 'O3': 3913022261520.635, 'Tgas': 451.8449522468635, 'Tnw': 339.118490883537, 'Tw': 323.15, 'current': 20, 'frac_CO2': 0.0, 'pressure': 5.0, 'fluxO': 1.8556462742738305e+20, 'fluxO2': 1.1614810266246557e+21, 'fluxO3': 3.7834977558898056e+16, 'fluxC': 0.0, 'fluxCO': 0.0, 'fluxCO2': 0.0, 'EavgMB': 0.001, 'Ion': 2000000000000000.0}): Solver failed or solution check failed.\n",
      "WARNING:root:Root finder converged (message: The solution converged.), but solution check failed.\n",
      "WARNING:root:Condition 26 ({'C': 0.0, 'CO': 0, 'CO2': 0, 'O': 11080348104371450, 'O2': 98081100063129136, 'O3': 3913022261520.635, 'Tgas': 451.8449522468635, 'Tnw': 339.118490883537, 'Tw': 323.15, 'current': 20, 'frac_CO2': 0.0, 'pressure': 5.0, 'fluxO': 1.8556462742738305e+20, 'fluxO2': 1.1614810266246557e+21, 'fluxO3': 3.7834977558898056e+16, 'fluxC': 0.0, 'fluxCO': 0.0, 'fluxCO2': 0.0, 'EavgMB': 0.001, 'Ion': 2000000000000000.0}): Solver failed or solution check failed.\n"
     ]
    },
    {
     "name": "stdout",
     "output_type": "stream",
     "text": [
      "differential_evolution step 28: f(x)= 0.05345341143925609\n",
      "differential_evolution step 29: f(x)= 0.05345341143925609\n",
      "differential_evolution step 30: f(x)= 0.05345341143925609\n"
     ]
    },
    {
     "name": "stderr",
     "output_type": "stream",
     "text": [
      "WARNING:root:Root finder converged (message: The solution converged.), but solution check failed.\n",
      "WARNING:root:Condition 25 ({'C': 0.0, 'CO': 0, 'CO2': 0, 'O': 11080348104371450, 'O2': 98081100063129136, 'O3': 3913022261520.635, 'Tgas': 451.8449522468635, 'Tnw': 339.118490883537, 'Tw': 323.15, 'current': 20, 'frac_CO2': 0.0, 'pressure': 5.0, 'fluxO': 1.8556462742738305e+20, 'fluxO2': 1.1614810266246557e+21, 'fluxO3': 3.7834977558898056e+16, 'fluxC': 0.0, 'fluxCO': 0.0, 'fluxCO2': 0.0, 'EavgMB': 0.001, 'Ion': 2000000000000000.0}): Solver failed or solution check failed.\n",
      "WARNING:root:Root finder converged (message: The solution converged.), but solution check failed.\n",
      "WARNING:root:Condition 26 ({'C': 0.0, 'CO': 0, 'CO2': 0, 'O': 11080348104371450, 'O2': 98081100063129136, 'O3': 3913022261520.635, 'Tgas': 451.8449522468635, 'Tnw': 339.118490883537, 'Tw': 323.15, 'current': 20, 'frac_CO2': 0.0, 'pressure': 5.0, 'fluxO': 1.8556462742738305e+20, 'fluxO2': 1.1614810266246557e+21, 'fluxO3': 3.7834977558898056e+16, 'fluxC': 0.0, 'fluxCO': 0.0, 'fluxCO2': 0.0, 'EavgMB': 0.001, 'Ion': 2000000000000000.0}): Solver failed or solution check failed.\n",
      "WARNING:root:Root finder converged (message: The solution converged.), but solution check failed.\n",
      "WARNING:root:Condition 15 ({'C': 0.0, 'CO': 0, 'CO2': 0, 'O': 12437793259850040, 'O2': 82787381940537104, 'O3': 2007970176632.502, 'Tgas': 540.039475009039, 'Tnw': 350.690744737831, 'Tw': 323.15, 'current': 40, 'frac_CO2': 0.0, 'pressure': 5.0, 'fluxO': 2.1182223196099582e+20, 'fluxO2': 9.969591348547536e+20, 'fluxO3': 1.9743531498678736e+16, 'fluxC': 0.0, 'fluxCO': 0.0, 'fluxCO2': 0.0, 'EavgMB': 0.001, 'Ion': 4000000000000000.0}): Solver failed or solution check failed.\n",
      "WARNING:root:Root finder converged (message: The solution converged.), but solution check failed.\n",
      "WARNING:root:Condition 16 ({'C': 0.0, 'CO': 0, 'CO2': 0, 'O': 12437793259850040, 'O2': 82787381940537104, 'O3': 2007970176632.502, 'Tgas': 540.039475009039, 'Tnw': 350.690744737831, 'Tw': 323.15, 'current': 40, 'frac_CO2': 0.0, 'pressure': 5.0, 'fluxO': 2.1182223196099582e+20, 'fluxO2': 9.969591348547536e+20, 'fluxO3': 1.9743531498678736e+16, 'fluxC': 0.0, 'fluxCO': 0.0, 'fluxCO2': 0.0, 'EavgMB': 0.001, 'Ion': 4000000000000000.0}): Solver failed or solution check failed.\n"
     ]
    },
    {
     "name": "stdout",
     "output_type": "stream",
     "text": [
      "differential_evolution step 31: f(x)= 0.05345341143925609\n"
     ]
    },
    {
     "name": "stderr",
     "output_type": "stream",
     "text": [
      "WARNING:root:Root finder converged (message: The solution converged.), but solution check failed.\n",
      "WARNING:root:Condition 15 ({'C': 0.0, 'CO': 0, 'CO2': 0, 'O': 12437793259850040, 'O2': 82787381940537104, 'O3': 2007970176632.502, 'Tgas': 540.039475009039, 'Tnw': 350.690744737831, 'Tw': 323.15, 'current': 40, 'frac_CO2': 0.0, 'pressure': 5.0, 'fluxO': 2.1182223196099582e+20, 'fluxO2': 9.969591348547536e+20, 'fluxO3': 1.9743531498678736e+16, 'fluxC': 0.0, 'fluxCO': 0.0, 'fluxCO2': 0.0, 'EavgMB': 0.001, 'Ion': 4000000000000000.0}): Solver failed or solution check failed.\n",
      "WARNING:root:Root finder converged (message: The solution converged.), but solution check failed.\n",
      "WARNING:root:Condition 16 ({'C': 0.0, 'CO': 0, 'CO2': 0, 'O': 12437793259850040, 'O2': 82787381940537104, 'O3': 2007970176632.502, 'Tgas': 540.039475009039, 'Tnw': 350.690744737831, 'Tw': 323.15, 'current': 40, 'frac_CO2': 0.0, 'pressure': 5.0, 'fluxO': 2.1182223196099582e+20, 'fluxO2': 9.969591348547536e+20, 'fluxO3': 1.9743531498678736e+16, 'fluxC': 0.0, 'fluxCO': 0.0, 'fluxCO2': 0.0, 'EavgMB': 0.001, 'Ion': 4000000000000000.0}): Solver failed or solution check failed.\n",
      "WARNING:root:Root finder converged (message: The solution converged.), but solution check failed.\n",
      "WARNING:root:Condition 15 ({'C': 0.0, 'CO': 0, 'CO2': 0, 'O': 12437793259850040, 'O2': 82787381940537104, 'O3': 2007970176632.502, 'Tgas': 540.039475009039, 'Tnw': 350.690744737831, 'Tw': 323.15, 'current': 40, 'frac_CO2': 0.0, 'pressure': 5.0, 'fluxO': 2.1182223196099582e+20, 'fluxO2': 9.969591348547536e+20, 'fluxO3': 1.9743531498678736e+16, 'fluxC': 0.0, 'fluxCO': 0.0, 'fluxCO2': 0.0, 'EavgMB': 0.001, 'Ion': 4000000000000000.0}): Solver failed or solution check failed.\n",
      "WARNING:root:Root finder converged (message: The solution converged.), but solution check failed.\n",
      "WARNING:root:Condition 16 ({'C': 0.0, 'CO': 0, 'CO2': 0, 'O': 12437793259850040, 'O2': 82787381940537104, 'O3': 2007970176632.502, 'Tgas': 540.039475009039, 'Tnw': 350.690744737831, 'Tw': 323.15, 'current': 40, 'frac_CO2': 0.0, 'pressure': 5.0, 'fluxO': 2.1182223196099582e+20, 'fluxO2': 9.969591348547536e+20, 'fluxO3': 1.9743531498678736e+16, 'fluxC': 0.0, 'fluxCO': 0.0, 'fluxCO2': 0.0, 'EavgMB': 0.001, 'Ion': 4000000000000000.0}): Solver failed or solution check failed.\n"
     ]
    },
    {
     "name": "stdout",
     "output_type": "stream",
     "text": [
      "differential_evolution step 32: f(x)= 0.05345341143925609\n",
      "differential_evolution step 33: f(x)= 0.05345341143925609\n"
     ]
    },
    {
     "name": "stderr",
     "output_type": "stream",
     "text": [
      "WARNING:root:Root finder converged (message: The solution converged.), but solution check failed.\n",
      "WARNING:root:Condition 11 ({'C': 0.0, 'CO': 0, 'CO2': 0, 'O': 10227815146721590, 'O2': 34456006222794272, 'O3': 1115479208075.123, 'Tgas': 441.238008153174, 'Tnw': 337.912930739729, 'Tw': 323.15, 'current': 40, 'frac_CO2': 0.0, 'pressure': 2.0, 'fluxO': 1.7098236884647297e+20, 'fluxO2': 4.0730374083815014e+20, 'fluxO3': 1.0766370272295388e+16, 'fluxC': 0.0, 'fluxCO': 0.0, 'fluxCO2': 0.0, 'EavgMB': 0.001, 'Ion': 4000000000000000.0}): Solver failed or solution check failed.\n",
      "WARNING:root:Root finder converged (message: The solution converged.), but solution check failed.\n",
      "WARNING:root:Condition 12 ({'C': 0.0, 'CO': 0, 'CO2': 0, 'O': 10227815146721590, 'O2': 34456006222794272, 'O3': 1115479208075.123, 'Tgas': 441.238008153174, 'Tnw': 337.912930739729, 'Tw': 323.15, 'current': 40, 'frac_CO2': 0.0, 'pressure': 2.0, 'fluxO': 1.7098236884647297e+20, 'fluxO2': 4.0730374083815014e+20, 'fluxO3': 1.0766370272295388e+16, 'fluxC': 0.0, 'fluxCO': 0.0, 'fluxCO2': 0.0, 'EavgMB': 0.001, 'Ion': 4000000000000000.0}): Solver failed or solution check failed.\n"
     ]
    },
    {
     "name": "stdout",
     "output_type": "stream",
     "text": [
      "differential_evolution step 34: f(x)= 0.05345341143925609\n",
      "differential_evolution step 35: f(x)= 0.05345341143925609\n",
      "differential_evolution step 36: f(x)= 0.05345341143925609\n"
     ]
    },
    {
     "name": "stderr",
     "output_type": "stream",
     "text": [
      "WARNING:root:Root finder converged (message: The solution converged.), but solution check failed.\n",
      "WARNING:root:Condition 13 ({'C': 0.0, 'CO': 0, 'CO2': 0, 'O': 11661406206185850, 'O2': 51164656024443752, 'O3': 1541988507687.184, 'Tgas': 479.362708334399, 'Tnw': 342.580364153413, 'Tw': 323.15, 'current': 40, 'frac_CO2': 0.0, 'pressure': 3.0, 'fluxO': 1.9629001620284414e+20, 'fluxO2': 6.08979044200974e+20, 'fluxO3': 1.4985381264008032e+16, 'fluxC': 0.0, 'fluxCO': 0.0, 'fluxCO2': 0.0, 'EavgMB': 0.001, 'Ion': 4000000000000000.0}): Solver failed or solution check failed.\n",
      "WARNING:root:Root finder converged (message: The solution converged.), but solution check failed.\n",
      "WARNING:root:Condition 14 ({'C': 0.0, 'CO': 0, 'CO2': 0, 'O': 11661406206185850, 'O2': 51164656024443752, 'O3': 1541988507687.184, 'Tgas': 479.362708334399, 'Tnw': 342.580364153413, 'Tw': 323.15, 'current': 40, 'frac_CO2': 0.0, 'pressure': 3.0, 'fluxO': 1.9629001620284414e+20, 'fluxO2': 6.08979044200974e+20, 'fluxO3': 1.4985381264008032e+16, 'fluxC': 0.0, 'fluxCO': 0.0, 'fluxCO2': 0.0, 'EavgMB': 0.001, 'Ion': 4000000000000000.0}): Solver failed or solution check failed.\n"
     ]
    },
    {
     "name": "stdout",
     "output_type": "stream",
     "text": [
      "differential_evolution step 37: f(x)= 0.05345341143925609\n",
      "differential_evolution step 38: f(x)= 0.05345341143925609\n"
     ]
    },
    {
     "name": "stderr",
     "output_type": "stream",
     "text": [
      "WARNING:root:Root finder converged (message: The solution converged.), but solution check failed.\n",
      "WARNING:root:Condition 15 ({'C': 0.0, 'CO': 0, 'CO2': 0, 'O': 12437793259850040, 'O2': 82787381940537104, 'O3': 2007970176632.502, 'Tgas': 540.039475009039, 'Tnw': 350.690744737831, 'Tw': 323.15, 'current': 40, 'frac_CO2': 0.0, 'pressure': 5.0, 'fluxO': 2.1182223196099582e+20, 'fluxO2': 9.969591348547536e+20, 'fluxO3': 1.9743531498678736e+16, 'fluxC': 0.0, 'fluxCO': 0.0, 'fluxCO2': 0.0, 'EavgMB': 0.001, 'Ion': 4000000000000000.0}): Solver failed or solution check failed.\n",
      "WARNING:root:Root finder converged (message: The solution converged.), but solution check failed.\n",
      "WARNING:root:Condition 16 ({'C': 0.0, 'CO': 0, 'CO2': 0, 'O': 12437793259850040, 'O2': 82787381940537104, 'O3': 2007970176632.502, 'Tgas': 540.039475009039, 'Tnw': 350.690744737831, 'Tw': 323.15, 'current': 40, 'frac_CO2': 0.0, 'pressure': 5.0, 'fluxO': 2.1182223196099582e+20, 'fluxO2': 9.969591348547536e+20, 'fluxO3': 1.9743531498678736e+16, 'fluxC': 0.0, 'fluxCO': 0.0, 'fluxCO2': 0.0, 'EavgMB': 0.001, 'Ion': 4000000000000000.0}): Solver failed or solution check failed.\n",
      "WARNING:root:Root finder converged (message: The solution converged.), but solution check failed.\n",
      "WARNING:root:Condition 25 ({'C': 0.0, 'CO': 0, 'CO2': 0, 'O': 11080348104371450, 'O2': 98081100063129136, 'O3': 3913022261520.635, 'Tgas': 451.8449522468635, 'Tnw': 339.118490883537, 'Tw': 323.15, 'current': 20, 'frac_CO2': 0.0, 'pressure': 5.0, 'fluxO': 1.8556462742738305e+20, 'fluxO2': 1.1614810266246557e+21, 'fluxO3': 3.7834977558898056e+16, 'fluxC': 0.0, 'fluxCO': 0.0, 'fluxCO2': 0.0, 'EavgMB': 0.001, 'Ion': 2000000000000000.0}): Solver failed or solution check failed.\n",
      "WARNING:root:Root finder converged (message: The solution converged.), but solution check failed.\n",
      "WARNING:root:Condition 26 ({'C': 0.0, 'CO': 0, 'CO2': 0, 'O': 11080348104371450, 'O2': 98081100063129136, 'O3': 3913022261520.635, 'Tgas': 451.8449522468635, 'Tnw': 339.118490883537, 'Tw': 323.15, 'current': 20, 'frac_CO2': 0.0, 'pressure': 5.0, 'fluxO': 1.8556462742738305e+20, 'fluxO2': 1.1614810266246557e+21, 'fluxO3': 3.7834977558898056e+16, 'fluxC': 0.0, 'fluxCO': 0.0, 'fluxCO2': 0.0, 'EavgMB': 0.001, 'Ion': 2000000000000000.0}): Solver failed or solution check failed.\n"
     ]
    },
    {
     "name": "stdout",
     "output_type": "stream",
     "text": [
      "differential_evolution step 39: f(x)= 0.050873859883712194\n"
     ]
    },
    {
     "name": "stderr",
     "output_type": "stream",
     "text": [
      "WARNING:root:Root finder converged (message: The solution converged.), but solution check failed.\n",
      "WARNING:root:Condition 15 ({'C': 0.0, 'CO': 0, 'CO2': 0, 'O': 12437793259850040, 'O2': 82787381940537104, 'O3': 2007970176632.502, 'Tgas': 540.039475009039, 'Tnw': 350.690744737831, 'Tw': 323.15, 'current': 40, 'frac_CO2': 0.0, 'pressure': 5.0, 'fluxO': 2.1182223196099582e+20, 'fluxO2': 9.969591348547536e+20, 'fluxO3': 1.9743531498678736e+16, 'fluxC': 0.0, 'fluxCO': 0.0, 'fluxCO2': 0.0, 'EavgMB': 0.001, 'Ion': 4000000000000000.0}): Solver failed or solution check failed.\n",
      "WARNING:root:Root finder converged (message: The solution converged.), but solution check failed.\n",
      "WARNING:root:Condition 16 ({'C': 0.0, 'CO': 0, 'CO2': 0, 'O': 12437793259850040, 'O2': 82787381940537104, 'O3': 2007970176632.502, 'Tgas': 540.039475009039, 'Tnw': 350.690744737831, 'Tw': 323.15, 'current': 40, 'frac_CO2': 0.0, 'pressure': 5.0, 'fluxO': 2.1182223196099582e+20, 'fluxO2': 9.969591348547536e+20, 'fluxO3': 1.9743531498678736e+16, 'fluxC': 0.0, 'fluxCO': 0.0, 'fluxCO2': 0.0, 'EavgMB': 0.001, 'Ion': 4000000000000000.0}): Solver failed or solution check failed.\n"
     ]
    },
    {
     "name": "stdout",
     "output_type": "stream",
     "text": [
      "differential_evolution step 40: f(x)= 0.050873859883712194\n"
     ]
    },
    {
     "name": "stderr",
     "output_type": "stream",
     "text": [
      "WARNING:root:Root finder converged (message: The solution converged.), but solution check failed.\n",
      "WARNING:root:Condition 13 ({'C': 0.0, 'CO': 0, 'CO2': 0, 'O': 11661406206185850, 'O2': 51164656024443752, 'O3': 1541988507687.184, 'Tgas': 479.362708334399, 'Tnw': 342.580364153413, 'Tw': 323.15, 'current': 40, 'frac_CO2': 0.0, 'pressure': 3.0, 'fluxO': 1.9629001620284414e+20, 'fluxO2': 6.08979044200974e+20, 'fluxO3': 1.4985381264008032e+16, 'fluxC': 0.0, 'fluxCO': 0.0, 'fluxCO2': 0.0, 'EavgMB': 0.001, 'Ion': 4000000000000000.0}): Solver failed or solution check failed.\n",
      "WARNING:root:Root finder converged (message: The solution converged.), but solution check failed.\n",
      "WARNING:root:Condition 14 ({'C': 0.0, 'CO': 0, 'CO2': 0, 'O': 11661406206185850, 'O2': 51164656024443752, 'O3': 1541988507687.184, 'Tgas': 479.362708334399, 'Tnw': 342.580364153413, 'Tw': 323.15, 'current': 40, 'frac_CO2': 0.0, 'pressure': 3.0, 'fluxO': 1.9629001620284414e+20, 'fluxO2': 6.08979044200974e+20, 'fluxO3': 1.4985381264008032e+16, 'fluxC': 0.0, 'fluxCO': 0.0, 'fluxCO2': 0.0, 'EavgMB': 0.001, 'Ion': 4000000000000000.0}): Solver failed or solution check failed.\n"
     ]
    },
    {
     "name": "stdout",
     "output_type": "stream",
     "text": [
      "differential_evolution step 41: f(x)= 0.050873859883712194\n",
      "differential_evolution step 42: f(x)= 0.050873859883712194\n",
      "differential_evolution step 43: f(x)= 0.048844193382604616\n"
     ]
    },
    {
     "name": "stderr",
     "output_type": "stream",
     "text": [
      "WARNING:root:Root finder converged (message: The solution converged.), but solution check failed.\n",
      "WARNING:root:Condition 11 ({'C': 0.0, 'CO': 0, 'CO2': 0, 'O': 10227815146721590, 'O2': 34456006222794272, 'O3': 1115479208075.123, 'Tgas': 441.238008153174, 'Tnw': 337.912930739729, 'Tw': 323.15, 'current': 40, 'frac_CO2': 0.0, 'pressure': 2.0, 'fluxO': 1.7098236884647297e+20, 'fluxO2': 4.0730374083815014e+20, 'fluxO3': 1.0766370272295388e+16, 'fluxC': 0.0, 'fluxCO': 0.0, 'fluxCO2': 0.0, 'EavgMB': 0.001, 'Ion': 4000000000000000.0}): Solver failed or solution check failed.\n",
      "WARNING:root:Condition 12 ({'C': 0.0, 'CO': 0, 'CO2': 0, 'O': 10227815146721590, 'O2': 34456006222794272, 'O3': 1115479208075.123, 'Tgas': 441.238008153174, 'Tnw': 337.912930739729, 'Tw': 323.15, 'current': 40, 'frac_CO2': 0.0, 'pressure': 2.0, 'fluxO': 1.7098236884647297e+20, 'fluxO2': 4.0730374083815014e+20, 'fluxO3': 1.0766370272295388e+16, 'fluxC': 0.0, 'fluxCO': 0.0, 'fluxCO2': 0.0, 'EavgMB': 0.001, 'Ion': 4000000000000000.0}): Solver failed or solution check failed.\n",
      "WARNING:root:Root finder converged (message: The solution converged.), but solution check failed.\n",
      "WARNING:root:Root finder converged (message: The solution converged.), but solution check failed.\n",
      "WARNING:root:Condition 15 ({'C': 0.0, 'CO': 0, 'CO2': 0, 'O': 12437793259850040, 'O2': 82787381940537104, 'O3': 2007970176632.502, 'Tgas': 540.039475009039, 'Tnw': 350.690744737831, 'Tw': 323.15, 'current': 40, 'frac_CO2': 0.0, 'pressure': 5.0, 'fluxO': 2.1182223196099582e+20, 'fluxO2': 9.969591348547536e+20, 'fluxO3': 1.9743531498678736e+16, 'fluxC': 0.0, 'fluxCO': 0.0, 'fluxCO2': 0.0, 'EavgMB': 0.001, 'Ion': 4000000000000000.0}): Solver failed or solution check failed.\n",
      "WARNING:root:Root finder converged (message: The solution converged.), but solution check failed.\n",
      "WARNING:root:Condition 16 ({'C': 0.0, 'CO': 0, 'CO2': 0, 'O': 12437793259850040, 'O2': 82787381940537104, 'O3': 2007970176632.502, 'Tgas': 540.039475009039, 'Tnw': 350.690744737831, 'Tw': 323.15, 'current': 40, 'frac_CO2': 0.0, 'pressure': 5.0, 'fluxO': 2.1182223196099582e+20, 'fluxO2': 9.969591348547536e+20, 'fluxO3': 1.9743531498678736e+16, 'fluxC': 0.0, 'fluxCO': 0.0, 'fluxCO2': 0.0, 'EavgMB': 0.001, 'Ion': 4000000000000000.0}): Solver failed or solution check failed.\n"
     ]
    },
    {
     "name": "stdout",
     "output_type": "stream",
     "text": [
      "differential_evolution step 44: f(x)= 0.048844193382604616\n"
     ]
    },
    {
     "name": "stderr",
     "output_type": "stream",
     "text": [
      "WARNING:root:Root finder converged (message: The solution converged.), but solution check failed.\n",
      "WARNING:root:Condition 15 ({'C': 0.0, 'CO': 0, 'CO2': 0, 'O': 12437793259850040, 'O2': 82787381940537104, 'O3': 2007970176632.502, 'Tgas': 540.039475009039, 'Tnw': 350.690744737831, 'Tw': 323.15, 'current': 40, 'frac_CO2': 0.0, 'pressure': 5.0, 'fluxO': 2.1182223196099582e+20, 'fluxO2': 9.969591348547536e+20, 'fluxO3': 1.9743531498678736e+16, 'fluxC': 0.0, 'fluxCO': 0.0, 'fluxCO2': 0.0, 'EavgMB': 0.001, 'Ion': 4000000000000000.0}): Solver failed or solution check failed.\n",
      "WARNING:root:Root finder converged (message: The solution converged.), but solution check failed.\n",
      "WARNING:root:Condition 16 ({'C': 0.0, 'CO': 0, 'CO2': 0, 'O': 12437793259850040, 'O2': 82787381940537104, 'O3': 2007970176632.502, 'Tgas': 540.039475009039, 'Tnw': 350.690744737831, 'Tw': 323.15, 'current': 40, 'frac_CO2': 0.0, 'pressure': 5.0, 'fluxO': 2.1182223196099582e+20, 'fluxO2': 9.969591348547536e+20, 'fluxO3': 1.9743531498678736e+16, 'fluxC': 0.0, 'fluxCO': 0.0, 'fluxCO2': 0.0, 'EavgMB': 0.001, 'Ion': 4000000000000000.0}): Solver failed or solution check failed.\n"
     ]
    },
    {
     "name": "stdout",
     "output_type": "stream",
     "text": [
      "differential_evolution step 45: f(x)= 0.048844193382604616\n"
     ]
    },
    {
     "name": "stderr",
     "output_type": "stream",
     "text": [
      "WARNING:root:Root finder converged (message: The solution converged.), but solution check failed.\n",
      "WARNING:root:Condition 25 ({'C': 0.0, 'CO': 0, 'CO2': 0, 'O': 11080348104371450, 'O2': 98081100063129136, 'O3': 3913022261520.635, 'Tgas': 451.8449522468635, 'Tnw': 339.118490883537, 'Tw': 323.15, 'current': 20, 'frac_CO2': 0.0, 'pressure': 5.0, 'fluxO': 1.8556462742738305e+20, 'fluxO2': 1.1614810266246557e+21, 'fluxO3': 3.7834977558898056e+16, 'fluxC': 0.0, 'fluxCO': 0.0, 'fluxCO2': 0.0, 'EavgMB': 0.001, 'Ion': 2000000000000000.0}): Solver failed or solution check failed.\n",
      "WARNING:root:Root finder converged (message: The solution converged.), but solution check failed.\n",
      "WARNING:root:Condition 26 ({'C': 0.0, 'CO': 0, 'CO2': 0, 'O': 11080348104371450, 'O2': 98081100063129136, 'O3': 3913022261520.635, 'Tgas': 451.8449522468635, 'Tnw': 339.118490883537, 'Tw': 323.15, 'current': 20, 'frac_CO2': 0.0, 'pressure': 5.0, 'fluxO': 1.8556462742738305e+20, 'fluxO2': 1.1614810266246557e+21, 'fluxO3': 3.7834977558898056e+16, 'fluxC': 0.0, 'fluxCO': 0.0, 'fluxCO2': 0.0, 'EavgMB': 0.001, 'Ion': 2000000000000000.0}): Solver failed or solution check failed.\n",
      "WARNING:root:Root finder converged (message: The solution converged.), but solution check failed.\n",
      "WARNING:root:Condition 15 ({'C': 0.0, 'CO': 0, 'CO2': 0, 'O': 12437793259850040, 'O2': 82787381940537104, 'O3': 2007970176632.502, 'Tgas': 540.039475009039, 'Tnw': 350.690744737831, 'Tw': 323.15, 'current': 40, 'frac_CO2': 0.0, 'pressure': 5.0, 'fluxO': 2.1182223196099582e+20, 'fluxO2': 9.969591348547536e+20, 'fluxO3': 1.9743531498678736e+16, 'fluxC': 0.0, 'fluxCO': 0.0, 'fluxCO2': 0.0, 'EavgMB': 0.001, 'Ion': 4000000000000000.0}): Solver failed or solution check failed.\n",
      "WARNING:root:Root finder converged (message: The solution converged.), but solution check failed.\n",
      "WARNING:root:Condition 16 ({'C': 0.0, 'CO': 0, 'CO2': 0, 'O': 12437793259850040, 'O2': 82787381940537104, 'O3': 2007970176632.502, 'Tgas': 540.039475009039, 'Tnw': 350.690744737831, 'Tw': 323.15, 'current': 40, 'frac_CO2': 0.0, 'pressure': 5.0, 'fluxO': 2.1182223196099582e+20, 'fluxO2': 9.969591348547536e+20, 'fluxO3': 1.9743531498678736e+16, 'fluxC': 0.0, 'fluxCO': 0.0, 'fluxCO2': 0.0, 'EavgMB': 0.001, 'Ion': 4000000000000000.0}): Solver failed or solution check failed.\n"
     ]
    },
    {
     "name": "stdout",
     "output_type": "stream",
     "text": [
      "differential_evolution step 46: f(x)= 0.048844193382604616\n"
     ]
    },
    {
     "name": "stderr",
     "output_type": "stream",
     "text": [
      "WARNING:root:Root finder converged (message: The solution converged.), but solution check failed.\n",
      "WARNING:root:Condition 15 ({'C': 0.0, 'CO': 0, 'CO2': 0, 'O': 12437793259850040, 'O2': 82787381940537104, 'O3': 2007970176632.502, 'Tgas': 540.039475009039, 'Tnw': 350.690744737831, 'Tw': 323.15, 'current': 40, 'frac_CO2': 0.0, 'pressure': 5.0, 'fluxO': 2.1182223196099582e+20, 'fluxO2': 9.969591348547536e+20, 'fluxO3': 1.9743531498678736e+16, 'fluxC': 0.0, 'fluxCO': 0.0, 'fluxCO2': 0.0, 'EavgMB': 0.001, 'Ion': 4000000000000000.0}): Solver failed or solution check failed.\n",
      "WARNING:root:Root finder converged (message: The solution converged.), but solution check failed.\n",
      "WARNING:root:Condition 16 ({'C': 0.0, 'CO': 0, 'CO2': 0, 'O': 12437793259850040, 'O2': 82787381940537104, 'O3': 2007970176632.502, 'Tgas': 540.039475009039, 'Tnw': 350.690744737831, 'Tw': 323.15, 'current': 40, 'frac_CO2': 0.0, 'pressure': 5.0, 'fluxO': 2.1182223196099582e+20, 'fluxO2': 9.969591348547536e+20, 'fluxO3': 1.9743531498678736e+16, 'fluxC': 0.0, 'fluxCO': 0.0, 'fluxCO2': 0.0, 'EavgMB': 0.001, 'Ion': 4000000000000000.0}): Solver failed or solution check failed.\n"
     ]
    },
    {
     "name": "stdout",
     "output_type": "stream",
     "text": [
      "differential_evolution step 47: f(x)= 0.048844193382604616\n",
      "differential_evolution step 48: f(x)= 0.048844193382604616\n"
     ]
    },
    {
     "name": "stderr",
     "output_type": "stream",
     "text": [
      "WARNING:root:Root finder converged (message: The solution converged.), but solution check failed.\n",
      "WARNING:root:Condition 15 ({'C': 0.0, 'CO': 0, 'CO2': 0, 'O': 12437793259850040, 'O2': 82787381940537104, 'O3': 2007970176632.502, 'Tgas': 540.039475009039, 'Tnw': 350.690744737831, 'Tw': 323.15, 'current': 40, 'frac_CO2': 0.0, 'pressure': 5.0, 'fluxO': 2.1182223196099582e+20, 'fluxO2': 9.969591348547536e+20, 'fluxO3': 1.9743531498678736e+16, 'fluxC': 0.0, 'fluxCO': 0.0, 'fluxCO2': 0.0, 'EavgMB': 0.001, 'Ion': 4000000000000000.0}): Solver failed or solution check failed.\n",
      "WARNING:root:Root finder converged (message: The solution converged.), but solution check failed.\n",
      "WARNING:root:Condition 16 ({'C': 0.0, 'CO': 0, 'CO2': 0, 'O': 12437793259850040, 'O2': 82787381940537104, 'O3': 2007970176632.502, 'Tgas': 540.039475009039, 'Tnw': 350.690744737831, 'Tw': 323.15, 'current': 40, 'frac_CO2': 0.0, 'pressure': 5.0, 'fluxO': 2.1182223196099582e+20, 'fluxO2': 9.969591348547536e+20, 'fluxO3': 1.9743531498678736e+16, 'fluxC': 0.0, 'fluxCO': 0.0, 'fluxCO2': 0.0, 'EavgMB': 0.001, 'Ion': 4000000000000000.0}): Solver failed or solution check failed.\n"
     ]
    },
    {
     "name": "stdout",
     "output_type": "stream",
     "text": [
      "differential_evolution step 49: f(x)= 0.04373115044184657\n",
      "differential_evolution step 50: f(x)= 0.04373115044184657\n"
     ]
    },
    {
     "name": "stderr",
     "output_type": "stream",
     "text": [
      "WARNING:root:Root finder converged (message: The solution converged.), but solution check failed.\n",
      "WARNING:root:Condition 7 ({'C': 0.0, 'CO': 0, 'CO2': 0, 'O': 9171050580521870, 'O2': 25737271502080888, 'O3': 847409425613.0869, 'Tgas': 419.515142847557, 'Tnw': 335.291795313841, 'Tw': 323.15, 'current': 40, 'frac_CO2': 0.0, 'pressure': 1.5, 'fluxO': 1.527202427798485e+20, 'fluxO2': 3.030574908565117e+20, 'fluxO3': 8147233812137309.0, 'fluxC': 0.0, 'fluxCO': 0.0, 'fluxCO2': 0.0, 'EavgMB': 0.001, 'Ion': 4000000000000000.0}): Solver failed or solution check failed.\n",
      "WARNING:root:Root finder converged (message: The solution converged.), but solution check failed.\n",
      "WARNING:root:Condition 8 ({'C': 0.0, 'CO': 0, 'CO2': 0, 'O': 9171050580521870, 'O2': 25737271502080888, 'O3': 847409425613.0869, 'Tgas': 419.515142847557, 'Tnw': 335.291795313841, 'Tw': 323.15, 'current': 40, 'frac_CO2': 0.0, 'pressure': 1.5, 'fluxO': 1.527202427798485e+20, 'fluxO2': 3.030574908565117e+20, 'fluxO3': 8147233812137309.0, 'fluxC': 0.0, 'fluxCO': 0.0, 'fluxCO2': 0.0, 'EavgMB': 0.001, 'Ion': 4000000000000000.0}): Solver failed or solution check failed.\n"
     ]
    },
    {
     "name": "stdout",
     "output_type": "stream",
     "text": [
      "differential_evolution step 51: f(x)= 0.04373115044184657\n",
      "differential_evolution step 52: f(x)= 0.04373115044184657\n",
      "differential_evolution step 53: f(x)= 0.04373115044184657\n",
      "differential_evolution step 54: f(x)= 0.04301668418572203\n"
     ]
    },
    {
     "name": "stderr",
     "output_type": "stream",
     "text": [
      "WARNING:root:Root finder converged (message: The solution converged.), but solution check failed.\n",
      "WARNING:root:Condition 11 ({'C': 0.0, 'CO': 0, 'CO2': 0, 'O': 10227815146721590, 'O2': 34456006222794272, 'O3': 1115479208075.123, 'Tgas': 441.238008153174, 'Tnw': 337.912930739729, 'Tw': 323.15, 'current': 40, 'frac_CO2': 0.0, 'pressure': 2.0, 'fluxO': 1.7098236884647297e+20, 'fluxO2': 4.0730374083815014e+20, 'fluxO3': 1.0766370272295388e+16, 'fluxC': 0.0, 'fluxCO': 0.0, 'fluxCO2': 0.0, 'EavgMB': 0.001, 'Ion': 4000000000000000.0}): Solver failed or solution check failed.\n",
      "WARNING:root:Root finder converged (message: The solution converged.), but solution check failed.\n",
      "WARNING:root:Condition 12 ({'C': 0.0, 'CO': 0, 'CO2': 0, 'O': 10227815146721590, 'O2': 34456006222794272, 'O3': 1115479208075.123, 'Tgas': 441.238008153174, 'Tnw': 337.912930739729, 'Tw': 323.15, 'current': 40, 'frac_CO2': 0.0, 'pressure': 2.0, 'fluxO': 1.7098236884647297e+20, 'fluxO2': 4.0730374083815014e+20, 'fluxO3': 1.0766370272295388e+16, 'fluxC': 0.0, 'fluxCO': 0.0, 'fluxCO2': 0.0, 'EavgMB': 0.001, 'Ion': 4000000000000000.0}): Solver failed or solution check failed.\n",
      "WARNING:root:Root finder converged (message: The solution converged.), but solution check failed.\n",
      "WARNING:root:Condition 15 ({'C': 0.0, 'CO': 0, 'CO2': 0, 'O': 12437793259850040, 'O2': 82787381940537104, 'O3': 2007970176632.502, 'Tgas': 540.039475009039, 'Tnw': 350.690744737831, 'Tw': 323.15, 'current': 40, 'frac_CO2': 0.0, 'pressure': 5.0, 'fluxO': 2.1182223196099582e+20, 'fluxO2': 9.969591348547536e+20, 'fluxO3': 1.9743531498678736e+16, 'fluxC': 0.0, 'fluxCO': 0.0, 'fluxCO2': 0.0, 'EavgMB': 0.001, 'Ion': 4000000000000000.0}): Solver failed or solution check failed.\n",
      "WARNING:root:Root finder converged (message: The solution converged.), but solution check failed.\n",
      "WARNING:root:Condition 16 ({'C': 0.0, 'CO': 0, 'CO2': 0, 'O': 12437793259850040, 'O2': 82787381940537104, 'O3': 2007970176632.502, 'Tgas': 540.039475009039, 'Tnw': 350.690744737831, 'Tw': 323.15, 'current': 40, 'frac_CO2': 0.0, 'pressure': 5.0, 'fluxO': 2.1182223196099582e+20, 'fluxO2': 9.969591348547536e+20, 'fluxO3': 1.9743531498678736e+16, 'fluxC': 0.0, 'fluxCO': 0.0, 'fluxCO2': 0.0, 'EavgMB': 0.001, 'Ion': 4000000000000000.0}): Solver failed or solution check failed.\n",
      "WARNING:root:Root finder converged (message: The solution converged.), but solution check failed.\n",
      "WARNING:root:Condition 23 ({'C': 0.0, 'CO': 0, 'CO2': 0, 'O': 9390671668457340, 'O2': 61021370254285984, 'O3': 2576869576784.18, 'Tgas': 419.8906073079275, 'Tnw': 334.405966019031, 'Tw': 323.15, 'current': 20, 'frac_CO2': 0.0, 'pressure': 3.0, 'fluxO': 1.56170758192786e+20, 'fluxO2': 7.175794951547236e+20, 'fluxO3': 2.4742004025268896e+16, 'fluxC': 0.0, 'fluxCO': 0.0, 'fluxCO2': 0.0, 'EavgMB': 0.001, 'Ion': 2000000000000000.0}): Solver failed or solution check failed.\n",
      "WARNING:root:Root finder converged (message: The solution converged.), but solution check failed.\n",
      "WARNING:root:Condition 24 ({'C': 0.0, 'CO': 0, 'CO2': 0, 'O': 9390671668457340, 'O2': 61021370254285984, 'O3': 2576869576784.18, 'Tgas': 419.8906073079275, 'Tnw': 334.405966019031, 'Tw': 323.15, 'current': 20, 'frac_CO2': 0.0, 'pressure': 3.0, 'fluxO': 1.56170758192786e+20, 'fluxO2': 7.175794951547236e+20, 'fluxO3': 2.4742004025268896e+16, 'fluxC': 0.0, 'fluxCO': 0.0, 'fluxCO2': 0.0, 'EavgMB': 0.001, 'Ion': 2000000000000000.0}): Solver failed or solution check failed.\n",
      "WARNING:root:Root finder converged (message: The solution converged.), but solution check failed.\n",
      "WARNING:root:Condition 21 ({'C': 0.0, 'CO': 0, 'CO2': 0, 'O': 8555223967509234, 'O2': 40793202589105752, 'O3': 1794960440173.376, 'Tgas': 397.533920840751, 'Tnw': 331.595772689096, 'Tw': 323.15, 'current': 20, 'frac_CO2': 0.0, 'pressure': 2.0, 'fluxO': 1.4167784099393474e+20, 'fluxO2': 4.776869215527232e+20, 'fluxO3': 1.7161877620027228e+16, 'fluxC': 0.0, 'fluxCO': 0.0, 'fluxCO2': 0.0, 'EavgMB': 0.001, 'Ion': 2000000000000000.0}): Solver failed or solution check failed.\n",
      "WARNING:root:Root finder converged (message: The solution converged.), but solution check failed.\n",
      "WARNING:root:Condition 22 ({'C': 0.0, 'CO': 0, 'CO2': 0, 'O': 8555223967509234, 'O2': 40793202589105752, 'O3': 1794960440173.376, 'Tgas': 397.533920840751, 'Tnw': 331.595772689096, 'Tw': 323.15, 'current': 20, 'frac_CO2': 0.0, 'pressure': 2.0, 'fluxO': 1.4167784099393474e+20, 'fluxO2': 4.776869215527232e+20, 'fluxO3': 1.7161877620027228e+16, 'fluxC': 0.0, 'fluxCO': 0.0, 'fluxCO2': 0.0, 'EavgMB': 0.001, 'Ion': 2000000000000000.0}): Solver failed or solution check failed.\n"
     ]
    },
    {
     "name": "stdout",
     "output_type": "stream",
     "text": [
      "differential_evolution step 55: f(x)= 0.04301668418572203\n"
     ]
    },
    {
     "name": "stderr",
     "output_type": "stream",
     "text": [
      "WARNING:root:Root finder converged (message: The solution converged.), but solution check failed.\n",
      "WARNING:root:Condition 1 ({'C': 0.0, 'CO': 0, 'CO2': 0, 'O': 8157238605327579, 'O2': 16385293162655330, 'O3': 546065957887.2443, 'Tgas': 394.8481502500865, 'Tnw': 332.243199758804, 'Tw': 323.15, 'current': 40, 'frac_CO2': 0.0, 'pressure': 1.0, 'fluxO': 1.352188600260873e+20, 'fluxO2': 1.9205840711049527e+20, 'fluxO3': 5226110403792976.0, 'fluxC': 0.0, 'fluxCO': 0.0, 'fluxCO2': 0.0, 'EavgMB': 0.33366666666666667, 'Ion': 4000000000000000.0}): Solver failed or solution check failed.\n",
      "WARNING:root:Root finder converged (message: The solution converged.), but solution check failed.\n",
      "WARNING:root:Condition 2 ({'C': 0.0, 'CO': 0, 'CO2': 0, 'O': 8157238605327579, 'O2': 16385293162655330, 'O3': 546065957887.2443, 'Tgas': 394.8481502500865, 'Tnw': 332.243199758804, 'Tw': 323.15, 'current': 40, 'frac_CO2': 0.0, 'pressure': 1.0, 'fluxO': 1.352188600260873e+20, 'fluxO2': 1.9205840711049527e+20, 'fluxO3': 5226110403792976.0, 'fluxC': 0.0, 'fluxCO': 0.0, 'fluxCO2': 0.0, 'EavgMB': 0.33366666666666667, 'Ion': 4000000000000000.0}): Solver failed or solution check failed.\n"
     ]
    },
    {
     "name": "stdout",
     "output_type": "stream",
     "text": [
      "differential_evolution step 56: f(x)= 0.04295536683015878\n"
     ]
    },
    {
     "name": "stderr",
     "output_type": "stream",
     "text": [
      "WARNING:root:Root finder converged (message: The solution converged.), but solution check failed.\n",
      "WARNING:root:Condition 15 ({'C': 0.0, 'CO': 0, 'CO2': 0, 'O': 12437793259850040, 'O2': 82787381940537104, 'O3': 2007970176632.502, 'Tgas': 540.039475009039, 'Tnw': 350.690744737831, 'Tw': 323.15, 'current': 40, 'frac_CO2': 0.0, 'pressure': 5.0, 'fluxO': 2.1182223196099582e+20, 'fluxO2': 9.969591348547536e+20, 'fluxO3': 1.9743531498678736e+16, 'fluxC': 0.0, 'fluxCO': 0.0, 'fluxCO2': 0.0, 'EavgMB': 0.001, 'Ion': 4000000000000000.0}): Solver failed or solution check failed.\n",
      "WARNING:root:Condition 16 ({'C': 0.0, 'CO': 0, 'CO2': 0, 'O': 12437793259850040, 'O2': 82787381940537104, 'O3': 2007970176632.502, 'Tgas': 540.039475009039, 'Tnw': 350.690744737831, 'Tw': 323.15, 'current': 40, 'frac_CO2': 0.0, 'pressure': 5.0, 'fluxO': 2.1182223196099582e+20, 'fluxO2': 9.969591348547536e+20, 'fluxO3': 1.9743531498678736e+16, 'fluxC': 0.0, 'fluxCO': 0.0, 'fluxCO2': 0.0, 'EavgMB': 0.001, 'Ion': 4000000000000000.0}): Solver failed or solution check failed.\n",
      "WARNING:root:Root finder converged (message: The solution converged.), but solution check failed.\n",
      "WARNING:root:Root finder converged (message: The solution converged.), but solution check failed.\n",
      "WARNING:root:Condition 5 ({'C': 0.0, 'CO': 0, 'CO2': 0, 'O': 9699256414667572, 'O2': 25296339610481060, 'O3': 860377340101.0089, 'Tgas': 419.001165642662, 'Tnw': 335.174979357197, 'Tw': 323.15, 'current': 40, 'frac_CO2': 0.0, 'pressure': 1.5, 'fluxO': 1.6148801280473068e+20, 'fluxO2': 2.978136058423108e+20, 'fluxO3': 8270469912468653.0, 'fluxC': 0.0, 'fluxCO': 0.0, 'fluxCO2': 0.0, 'EavgMB': 0.001, 'Ion': 4000000000000000.0}): Solver failed or solution check failed.\n",
      "WARNING:root:Root finder converged (message: The solution converged.), but solution check failed.\n",
      "WARNING:root:Condition 6 ({'C': 0.0, 'CO': 0, 'CO2': 0, 'O': 9699256414667572, 'O2': 25296339610481060, 'O3': 860377340101.0089, 'Tgas': 419.001165642662, 'Tnw': 335.174979357197, 'Tw': 323.15, 'current': 40, 'frac_CO2': 0.0, 'pressure': 1.5, 'fluxO': 1.6148801280473068e+20, 'fluxO2': 2.978136058423108e+20, 'fluxO3': 8270469912468653.0, 'fluxC': 0.0, 'fluxCO': 0.0, 'fluxCO2': 0.0, 'EavgMB': 0.001, 'Ion': 4000000000000000.0}): Solver failed or solution check failed.\n"
     ]
    },
    {
     "name": "stdout",
     "output_type": "stream",
     "text": [
      "differential_evolution step 57: f(x)= 0.04295536683015878\n"
     ]
    },
    {
     "name": "stderr",
     "output_type": "stream",
     "text": [
      "WARNING:root:Root finder converged (message: The solution converged.), but solution check failed.\n",
      "WARNING:root:Condition 25 ({'C': 0.0, 'CO': 0, 'CO2': 0, 'O': 11080348104371450, 'O2': 98081100063129136, 'O3': 3913022261520.635, 'Tgas': 451.8449522468635, 'Tnw': 339.118490883537, 'Tw': 323.15, 'current': 20, 'frac_CO2': 0.0, 'pressure': 5.0, 'fluxO': 1.8556462742738305e+20, 'fluxO2': 1.1614810266246557e+21, 'fluxO3': 3.7834977558898056e+16, 'fluxC': 0.0, 'fluxCO': 0.0, 'fluxCO2': 0.0, 'EavgMB': 0.001, 'Ion': 2000000000000000.0}): Solver failed or solution check failed.\n",
      "WARNING:root:Root finder converged (message: The solution converged.), but solution check failed.\n",
      "WARNING:root:Condition 26 ({'C': 0.0, 'CO': 0, 'CO2': 0, 'O': 11080348104371450, 'O2': 98081100063129136, 'O3': 3913022261520.635, 'Tgas': 451.8449522468635, 'Tnw': 339.118490883537, 'Tw': 323.15, 'current': 20, 'frac_CO2': 0.0, 'pressure': 5.0, 'fluxO': 1.8556462742738305e+20, 'fluxO2': 1.1614810266246557e+21, 'fluxO3': 3.7834977558898056e+16, 'fluxC': 0.0, 'fluxCO': 0.0, 'fluxCO2': 0.0, 'EavgMB': 0.001, 'Ion': 2000000000000000.0}): Solver failed or solution check failed.\n",
      "WARNING:root:Root finder converged (message: The solution converged.), but solution check failed.\n",
      "WARNING:root:Condition 5 ({'C': 0.0, 'CO': 0, 'CO2': 0, 'O': 9699256414667572, 'O2': 25296339610481060, 'O3': 860377340101.0089, 'Tgas': 419.001165642662, 'Tnw': 335.174979357197, 'Tw': 323.15, 'current': 40, 'frac_CO2': 0.0, 'pressure': 1.5, 'fluxO': 1.6148801280473068e+20, 'fluxO2': 2.978136058423108e+20, 'fluxO3': 8270469912468653.0, 'fluxC': 0.0, 'fluxCO': 0.0, 'fluxCO2': 0.0, 'EavgMB': 0.001, 'Ion': 4000000000000000.0}): Solver failed or solution check failed.\n",
      "WARNING:root:Root finder converged (message: The solution converged.), but solution check failed.\n",
      "WARNING:root:Condition 6 ({'C': 0.0, 'CO': 0, 'CO2': 0, 'O': 9699256414667572, 'O2': 25296339610481060, 'O3': 860377340101.0089, 'Tgas': 419.001165642662, 'Tnw': 335.174979357197, 'Tw': 323.15, 'current': 40, 'frac_CO2': 0.0, 'pressure': 1.5, 'fluxO': 1.6148801280473068e+20, 'fluxO2': 2.978136058423108e+20, 'fluxO3': 8270469912468653.0, 'fluxC': 0.0, 'fluxCO': 0.0, 'fluxCO2': 0.0, 'EavgMB': 0.001, 'Ion': 4000000000000000.0}): Solver failed or solution check failed.\n",
      "WARNING:root:Root finder converged (message: The solution converged.), but solution check failed.\n",
      "WARNING:root:Condition 13 ({'C': 0.0, 'CO': 0, 'CO2': 0, 'O': 11661406206185850, 'O2': 51164656024443752, 'O3': 1541988507687.184, 'Tgas': 479.362708334399, 'Tnw': 342.580364153413, 'Tw': 323.15, 'current': 40, 'frac_CO2': 0.0, 'pressure': 3.0, 'fluxO': 1.9629001620284414e+20, 'fluxO2': 6.08979044200974e+20, 'fluxO3': 1.4985381264008032e+16, 'fluxC': 0.0, 'fluxCO': 0.0, 'fluxCO2': 0.0, 'EavgMB': 0.001, 'Ion': 4000000000000000.0}): Solver failed or solution check failed.\n",
      "WARNING:root:Root finder converged (message: The solution converged.), but solution check failed.\n",
      "WARNING:root:Condition 14 ({'C': 0.0, 'CO': 0, 'CO2': 0, 'O': 11661406206185850, 'O2': 51164656024443752, 'O3': 1541988507687.184, 'Tgas': 479.362708334399, 'Tnw': 342.580364153413, 'Tw': 323.15, 'current': 40, 'frac_CO2': 0.0, 'pressure': 3.0, 'fluxO': 1.9629001620284414e+20, 'fluxO2': 6.08979044200974e+20, 'fluxO3': 1.4985381264008032e+16, 'fluxC': 0.0, 'fluxCO': 0.0, 'fluxCO2': 0.0, 'EavgMB': 0.001, 'Ion': 4000000000000000.0}): Solver failed or solution check failed.\n"
     ]
    },
    {
     "name": "stdout",
     "output_type": "stream",
     "text": [
      "differential_evolution step 58: f(x)= 0.04295536683015878\n",
      "differential_evolution step 59: f(x)= 0.04295536683015878\n"
     ]
    },
    {
     "name": "stderr",
     "output_type": "stream",
     "text": [
      "WARNING:root:Root finder converged (message: The solution converged.), but solution check failed.\n",
      "WARNING:root:Condition 9 ({'C': 0.0, 'CO': 0, 'CO2': 0, 'O': 10551273476311810, 'O2': 34191785973519152, 'O3': 1128037915895.378, 'Tgas': 440.9518449183849, 'Tnw': 337.843817904925, 'Tw': 323.15, 'current': 40, 'frac_CO2': 0.0, 'pressure': 2.0, 'fluxO': 1.763717084169756e+20, 'fluxO2': 4.041390633812239e+20, 'fluxO3': 1.0886470806177898e+16, 'fluxC': 0.0, 'fluxCO': 0.0, 'fluxCO2': 0.0, 'EavgMB': 0.001, 'Ion': 4000000000000000.0}): Solver failed or solution check failed.\n",
      "WARNING:root:Root finder converged (message: The solution converged.), but solution check failed.\n",
      "WARNING:root:Condition 10 ({'C': 0.0, 'CO': 0, 'CO2': 0, 'O': 10551273476311810, 'O2': 34191785973519152, 'O3': 1128037915895.378, 'Tgas': 440.9518449183849, 'Tnw': 337.843817904925, 'Tw': 323.15, 'current': 40, 'frac_CO2': 0.0, 'pressure': 2.0, 'fluxO': 1.763717084169756e+20, 'fluxO2': 4.041390633812239e+20, 'fluxO3': 1.0886470806177898e+16, 'fluxC': 0.0, 'fluxCO': 0.0, 'fluxCO2': 0.0, 'EavgMB': 0.001, 'Ion': 4000000000000000.0}): Solver failed or solution check failed.\n"
     ]
    },
    {
     "name": "stdout",
     "output_type": "stream",
     "text": [
      "differential_evolution step 60: f(x)= 0.04295536683015878\n",
      "differential_evolution step 61: f(x)= 0.04295536683015878\n"
     ]
    },
    {
     "name": "stderr",
     "output_type": "stream",
     "text": [
      "WARNING:root:Root finder converged (message: The solution converged.), but solution check failed.\n",
      "WARNING:root:Condition 25 ({'C': 0.0, 'CO': 0, 'CO2': 0, 'O': 11080348104371450, 'O2': 98081100063129136, 'O3': 3913022261520.635, 'Tgas': 451.8449522468635, 'Tnw': 339.118490883537, 'Tw': 323.15, 'current': 20, 'frac_CO2': 0.0, 'pressure': 5.0, 'fluxO': 1.8556462742738305e+20, 'fluxO2': 1.1614810266246557e+21, 'fluxO3': 3.7834977558898056e+16, 'fluxC': 0.0, 'fluxCO': 0.0, 'fluxCO2': 0.0, 'EavgMB': 0.001, 'Ion': 2000000000000000.0}): Solver failed or solution check failed.\n",
      "WARNING:root:Root finder converged (message: The solution converged.), but solution check failed.\n",
      "WARNING:root:Condition 26 ({'C': 0.0, 'CO': 0, 'CO2': 0, 'O': 11080348104371450, 'O2': 98081100063129136, 'O3': 3913022261520.635, 'Tgas': 451.8449522468635, 'Tnw': 339.118490883537, 'Tw': 323.15, 'current': 20, 'frac_CO2': 0.0, 'pressure': 5.0, 'fluxO': 1.8556462742738305e+20, 'fluxO2': 1.1614810266246557e+21, 'fluxO3': 3.7834977558898056e+16, 'fluxC': 0.0, 'fluxCO': 0.0, 'fluxCO2': 0.0, 'EavgMB': 0.001, 'Ion': 2000000000000000.0}): Solver failed or solution check failed.\n"
     ]
    },
    {
     "name": "stdout",
     "output_type": "stream",
     "text": [
      "differential_evolution step 62: f(x)= 0.04295536683015878\n"
     ]
    },
    {
     "name": "stderr",
     "output_type": "stream",
     "text": [
      "WARNING:root:Root finder converged (message: The solution converged.), but solution check failed.\n",
      "WARNING:root:Condition 7 ({'C': 0.0, 'CO': 0, 'CO2': 0, 'O': 9171050580521870, 'O2': 25737271502080888, 'O3': 847409425613.0869, 'Tgas': 419.515142847557, 'Tnw': 335.291795313841, 'Tw': 323.15, 'current': 40, 'frac_CO2': 0.0, 'pressure': 1.5, 'fluxO': 1.527202427798485e+20, 'fluxO2': 3.030574908565117e+20, 'fluxO3': 8147233812137309.0, 'fluxC': 0.0, 'fluxCO': 0.0, 'fluxCO2': 0.0, 'EavgMB': 0.001, 'Ion': 4000000000000000.0}): Solver failed or solution check failed.\n",
      "WARNING:root:Root finder converged (message: The solution converged.), but solution check failed.\n",
      "WARNING:root:Condition 8 ({'C': 0.0, 'CO': 0, 'CO2': 0, 'O': 9171050580521870, 'O2': 25737271502080888, 'O3': 847409425613.0869, 'Tgas': 419.515142847557, 'Tnw': 335.291795313841, 'Tw': 323.15, 'current': 40, 'frac_CO2': 0.0, 'pressure': 1.5, 'fluxO': 1.527202427798485e+20, 'fluxO2': 3.030574908565117e+20, 'fluxO3': 8147233812137309.0, 'fluxC': 0.0, 'fluxCO': 0.0, 'fluxCO2': 0.0, 'EavgMB': 0.001, 'Ion': 4000000000000000.0}): Solver failed or solution check failed.\n",
      "WARNING:root:Root finder converged (message: The solution converged.), but solution check failed.\n",
      "WARNING:root:Condition 5 ({'C': 0.0, 'CO': 0, 'CO2': 0, 'O': 9699256414667572, 'O2': 25296339610481060, 'O3': 860377340101.0089, 'Tgas': 419.001165642662, 'Tnw': 335.174979357197, 'Tw': 323.15, 'current': 40, 'frac_CO2': 0.0, 'pressure': 1.5, 'fluxO': 1.6148801280473068e+20, 'fluxO2': 2.978136058423108e+20, 'fluxO3': 8270469912468653.0, 'fluxC': 0.0, 'fluxCO': 0.0, 'fluxCO2': 0.0, 'EavgMB': 0.001, 'Ion': 4000000000000000.0}): Solver failed or solution check failed.\n",
      "WARNING:root:Root finder converged (message: The solution converged.), but solution check failed.\n",
      "WARNING:root:Condition 6 ({'C': 0.0, 'CO': 0, 'CO2': 0, 'O': 9699256414667572, 'O2': 25296339610481060, 'O3': 860377340101.0089, 'Tgas': 419.001165642662, 'Tnw': 335.174979357197, 'Tw': 323.15, 'current': 40, 'frac_CO2': 0.0, 'pressure': 1.5, 'fluxO': 1.6148801280473068e+20, 'fluxO2': 2.978136058423108e+20, 'fluxO3': 8270469912468653.0, 'fluxC': 0.0, 'fluxCO': 0.0, 'fluxCO2': 0.0, 'EavgMB': 0.001, 'Ion': 4000000000000000.0}): Solver failed or solution check failed.\n"
     ]
    },
    {
     "name": "stdout",
     "output_type": "stream",
     "text": [
      "differential_evolution step 63: f(x)= 0.042397860969736856\n"
     ]
    },
    {
     "name": "stderr",
     "output_type": "stream",
     "text": [
      "WARNING:root:Root finder converged (message: The solution converged.), but solution check failed.\n",
      "WARNING:root:Condition 15 ({'C': 0.0, 'CO': 0, 'CO2': 0, 'O': 12437793259850040, 'O2': 82787381940537104, 'O3': 2007970176632.502, 'Tgas': 540.039475009039, 'Tnw': 350.690744737831, 'Tw': 323.15, 'current': 40, 'frac_CO2': 0.0, 'pressure': 5.0, 'fluxO': 2.1182223196099582e+20, 'fluxO2': 9.969591348547536e+20, 'fluxO3': 1.9743531498678736e+16, 'fluxC': 0.0, 'fluxCO': 0.0, 'fluxCO2': 0.0, 'EavgMB': 0.001, 'Ion': 4000000000000000.0}): Solver failed or solution check failed.\n",
      "WARNING:root:Root finder converged (message: The solution converged.), but solution check failed.\n",
      "WARNING:root:Condition 16 ({'C': 0.0, 'CO': 0, 'CO2': 0, 'O': 12437793259850040, 'O2': 82787381940537104, 'O3': 2007970176632.502, 'Tgas': 540.039475009039, 'Tnw': 350.690744737831, 'Tw': 323.15, 'current': 40, 'frac_CO2': 0.0, 'pressure': 5.0, 'fluxO': 2.1182223196099582e+20, 'fluxO2': 9.969591348547536e+20, 'fluxO3': 1.9743531498678736e+16, 'fluxC': 0.0, 'fluxCO': 0.0, 'fluxCO2': 0.0, 'EavgMB': 0.001, 'Ion': 4000000000000000.0}): Solver failed or solution check failed.\n"
     ]
    },
    {
     "name": "stdout",
     "output_type": "stream",
     "text": [
      "differential_evolution step 64: f(x)= 0.04051512248059165\n",
      "differential_evolution step 65: f(x)= 0.04051512248059165\n"
     ]
    },
    {
     "name": "stderr",
     "output_type": "stream",
     "text": [
      "WARNING:root:Root finder converged (message: The solution converged.), but solution check failed.\n",
      "WARNING:root:Condition 5 ({'C': 0.0, 'CO': 0, 'CO2': 0, 'O': 9699256414667572, 'O2': 25296339610481060, 'O3': 860377340101.0089, 'Tgas': 419.001165642662, 'Tnw': 335.174979357197, 'Tw': 323.15, 'current': 40, 'frac_CO2': 0.0, 'pressure': 1.5, 'fluxO': 1.6148801280473068e+20, 'fluxO2': 2.978136058423108e+20, 'fluxO3': 8270469912468653.0, 'fluxC': 0.0, 'fluxCO': 0.0, 'fluxCO2': 0.0, 'EavgMB': 0.001, 'Ion': 4000000000000000.0}): Solver failed or solution check failed.\n",
      "WARNING:root:Root finder converged (message: The solution converged.), but solution check failed.\n",
      "WARNING:root:Condition 6 ({'C': 0.0, 'CO': 0, 'CO2': 0, 'O': 9699256414667572, 'O2': 25296339610481060, 'O3': 860377340101.0089, 'Tgas': 419.001165642662, 'Tnw': 335.174979357197, 'Tw': 323.15, 'current': 40, 'frac_CO2': 0.0, 'pressure': 1.5, 'fluxO': 1.6148801280473068e+20, 'fluxO2': 2.978136058423108e+20, 'fluxO3': 8270469912468653.0, 'fluxC': 0.0, 'fluxCO': 0.0, 'fluxCO2': 0.0, 'EavgMB': 0.001, 'Ion': 4000000000000000.0}): Solver failed or solution check failed.\n"
     ]
    },
    {
     "name": "stdout",
     "output_type": "stream",
     "text": [
      "differential_evolution step 66: f(x)= 0.04051512248059165\n"
     ]
    },
    {
     "name": "stderr",
     "output_type": "stream",
     "text": [
      "WARNING:root:Root finder converged (message: The solution converged.), but solution check failed.\n",
      "WARNING:root:Condition 3 ({'C': 0.0, 'CO': 0, 'CO2': 0, 'O': 7734088067177275, 'O2': 16748044168456480, 'O3': 543279786949.2826, 'Tgas': 395.3334940722305, 'Tnw': 332.346773039308, 'Tw': 323.15, 'current': 40, 'frac_CO2': 0.0, 'pressure': 1.0, 'fluxO': 1.2822446631169155e+20, 'fluxO2': 1.9634094947387762e+20, 'fluxO3': 5200255798205985.0, 'fluxC': 0.0, 'fluxCO': 0.0, 'fluxCO2': 0.0, 'EavgMB': 0.33366666666666667, 'Ion': 4000000000000000.0}): Solver failed or solution check failed.\n",
      "WARNING:root:Root finder converged (message: The solution converged.), but solution check failed.\n",
      "WARNING:root:Condition 4 ({'C': 0.0, 'CO': 0, 'CO2': 0, 'O': 7734088067177275, 'O2': 16748044168456480, 'O3': 543279786949.2826, 'Tgas': 395.3334940722305, 'Tnw': 332.346773039308, 'Tw': 323.15, 'current': 40, 'frac_CO2': 0.0, 'pressure': 1.0, 'fluxO': 1.2822446631169155e+20, 'fluxO2': 1.9634094947387762e+20, 'fluxO3': 5200255798205985.0, 'fluxC': 0.0, 'fluxCO': 0.0, 'fluxCO2': 0.0, 'EavgMB': 0.33366666666666667, 'Ion': 4000000000000000.0}): Solver failed or solution check failed.\n",
      "WARNING:root:Root finder converged (message: The solution converged.), but solution check failed.\n",
      "WARNING:root:Condition 15 ({'C': 0.0, 'CO': 0, 'CO2': 0, 'O': 12437793259850040, 'O2': 82787381940537104, 'O3': 2007970176632.502, 'Tgas': 540.039475009039, 'Tnw': 350.690744737831, 'Tw': 323.15, 'current': 40, 'frac_CO2': 0.0, 'pressure': 5.0, 'fluxO': 2.1182223196099582e+20, 'fluxO2': 9.969591348547536e+20, 'fluxO3': 1.9743531498678736e+16, 'fluxC': 0.0, 'fluxCO': 0.0, 'fluxCO2': 0.0, 'EavgMB': 0.001, 'Ion': 4000000000000000.0}): Solver failed or solution check failed.\n",
      "WARNING:root:Root finder converged (message: The solution converged.), but solution check failed.\n",
      "WARNING:root:Condition 16 ({'C': 0.0, 'CO': 0, 'CO2': 0, 'O': 12437793259850040, 'O2': 82787381940537104, 'O3': 2007970176632.502, 'Tgas': 540.039475009039, 'Tnw': 350.690744737831, 'Tw': 323.15, 'current': 40, 'frac_CO2': 0.0, 'pressure': 5.0, 'fluxO': 2.1182223196099582e+20, 'fluxO2': 9.969591348547536e+20, 'fluxO3': 1.9743531498678736e+16, 'fluxC': 0.0, 'fluxCO': 0.0, 'fluxCO2': 0.0, 'EavgMB': 0.001, 'Ion': 4000000000000000.0}): Solver failed or solution check failed.\n",
      "WARNING:root:Root finder converged (message: The solution converged.), but solution check failed.\n",
      "WARNING:root:Condition 25 ({'C': 0.0, 'CO': 0, 'CO2': 0, 'O': 11080348104371450, 'O2': 98081100063129136, 'O3': 3913022261520.635, 'Tgas': 451.8449522468635, 'Tnw': 339.118490883537, 'Tw': 323.15, 'current': 20, 'frac_CO2': 0.0, 'pressure': 5.0, 'fluxO': 1.8556462742738305e+20, 'fluxO2': 1.1614810266246557e+21, 'fluxO3': 3.7834977558898056e+16, 'fluxC': 0.0, 'fluxCO': 0.0, 'fluxCO2': 0.0, 'EavgMB': 0.001, 'Ion': 2000000000000000.0}): Solver failed or solution check failed.\n",
      "WARNING:root:Root finder converged (message: The solution converged.), but solution check failed.\n",
      "WARNING:root:Condition 26 ({'C': 0.0, 'CO': 0, 'CO2': 0, 'O': 11080348104371450, 'O2': 98081100063129136, 'O3': 3913022261520.635, 'Tgas': 451.8449522468635, 'Tnw': 339.118490883537, 'Tw': 323.15, 'current': 20, 'frac_CO2': 0.0, 'pressure': 5.0, 'fluxO': 1.8556462742738305e+20, 'fluxO2': 1.1614810266246557e+21, 'fluxO3': 3.7834977558898056e+16, 'fluxC': 0.0, 'fluxCO': 0.0, 'fluxCO2': 0.0, 'EavgMB': 0.001, 'Ion': 2000000000000000.0}): Solver failed or solution check failed.\n"
     ]
    },
    {
     "name": "stdout",
     "output_type": "stream",
     "text": [
      "differential_evolution step 67: f(x)= 0.03990645523548077\n"
     ]
    },
    {
     "name": "stderr",
     "output_type": "stream",
     "text": [
      "WARNING:root:Root finder converged (message: The solution converged.), but solution check failed.\n",
      "WARNING:root:Condition 5 ({'C': 0.0, 'CO': 0, 'CO2': 0, 'O': 9699256414667572, 'O2': 25296339610481060, 'O3': 860377340101.0089, 'Tgas': 419.001165642662, 'Tnw': 335.174979357197, 'Tw': 323.15, 'current': 40, 'frac_CO2': 0.0, 'pressure': 1.5, 'fluxO': 1.6148801280473068e+20, 'fluxO2': 2.978136058423108e+20, 'fluxO3': 8270469912468653.0, 'fluxC': 0.0, 'fluxCO': 0.0, 'fluxCO2': 0.0, 'EavgMB': 0.001, 'Ion': 4000000000000000.0}): Solver failed or solution check failed.\n",
      "WARNING:root:Root finder converged (message: The solution converged.), but solution check failed.\n",
      "WARNING:root:Condition 6 ({'C': 0.0, 'CO': 0, 'CO2': 0, 'O': 9699256414667572, 'O2': 25296339610481060, 'O3': 860377340101.0089, 'Tgas': 419.001165642662, 'Tnw': 335.174979357197, 'Tw': 323.15, 'current': 40, 'frac_CO2': 0.0, 'pressure': 1.5, 'fluxO': 1.6148801280473068e+20, 'fluxO2': 2.978136058423108e+20, 'fluxO3': 8270469912468653.0, 'fluxC': 0.0, 'fluxCO': 0.0, 'fluxCO2': 0.0, 'EavgMB': 0.001, 'Ion': 4000000000000000.0}): Solver failed or solution check failed.\n"
     ]
    },
    {
     "name": "stdout",
     "output_type": "stream",
     "text": [
      "differential_evolution step 68: f(x)= 0.03990645523548077\n"
     ]
    },
    {
     "name": "stderr",
     "output_type": "stream",
     "text": [
      "WARNING:root:Root finder converged (message: The solution converged.), but solution check failed.\n",
      "WARNING:root:Condition 11 ({'C': 0.0, 'CO': 0, 'CO2': 0, 'O': 10227815146721590, 'O2': 34456006222794272, 'O3': 1115479208075.123, 'Tgas': 441.238008153174, 'Tnw': 337.912930739729, 'Tw': 323.15, 'current': 40, 'frac_CO2': 0.0, 'pressure': 2.0, 'fluxO': 1.7098236884647297e+20, 'fluxO2': 4.0730374083815014e+20, 'fluxO3': 1.0766370272295388e+16, 'fluxC': 0.0, 'fluxCO': 0.0, 'fluxCO2': 0.0, 'EavgMB': 0.001, 'Ion': 4000000000000000.0}): Solver failed or solution check failed.\n",
      "WARNING:root:Root finder converged (message: The solution converged.), but solution check failed.\n",
      "WARNING:root:Condition 12 ({'C': 0.0, 'CO': 0, 'CO2': 0, 'O': 10227815146721590, 'O2': 34456006222794272, 'O3': 1115479208075.123, 'Tgas': 441.238008153174, 'Tnw': 337.912930739729, 'Tw': 323.15, 'current': 40, 'frac_CO2': 0.0, 'pressure': 2.0, 'fluxO': 1.7098236884647297e+20, 'fluxO2': 4.0730374083815014e+20, 'fluxO3': 1.0766370272295388e+16, 'fluxC': 0.0, 'fluxCO': 0.0, 'fluxCO2': 0.0, 'EavgMB': 0.001, 'Ion': 4000000000000000.0}): Solver failed or solution check failed.\n",
      "WARNING:root:Root finder converged (message: The solution converged.), but solution check failed.\n",
      "WARNING:root:Condition 15 ({'C': 0.0, 'CO': 0, 'CO2': 0, 'O': 12437793259850040, 'O2': 82787381940537104, 'O3': 2007970176632.502, 'Tgas': 540.039475009039, 'Tnw': 350.690744737831, 'Tw': 323.15, 'current': 40, 'frac_CO2': 0.0, 'pressure': 5.0, 'fluxO': 2.1182223196099582e+20, 'fluxO2': 9.969591348547536e+20, 'fluxO3': 1.9743531498678736e+16, 'fluxC': 0.0, 'fluxCO': 0.0, 'fluxCO2': 0.0, 'EavgMB': 0.001, 'Ion': 4000000000000000.0}): Solver failed or solution check failed.\n",
      "WARNING:root:Root finder converged (message: The solution converged.), but solution check failed.\n",
      "WARNING:root:Condition 16 ({'C': 0.0, 'CO': 0, 'CO2': 0, 'O': 12437793259850040, 'O2': 82787381940537104, 'O3': 2007970176632.502, 'Tgas': 540.039475009039, 'Tnw': 350.690744737831, 'Tw': 323.15, 'current': 40, 'frac_CO2': 0.0, 'pressure': 5.0, 'fluxO': 2.1182223196099582e+20, 'fluxO2': 9.969591348547536e+20, 'fluxO3': 1.9743531498678736e+16, 'fluxC': 0.0, 'fluxCO': 0.0, 'fluxCO2': 0.0, 'EavgMB': 0.001, 'Ion': 4000000000000000.0}): Solver failed or solution check failed.\n"
     ]
    },
    {
     "name": "stdout",
     "output_type": "stream",
     "text": [
      "differential_evolution step 69: f(x)= 0.03990645523548077\n"
     ]
    },
    {
     "name": "stderr",
     "output_type": "stream",
     "text": [
      "WARNING:root:Root finder converged (message: The solution converged.), but solution check failed.\n",
      "WARNING:root:Condition 9 ({'C': 0.0, 'CO': 0, 'CO2': 0, 'O': 10551273476311810, 'O2': 34191785973519152, 'O3': 1128037915895.378, 'Tgas': 440.9518449183849, 'Tnw': 337.843817904925, 'Tw': 323.15, 'current': 40, 'frac_CO2': 0.0, 'pressure': 2.0, 'fluxO': 1.763717084169756e+20, 'fluxO2': 4.041390633812239e+20, 'fluxO3': 1.0886470806177898e+16, 'fluxC': 0.0, 'fluxCO': 0.0, 'fluxCO2': 0.0, 'EavgMB': 0.001, 'Ion': 4000000000000000.0}): Solver failed or solution check failed.\n",
      "WARNING:root:Root finder converged (message: The solution converged.), but solution check failed.\n",
      "WARNING:root:Condition 10 ({'C': 0.0, 'CO': 0, 'CO2': 0, 'O': 10551273476311810, 'O2': 34191785973519152, 'O3': 1128037915895.378, 'Tgas': 440.9518449183849, 'Tnw': 337.843817904925, 'Tw': 323.15, 'current': 40, 'frac_CO2': 0.0, 'pressure': 2.0, 'fluxO': 1.763717084169756e+20, 'fluxO2': 4.041390633812239e+20, 'fluxO3': 1.0886470806177898e+16, 'fluxC': 0.0, 'fluxCO': 0.0, 'fluxCO2': 0.0, 'EavgMB': 0.001, 'Ion': 4000000000000000.0}): Solver failed or solution check failed.\n",
      "WARNING:root:Root finder converged (message: The solution converged.), but solution check failed.\n",
      "WARNING:root:Condition 11 ({'C': 0.0, 'CO': 0, 'CO2': 0, 'O': 10227815146721590, 'O2': 34456006222794272, 'O3': 1115479208075.123, 'Tgas': 441.238008153174, 'Tnw': 337.912930739729, 'Tw': 323.15, 'current': 40, 'frac_CO2': 0.0, 'pressure': 2.0, 'fluxO': 1.7098236884647297e+20, 'fluxO2': 4.0730374083815014e+20, 'fluxO3': 1.0766370272295388e+16, 'fluxC': 0.0, 'fluxCO': 0.0, 'fluxCO2': 0.0, 'EavgMB': 0.001, 'Ion': 4000000000000000.0}): Solver failed or solution check failed.\n",
      "WARNING:root:Root finder converged (message: The solution converged.), but solution check failed.\n",
      "WARNING:root:Condition 12 ({'C': 0.0, 'CO': 0, 'CO2': 0, 'O': 10227815146721590, 'O2': 34456006222794272, 'O3': 1115479208075.123, 'Tgas': 441.238008153174, 'Tnw': 337.912930739729, 'Tw': 323.15, 'current': 40, 'frac_CO2': 0.0, 'pressure': 2.0, 'fluxO': 1.7098236884647297e+20, 'fluxO2': 4.0730374083815014e+20, 'fluxO3': 1.0766370272295388e+16, 'fluxC': 0.0, 'fluxCO': 0.0, 'fluxCO2': 0.0, 'EavgMB': 0.001, 'Ion': 4000000000000000.0}): Solver failed or solution check failed.\n",
      "WARNING:root:Root finder converged (message: The solution converged.), but solution check failed.\n",
      "WARNING:root:Condition 15 ({'C': 0.0, 'CO': 0, 'CO2': 0, 'O': 12437793259850040, 'O2': 82787381940537104, 'O3': 2007970176632.502, 'Tgas': 540.039475009039, 'Tnw': 350.690744737831, 'Tw': 323.15, 'current': 40, 'frac_CO2': 0.0, 'pressure': 5.0, 'fluxO': 2.1182223196099582e+20, 'fluxO2': 9.969591348547536e+20, 'fluxO3': 1.9743531498678736e+16, 'fluxC': 0.0, 'fluxCO': 0.0, 'fluxCO2': 0.0, 'EavgMB': 0.001, 'Ion': 4000000000000000.0}): Solver failed or solution check failed.\n",
      "WARNING:root:Root finder converged (message: The solution converged.), but solution check failed.\n",
      "WARNING:root:Condition 16 ({'C': 0.0, 'CO': 0, 'CO2': 0, 'O': 12437793259850040, 'O2': 82787381940537104, 'O3': 2007970176632.502, 'Tgas': 540.039475009039, 'Tnw': 350.690744737831, 'Tw': 323.15, 'current': 40, 'frac_CO2': 0.0, 'pressure': 5.0, 'fluxO': 2.1182223196099582e+20, 'fluxO2': 9.969591348547536e+20, 'fluxO3': 1.9743531498678736e+16, 'fluxC': 0.0, 'fluxCO': 0.0, 'fluxCO2': 0.0, 'EavgMB': 0.001, 'Ion': 4000000000000000.0}): Solver failed or solution check failed.\n"
     ]
    },
    {
     "name": "stdout",
     "output_type": "stream",
     "text": [
      "differential_evolution step 70: f(x)= 0.03990645523548077\n",
      "differential_evolution step 71: f(x)= 0.03990645523548077\n"
     ]
    },
    {
     "name": "stderr",
     "output_type": "stream",
     "text": [
      "WARNING:root:Root finder converged (message: The solution converged.), but solution check failed.\n",
      "WARNING:root:Condition 7 ({'C': 0.0, 'CO': 0, 'CO2': 0, 'O': 9171050580521870, 'O2': 25737271502080888, 'O3': 847409425613.0869, 'Tgas': 419.515142847557, 'Tnw': 335.291795313841, 'Tw': 323.15, 'current': 40, 'frac_CO2': 0.0, 'pressure': 1.5, 'fluxO': 1.527202427798485e+20, 'fluxO2': 3.030574908565117e+20, 'fluxO3': 8147233812137309.0, 'fluxC': 0.0, 'fluxCO': 0.0, 'fluxCO2': 0.0, 'EavgMB': 0.001, 'Ion': 4000000000000000.0}): Solver failed or solution check failed.\n",
      "WARNING:root:Root finder converged (message: The solution converged.), but solution check failed.\n",
      "WARNING:root:Condition 8 ({'C': 0.0, 'CO': 0, 'CO2': 0, 'O': 9171050580521870, 'O2': 25737271502080888, 'O3': 847409425613.0869, 'Tgas': 419.515142847557, 'Tnw': 335.291795313841, 'Tw': 323.15, 'current': 40, 'frac_CO2': 0.0, 'pressure': 1.5, 'fluxO': 1.527202427798485e+20, 'fluxO2': 3.030574908565117e+20, 'fluxO3': 8147233812137309.0, 'fluxC': 0.0, 'fluxCO': 0.0, 'fluxCO2': 0.0, 'EavgMB': 0.001, 'Ion': 4000000000000000.0}): Solver failed or solution check failed.\n",
      "WARNING:root:Root finder converged (message: The solution converged.), but solution check failed.\n",
      "WARNING:root:Condition 15 ({'C': 0.0, 'CO': 0, 'CO2': 0, 'O': 12437793259850040, 'O2': 82787381940537104, 'O3': 2007970176632.502, 'Tgas': 540.039475009039, 'Tnw': 350.690744737831, 'Tw': 323.15, 'current': 40, 'frac_CO2': 0.0, 'pressure': 5.0, 'fluxO': 2.1182223196099582e+20, 'fluxO2': 9.969591348547536e+20, 'fluxO3': 1.9743531498678736e+16, 'fluxC': 0.0, 'fluxCO': 0.0, 'fluxCO2': 0.0, 'EavgMB': 0.001, 'Ion': 4000000000000000.0}): Solver failed or solution check failed.\n",
      "WARNING:root:Root finder converged (message: The solution converged.), but solution check failed.\n",
      "WARNING:root:Condition 16 ({'C': 0.0, 'CO': 0, 'CO2': 0, 'O': 12437793259850040, 'O2': 82787381940537104, 'O3': 2007970176632.502, 'Tgas': 540.039475009039, 'Tnw': 350.690744737831, 'Tw': 323.15, 'current': 40, 'frac_CO2': 0.0, 'pressure': 5.0, 'fluxO': 2.1182223196099582e+20, 'fluxO2': 9.969591348547536e+20, 'fluxO3': 1.9743531498678736e+16, 'fluxC': 0.0, 'fluxCO': 0.0, 'fluxCO2': 0.0, 'EavgMB': 0.001, 'Ion': 4000000000000000.0}): Solver failed or solution check failed.\n",
      "WARNING:root:Root finder converged (message: The solution converged.), but solution check failed.\n",
      "WARNING:root:Condition 1 ({'C': 0.0, 'CO': 0, 'CO2': 0, 'O': 8157238605327579, 'O2': 16385293162655330, 'O3': 546065957887.2443, 'Tgas': 394.8481502500865, 'Tnw': 332.243199758804, 'Tw': 323.15, 'current': 40, 'frac_CO2': 0.0, 'pressure': 1.0, 'fluxO': 1.352188600260873e+20, 'fluxO2': 1.9205840711049527e+20, 'fluxO3': 5226110403792976.0, 'fluxC': 0.0, 'fluxCO': 0.0, 'fluxCO2': 0.0, 'EavgMB': 0.33366666666666667, 'Ion': 4000000000000000.0}): Solver failed or solution check failed.\n",
      "WARNING:root:Root finder converged (message: The solution converged.), but solution check failed.\n",
      "WARNING:root:Condition 2 ({'C': 0.0, 'CO': 0, 'CO2': 0, 'O': 8157238605327579, 'O2': 16385293162655330, 'O3': 546065957887.2443, 'Tgas': 394.8481502500865, 'Tnw': 332.243199758804, 'Tw': 323.15, 'current': 40, 'frac_CO2': 0.0, 'pressure': 1.0, 'fluxO': 1.352188600260873e+20, 'fluxO2': 1.9205840711049527e+20, 'fluxO3': 5226110403792976.0, 'fluxC': 0.0, 'fluxCO': 0.0, 'fluxCO2': 0.0, 'EavgMB': 0.33366666666666667, 'Ion': 4000000000000000.0}): Solver failed or solution check failed.\n",
      "WARNING:root:Root finder converged (message: The solution converged.), but solution check failed.\n",
      "WARNING:root:Condition 11 ({'C': 0.0, 'CO': 0, 'CO2': 0, 'O': 10227815146721590, 'O2': 34456006222794272, 'O3': 1115479208075.123, 'Tgas': 441.238008153174, 'Tnw': 337.912930739729, 'Tw': 323.15, 'current': 40, 'frac_CO2': 0.0, 'pressure': 2.0, 'fluxO': 1.7098236884647297e+20, 'fluxO2': 4.0730374083815014e+20, 'fluxO3': 1.0766370272295388e+16, 'fluxC': 0.0, 'fluxCO': 0.0, 'fluxCO2': 0.0, 'EavgMB': 0.001, 'Ion': 4000000000000000.0}): Solver failed or solution check failed.\n",
      "WARNING:root:Root finder converged (message: The solution converged.), but solution check failed.\n",
      "WARNING:root:Condition 12 ({'C': 0.0, 'CO': 0, 'CO2': 0, 'O': 10227815146721590, 'O2': 34456006222794272, 'O3': 1115479208075.123, 'Tgas': 441.238008153174, 'Tnw': 337.912930739729, 'Tw': 323.15, 'current': 40, 'frac_CO2': 0.0, 'pressure': 2.0, 'fluxO': 1.7098236884647297e+20, 'fluxO2': 4.0730374083815014e+20, 'fluxO3': 1.0766370272295388e+16, 'fluxC': 0.0, 'fluxCO': 0.0, 'fluxCO2': 0.0, 'EavgMB': 0.001, 'Ion': 4000000000000000.0}): Solver failed or solution check failed.\n"
     ]
    },
    {
     "name": "stdout",
     "output_type": "stream",
     "text": [
      "differential_evolution step 72: f(x)= 0.03990645523548077\n",
      "differential_evolution step 73: f(x)= 0.03990645523548077\n",
      "differential_evolution step 74: f(x)= 0.03990645523548077\n"
     ]
    },
    {
     "name": "stderr",
     "output_type": "stream",
     "text": [
      "WARNING:root:Root finder converged (message: The solution converged.), but solution check failed.\n",
      "WARNING:root:Condition 11 ({'C': 0.0, 'CO': 0, 'CO2': 0, 'O': 10227815146721590, 'O2': 34456006222794272, 'O3': 1115479208075.123, 'Tgas': 441.238008153174, 'Tnw': 337.912930739729, 'Tw': 323.15, 'current': 40, 'frac_CO2': 0.0, 'pressure': 2.0, 'fluxO': 1.7098236884647297e+20, 'fluxO2': 4.0730374083815014e+20, 'fluxO3': 1.0766370272295388e+16, 'fluxC': 0.0, 'fluxCO': 0.0, 'fluxCO2': 0.0, 'EavgMB': 0.001, 'Ion': 4000000000000000.0}): Solver failed or solution check failed.\n",
      "WARNING:root:Root finder converged (message: The solution converged.), but solution check failed.\n",
      "WARNING:root:Condition 12 ({'C': 0.0, 'CO': 0, 'CO2': 0, 'O': 10227815146721590, 'O2': 34456006222794272, 'O3': 1115479208075.123, 'Tgas': 441.238008153174, 'Tnw': 337.912930739729, 'Tw': 323.15, 'current': 40, 'frac_CO2': 0.0, 'pressure': 2.0, 'fluxO': 1.7098236884647297e+20, 'fluxO2': 4.0730374083815014e+20, 'fluxO3': 1.0766370272295388e+16, 'fluxC': 0.0, 'fluxCO': 0.0, 'fluxCO2': 0.0, 'EavgMB': 0.001, 'Ion': 4000000000000000.0}): Solver failed or solution check failed.\n",
      "WARNING:root:Root finder converged (message: The solution converged.), but solution check failed.\n",
      "WARNING:root:Condition 25 ({'C': 0.0, 'CO': 0, 'CO2': 0, 'O': 11080348104371450, 'O2': 98081100063129136, 'O3': 3913022261520.635, 'Tgas': 451.8449522468635, 'Tnw': 339.118490883537, 'Tw': 323.15, 'current': 20, 'frac_CO2': 0.0, 'pressure': 5.0, 'fluxO': 1.8556462742738305e+20, 'fluxO2': 1.1614810266246557e+21, 'fluxO3': 3.7834977558898056e+16, 'fluxC': 0.0, 'fluxCO': 0.0, 'fluxCO2': 0.0, 'EavgMB': 0.001, 'Ion': 2000000000000000.0}): Solver failed or solution check failed.\n",
      "WARNING:root:Root finder converged (message: The solution converged.), but solution check failed.\n",
      "WARNING:root:Condition 26 ({'C': 0.0, 'CO': 0, 'CO2': 0, 'O': 11080348104371450, 'O2': 98081100063129136, 'O3': 3913022261520.635, 'Tgas': 451.8449522468635, 'Tnw': 339.118490883537, 'Tw': 323.15, 'current': 20, 'frac_CO2': 0.0, 'pressure': 5.0, 'fluxO': 1.8556462742738305e+20, 'fluxO2': 1.1614810266246557e+21, 'fluxO3': 3.7834977558898056e+16, 'fluxC': 0.0, 'fluxCO': 0.0, 'fluxCO2': 0.0, 'EavgMB': 0.001, 'Ion': 2000000000000000.0}): Solver failed or solution check failed.\n",
      "WARNING:root:Root finder converged (message: The solution converged.), but solution check failed.\n",
      "WARNING:root:Condition 9 ({'C': 0.0, 'CO': 0, 'CO2': 0, 'O': 10551273476311810, 'O2': 34191785973519152, 'O3': 1128037915895.378, 'Tgas': 440.9518449183849, 'Tnw': 337.843817904925, 'Tw': 323.15, 'current': 40, 'frac_CO2': 0.0, 'pressure': 2.0, 'fluxO': 1.763717084169756e+20, 'fluxO2': 4.041390633812239e+20, 'fluxO3': 1.0886470806177898e+16, 'fluxC': 0.0, 'fluxCO': 0.0, 'fluxCO2': 0.0, 'EavgMB': 0.001, 'Ion': 4000000000000000.0}): Solver failed or solution check failed.\n",
      "WARNING:root:Root finder converged (message: The solution converged.), but solution check failed.\n",
      "WARNING:root:Condition 10 ({'C': 0.0, 'CO': 0, 'CO2': 0, 'O': 10551273476311810, 'O2': 34191785973519152, 'O3': 1128037915895.378, 'Tgas': 440.9518449183849, 'Tnw': 337.843817904925, 'Tw': 323.15, 'current': 40, 'frac_CO2': 0.0, 'pressure': 2.0, 'fluxO': 1.763717084169756e+20, 'fluxO2': 4.041390633812239e+20, 'fluxO3': 1.0886470806177898e+16, 'fluxC': 0.0, 'fluxCO': 0.0, 'fluxCO2': 0.0, 'EavgMB': 0.001, 'Ion': 4000000000000000.0}): Solver failed or solution check failed.\n"
     ]
    },
    {
     "name": "stdout",
     "output_type": "stream",
     "text": [
      "differential_evolution step 75: f(x)= 0.039837296180146566\n",
      "differential_evolution step 76: f(x)= 0.039837296180146566\n"
     ]
    },
    {
     "name": "stderr",
     "output_type": "stream",
     "text": [
      "WARNING:root:Root finder converged (message: The solution converged.), but solution check failed.\n",
      "WARNING:root:Condition 15 ({'C': 0.0, 'CO': 0, 'CO2': 0, 'O': 12437793259850040, 'O2': 82787381940537104, 'O3': 2007970176632.502, 'Tgas': 540.039475009039, 'Tnw': 350.690744737831, 'Tw': 323.15, 'current': 40, 'frac_CO2': 0.0, 'pressure': 5.0, 'fluxO': 2.1182223196099582e+20, 'fluxO2': 9.969591348547536e+20, 'fluxO3': 1.9743531498678736e+16, 'fluxC': 0.0, 'fluxCO': 0.0, 'fluxCO2': 0.0, 'EavgMB': 0.001, 'Ion': 4000000000000000.0}): Solver failed or solution check failed.\n",
      "WARNING:root:Condition 16 ({'C': 0.0, 'CO': 0, 'CO2': 0, 'O': 12437793259850040, 'O2': 82787381940537104, 'O3': 2007970176632.502, 'Tgas': 540.039475009039, 'Tnw': 350.690744737831, 'Tw': 323.15, 'current': 40, 'frac_CO2': 0.0, 'pressure': 5.0, 'fluxO': 2.1182223196099582e+20, 'fluxO2': 9.969591348547536e+20, 'fluxO3': 1.9743531498678736e+16, 'fluxC': 0.0, 'fluxCO': 0.0, 'fluxCO2': 0.0, 'EavgMB': 0.001, 'Ion': 4000000000000000.0}): Solver failed or solution check failed.\n",
      "WARNING:root:Root finder converged (message: The solution converged.), but solution check failed.\n"
     ]
    },
    {
     "name": "stdout",
     "output_type": "stream",
     "text": [
      "differential_evolution step 77: f(x)= 0.03976537157685732\n",
      "differential_evolution step 78: f(x)= 0.03976537157685732\n",
      "differential_evolution step 79: f(x)= 0.03976537157685732\n"
     ]
    },
    {
     "name": "stderr",
     "output_type": "stream",
     "text": [
      "WARNING:root:Root finder converged (message: The solution converged.), but solution check failed.\n",
      "WARNING:root:Condition 5 ({'C': 0.0, 'CO': 0, 'CO2': 0, 'O': 9699256414667572, 'O2': 25296339610481060, 'O3': 860377340101.0089, 'Tgas': 419.001165642662, 'Tnw': 335.174979357197, 'Tw': 323.15, 'current': 40, 'frac_CO2': 0.0, 'pressure': 1.5, 'fluxO': 1.6148801280473068e+20, 'fluxO2': 2.978136058423108e+20, 'fluxO3': 8270469912468653.0, 'fluxC': 0.0, 'fluxCO': 0.0, 'fluxCO2': 0.0, 'EavgMB': 0.001, 'Ion': 4000000000000000.0}): Solver failed or solution check failed.\n",
      "WARNING:root:Root finder converged (message: The solution converged.), but solution check failed.\n",
      "WARNING:root:Condition 6 ({'C': 0.0, 'CO': 0, 'CO2': 0, 'O': 9699256414667572, 'O2': 25296339610481060, 'O3': 860377340101.0089, 'Tgas': 419.001165642662, 'Tnw': 335.174979357197, 'Tw': 323.15, 'current': 40, 'frac_CO2': 0.0, 'pressure': 1.5, 'fluxO': 1.6148801280473068e+20, 'fluxO2': 2.978136058423108e+20, 'fluxO3': 8270469912468653.0, 'fluxC': 0.0, 'fluxCO': 0.0, 'fluxCO2': 0.0, 'EavgMB': 0.001, 'Ion': 4000000000000000.0}): Solver failed or solution check failed.\n"
     ]
    },
    {
     "name": "stdout",
     "output_type": "stream",
     "text": [
      "differential_evolution step 80: f(x)= 0.03949713152277596\n",
      "top_k_mod:  16\n",
      "res:  0.03934810310642824 [4.79404257e-03 1.22857832e-03 1.52683612e+01 1.69054395e-02\n",
      " 1.59783230e-01 2.22468373e-01 3.18892097e-01 4.83961008e-01\n",
      " 3.56806504e-01 1.37776713e-02 1.44218322e-01] [4.79404257e-03 1.22857832e-03 1.52683612e+01 1.69054395e-02\n",
      " 1.59783230e-01 2.22468373e-01 3.18892097e-01 4.60915246e-01\n",
      " 3.56806504e-01 1.37776713e-02 1.44218322e-01]\n",
      "res:  0.0397104058760094 [1.51581371e-03 1.04834687e-03 1.56189473e+01 1.73375664e-02\n",
      " 1.65980379e-01 1.38912816e-01 1.18681599e-01 3.73353505e-01\n",
      " 9.56618143e-02 6.26590598e-02 2.43657408e-01] [1.51581371e-03 1.04834687e-03 1.56189473e+01 1.73375664e-02\n",
      " 1.65980379e-01 1.38912816e-01 1.18681599e-01 3.55574767e-01\n",
      " 9.56618143e-02 6.26590598e-02 2.43657408e-01]\n",
      "res:  0.039725751015714225 [3.41395362e-02 9.67368508e-04 1.57633938e+01 1.13604468e-02\n",
      " 2.54867806e-01 1.55183564e-01 2.56272521e-01 3.85166372e-01\n",
      " 2.02016718e-01 7.25498626e-02 1.45467317e-01] [3.41395362e-02 9.67368508e-04 1.57633938e+01 1.13604468e-02\n",
      " 2.54867806e-01 1.55183564e-01 2.56272521e-01 3.66825116e-01\n",
      " 2.02016718e-01 7.25498626e-02 1.45467317e-01]\n",
      "res:  0.03966311885906769 [5.03453355e-03 9.31226808e-04 1.59106210e+01 1.50201402e-02\n",
      " 6.36139866e-02 2.80798137e-01 4.20297973e-01 2.95085200e-01\n",
      " 1.24040055e-01 3.32703285e-02 1.70919806e-01] [5.01598318e-03 9.19518749e-04 1.59060929e+01 1.49647966e-02\n",
      " 6.33795929e-02 2.79763502e-01 4.18749333e-01 2.93997922e-01\n",
      " 1.23583014e-01 3.31477398e-02 1.70290031e-01]\n",
      "res:  0.0398691394605629 [1.67116352e-03 8.60648312e-04 1.61401148e+01 1.05312795e-02\n",
      " 3.88254160e-03 4.98054623e-01 6.39077892e-03 2.47865100e-01\n",
      " 6.47719072e-02 7.47313194e-02 2.83024270e-01] [1.67116352e-03 8.60648312e-04 1.61401148e+01 1.05312795e-02\n",
      " 3.88254160e-03 4.98054623e-01 6.39077892e-03 2.36062000e-01\n",
      " 6.47719072e-02 7.47313194e-02 2.83024270e-01]\n",
      "res:  0.039665141257089725 [6.12451985e-03 1.15548977e-03 1.53795963e+01 1.55321717e-02\n",
      " 1.43121003e-01 1.17833626e-01 2.03753445e-01 3.53560892e-01\n",
      " 1.76298799e-01 3.62668929e-03 1.41588742e-01] [6.12451985e-03 1.15548977e-03 1.53795963e+01 1.55321717e-02\n",
      " 1.43121003e-01 1.17833626e-01 2.03753445e-01 3.36724659e-01\n",
      " 1.76298799e-01 3.62668929e-03 1.41588742e-01]\n",
      "res:  0.03988622581182075 [2.59237437e-02 1.04195442e-03 1.55518719e+01 1.28369518e-02\n",
      " 3.80818354e-01 3.76353491e-01 1.27517349e-01 3.53667441e-01\n",
      " 1.89616059e-01 5.89844635e-02 1.89090644e-01] [2.59237437e-02 1.04195442e-03 1.55518719e+01 1.28369518e-02\n",
      " 3.80818354e-01 3.76353491e-01 1.27517349e-01 3.36826134e-01\n",
      " 1.89616059e-01 5.89844635e-02 1.89090644e-01]\n",
      "res:  0.0398306416681174 [4.20836889e-02 7.88898317e-04 1.62342299e+01 1.06672985e-02\n",
      " 3.96419844e-01 2.40817183e-01 4.25810771e-03 3.38609167e-01\n",
      " 1.23054626e-01 1.40524584e-01 2.00204691e-01] [4.19286263e-02 7.78979715e-04 1.62296097e+01 1.06279935e-02\n",
      " 3.94959185e-01 2.39929862e-01 4.24241819e-03 3.37361520e-01\n",
      " 1.22601216e-01 1.40006804e-01 1.99467012e-01]\n",
      "res:  0.03917519923538737 [1.88110122e-02 7.86645405e-04 1.62663236e+01 1.33830877e-02\n",
      " 1.49812844e-01 1.06018755e-01 6.57785024e-02 3.03778094e-01\n",
      " 3.35739377e-02 4.80332088e-02 1.04816927e-01] [1.84933009e-02 7.92102172e-04 1.62870522e+01 1.48117812e-02\n",
      " 1.47282559e-01 1.04228136e-01 6.46675270e-02 2.98647390e-01\n",
      " 3.30068859e-02 4.72219450e-02 1.03046607e-01]\n",
      "res:  0.03983915776020103 [1.84287144e-02 9.71869559e-04 1.58207680e+01 1.01754322e-02\n",
      " 9.10537001e-02 1.01084673e-01 3.45907642e-01 3.85176235e-01\n",
      " 7.48798279e-02 1.11735987e-01 4.62295264e-01] [1.84287144e-02 9.71869559e-04 1.58207680e+01 9.69088777e-03\n",
      " 9.10537001e-02 1.01084673e-01 3.45907642e-01 3.85176235e-01\n",
      " 7.48798279e-02 1.11735987e-01 4.62295264e-01]\n",
      "res:  0.03986109989596507 [2.51785894e-03 1.27794738e-03 1.51909804e+01 1.57480929e-02\n",
      " 4.34339941e-02 3.54399339e-01 2.37348781e-01 4.37895488e-01\n",
      " 1.69020117e-02 1.08003532e-01 2.81932892e-01] [2.50858157e-03 1.26188010e-03 1.51866571e+01 1.56900671e-02\n",
      " 4.32739561e-02 3.53093510e-01 2.36474240e-01 4.36282007e-01\n",
      " 1.68397342e-02 1.07605579e-01 2.80894075e-01]\n",
      "res:  0.039716302733533146 [1.69135236e-02 8.80509340e-04 1.60351752e+01 1.66825370e-02\n",
      " 9.52747026e-02 2.44716377e-01 4.49755435e-02 4.26451848e-01\n",
      " 1.12487225e-01 1.80253892e-01 1.01662414e-01] [1.67405590e-02 8.75999693e-04 1.60252046e+01 1.65119345e-02\n",
      " 9.43003842e-02 2.42213806e-01 4.45156050e-02 4.48310970e-01\n",
      " 1.11336884e-01 1.78410541e-01 1.00622773e-01]\n",
      "res:  0.039973690394256224 [8.90335602e-03 9.79184355e-04 1.57447562e+01 2.01586194e-02\n",
      " 1.48560108e-01 3.11388628e-01 1.22501292e-01 3.72272392e-01\n",
      " 1.03761619e-01 8.85799617e-02 5.30936141e-02] [8.90335602e-03 9.79184355e-04 1.57447562e+01 2.01586194e-02\n",
      " 1.48560108e-01 3.11388628e-01 1.22501292e-01 3.54545135e-01\n",
      " 1.03761619e-01 8.85799617e-02 5.30936141e-02]\n",
      "res:  0.04000640348617442 [1.95740654e-02 1.01136690e-03 1.56139717e+01 1.52740876e-02\n",
      " 8.85005259e-02 2.35872961e-01 1.33326830e-01 3.25698424e-01\n",
      " 2.74476872e-01 3.63078689e-02 1.63583758e-01] [1.95740654e-02 1.01136690e-03 1.56139717e+01 1.52740876e-02\n",
      " 8.85005259e-02 2.35872961e-01 1.33326830e-01 3.10188976e-01\n",
      " 2.74476872e-01 3.63078689e-02 1.63583758e-01]\n",
      "res:  0.03975724990024413 [2.17035297e-02 1.00166897e-03 1.56910506e+01 1.16727406e-02\n",
      " 8.95722816e-02 1.60986583e-01 4.51178542e-01 3.13126153e-01\n",
      " 6.66486830e-02 9.69358395e-02 3.91966527e-01] [2.14815804e-02 9.96538783e-04 1.56812940e+01 1.15533704e-02\n",
      " 8.86562785e-02 1.59340268e-01 4.46564604e-01 3.29176412e-01\n",
      " 6.59671061e-02 9.59445336e-02 3.87958116e-01]\n",
      "res:  0.040003110527815675 [1.72755372e-02 1.10125081e-03 1.55003451e+01 1.23268590e-02\n",
      " 1.74351177e-01 3.02069696e-01 1.88657229e-01 3.45267247e-01\n",
      " 2.33038952e-01 1.24409042e-01 4.45947492e-01] [1.72755372e-02 1.10125081e-03 1.55003451e+01 1.23268590e-02\n",
      " 1.74351177e-01 3.02069696e-01 1.88657229e-01 3.28825950e-01\n",
      " 2.33038952e-01 1.24409042e-01 4.45947492e-01]\n",
      "differential_evolution step 1: f(x)= 0.03917520357866513\n",
      "Polishing solution with 'L-BFGS-B'\n"
     ]
    }
   ],
   "source": [
    "\n",
    "if __name__ == '__main__':\n",
    "    optimizer = opt.Optimizer(sim, func_optimization, loss_function)\n",
    "\n",
    "    global_bounds = [\n",
    "                    (1e-3, 5e-2), (5e-2, 0.5), (1e-3, 9e-2), \n",
    "                    (1e-3, 9e-2), (6e-2, 6e-1), (9e-3, 9e-2),\n",
    "                    (5e-3, 9e-2), (5e-2, 0.3)\n",
    "                    ]\n",
    "\n",
    "    config = {\n",
    "        \"bounds\": global_bounds,\n",
    "        \"de_maxiter\": 3,\n",
    "        \"de_num_iterations\": 1,\n",
    "    }\n",
    "    \n",
    "    best_local, best_local_loss = optimizer.hybrid_optimization_searchV2(config)\n",
    "\n",
    "# differential_evolution step 50: f(x)= 0.041662857183863554\n"
   ]
  },
  {
   "cell_type": "code",
   "execution_count": 5,
   "metadata": {},
   "outputs": [
    {
     "name": "stdout",
     "output_type": "stream",
     "text": [
      "             message: Maximum number of iterations has been exceeded.\n",
      "             success: False\n",
      "                 fun: 0.03949713152277596\n",
      "                   x: [ 4.794e-03  1.229e-03  1.527e+01  1.691e-02\n",
      "                        1.598e-01  2.225e-01  3.189e-01  4.609e-01\n",
      "                        3.568e-01  1.378e-02  1.442e-01]\n",
      "                 nit: 80\n",
      "                nfev: 13365\n",
      "          population: [[ 4.794e-03  1.229e-03 ...  1.378e-02  1.442e-01]\n",
      "                       [ 1.401e-02  1.217e-03 ...  2.308e-01  1.197e-01]\n",
      "                       ...\n",
      "                       [ 1.442e-02  1.334e-03 ...  4.212e-01  4.467e-01]\n",
      "                       [ 3.534e-03  1.582e-03 ...  2.885e-03  3.463e-01]]\n",
      " population_energies: [ 3.950e-02  4.124e-02 ...  4.297e-02  4.052e-02]\n",
      "             message: Optimization terminated successfully.\n",
      "             success: True\n",
      "                 fun: 0.038806833423079785\n",
      "                   x: [ 2.777e-02  7.792e-04  1.627e+01  1.165e-02\n",
      "                        1.498e-01  1.060e-01  3.166e-02  3.047e-01\n",
      "                        3.358e-02  2.291e-02  1.048e-01]\n",
      "                 nit: 1\n",
      "                nfev: 776\n",
      "          population: [[ 1.881e-02  7.866e-04 ...  4.803e-02  1.048e-01]\n",
      "                       [ 1.516e-03  1.048e-03 ...  6.266e-02  2.437e-01]\n",
      "                       ...\n",
      "                       [ 2.170e-02  1.002e-03 ...  9.694e-02  3.920e-01]\n",
      "                       [ 1.728e-02  1.101e-03 ...  1.244e-01  4.459e-01]]\n",
      " population_energies: [ 3.881e-02  3.971e-02 ...  3.976e-02  4.000e-02]\n",
      "                 jac: [ 6.282e-03  2.853e-02 -7.531e-04  1.008e-01\n",
      "                       -2.456e-05 -5.024e-05 -2.857e-06 -4.422e-03\n",
      "                       -1.701e-05  6.647e-03 -3.495e-06]\n"
     ]
    }
   ],
   "source": [
    "print(best_local)\n",
    "print(best_local_loss)"
   ]
  }
 ],
 "metadata": {
  "kernelspec": {
   "display_name": "LLM",
   "language": "python",
   "name": "python3"
  },
  "language_info": {
   "codemirror_mode": {
    "name": "ipython",
    "version": 3
   },
   "file_extension": ".py",
   "mimetype": "text/x-python",
   "name": "python",
   "nbconvert_exporter": "python",
   "pygments_lexer": "ipython3",
   "version": "3.12.7"
  }
 },
 "nbformat": 4,
 "nbformat_minor": 2
}
