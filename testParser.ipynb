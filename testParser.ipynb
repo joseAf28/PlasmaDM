{
 "cells": [
  {
   "cell_type": "code",
   "execution_count": 1,
   "metadata": {},
   "outputs": [],
   "source": [
    "import numpy as np\n",
    "import scipy as sp\n",
    "import sympy as sy\n",
    "import json \n",
    "import h5py\n",
    "\n",
    "import SimulatorParser as sim_par\n",
    "import rates as rates_module"
   ]
  },
  {
   "cell_type": "code",
   "execution_count": 2,
   "metadata": {},
   "outputs": [
    {
     "name": "stdout",
     "output_type": "stream",
     "text": [
      "dO_F/dt = -0.02*O_F*O_S*r_7 - 1.0*O_F*r_2 - 1.0*O_F*r_4 - 0.02*O_F*r_5*(1.0 - O_S) + 1.0*r_1*(1.0 - O_F)\n",
      "dO_S/dt = -1.0*O_F*O_S*r_7 + 1.0*O_F*r_5*(1.0 - O_S) - 1.0*O_S*r_6 + 1.0*r_3*(1.0 - O_S)\n"
     ]
    }
   ],
   "source": [
    "\n",
    "reactions_file = \"reactionsSimple.json\"\n",
    "\n",
    "const_dict = {\n",
    "        \"F0\": 1.5e15,           # cm^-2\n",
    "        \"S0\": 3e13,             # cm^-2\n",
    "        \n",
    "        \"R\": 0.00831442,        # kJ/mol*K\n",
    "        \"kBoltz\": 1.380649e-23, # J/K\n",
    "}\n",
    "\n",
    "parser = sim_par.SimulatorParser(reactions_file, const_dict)\n",
    "\n",
    "output_parser = parser.create_physical_model()\n"
   ]
  },
  {
   "cell_type": "code",
   "execution_count": 3,
   "metadata": {},
   "outputs": [
    {
     "name": "stdout",
     "output_type": "stream",
     "text": [
      "dict_keys(['model', 'species_model', 'rates_model', 'reactions_list'])\n"
     ]
    }
   ],
   "source": [
    "print(output_parser.keys())"
   ]
  },
  {
   "cell_type": "code",
   "execution_count": 4,
   "metadata": {},
   "outputs": [],
   "source": [
    "\n",
    "####* obtain the experimental data structure\n",
    "\n",
    "def prepare_data(file_exp_data):\n",
    "    #### the .hdf5 file was obtained by merging the data from the .xlsx files\n",
    "    ### Read the experimental data from the hdf5 file\n",
    "    data_dict = {}\n",
    "    with h5py.File(file_exp_data, \"r\") as file:\n",
    "        keys = list(file.keys())\n",
    "        \n",
    "        for key in keys:\n",
    "            data_dict[key] = file[key][:]\n",
    "        \n",
    "    file.close()\n",
    "        \n",
    "    ####* Prepara the data for the simulation\n",
    "    Pressure_vec = data_dict[\"Pressure\"]\n",
    "    Current_vec = data_dict[\"Current\"]\n",
    "    \n",
    "    Tnw_vec = data_dict[\"TnwExp\"]\n",
    "    Tw_vec = data_dict[\"Twall\"]\n",
    "    \n",
    "    zeros = np.zeros_like(Tnw_vec)\n",
    "    Oden_vec  = data_dict.get(\"OmeanExp\", zeros.copy())\n",
    "    COden_vec = data_dict.get(\"COmeanExp\",zeros.copy())\n",
    "    Nexp_vec  = data_dict.get(\"NExp\", zeros.copy())\n",
    "    \n",
    "    Recomb_prob_exp_vec = data_dict[\"recProbExp\"]\n",
    "    FluxIon_vec = 1e14 * Current_vec        \n",
    "    \n",
    "    ####? EavgMB data\n",
    "    p_data_exp = [0.2, 0.3, 0.4, 0.5, 0.6, 0.75, 1.5]\n",
    "    EavgMB_data = [1.04, 0.91, 0.87, 0.83, 0.77, 0.5, 0.001]\n",
    "    interpolator = sp.interpolate.interp1d(p_data_exp, EavgMB_data, kind='linear', fill_value=0.001, bounds_error=False)\n",
    "    \n",
    "    exp_vec = []\n",
    "    for i in range(len(Tnw_vec)):\n",
    "        exp_vec.append({\n",
    "                \"pressure\": Pressure_vec[i], \"current\": Current_vec[i],\n",
    "                \"Tnw\": Tnw_vec[i], \"Tw\": Tw_vec[i], \n",
    "                \"O\": Oden_vec[i], \"CO\": COden_vec[i], \"N\": Nexp_vec[i],\n",
    "                \"Ion\": FluxIon_vec[i], \"EavgMB\": interpolator(Pressure_vec[i]).item()\n",
    "        })\n",
    "        \n",
    "    exp_vec_arr = np.array(exp_vec, dtype=object)\n",
    "    return exp_vec_arr, Recomb_prob_exp_vec\n",
    "\n",
    "\n",
    "exp_vec_arr, Recomb_prob_exp_vec = prepare_data(\"Experimental_data_Paper.hdf5\")\n",
    "\n"
   ]
  },
  {
   "cell_type": "code",
   "execution_count": 5,
   "metadata": {},
   "outputs": [
    {
     "name": "stdout",
     "output_type": "stream",
     "text": [
      "{'pressure': 0.4, 'current': 20.0, 'Tnw': 262.53133733208, 'Tw': 253.14999999999998, 'O': 1493906152913230.0, 'CO': 0.0, 'N': 1.34810445111836e+16, 'Ion': 2000000000000000.0, 'EavgMB': 0.87}\n",
      "['O']\n"
     ]
    }
   ],
   "source": [
    "exp_dict = exp_vec_arr[0]\n",
    "\n",
    "reactions_list = output_parser['reactions_list']\n",
    "\n",
    "print(exp_dict)\n",
    "\n",
    "\n",
    "flux_species_list_aux = [reaction['gas_specie'] for reaction in  reactions_list]\n",
    "flux_species_list = list(set([item for line in flux_species_list_aux for item in line]))\n",
    "print(flux_species_list)\n",
    "\n",
    "\n",
    "###! update exp dict with the flux calculation insert formula here\n",
    "for ele in flux_species_list:\n",
    "    exp_dict[ele] = 2.0*exp_dict[ele]\n"
   ]
  },
  {
   "cell_type": "code",
   "execution_count": 6,
   "metadata": {},
   "outputs": [
    {
     "name": "stdout",
     "output_type": "stream",
     "text": [
      "{'recomb_LH': <function recomb_LH at 0x1177eade0>, 'diffusion': <function diffusion at 0x1177eaca0>, 'adsorption': <function adsorption at 0x1177eab60>, 'desorption': <function desorption at 0x1177eac00>, 'recomb_ER': <function recomb_ER at 0x1177ead40>}\n",
      "[1.95281850054017, 645547731.6715667, 1.95281850054017, 0.002024065544015633, 1000000000000000.0, 0.002024065544015633, 803459850690.479]\n"
     ]
    }
   ],
   "source": [
    "\n",
    "####* more inteliget way of doing rate calculation\n",
    "\n",
    "different_rates_list = list(set([reaction['rate'] for reaction in reactions_list]))\n",
    "available_rates_functions = dict()\n",
    "\n",
    "for name in different_rates_list:\n",
    "    if hasattr(rates_module, name):\n",
    "        available_rates_functions[name] = getattr(rates_module, name)\n",
    "    else:\n",
    "        raise ValueError(f\"{name} is not defined on the rates module!\")\n",
    "\n",
    "\n",
    "print(available_rates_functions)\n",
    "\n",
    "\n",
    "rates_calculation = []\n",
    "\n",
    "for i in range(len(reactions_list)):\n",
    "    \n",
    "    model_dict = reactions_list[i]['model_dict']\n",
    "    \n",
    "    ### manipulation of the specif parameters here \n",
    "    \n",
    "    gas_specie = reactions_list[i]['gas_specie']\n",
    "    model_dict['gas_specie'] = gas_specie\n",
    "    \n",
    "    rate_name = reactions_list[i]['rate']\n",
    "    rate_fun = available_rates_functions[rate_name]\n",
    "    rate_value = rate_fun(const_dict, exp_dict, model_dict)\n",
    "    rates_calculation.append(rate_value)\n",
    "\n",
    "\n",
    "print(rates_calculation)"
   ]
  },
  {
   "cell_type": "code",
   "execution_count": 7,
   "metadata": {},
   "outputs": [],
   "source": [
    "\n",
    "\n",
    "# rates_calculation = []\n",
    "\n",
    "\n",
    "# for i in range(len(reactions_list)):\n",
    "\n",
    "#     model_dict = reactions_list[i]['model_dict']\n",
    "#     gas_specie = reactions_list[i]['gas_specie']\n",
    "#     model_dict['gas_specie'] = gas_specie\n",
    "\n",
    "#     rate_name = reactions_list[i]['rate']\n",
    "#     if hasattr(rates,rate_name):\n",
    "#         rate_fun = getattr(rates, rate_name)\n",
    "#         rate_value = rate_fun(const_dict, exp_dict, model_dict)\n",
    "#         rates_calculation.append(rate_value)\n",
    "#     else:\n",
    "#         raise ValueError(f\"Rate of the reaction {reactions_list[i]['id']} - {reactions_list[i][\"rate\"]} - is not dedined!\")\n",
    "\n",
    "\n",
    "# print(rates_calculation)\n",
    "\n",
    "\n",
    "# model_fun = output_parser['model']\n",
    "# eff_species_list = output_parser['species_model']\n",
    "\n",
    "\n",
    "# state_list = [0.5, 0.1]\n",
    "\n",
    "# result = model_fun(state_list, rates_calculation)\n",
    "\n",
    "# print(eff_species_list)\n",
    "# print(result)\n",
    "\n",
    "\n",
    "\n"
   ]
  },
  {
   "cell_type": "code",
   "execution_count": null,
   "metadata": {},
   "outputs": [],
   "source": []
  }
 ],
 "metadata": {
  "kernelspec": {
   "display_name": "LLM",
   "language": "python",
   "name": "python3"
  },
  "language_info": {
   "codemirror_mode": {
    "name": "ipython",
    "version": 3
   },
   "file_extension": ".py",
   "mimetype": "text/x-python",
   "name": "python",
   "nbconvert_exporter": "python",
   "pygments_lexer": "ipython3",
   "version": "3.12.7"
  }
 },
 "nbformat": 4,
 "nbformat_minor": 2
}
