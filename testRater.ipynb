{
 "cells": [
  {
   "cell_type": "code",
   "execution_count": 1,
   "metadata": {},
   "outputs": [],
   "source": [
    "import numpy as np\n",
    "import scipy as sp\n",
    "import sympy as sy\n",
    "import json \n",
    "import h5py\n",
    "import math\n",
    "\n",
    "import SimulatorParser as sim_par\n",
    "import SimulatorRater as sim_rater"
   ]
  },
  {
   "cell_type": "code",
   "execution_count": 2,
   "metadata": {},
   "outputs": [],
   "source": [
    "\n",
    "###* Input files\n",
    "\n",
    "reactions_file = \"reactionsSimple.json\"\n",
    "\n",
    "const_dict = {\n",
    "        \"F0\": 1.5e15,           # cm^-2\n",
    "        \"S0\": 3e13,             # cm^-2\n",
    "        \n",
    "        \"R\": 0.00831442,        # kJ/mol*K\n",
    "        \"kBoltz\": 1.380649e-23, # J/K\n",
    "}\n",
    "\n",
    "exp_data_file = \"Experimental_data_Paper.hdf5\""
   ]
  },
  {
   "cell_type": "code",
   "execution_count": 3,
   "metadata": {},
   "outputs": [
    {
     "name": "stdout",
     "output_type": "stream",
     "text": [
      "dO_F/dt = -0.02*O_F*O_S*r_7 - 1.0*O_F*r_2 - 1.0*O_F*r_4 - 0.02*O_F*r_5*(1.0 - O_S) + 1.0*r_1*(1.0 - O_F)\n",
      "dO_S/dt = -1.0*O_F*O_S*r_7 + 1.0*O_F*r_5*(1.0 - O_S) - 1.0*O_S*r_6 + 1.0*r_3*(1.0 - O_S)\n"
     ]
    }
   ],
   "source": [
    "\n",
    "###* call the classes \n",
    "\n",
    "parser = sim_par.SimulatorParser(reactions_file, const_dict)\n",
    "output_parser = parser.create_physical_model()\n",
    "\n",
    "simRates = sim_rater.SimulatorRates(reactions_file, const_dict, exp_data_file, output_parser)\n",
    "\n",
    "exp_vec_arr, _ = simRates.prepare_experimental_data()\n",
    "simRates.preload_rates_functions()\n"
   ]
  },
  {
   "cell_type": "code",
   "execution_count": 4,
   "metadata": {},
   "outputs": [
    {
     "name": "stdout",
     "output_type": "stream",
     "text": [
      "[[1.43876053e+04 6.45547732e+08 1.43876053e+04 1.43876053e+04\n",
      "  6.02594888e+09 1.49125257e+01 6.00136101e+05]\n",
      " [2.40428746e+04 6.45547732e+08 2.40428746e+04 2.40428746e+04\n",
      "  6.02594888e+09 2.69037303e+01 6.00136101e+05]\n",
      " [2.96392447e+04 6.45547732e+08 2.96392447e+04 2.96392447e+04\n",
      "  6.02594888e+09 3.55964732e+01 6.00136101e+05]]\n"
     ]
    }
   ],
   "source": [
    "\n",
    "\n",
    "rates_calculation_arr = simRates.compute_rates_simulation(exp_vec_arr)\n",
    "\n",
    "print(rates_calculation_arr[:3])"
   ]
  },
  {
   "cell_type": "code",
   "execution_count": 5,
   "metadata": {},
   "outputs": [
    {
     "name": "stdout",
     "output_type": "stream",
     "text": [
      "[[4.54983903e+03 6.45547732e+08 1.43876053e+04 1.43876053e+04\n",
      "  6.48192572e+10 1.49125257e+01 1.80040830e+06]\n",
      " [7.64207807e+03 6.45547732e+08 2.40428746e+04 2.40428746e+04\n",
      "  6.48192572e+10 2.69037303e+01 1.80040830e+06]\n",
      " [9.46541790e+03 6.45547732e+08 2.96392447e+04 2.96392447e+04\n",
      "  6.48192572e+10 3.55964732e+01 1.80040830e+06]]\n"
     ]
    }
   ],
   "source": [
    "\n",
    "#####! modify the rates for the model\n",
    "\n",
    "mod_model_dict = [\n",
    "    (1, {'SF': 0.5, 'E': 1.0}),\n",
    "    (5, {'SF': 0.5, 'E': 10.0, 'nu_D': 2e13}),\n",
    "    (7, {'nu_D': 3e13})\n",
    "]\n",
    "\n",
    "\n",
    "rates_calculation_arr_2 = simRates.compute_rates_simulation(exp_vec_arr, mod_model_dict)\n",
    "\n",
    "print(rates_calculation_arr_2[:3])"
   ]
  },
  {
   "cell_type": "code",
   "execution_count": 7,
   "metadata": {},
   "outputs": [],
   "source": [
    "\n",
    "# mod_model_dict = [\n",
    "#     (1, {'SF': 0.5, 'E': 1.0}),\n",
    "#     (5, {'SF': 0.5, 'E': 10.0, 'nu_D': 2e13}),\n",
    "#     (7, {'nu_D': 3e13})\n",
    "# ]\n",
    "\n",
    "# mod_model_map = {rate_id: params for rate_id, params in mod_model_dict }\n",
    "\n",
    "# # mod_model_map = {}\n",
    "\n",
    "# for reaction in output_parser['reactions_list']:\n",
    "#     model_dict = reaction['model_dict']\n",
    "#     rate_id   = reaction['id']\n",
    "    \n",
    "#     params_to_apply = mod_model_map.get(rate_id)\n",
    "#     if params_to_apply is not None:\n",
    "#         model_dict.update(params_to_apply)\n",
    "\n",
    "#     print(model_dict)\n",
    "#     print()"
   ]
  },
  {
   "cell_type": "code",
   "execution_count": null,
   "metadata": {},
   "outputs": [
    {
     "name": "stdout",
     "output_type": "stream",
     "text": [
      "[-7018361433788.213, 349435719703139.9]\n",
      "dict_keys(['model', 'species_model', 'rates_model', 'reactions_list'])\n",
      "['O_F', 'O_S']\n",
      "[0.1, 0.5]\n",
      "[-1005177034210.9801, 49811906567714.89]\n"
     ]
    }
   ],
   "source": [
    "\n",
    "model_simulator = output_parser['model']\n",
    "\n",
    "state_list = [0.5, 0.3]\n",
    "\n",
    "\n",
    "\n",
    "print(model_simulator(state_list, rates_calculation_arr[-1]))\n",
    "\n",
    "\n",
    "print(output_parser.keys())\n",
    "print(output_parser['species_model'])\n",
    "\n",
    "initial_state_dict = {'O_F':0.1, 'O_S':0.5}\n",
    "\n",
    "state_list = [initial_state_dict[ele] for ele in output_parser['species_model']]\n",
    "print(state_list)\n",
    "\n",
    "\n",
    "\n",
    "### parser - done\n",
    "### rates  - done\n",
    "\n",
    "###* modify rates for oprtimization\n",
    "###* function for calling the solver - almost done\n",
    "###* compute gammas\n",
    "\n",
    "\n",
    "def system_ode(X, t, rates_vec):\n",
    "    \n",
    "    return model_simulator(X, rates_vec)\n",
    "\n",
    "\n",
    "\n",
    "print(system_ode(state_list, 1.0, rates_calculation_arr[-1]))"
   ]
  },
  {
   "cell_type": "code",
   "execution_count": null,
   "metadata": {},
   "outputs": [
    {
     "name": "stdout",
     "output_type": "stream",
     "text": [
      "[3.78428887e-11 9.96250846e-01]\n",
      " message: The solution converged.\n",
      " success: True\n",
      "  status: 1\n",
      "     fun: [-6.217e-15  3.351e-13]\n",
      "       x: [ 3.784e-11  9.963e-01]\n",
      "  method: hybr\n",
      "    nfev: 4\n",
      "    fjac: [[-1.000e+00  8.467e-03]\n",
      "           [-8.467e-03 -1.000e+00]]\n",
      "       r: [ 1.641e+11 -1.076e+03  3.798e+04]\n",
      "     qtf: [ 9.055e-15 -3.351e-13]\n",
      "True\n"
     ]
    }
   ],
   "source": [
    "\n",
    "#### init_tuple must go with a dicitionary\n",
    "\n",
    "import time\n",
    "\n",
    "\n",
    "def solution_check(sol, rates_vec):\n",
    "    \n",
    "    vec_aux = system_ode(sol, 0.0, rates_vec)\n",
    "    absolute_error = np.sum(np.abs(vec_aux))\n",
    "    \n",
    "    if absolute_error > 1e-4:\n",
    "        return False\n",
    "    else:\n",
    "        return True\n",
    "\n",
    "\n",
    "timeSpace = np.linspace(0, 1_00, 5_00)\n",
    "\n",
    "short_time = np.linspace(timeSpace[0], timeSpace[min(30, len(timeSpace)-1)], 30)\n",
    "\n",
    "max_time = 15\n",
    "start_time = time.time()\n",
    "events = None\n",
    "if max_time is not None:\n",
    "    def timeout_event(t, X):\n",
    "        elapsed = time.time() - start_time\n",
    "        return max_time - elapsed\n",
    "            \n",
    "    timeout_event.terminal = True\n",
    "    timeout_event.direction = -1\n",
    "    events = [timeout_event]\n",
    "        \n",
    "    sol_short = sp.integrate.solve_ivp(\n",
    "        fun=lambda t, X: system_ode(X, t, rates_calculation_arr[-1]),\n",
    "        t_span=(short_time[0], short_time[-1]),\n",
    "        y0=state_list,\n",
    "        method=\"Radau\",\n",
    "        t_eval=short_time,\n",
    "        atol=1e-5, rtol=1e-5,\n",
    "        events=events\n",
    "    )\n",
    "    refined_guess = sol_short.y.T[-1]\n",
    "\n",
    "    print(refined_guess)\n",
    "\n",
    "    ### Attempt to find the fixed point using the refined guess\n",
    "    try:\n",
    "        sol = sp.optimize.root(system_ode, refined_guess, args=(0, rates_calculation_arr[-1]), method=\"hybr\")\n",
    "        success = solution_check(sol.x, rates_calculation_arr[-1])\n",
    "    except Exception as e:\n",
    "        print(\"Fixed point solver failed with message: \", e)\n",
    "        success = False\n",
    "        # sol = self.init_conditions\n",
    "    \n",
    "    print(sol)\n",
    "    print(success)"
   ]
  },
  {
   "cell_type": "code",
   "execution_count": null,
   "metadata": {},
   "outputs": [
    {
     "name": "stdout",
     "output_type": "stream",
     "text": [
      "[3.78428887e-11 9.96250846e-01]\n",
      "[3.78428887e-11 9.96250846e-01]\n"
     ]
    }
   ],
   "source": [
    "\n",
    "###* solve with ode method\n",
    "\n",
    "\n",
    "timeSpace = np.linspace(0, 10.0, 1_00)\n",
    "solution = sp.integrate.odeint(\n",
    "    func=lambda X, t: system_ode(X, t, rates_calculation_arr[-1]),\n",
    "    y0=state_list,\n",
    "    t=timeSpace\n",
    ")\n",
    "\n",
    "\n",
    "sol2 = sp.integrate.solve_ivp(\n",
    "    fun=lambda t, X: system_ode(X, t, rates_calculation_arr[-1]),\n",
    "    t_span=(timeSpace[0], timeSpace[-1]),\n",
    "    y0=state_list,\n",
    "    method=\"BDF\",\n",
    "    t_eval=timeSpace, \n",
    "    atol=1e-5, rtol=1e-5\n",
    ")\n",
    "\n",
    "solution2 = sol2.y.T\n",
    "\n",
    "print(solution[-1])\n",
    "print(solution2[-1])"
   ]
  },
  {
   "cell_type": "code",
   "execution_count": null,
   "metadata": {},
   "outputs": [
    {
     "name": "stdout",
     "output_type": "stream",
     "text": [
      "{'O_F': 3.7842888749771973e-11, 'O_S': 0.9962508456959104}\n",
      "{'pressure': 7.5, 'current': 40.0, 'Tnw': 409.91221146264, 'Tw': 323.15, 'O': 9500750822102000.0, 'CO': 0.0, 'N': 1.14464276533369e+17, 'Ion': 4000000000000000.0, 'EavgMB': 0.001}\n",
      "3\n",
      "2.0\n",
      "['O_F']\n",
      "['F']\n",
      "1500000000000000.0\n",
      "\n",
      "5\n",
      "2.0\n",
      "['O_S']\n",
      "['S']\n",
      "30000000000000.0\n",
      "\n",
      "6\n",
      "2.0\n",
      "['O_F', 'O_S']\n",
      "['F', 'S']\n",
      "30000000000000.0\n",
      "\n",
      "{'r_4': 9.09932004752347e-13, 'r_6': 0.00047909689730848737, 'r_7': 0.8956739301303085}\n",
      "0.896153027028527\n"
     ]
    }
   ],
   "source": [
    "\n",
    "####* compute gammas\n",
    "\n",
    "\n",
    "reaction_list = output_parser['reactions_list']\n",
    "rates_list = rates_calculation_arr[-1]\n",
    "steady_solution_dict = {ele:solution2[-1,idx] for idx, ele in enumerate(output_parser['species_model'])}\n",
    "\n",
    "exp_data_list = exp_vec_arr[-1]\n",
    "\n",
    "print(steady_solution_dict)\n",
    "print(exp_data_list)\n",
    "\n",
    "\n",
    "idx_gamma_vec = [idx for idx, r in enumerate(reaction_list) if r['gamma']]\n",
    "\n",
    "# print(idx_gamma_vec)\n",
    "# print(rates_list)\n",
    "# print(rates_list[idx_gamma_vec])\n",
    "# print(reaction_list)\n",
    "\n",
    "\n",
    "gammas_result = dict()\n",
    "\n",
    "for idx in idx_gamma_vec:\n",
    "    \n",
    "    if reaction_list[idx]['gas_specie'] == 'O2':\n",
    "        factor = 1.0\n",
    "    else:\n",
    "        factor = 2.0\n",
    "    \n",
    "    species_involved_list = list(reaction_list[idx]['left'].keys())\n",
    "    family_species_list = [ele.split('_')[1] for ele in species_involved_list]\n",
    "    \n",
    "    print(idx)\n",
    "    print(factor)\n",
    "    print(species_involved_list)\n",
    "    print(family_species_list)\n",
    "    \n",
    "    flag_S = 'S' in family_species_list\n",
    "    \n",
    "    frac_list = [steady_solution_dict[ele] for ele in species_involved_list]\n",
    "    value_gamma = factor * rates_list[idx] * math.prod(frac_list) *(const_dict['S0'] if flag_S else const_dict['F0']) / exp_data_list['O']\n",
    "    \n",
    "    print((const_dict['S0'] if flag_S else const_dict['F0']))\n",
    "    print()\n",
    "    \n",
    "    gammas_result[\"r_\" + str(reaction_list[idx]['id'])] = value_gamma\n",
    "\n",
    "\n",
    "print(gammas_result)\n",
    "\n",
    "gamma_total = sum(gammas_result.values())\n",
    "print(gamma_total)\n",
    "\n",
    "\n"
   ]
  },
  {
   "cell_type": "code",
   "execution_count": null,
   "metadata": {},
   "outputs": [],
   "source": []
  }
 ],
 "metadata": {
  "kernelspec": {
   "display_name": "LLM",
   "language": "python",
   "name": "python3"
  },
  "language_info": {
   "codemirror_mode": {
    "name": "ipython",
    "version": 3
   },
   "file_extension": ".py",
   "mimetype": "text/x-python",
   "name": "python",
   "nbconvert_exporter": "python",
   "pygments_lexer": "ipython3",
   "version": "3.12.7"
  }
 },
 "nbformat": 4,
 "nbformat_minor": 2
}
