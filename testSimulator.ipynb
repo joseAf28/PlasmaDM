{
 "cells": [
  {
   "cell_type": "code",
   "execution_count": 1,
   "metadata": {},
   "outputs": [],
   "source": [
    "\n",
    "import numpy as np\n",
    "import scipy as sp\n",
    "import h5py\n",
    "import os\n",
    "\n",
    "import SimulatorData as sim_data\n",
    "import Simulator as sim_system\n",
    "import Optimization as opt\n"
   ]
  },
  {
   "cell_type": "code",
   "execution_count": 2,
   "metadata": {},
   "outputs": [],
   "source": [
    "\n",
    "##! keys values are the columns of interest of exp data,\n",
    "##! but the values are the ones used by the simulator \n",
    "##* the experimental data is read as it is presented, modfications are added later in the Simaulator object\n",
    "##* gas species must be consistent with the chemical equations from the json file\n",
    "\n",
    "\n",
    "schema = {\n",
    "    \"Pressure\":     \"pressure\",\n",
    "    \"CurrentName\":  \"current\",\n",
    "    \"WallTemp\":     \"Tw\",\n",
    "    \"T near wall\":  \"Tnw\", \n",
    "    \"O mean\":       \"O\",\n",
    "    \"N\":            \"N\",\n",
    "    \"CO mean\":      \"CO\",\n",
    "    \"gamma.1\":      \"gamma_exp\"\n",
    "}\n",
    "\n",
    "\n",
    "###* Input files and function\n",
    "\n",
    "reactions_file = \"reactionsSimple.json\"\n",
    "\n",
    "const_dict = {\n",
    "        \"F0\": 1.5e15,           # cm^-2\n",
    "        \"S0\": 3e13,             # cm^-2\n",
    "        \n",
    "        \"R\": 0.00831442,        # kJ/mol*K\n",
    "        \"kBoltz\": 1.380649e-23, # J/K\n",
    "}\n",
    "\n",
    "initial_state_dict = {'O_F': 0.1, 'O2_F':0.1 ,'O_S': 0.6, 'Vdb_S':0.1, 'Odb_S': 0.1}\n",
    "\n",
    "\n",
    "###* Functions for the data transformation\n",
    "def compute_flux(const_dict, exp_dict, specie, molar_mass):\n",
    "    den = exp_dict.get(specie, 0.0)\n",
    "    v_th = np.sqrt((8.0 * const_dict['R'] * 1000 * exp_dict['Tnw'])/(molar_mass * np.pi))\n",
    "    flux = 0.25 * v_th * den * 100\n",
    "    return flux\n",
    "\n",
    "\n",
    "def compute_remaining_flux(const_dict, exp_dict, molar_mass): \n",
    "    den = exp_dict['N'] - exp_dict['O'] - exp_dict['CO']\n",
    "    v_th = np.sqrt((8.0 * const_dict['R'] * 1000 * exp_dict['Tnw'])/(molar_mass * np.pi))\n",
    "    flux = 0.25 * v_th * den * 100\n",
    "    return flux\n",
    "\n",
    "####? EavgMB data extracted from the Booth et al. 2019 paper\n",
    "p_data_exp = [0.2, 0.3, 0.4, 0.5, 0.6, 0.75, 1.5]\n",
    "EavgMB_data = [1.04, 0.91, 0.87, 0.83, 0.77, 0.5, 0.001]\n",
    "interpolator = sp.interpolate.interp1d(p_data_exp, EavgMB_data, kind='linear', fill_value=0.001, bounds_error=False)\n",
    "\n",
    "\n",
    "transformations_exp = {\n",
    "    'Tw':       lambda const_dict, exp_dict: exp_dict['Tw'] + 273.15,\n",
    "    'fluxO2' :  lambda const_dict, exp_dict: compute_remaining_flux(const_dict, exp_dict, 0.032),\n",
    "    'fluxO' :   lambda const_dict, exp_dict: compute_flux(const_dict, exp_dict, 'O', 0.016),\n",
    "    'fluxCO':   lambda const_dict, exp_dict: compute_flux(const_dict, exp_dict, 'CO', 0.028),\n",
    "    'fluxCO2':  lambda const_dict, exp_dict: compute_flux(const_dict, exp_dict, 'CO2', 0.048),\n",
    "    'EavgMB':   lambda const_dict, exp_dict: interpolator(exp_dict['pressure']).item(),\n",
    "    'Ion':      lambda const_dict, exp_dict: 1e14 * exp_dict[\"current\"]\n",
    "}\n",
    "\n",
    "input_folder_path = \"Experimental_data_Paper\"\n",
    "\n",
    "output_folder_path = \"Buffer_Data\"\n",
    "exp_data_file = input_folder_path + \".hdf5\""
   ]
  },
  {
   "cell_type": "code",
   "execution_count": 3,
   "metadata": {},
   "outputs": [
    {
     "name": "stdout",
     "output_type": "stream",
     "text": [
      "Summary Buffer:\n",
      "File Data : [b'Experimental_data_Paper/gammas_TD2019.xlsx']\n",
      "col CO: shape(66,)\n",
      "col File_Data: shape(1,)\n",
      "col N: shape(66,)\n",
      "col O: shape(66,)\n",
      "col Tnw: shape(66,)\n",
      "col Tw: shape(66,)\n",
      "col current: shape(66,)\n",
      "col gamma_exp: shape(66,)\n",
      "col pressure: shape(66,)\n"
     ]
    }
   ],
   "source": [
    "\n",
    "data_loader = sim_data.DataLoader(schema, folder_path=input_folder_path, output_file=exp_data_file, output_folder=output_folder_path)\n",
    "data_loader.load_data(force_update=True)"
   ]
  },
  {
   "cell_type": "code",
   "execution_count": 4,
   "metadata": {},
   "outputs": [
    {
     "name": "stdout",
     "output_type": "stream",
     "text": [
      "dO2_F/dt = -1.0*O2_F*O_F*r_15 - 1.0*O2_F*r_10 - 1.0*O2_F*r_12 - 1.0*O2_F*r_14 + 1.0*r_9*(-O2_F - O_F + 1.0)\n",
      "dO_F/dt = -1.0*O2_F*O_F*r_15 - 2.0*O_F**2*r_8 - 0.02*O_F*O_S*r_7 - 0.02*O_F*Odb_S*r_27 - 0.02*O_F*Vdb_S*r_26 - 1.0*O_F*r_11 - 1.0*O_F*r_2 - 1.0*O_F*r_4 - 0.02*O_F*r_5*(-O_S - Odb_S - Vdb_S + 1.0) + 1.0*r_1*(-O2_F - O_F + 1.0)\n",
      "dO_S/dt = -1.0*O_F*O_S*r_7 + 1.0*O_F*r_5*(-O_S - Odb_S - Vdb_S + 1.0) - 1.0*O_S*r_16 - 1.0*O_S*r_17 - 1.0*O_S*r_6 + 1.0*r_3*(-O_S - Odb_S - Vdb_S + 1.0)\n",
      "dOdb_S/dt = -1.0*O_F*Odb_S*r_27 + 1.0*O_F*Vdb_S*r_26 - 1.0*Odb_S*r_23 - 1.0*Odb_S*r_24 - 1.0*Odb_S*r_25 + 1.0*Vdb_S*r_20\n",
      "dVdb_S/dt = 1.0*O_F*Odb_S*r_27 - 1.0*O_F*Vdb_S*r_26 + 1.0*O_S*r_16 + 1.0*O_S*r_17 + 1.0*Odb_S*r_25 - 1.0*Vdb_S*r_20 - 1.0*Vdb_S*r_21 - 1.0*Vdb_S*r_22 + 1.0*r_18*(-O_S - Odb_S - Vdb_S + 1.0) + 1.0*r_19*(-O_S - Odb_S - Vdb_S + 1.0)\n",
      "['r_1', 'r_2', 'r_3', 'r_4', 'r_5', 'r_6', 'r_7', 'r_8', 'r_9', 'r_10', 'r_11', 'r_12', 'r_14', 'r_15', 'r_16', 'r_17', 'r_18', 'r_19', 'r_20', 'r_21', 'r_22', 'r_23', 'r_24', 'r_25', 'r_26', 'r_27']\n",
      "[{'id': 1, 'left': {'V_F': 1}, 'right': {'O_F': 1}, 'rate': 'adsorption', 'gas_specie': 'O', 'model_dict': {'SF': 1.0, 'E': 0.0}, 'gamma': False}, {'id': 2, 'left': {'O_F': 1}, 'right': {'V_F': 1}, 'rate': 'desorption', 'gas_specie': '', 'model_dict': {'SF': 1.0, 'E': 30.0, 'nu_d': 1000000000000000.0}, 'gamma': False}, {'id': 3, 'left': {'V_S': 1}, 'right': {'O_S': 1}, 'rate': 'adsorption', 'gas_specie': 'O', 'model_dict': {'SF': 1.0, 'E': 0.0}, 'gamma': False}, {'id': 4, 'left': {'O_F': 1}, 'right': {'V_F': 1}, 'rate': 'recomb_ER', 'gas_specie': 'O', 'model_dict': {'SF': 1.0, 'E': 0.0}, 'gamma': True}, {'id': 5, 'left': {'O_F': 1, 'V_S': 1}, 'right': {'V_F': 1, 'O_S': 1}, 'rate': 'diffusion', 'gas_specie': '', 'model_dict': {'SF': 1.0, 'E': 15.0, 'nu_D': 10000000000000.0, 'factor': 0.75}, 'gamma': False}, {'id': 6, 'left': {'O_S': 1}, 'right': {'V_S': 1}, 'rate': 'recomb_ER', 'gas_specie': 'O', 'model_dict': {'SF': 1.0, 'E': 15.0}, 'gamma': True}, {'id': 7, 'left': {'O_F': 1, 'O_S': 1}, 'right': {'V_F': 1, 'V_S': 1}, 'rate': 'recomb_LH', 'gas_specie': '', 'model_dict': {'SF': 1.0, 'E': 35.0, 'nu_D': 10000000000000.0, 'factor': 1.0}, 'gamma': True}, {'id': 8, 'left': {'O_F': 2}, 'right': {'V_F': 2}, 'rate': 'recomb_LH', 'gas_specie': '', 'model_dict': {'SF': 1.0, 'E': 15.0, 'nu_D': 10000000000000.0, 'factor': 1.0}, 'gamma': True}, {'id': 9, 'left': {'V_F': 1}, 'right': {'O2_F': 1}, 'rate': 'adsorption', 'gas_specie': 'O2', 'model_dict': {'SF': 1.0, 'E': 0.0}, 'gamma': False}, {'id': 10, 'left': {'O2_F': 1}, 'right': {'V_F': 1}, 'rate': 'desorption', 'gas_specie': '', 'model_dict': {'SF': 1.0, 'E': 17.5, 'nu_d': 1000000000000000.0}, 'gamma': False}, {'id': 11, 'left': {'O_F': 1}, 'right': {'V_F': 1}, 'rate': 'recomb_ER', 'gas_specie': 'O2', 'model_dict': {'SF': 1.0, 'E': 0.0}, 'gamma': True}, {'id': 12, 'left': {'O2_F': 1}, 'right': {'V_F': 1}, 'rate': 'recomb_ER', 'gas_specie': 'O2', 'model_dict': {'SF': 1.0, 'E': 0.0}, 'gamma': True}, {'id': 14, 'left': {'O2_F': 1}, 'right': {'V_F': 2}, 'rate': 'recomb_ER', 'gas_specie': 'O', 'model_dict': {'SF': 1.0, 'E': 0.0}, 'gamma': True}, {'id': 15, 'left': {'O2_F': 1, 'O_F': 1}, 'right': {'V_F': 2}, 'rate': 'recomb_LH', 'gas_specie': '', 'model_dict': {'SF': 1.0, 'E': 15.0, 'nu_D': 10000000000000.0, 'factor': 1.0}, 'gamma': True}, {'id': 16, 'left': {'O_S': 1}, 'right': {'Vdb_S': 1}, 'rate': 'create_meta', 'gas_specie': 'O2fast', 'model_dict': {'SF': 1.0, 'E': 0.0, 'Emin': 2.9, 'E_de': 30.0, 'E_di': 15.0}, 'gamma': False}, {'id': 17, 'left': {'O_S': 1}, 'right': {'Vdb_S': 1}, 'rate': 'create_meta', 'gas_specie': 'Ofast', 'model_dict': {'SF': 0.0, 'E': 0.0, 'Emin': 2.9, 'E_de': 30.0, 'E_di': 15.0}, 'gamma': False}, {'id': 18, 'left': {'V_S': 1}, 'right': {'Vdb_S': 1}, 'rate': 'create_meta', 'gas_specie': 'O2fast', 'model_dict': {'SF': 1.0, 'E': 0.0, 'Emin': 2.9, 'E_de': 30.0, 'E_di': 15.0}, 'gamma': False}, {'id': 19, 'left': {'V_S': 1}, 'right': {'Vdb_S': 1}, 'rate': 'create_meta', 'gas_specie': 'Ofast', 'model_dict': {'SF': 0.0, 'E': 0.0, 'Emin': 2.9, 'E_de': 30.0, 'E_di': 15.0}, 'gamma': False}, {'id': 20, 'left': {'Vdb_S': 1}, 'right': {'Odb_S': 1}, 'rate': 'adsorption', 'gas_specie': 'O', 'model_dict': {'SF': 1.0, 'E': 0.0}, 'gamma': False}, {'id': 21, 'left': {'Vdb_S': 1}, 'right': {'V_S': 1}, 'rate': 'destroy_meta', 'gas_specie': 'O', 'model_dict': {'SF': 1.0, 'E': 0.0, 'Ealpha': 3400.0}, 'gamma': False}, {'id': 22, 'left': {'Vdb_S': 1}, 'right': {'V_S': 1}, 'rate': 'destroy_meta', 'gas_specie': 'O2', 'model_dict': {'SF': 1.0, 'E': 0.0, 'Ealpha': 3400.0}, 'gamma': False}, {'id': 23, 'left': {'Odb_S': 1}, 'right': {'V_S': 1}, 'rate': 'destroy_meta', 'gas_specie': 'O2', 'model_dict': {'SF': 1.0, 'E': 0.0, 'Ealpha': 3400.0}, 'gamma': True}, {'id': 24, 'left': {'Odb_S': 1}, 'right': {'V_S': 1}, 'rate': 'destroy_meta', 'gas_specie': 'O', 'model_dict': {'SF': 1.0, 'E': 0.0, 'Ealpha': 3400.0}, 'gamma': True}, {'id': 25, 'left': {'Odb_S': 1}, 'right': {'Vdb_S': 1}, 'rate': 'recomb_ER_meta', 'gas_specie': 'O', 'model_dict': {'SF': 1.0, 'E': 0.0, 'Ealpha': 3400.0}, 'gamma': True}, {'id': 26, 'left': {'O_F': 1, 'Vdb_S': 1}, 'right': {'Odb_S': 1, 'V_F': 1}, 'rate': 'diffusion', 'gas_specie': '', 'model_dict': {'SF': 1.0, 'E': 30.0, 'nu_D': 10000000000000.0, 'factor': 0.75}, 'gamma': False}, {'id': 27, 'left': {'O_F': 1, 'Odb_S': 1}, 'right': {'V_F': 1, 'Vdb_S': 1}, 'rate': 'recomb_LH', 'gas_specie': '', 'model_dict': {'SF': 1.0, 'E': 30.0, 'nu_D': 10000000000000.0, 'factor': 0.75}, 'gamma': True}]\n"
     ]
    }
   ],
   "source": [
    "\n",
    "\n",
    "exp_file = os.path.join(output_folder_path, exp_data_file)\n",
    "\n",
    "sim = sim_system.Simulator(reactions_file, const_dict, exp_file, initial_state_dict, transformations_exp=transformations_exp)\n",
    "\n",
    "print(sim.output_parser['rates_model'])\n",
    "print(sim.output_parser['reactions_list'])\n",
    "\n",
    "\n"
   ]
  },
  {
   "cell_type": "code",
   "execution_count": 5,
   "metadata": {},
   "outputs": [],
   "source": [
    "\n",
    "\n",
    "def func_optimization(params):\n",
    "    \n",
    "    E, nu_D = params\n",
    "    \n",
    "    dict_mod_vec = [\n",
    "    {\"id\": 1, \"rate\": \"adsorption\", \"model_dict\": {\"E\": E}},\n",
    "    {\"id\": 8, \"rate\": None, \"model_dict\": {\"nu_D\": nu_D}}\n",
    "    ]\n",
    "    return dict_mod_vec\n",
    "\n",
    "loss_function = lambda exp, teo: np.mean((np.reciprocal(exp)*(exp-teo))**2)\n",
    "\n",
    "opt = opt.Optimizer(sim, func_optimization, loss_function)\n"
   ]
  },
  {
   "cell_type": "code",
   "execution_count": 6,
   "metadata": {},
   "outputs": [
    {
     "name": "stdout",
     "output_type": "stream",
     "text": [
      "[0.00125796 0.0014356  0.00154653 0.0024537  0.00294202 0.00332242\n",
      " 0.00154125 0.00168082 0.00172022 0.00218509 0.00282171 0.00332337\n",
      " 0.00395099 0.00458441 0.00484624 0.00058163 0.00049913 0.00046387\n",
      " 0.00053143 0.00068255 0.00080385 0.00097211 0.00110273 0.00079454\n",
      " 0.00061466 0.00052725 0.00061035 0.00077691 0.00091746 0.00110741\n",
      " 0.0013201  0.00145621 0.00045043 0.00034063 0.00027484 0.00029706\n",
      " 0.00035499 0.00040116 0.00046218 0.00053802 0.0006347  0.00043166\n",
      " 0.0003091  0.00032839 0.00039376 0.00045037 0.00054104 0.00067284\n",
      " 0.00074725 0.00042904 0.00033168 0.0002702  0.00027877 0.00031038\n",
      " 0.00033698 0.00037796 0.00043303 0.00059027 0.00041135 0.00029744\n",
      " 0.00030642 0.00034671 0.00038439 0.00045262 0.00056855 0.00066593]\n"
     ]
    }
   ],
   "source": [
    "\n",
    "\n",
    "frac_solutions_arr, gammas_result_arr, gamas_sum_arr = opt.solve_simulations((0.0, 1e13))\n",
    "\n",
    "\n",
    "# print(frac_solutions_arr)\n",
    "# print(gammas_result_arr)\n",
    "print(gamas_sum_arr)\n"
   ]
  }
 ],
 "metadata": {
  "kernelspec": {
   "display_name": "LLM",
   "language": "python",
   "name": "python3"
  },
  "language_info": {
   "codemirror_mode": {
    "name": "ipython",
    "version": 3
   },
   "file_extension": ".py",
   "mimetype": "text/x-python",
   "name": "python",
   "nbconvert_exporter": "python",
   "pygments_lexer": "ipython3",
   "version": "3.12.7"
  }
 },
 "nbformat": 4,
 "nbformat_minor": 2
}
