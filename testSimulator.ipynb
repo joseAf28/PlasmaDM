{
 "cells": [
  {
   "cell_type": "code",
   "execution_count": 1,
   "metadata": {},
   "outputs": [],
   "source": [
    "\n",
    "import numpy as np\n",
    "import scipy as sp\n",
    "import h5py\n",
    "import os\n",
    "\n",
    "import SimulatorData as sim_data\n",
    "import Simulator as sim_system\n"
   ]
  },
  {
   "cell_type": "code",
   "execution_count": 2,
   "metadata": {},
   "outputs": [],
   "source": [
    "\n",
    "##! keys values are the columns of interest of exp data,\n",
    "##! but the values are the ones used by the simulator \n",
    "##* the experimental data is read as it is presented, modfications are added later in the Simaulator object\n",
    "##* gas species must be consistent with the chemical equations from the json file\n",
    "\n",
    "\n",
    "schema = {\n",
    "    \"Pressure\":     \"pressure\",\n",
    "    \"CurrentName\":  \"current\",\n",
    "    \"WallTemp\":     \"Tw\",\n",
    "    \"T near wall\":  \"Tnw\", \n",
    "    \"O mean\":       \"O\",\n",
    "    \"N\":            \"N\",\n",
    "    \"CO mean\":      \"CO\",\n",
    "    \"gamma.1\":      \"gamma_exp\"\n",
    "}\n",
    "\n",
    "\n",
    "###* Input files and function\n",
    "\n",
    "reactions_file = \"reactionsSimple.json\"\n",
    "\n",
    "const_dict = {\n",
    "        \"F0\": 1.5e15,           # cm^-2\n",
    "        \"S0\": 3e13,             # cm^-2\n",
    "        \n",
    "        \"R\": 0.00831442,        # kJ/mol*K\n",
    "        \"kBoltz\": 1.380649e-23, # J/K\n",
    "}\n",
    "\n",
    "initial_state_dict = {'O_F': 0.1, 'O2_F':0.1 ,'O_S': 0.6, 'Vdb_S':0.1, 'Odb_S': 0.1}\n",
    "\n",
    "###* Functions for the data transformation\n",
    "def compute_flux(const_dict, exp_dict, specie, molar_mass):\n",
    "    den = exp_dict.get(specie, 0.0)\n",
    "    v_th = np.sqrt((8.0 * const_dict['R'] * 1000 * exp_dict['Tnw'])/(molar_mass * np.pi))\n",
    "    flux = 0.25 * v_th * den * 100\n",
    "    return flux\n",
    "\n",
    "\n",
    "def compute_remaining_flux(const_dict, exp_dict, molar_mass): \n",
    "    den = exp_dict['N'] - exp_dict['O'] - exp_dict['CO']\n",
    "    v_th = np.sqrt((8.0 * const_dict['R'] * 1000 * exp_dict['Tnw'])/(molar_mass * np.pi))\n",
    "    flux = 0.25 * v_th * den * 100\n",
    "    return flux\n",
    "\n",
    "####? EavgMB data extracted from the Booth et al. 2019 paper\n",
    "p_data_exp = [0.2, 0.3, 0.4, 0.5, 0.6, 0.75, 1.5]\n",
    "EavgMB_data = [1.04, 0.91, 0.87, 0.83, 0.77, 0.5, 0.001]\n",
    "interpolator = sp.interpolate.interp1d(p_data_exp, EavgMB_data, kind='linear', fill_value=0.001, bounds_error=False)\n",
    "\n",
    "\n",
    "transformations_exp = {\n",
    "    'Tw':       lambda const_dict, exp_dict: exp_dict['Tw'] + 273.15,\n",
    "    'fluxO2' :  lambda const_dict, exp_dict: compute_remaining_flux(const_dict, exp_dict, 0.032),\n",
    "    'fluxO' :   lambda const_dict, exp_dict: compute_flux(const_dict, exp_dict, 'O', 0.016),\n",
    "    'fluxCO':   lambda const_dict, exp_dict: compute_flux(const_dict, exp_dict, 'CO', 0.028),\n",
    "    'fluxCO2':  lambda const_dict, exp_dict: compute_flux(const_dict, exp_dict, 'CO2', 0.048),\n",
    "    'EavgMB':   lambda const_dict, exp_dict: interpolator(exp_dict['pressure']).item(),\n",
    "    'Ion':      lambda const_dict, exp_dict: 1e14 * exp_dict[\"current\"]\n",
    "}\n",
    "\n",
    "input_folder_path = \"Experimental_data_Paper\"\n",
    "\n",
    "output_folder_path = \"Buffer_Data\"\n",
    "exp_data_file = input_folder_path + \".hdf5\""
   ]
  },
  {
   "cell_type": "code",
   "execution_count": 3,
   "metadata": {},
   "outputs": [
    {
     "name": "stdout",
     "output_type": "stream",
     "text": [
      "Summary Buffer:\n",
      "File Data : [b'Experimental_data_Paper/gammas_TD2019.xlsx']\n",
      "col CO: shape(66,)\n",
      "col File_Data: shape(1,)\n",
      "col N: shape(66,)\n",
      "col O: shape(66,)\n",
      "col Tnw: shape(66,)\n",
      "col Tw: shape(66,)\n",
      "col current: shape(66,)\n",
      "col gamma_exp: shape(66,)\n",
      "col pressure: shape(66,)\n"
     ]
    }
   ],
   "source": [
    "\n",
    "data_loader = sim_data.DataLoader(schema, folder_path=input_folder_path, output_file=exp_data_file, output_folder=output_folder_path)\n",
    "data_loader.load_data(force_update=True)"
   ]
  },
  {
   "cell_type": "code",
   "execution_count": 4,
   "metadata": {},
   "outputs": [
    {
     "name": "stdout",
     "output_type": "stream",
     "text": [
      "dO_S/dt = -1.0*O_F*O_S*r_7 + 1.0*O_F*r_5*(-O_S - Odb_S - Vdb_S + 1.0) - 1.0*O_S*r_16 - 1.0*O_S*r_17 - 1.0*O_S*r_6 + 1.0*r_3*(-O_S - Odb_S - Vdb_S + 1.0)\n",
      "dOdb_S/dt = -1.0*O_F*Odb_S*r_27 + 1.0*O_F*Vdb_S*r_26 - 1.0*Odb_S*r_23 - 1.0*Odb_S*r_24 - 1.0*Odb_S*r_25 + 1.0*Vdb_S*r_20\n",
      "dVdb_S/dt = 1.0*O_F*Odb_S*r_27 - 1.0*O_F*Vdb_S*r_26 + 1.0*O_S*r_16 + 1.0*O_S*r_17 + 1.0*Odb_S*r_25 - 1.0*Vdb_S*r_20 - 1.0*Vdb_S*r_21 - 1.0*Vdb_S*r_22 + 1.0*r_18*(-O_S - Odb_S - Vdb_S + 1.0) + 1.0*r_19*(-O_S - Odb_S - Vdb_S + 1.0)\n",
      "dO2_F/dt = -1.0*O2_F*O_F*r_15 - 1.0*O2_F*r_10 - 1.0*O2_F*r_12 - 1.0*O2_F*r_14 + 1.0*r_9*(-O2_F - O_F + 1.0)\n",
      "dO_F/dt = -1.0*O2_F*O_F*r_15 - 2.0*O_F**2*r_8 - 0.02*O_F*O_S*r_7 - 0.02*O_F*Odb_S*r_27 - 0.02*O_F*Vdb_S*r_26 - 1.0*O_F*r_11 - 1.0*O_F*r_2 - 1.0*O_F*r_4 - 0.02*O_F*r_5*(-O_S - Odb_S - Vdb_S + 1.0) + 1.0*r_1*(-O2_F - O_F + 1.0)\n",
      "r_1 14387.605280283622 |r_2 645547731.6715667 |r_3 14387.605280283622 |r_4 14387.605280283622 |r_5 6025948880.178593 |r_6 14.912525716375674 |r_7 600136.1013818666 |r_8 8034598506.90479 |r_9 81632.99281719109 |r_10 244976754281.27188 |r_11 81632.99281719109 |r_12 81632.99281719109 |r_14 14387.605280283622 |r_15 8034598506.90479 |r_16 0.02319248187534414 |r_17 0.0 |r_18 0.02319248187534414 |r_19 0.0 |r_20 14387.605280283622 |r_21 0.14388160053520116 |r_22 0.8163614051263779 |r_23 0.8163614051263779 |r_24 0.14388160053520116 |r_25 14387.461398683086 |r_26 4841607.987536751 |r_27 4841607.987536751 |\n",
      "r_1 24042.874626872293 |r_2 645547731.6715667 |r_3 24042.874626872293 |r_4 24042.874626872293 |r_5 6025948880.178593 |r_6 26.90373034825368 |r_7 600136.1013818666 |r_8 8034598506.90479 |r_9 116558.9459680625 |r_10 244976754281.27188 |r_11 116558.9459680625 |r_12 116558.9459680625 |r_14 24042.874626872293 |r_15 8034598506.90479 |r_16 0.015791758726417783 |r_17 0.0 |r_18 0.015791758726417783 |r_19 0.0 |r_20 24042.874626872293 |r_21 0.276329728952825 |r_22 1.3396360645820025 |r_23 1.3396360645820025 |r_24 0.276329728952825 |r_25 24042.59829714334 |r_26 4841607.987536751 |r_27 4841607.987536751 |\n",
      "r_1 29639.24474058925 |r_2 645547731.6715667 |r_3 29639.24474058925 |r_4 29639.24474058925 |r_5 6025948880.178593 |r_6 35.596473228317585 |r_7 600136.1013818666 |r_8 8034598506.90479 |r_9 152244.69827200205 |r_10 244976754281.27188 |r_11 152244.69827200205 |r_12 152244.69827200205 |r_14 29639.24474058925 |r_15 8034598506.90479 |r_16 0.0016856157552837562 |r_17 0.0 |r_18 0.0016856157552837562 |r_19 0.0 |r_20 29639.24474058925 |r_21 0.38732897653473924 |r_22 1.989550802682241 |r_23 1.989550802682241 |r_24 0.38732897653473924 |r_25 29638.857411612713 |r_26 4841607.987536751 |r_27 4841607.987536751 |\n",
      "r_1 47618.37279108635 |r_2 645547731.6715667 |r_3 47618.37279108635 |r_4 47618.37279108635 |r_5 6025948880.178593 |r_6 70.41204636860611 |r_7 600136.1013818666 |r_8 8034598506.90479 |r_9 266357.03995985404 |r_10 244976754281.27188 |r_11 266357.03995985404 |r_12 266357.03995985404 |r_14 47618.37279108635 |r_15 8034598506.90479 |r_16 0.0 |r_17 0.0 |r_18 0.0 |r_19 0.0 |r_20 47618.37279108635 |r_21 0.9076034529795218 |r_22 5.076749897640777 |r_23 5.076749897640777 |r_24 0.9076034529795218 |r_25 47617.465187633374 |r_26 4841607.987536751 |r_27 4841607.987536751 |\n",
      "r_1 56493.00801970161 |r_2 645547731.6715667 |r_3 56493.00801970161 |r_4 56493.00801970161 |r_5 6025948880.178593 |r_6 93.97005653164628 |r_7 600136.1013818666 |r_8 8034598506.90479 |r_9 343126.15708097443 |r_10 244976754281.27188 |r_11 343126.15708097443 |r_12 343126.15708097443 |r_14 56493.00801970161 |r_15 8034598506.90479 |r_16 0.0 |r_17 0.0 |r_18 0.0 |r_19 0.0 |r_20 56493.00801970161 |r_21 1.3328897647032987 |r_22 8.095680488737814 |r_23 8.095680488737814 |r_24 1.3328897647032987 |r_25 56491.6751299369 |r_26 4841607.987536751 |r_27 4841607.987536751 |\n",
      "['r_1', 'r_2', 'r_3', 'r_4', 'r_5', 'r_6', 'r_7', 'r_8', 'r_9', 'r_10', 'r_11', 'r_12', 'r_14', 'r_15', 'r_16', 'r_17', 'r_18', 'r_19', 'r_20', 'r_21', 'r_22', 'r_23', 'r_24', 'r_25', 'r_26', 'r_27']\n",
      "[{'id': 1, 'left': {'V_F': 1}, 'right': {'O_F': 1}, 'rate': 'adsorption', 'gas_specie': 'O', 'model_dict': {'SF': 1.0, 'E': 0.0, 'gas_specie': 'O'}, 'gamma': False}, {'id': 2, 'left': {'O_F': 1}, 'right': {'V_F': 1}, 'rate': 'desorption', 'gas_specie': '', 'model_dict': {'SF': 1.0, 'E': 30.0, 'nu_d': 1000000000000000.0, 'gas_specie': ''}, 'gamma': False}, {'id': 3, 'left': {'V_S': 1}, 'right': {'O_S': 1}, 'rate': 'adsorption', 'gas_specie': 'O', 'model_dict': {'SF': 1.0, 'E': 0.0, 'gas_specie': 'O'}, 'gamma': False}, {'id': 4, 'left': {'O_F': 1}, 'right': {'V_F': 1}, 'rate': 'recomb_ER', 'gas_specie': 'O', 'model_dict': {'SF': 1.0, 'E': 0.0, 'gas_specie': 'O'}, 'gamma': True}, {'id': 5, 'left': {'O_F': 1, 'V_S': 1}, 'right': {'V_F': 1, 'O_S': 1}, 'rate': 'diffusion', 'gas_specie': '', 'model_dict': {'SF': 1.0, 'E': 15.0, 'nu_D': 10000000000000.0, 'factor': 0.75, 'gas_specie': ''}, 'gamma': False}, {'id': 6, 'left': {'O_S': 1}, 'right': {'V_S': 1}, 'rate': 'recomb_ER', 'gas_specie': 'O', 'model_dict': {'SF': 1.0, 'E': 15.0, 'gas_specie': 'O'}, 'gamma': True}, {'id': 7, 'left': {'O_F': 1, 'O_S': 1}, 'right': {'V_F': 1, 'V_S': 1}, 'rate': 'recomb_LH', 'gas_specie': '', 'model_dict': {'SF': 1.0, 'E': 35.0, 'nu_D': 10000000000000.0, 'factor': 1.0, 'gas_specie': ''}, 'gamma': True}, {'id': 8, 'left': {'O_F': 2}, 'right': {'V_F': 2}, 'rate': 'recomb_LH', 'gas_specie': '', 'model_dict': {'SF': 1.0, 'E': 15.0, 'nu_D': 10000000000000.0, 'factor': 1.0, 'gas_specie': ''}, 'gamma': True}, {'id': 9, 'left': {'V_F': 1}, 'right': {'O2_F': 1}, 'rate': 'adsorption', 'gas_specie': 'O2', 'model_dict': {'SF': 1.0, 'E': 0.0, 'gas_specie': 'O2'}, 'gamma': False}, {'id': 10, 'left': {'O2_F': 1}, 'right': {'V_F': 1}, 'rate': 'desorption', 'gas_specie': '', 'model_dict': {'SF': 1.0, 'E': 17.5, 'nu_d': 1000000000000000.0, 'gas_specie': ''}, 'gamma': False}, {'id': 11, 'left': {'O_F': 1}, 'right': {'V_F': 1}, 'rate': 'recomb_ER', 'gas_specie': 'O2', 'model_dict': {'SF': 1.0, 'E': 0.0, 'gas_specie': 'O2'}, 'gamma': True}, {'id': 12, 'left': {'O2_F': 1}, 'right': {'V_F': 1}, 'rate': 'recomb_ER', 'gas_specie': 'O2', 'model_dict': {'SF': 1.0, 'E': 0.0, 'gas_specie': 'O2'}, 'gamma': True}, {'id': 14, 'left': {'O2_F': 1}, 'right': {'V_F': 2}, 'rate': 'recomb_ER', 'gas_specie': 'O', 'model_dict': {'SF': 1.0, 'E': 0.0, 'gas_specie': 'O'}, 'gamma': True}, {'id': 15, 'left': {'O2_F': 1, 'O_F': 1}, 'right': {'V_F': 2}, 'rate': 'recomb_LH', 'gas_specie': '', 'model_dict': {'SF': 1.0, 'E': 15.0, 'nu_D': 10000000000000.0, 'factor': 1.0, 'gas_specie': ''}, 'gamma': True}, {'id': 16, 'left': {'O_S': 1}, 'right': {'Vdb_S': 1}, 'rate': 'create_meta', 'gas_specie': 'O2fast', 'model_dict': {'SF': 1.0, 'E': 0.0, 'Emin': 2.9, 'E_de': 30.0, 'E_di': 15.0, 'gas_specie': 'O2fast'}, 'gamma': False}, {'id': 17, 'left': {'O_S': 1}, 'right': {'Vdb_S': 1}, 'rate': 'create_meta', 'gas_specie': 'Ofast', 'model_dict': {'SF': 0.0, 'E': 0.0, 'Emin': 2.9, 'E_de': 30.0, 'E_di': 15.0, 'gas_specie': 'Ofast'}, 'gamma': False}, {'id': 18, 'left': {'V_S': 1}, 'right': {'Vdb_S': 1}, 'rate': 'create_meta', 'gas_specie': 'O2fast', 'model_dict': {'SF': 1.0, 'E': 0.0, 'Emin': 2.9, 'E_de': 30.0, 'E_di': 15.0, 'gas_specie': 'O2fast'}, 'gamma': False}, {'id': 19, 'left': {'V_S': 1}, 'right': {'Vdb_S': 1}, 'rate': 'create_meta', 'gas_specie': 'Ofast', 'model_dict': {'SF': 0.0, 'E': 0.0, 'Emin': 2.9, 'E_de': 30.0, 'E_di': 15.0, 'gas_specie': 'Ofast'}, 'gamma': False}, {'id': 20, 'left': {'Vdb_S': 1}, 'right': {'Odb_S': 1}, 'rate': 'adsorption', 'gas_specie': 'O', 'model_dict': {'SF': 1.0, 'E': 0.0, 'gas_specie': 'O'}, 'gamma': False}, {'id': 21, 'left': {'Vdb_S': 1}, 'right': {'V_S': 1}, 'rate': 'destroy_meta', 'gas_specie': 'O', 'model_dict': {'SF': 1.0, 'E': 0.0, 'Ealpha': 3400.0, 'gas_specie': 'O'}, 'gamma': False}, {'id': 22, 'left': {'Vdb_S': 1}, 'right': {'V_S': 1}, 'rate': 'destroy_meta', 'gas_specie': 'O2', 'model_dict': {'SF': 1.0, 'E': 0.0, 'Ealpha': 3400.0, 'gas_specie': 'O2'}, 'gamma': False}, {'id': 23, 'left': {'Odb_S': 1}, 'right': {'V_S': 1}, 'rate': 'destroy_meta', 'gas_specie': 'O2', 'model_dict': {'SF': 1.0, 'E': 0.0, 'Ealpha': 3400.0, 'gas_specie': 'O2'}, 'gamma': True}, {'id': 24, 'left': {'Odb_S': 1}, 'right': {'V_S': 1}, 'rate': 'destroy_meta', 'gas_specie': 'O', 'model_dict': {'SF': 1.0, 'E': 0.0, 'Ealpha': 3400.0, 'gas_specie': 'O'}, 'gamma': True}, {'id': 25, 'left': {'Odb_S': 1}, 'right': {'Vdb_S': 1}, 'rate': 'recomb_ER_meta', 'gas_specie': 'O', 'model_dict': {'SF': 1.0, 'E': 0.0, 'Ealpha': 3400.0, 'gas_specie': 'O'}, 'gamma': True}, {'id': 26, 'left': {'O_F': 1, 'Vdb_S': 1}, 'right': {'Odb_S': 1, 'V_F': 1}, 'rate': 'diffusion', 'gas_specie': '', 'model_dict': {'SF': 1.0, 'E': 30.0, 'nu_D': 10000000000000.0, 'factor': 0.75, 'gas_specie': ''}, 'gamma': False}, {'id': 27, 'left': {'O_F': 1, 'Odb_S': 1}, 'right': {'V_F': 1, 'Vdb_S': 1}, 'rate': 'recomb_LH', 'gas_specie': '', 'model_dict': {'SF': 1.0, 'E': 30.0, 'nu_D': 10000000000000.0, 'factor': 0.75, 'gas_specie': ''}, 'gamma': True}]\n"
     ]
    }
   ],
   "source": [
    "\n",
    "\n",
    "exp_file = os.path.join(output_folder_path, exp_data_file)\n",
    "\n",
    "sim = sim_system.Simulator(reactions_file, const_dict, exp_file, initial_state_dict, transformations_exp=transformations_exp)\n",
    "\n",
    "\n",
    "print(sim.output_parser['rates_model'])\n",
    "print(sim.output_parser['reactions_list'])\n",
    "\n",
    "### 12, 14 \n",
    "\n",
    "\n",
    "### 21, 22\n",
    "\n"
   ]
  },
  {
   "cell_type": "code",
   "execution_count": 5,
   "metadata": {},
   "outputs": [
    {
     "name": "stdout",
     "output_type": "stream",
     "text": [
      "['O_S', 'Odb_S', 'Vdb_S', 'O2_F', 'O_F']\n",
      "[[9.76230934e-01 1.17912304e-02 1.17918945e-02 3.33219600e-07\n",
      "  2.22699283e-05]\n",
      " [9.90125793e-01 4.83874643e-03 4.83901403e-03 4.75777165e-07\n",
      "  3.71978757e-05]\n",
      " [9.99085201e-01 3.54322737e-04 3.54346345e-04 6.21435625e-07\n",
      "  4.58429899e-05]\n",
      " [9.99766722e-01 3.50306925e-11 3.50300297e-11 1.08718955e-06\n",
      "  7.35826524e-05]\n",
      " [9.99748750e-01 9.18266568e-11 9.18245081e-11 1.40051736e-06\n",
      "  8.72532288e-05]]\n",
      "[{'r_4': 4.366652611050416e-05, 'r_6': 3.9680311779441585e-05, 'r_7': 3.556251296270382e-05, 'r_8': 0.0005430541379423504, 'r_11': 0.00012387847535737383, 'r_12': 1.8535639362188733e-06, 'r_14': 3.266858822119513e-07, 'r_15': 4.06279445480943e-06, 'r_23': 1.3118461315100727e-08, 'r_24': 4.624190214586675e-09, 'r_25': 0.0004623965674906219, 'r_27': 3.4652843086576867e-06}\n",
      " {'r_4': 7.293701122366465e-05, 'r_6': 4.344865165119389e-05, 'r_7': 3.605219353835143e-05, 'r_8': 0.0009066588187087879, 'r_11': 0.00017679793456954528, 'r_12': 2.26132322005021e-06, 'r_14': 4.6644820111361966e-07, 'r_15': 5.79828221523422e-06, 'r_23': 5.286437801313268e-09, 'r_24': 2.1808907111181227e-09, 'r_25': 0.00018975258107800593, 'r_27': 1.4213926116938594e-06}\n",
      " {'r_4': 8.988821545938231e-05, 'r_6': 4.705461066780929e-05, 'r_7': 3.6367872844351815e-05, 'r_8': 0.0011170503268480006, 'r_11': 0.00023085953033886758, 'r_12': 3.129471634951911e-06, 'r_14': 6.092506126640565e-07, 'r_15': 7.571221572601522e-06, 'r_23': 4.663551174859042e-10, 'r_24': 1.8158154103331324e-10, 'r_25': 1.3894827728657111e-05, 'r_27': 1.0405291868416511e-07}\n",
      " {'r_4': 0.00014427971059662853, 'r_6': 5.797368575247639e-05, 'r_7': 3.635876617048413e-05, 'r_8': 0.0017913082669298503, 'r_11': 0.00040351984316414974, 'r_12': 5.962037817220917e-06, 'r_14': 1.0658721069199854e-06, 'r_15': 1.3233361147733843e-05, 'r_23': 7.323012311403786e-17, 'r_24': 2.618364660087068e-17, 'r_25': 1.3737264621561395e-12, 'r_27': 1.02777737392129e-14}\n",
      " {'r_4': 0.00017108476230541292, 'r_6': 6.52146965145339e-05, 'r_7': 3.6340194630749086e-05, 'r_8': 0.0021230602424475997, 'r_11': 0.0005195656868235421, 'r_12': 8.339642809053295e-06, 'r_14': 1.3730562312744704e-06, 'r_15': 1.7038811966549605e-05, 'r_23': 2.580223087182392e-16, 'r_24': 8.496266492584247e-17, 'r_25': 3.600960403678084e-12, 'r_27': 2.6928057291453246e-14}]\n"
     ]
    }
   ],
   "source": [
    "\n",
    "\n",
    "\n",
    "frac_solutions_arr, gammas_result_arr = sim.solve_system()\n",
    "\n",
    "gammas_sum = np.array([sum(gamma_dict.values()) for gamma_dict in gammas_result_arr])\n",
    "\n",
    "\n",
    "print(sim.output_parser['species_model'])\n",
    "print(frac_solutions_arr[:5])\n",
    "print(gammas_result_arr[:5])"
   ]
  },
  {
   "cell_type": "code",
   "execution_count": 6,
   "metadata": {},
   "outputs": [
    {
     "name": "stdout",
     "output_type": "stream",
     "text": [
      "[0.00125796 0.0014356  0.00154653 0.0024537  0.00294202 0.00332242\n",
      " 0.00154125 0.00168082 0.00172022 0.00218509 0.00282171 0.00332337\n",
      " 0.00395099 0.00458441 0.00484624 0.00058163 0.00049913 0.00046387\n",
      " 0.00053143 0.00068255 0.00080385 0.00097211 0.00110273 0.00079454\n",
      " 0.00061466 0.00052725 0.00061035 0.00077691 0.00091746 0.00110741\n",
      " 0.0013201  0.00145621 0.00045043 0.00034063 0.00027484 0.00029706\n",
      " 0.00035499 0.00040116 0.00046218 0.00053802 0.0006347  0.00043166\n",
      " 0.0003091  0.00032839 0.00039376 0.00045037 0.00054104 0.00067284\n",
      " 0.00074725 0.00042904 0.00033168 0.0002702  0.00027877 0.00031038\n",
      " 0.00033698 0.00037796 0.00043303 0.00059027 0.00041135 0.00029744\n",
      " 0.00030642 0.00034671 0.00038439 0.00045262 0.00056855 0.00066593]\n"
     ]
    }
   ],
   "source": [
    "\n",
    "print(gammas_sum)\n"
   ]
  },
  {
   "cell_type": "code",
   "execution_count": 7,
   "metadata": {},
   "outputs": [],
   "source": [
    "# [0.00079391 0.0012452  0.00153259 0.0024537  0.00294202 0.00332242\n",
    "#  0.00083535 0.00139788 0.00169989 0.00218368 0.00282171 0.00332337\n",
    "#  0.00395099 0.00458441 0.00484624 0.00026752 0.00036734 0.00045403\n",
    "#  0.00053071 0.00068255 0.00080385 0.00097211 0.00110273 0.0002879\n",
    "#  0.00040623 0.00051199 0.00060926 0.00077691 0.00091746 0.00110741\n",
    "#  0.0013201  0.00145621 0.00020071 0.0002355  0.00026695 0.00029648\n",
    "#  0.00035499 0.00040116 0.00046218 0.00053802 0.00021855 0.00025846\n",
    "#  0.00029629 0.00032747 0.00039376 0.00045037 0.00054104 0.00067284\n",
    "#  0.00074725 0.00023204 0.00024819 0.00026391 0.00027831 0.00031038\n",
    "#  0.00033698 0.00037796 0.00043303 0.00024911 0.00026795 0.00028674\n",
    "#  0.00030564 0.00034671 0.00038439 0.00045262 0.00056855 0.00066593]"
   ]
  }
 ],
 "metadata": {
  "kernelspec": {
   "display_name": "LLM",
   "language": "python",
   "name": "python3"
  },
  "language_info": {
   "codemirror_mode": {
    "name": "ipython",
    "version": 3
   },
   "file_extension": ".py",
   "mimetype": "text/x-python",
   "name": "python",
   "nbconvert_exporter": "python",
   "pygments_lexer": "ipython3",
   "version": "3.12.7"
  }
 },
 "nbformat": 4,
 "nbformat_minor": 2
}
