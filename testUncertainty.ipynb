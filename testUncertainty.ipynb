{
 "cells": [
  {
   "cell_type": "code",
   "execution_count": 1,
   "metadata": {},
   "outputs": [],
   "source": [
    "\n",
    "import numpy as np\n",
    "import scipy as sp\n",
    "import h5py\n",
    "import os\n",
    "\n",
    "import SimulatorData as sim_data\n",
    "import SimulatorExp as sim_system\n",
    "import Uncertainty as unc"
   ]
  },
  {
   "cell_type": "code",
   "execution_count": 2,
   "metadata": {},
   "outputs": [],
   "source": [
    "\n",
    "##! keys values are the columns of interest of exp data,\n",
    "##! but the values are the ones used by the simulator \n",
    "##* the experimental data is read as it is presented, modfications are added later in the Simaulator object\n",
    "##* gas species must be consistent with the chemical equations from the json file\n",
    "\n",
    "\n",
    "schema = {\n",
    "    \"Pressure\":     \"pressure\",\n",
    "    \"CurrentName\":  \"current\",\n",
    "    \"WallTemp\":     \"Tw\",\n",
    "    \"T near wall\":  \"Tnw\", \n",
    "    \"O mean\":       \"O\",\n",
    "    \"N\":            \"N\",\n",
    "    \"CO mean\":      \"CO\",\n",
    "    \"gamma.1\":      \"gamma_exp\"\n",
    "}\n",
    "\n",
    "\n",
    "###* Input files and function\n",
    "\n",
    "reactions_file = \"reactionsSimple.json\"\n",
    "\n",
    "const_dict = {\n",
    "        \"F0\": 1.5e15,           # cm^-2\n",
    "        \"S0\": 3e13,             # cm^-2\n",
    "        \n",
    "        \"R\": 0.00831442,        # kJ/mol*K\n",
    "        \"kBoltz\": 1.380649e-23, # J/K\n",
    "}\n",
    "\n",
    "initial_state_dict = {'O_F': 0.1, 'O2_F':0.1 ,'O_S': 0.6, 'Vdb_S':0.1, 'Odb_S': 0.1}\n",
    "\n",
    "###* Functions for the data transformation\n",
    "def compute_flux(const_dict, exp_dict, specie, molar_mass):\n",
    "    den = exp_dict.get(specie, 0.0)\n",
    "    v_th = np.sqrt((8.0 * const_dict['R'] * 1000 * exp_dict['Tnw'])/(molar_mass * np.pi))\n",
    "    flux = 0.25 * v_th * den * 100\n",
    "    return flux\n",
    "\n",
    "\n",
    "def compute_remaining_flux(const_dict, exp_dict, molar_mass): \n",
    "    den = exp_dict['N'] - exp_dict['O'] - exp_dict['CO']\n",
    "    v_th = np.sqrt((8.0 * const_dict['R'] * 1000 * exp_dict['Tnw'])/(molar_mass * np.pi))\n",
    "    flux = 0.25 * v_th * den * 100\n",
    "    return flux\n",
    "\n",
    "####? EavgMB data extracted from the Booth et al. 2019 paper\n",
    "p_data_exp = [0.2, 0.3, 0.4, 0.5, 0.6, 0.75, 1.5]\n",
    "EavgMB_data = [1.04, 0.91, 0.87, 0.83, 0.77, 0.5, 0.001]\n",
    "interpolator = sp.interpolate.interp1d(p_data_exp, EavgMB_data, kind='linear', fill_value=0.001, bounds_error=False)\n",
    "\n",
    "\n",
    "transformations_exp = {\n",
    "    'Tw':       lambda const_dict, exp_dict: exp_dict['Tw'] + 273.15,\n",
    "    'fluxO2' :  lambda const_dict, exp_dict: compute_remaining_flux(const_dict, exp_dict, 0.032),\n",
    "    'fluxO' :   lambda const_dict, exp_dict: compute_flux(const_dict, exp_dict, 'O', 0.016),\n",
    "    'fluxCO':   lambda const_dict, exp_dict: compute_flux(const_dict, exp_dict, 'CO', 0.028),\n",
    "    'fluxCO2':  lambda const_dict, exp_dict: compute_flux(const_dict, exp_dict, 'CO2', 0.048),\n",
    "    'EavgMB':   lambda const_dict, exp_dict: interpolator(exp_dict['pressure']).item(),\n",
    "    'Ion':      lambda const_dict, exp_dict: 1e14 * exp_dict[\"current\"]\n",
    "}\n",
    "\n",
    "input_folder_path = \"Experimental_data_Paper\"\n",
    "\n",
    "output_folder_path = \"Buffer_Data\"\n",
    "exp_data_file = input_folder_path + \".hdf5\""
   ]
  },
  {
   "cell_type": "code",
   "execution_count": 3,
   "metadata": {},
   "outputs": [
    {
     "name": "stdout",
     "output_type": "stream",
     "text": [
      "Summary Buffer:\n",
      "File Data : [b'Experimental_data_Paper/gammas_TD2019.xlsx']\n",
      "col CO: shape(66,)\n",
      "col File_Data: shape(1,)\n",
      "col N: shape(66,)\n",
      "col O: shape(66,)\n",
      "col Tnw: shape(66,)\n",
      "col Tw: shape(66,)\n",
      "col current: shape(66,)\n",
      "col gamma_exp: shape(66,)\n",
      "col pressure: shape(66,)\n"
     ]
    }
   ],
   "source": [
    "\n",
    "data_loader = sim_data.DataLoader(schema, folder_path=input_folder_path, output_file=exp_data_file, output_folder=output_folder_path)\n",
    "data_loader.load_data(force_update=True)\n"
   ]
  },
  {
   "cell_type": "code",
   "execution_count": 4,
   "metadata": {},
   "outputs": [
    {
     "name": "stdout",
     "output_type": "stream",
     "text": [
      "dO2_F/dt = -1.0*O2_F*O_F*r_15 - 1.0*O2_F*r_10 - 1.0*O2_F*r_12 - 1.0*O2_F*r_14 + 1.0*r_9*(-O2_F - O_F + 1.0)\n",
      "dO_F/dt = -1.0*O2_F*O_F*r_15 - 2.0*O_F**2*r_8 - 0.02*O_F*O_S*r_7 - 0.02*O_F*Odb_S*r_27 - 0.02*O_F*Vdb_S*r_26 - 1.0*O_F*r_11 - 1.0*O_F*r_2 - 1.0*O_F*r_4 - 0.02*O_F*r_5*(-O_S - Odb_S - Vdb_S + 1.0) + 1.0*r_1*(-O2_F - O_F + 1.0)\n",
      "dO_S/dt = -1.0*O_F*O_S*r_7 + 1.0*O_F*r_5*(-O_S - Odb_S - Vdb_S + 1.0) - 1.0*O_S*r_16 - 1.0*O_S*r_17 - 1.0*O_S*r_6 + 1.0*r_3*(-O_S - Odb_S - Vdb_S + 1.0)\n",
      "dOdb_S/dt = -1.0*O_F*Odb_S*r_27 + 1.0*O_F*Vdb_S*r_26 - 1.0*Odb_S*r_23 - 1.0*Odb_S*r_24 - 1.0*Odb_S*r_25 + 1.0*Vdb_S*r_20\n",
      "dVdb_S/dt = 1.0*O_F*Odb_S*r_27 - 1.0*O_F*Vdb_S*r_26 + 1.0*O_S*r_16 + 1.0*O_S*r_17 + 1.0*Odb_S*r_25 - 1.0*Vdb_S*r_20 - 1.0*Vdb_S*r_21 - 1.0*Vdb_S*r_22 + 1.0*r_18*(-O_S - Odb_S - Vdb_S + 1.0) + 1.0*r_19*(-O_S - Odb_S - Vdb_S + 1.0)\n",
      "['r_1', 'r_2', 'r_3', 'r_4', 'r_5', 'r_6', 'r_7', 'r_8', 'r_9', 'r_10', 'r_11', 'r_12', 'r_14', 'r_15', 'r_16', 'r_17', 'r_18', 'r_19', 'r_20', 'r_21', 'r_22', 'r_23', 'r_24', 'r_25', 'r_26', 'r_27']\n",
      "[{'id': 1, 'left': {'V_F': 1}, 'right': {'O_F': 1}, 'rate': 'adsorption', 'gas_specie': 'O', 'model_dict': {'SF': 1.0, 'E': 0.0}, 'gamma': False}, {'id': 2, 'left': {'O_F': 1}, 'right': {'V_F': 1}, 'rate': 'desorption', 'gas_specie': '', 'model_dict': {'SF': 1.0, 'E': 30.0, 'nu_d': 1000000000000000.0}, 'gamma': False}, {'id': 3, 'left': {'V_S': 1}, 'right': {'O_S': 1}, 'rate': 'adsorption', 'gas_specie': 'O', 'model_dict': {'SF': 1.0, 'E': 0.0}, 'gamma': False}, {'id': 4, 'left': {'O_F': 1}, 'right': {'V_F': 1}, 'rate': 'recomb_ER', 'gas_specie': 'O', 'model_dict': {'SF': 1.0, 'E': 0.0}, 'gamma': True}, {'id': 5, 'left': {'O_F': 1, 'V_S': 1}, 'right': {'V_F': 1, 'O_S': 1}, 'rate': 'diffusion', 'gas_specie': '', 'model_dict': {'SF': 1.0, 'E': 15.0, 'nu_D': 10000000000000.0, 'factor': 0.75}, 'gamma': False}, {'id': 6, 'left': {'O_S': 1}, 'right': {'V_S': 1}, 'rate': 'recomb_ER', 'gas_specie': 'O', 'model_dict': {'SF': 1.0, 'E': 15.0}, 'gamma': True}, {'id': 7, 'left': {'O_F': 1, 'O_S': 1}, 'right': {'V_F': 1, 'V_S': 1}, 'rate': 'recomb_LH', 'gas_specie': '', 'model_dict': {'SF': 1.0, 'E': 35.0, 'nu_D': 10000000000000.0, 'factor': 1.0}, 'gamma': True}, {'id': 8, 'left': {'O_F': 2}, 'right': {'V_F': 2}, 'rate': 'recomb_LH', 'gas_specie': '', 'model_dict': {'SF': 1.0, 'E': 15.0, 'nu_D': 10000000000000.0, 'factor': 1.0}, 'gamma': True}, {'id': 9, 'left': {'V_F': 1}, 'right': {'O2_F': 1}, 'rate': 'adsorption', 'gas_specie': 'O2', 'model_dict': {'SF': 1.0, 'E': 0.0}, 'gamma': False}, {'id': 10, 'left': {'O2_F': 1}, 'right': {'V_F': 1}, 'rate': 'desorption', 'gas_specie': '', 'model_dict': {'SF': 1.0, 'E': 17.5, 'nu_d': 1000000000000000.0}, 'gamma': False}, {'id': 11, 'left': {'O_F': 1}, 'right': {'V_F': 1}, 'rate': 'recomb_ER', 'gas_specie': 'O2', 'model_dict': {'SF': 1.0, 'E': 0.0}, 'gamma': True}, {'id': 12, 'left': {'O2_F': 1}, 'right': {'V_F': 1}, 'rate': 'recomb_ER', 'gas_specie': 'O2', 'model_dict': {'SF': 1.0, 'E': 0.0}, 'gamma': True}, {'id': 14, 'left': {'O2_F': 1}, 'right': {'V_F': 2}, 'rate': 'recomb_ER', 'gas_specie': 'O', 'model_dict': {'SF': 1.0, 'E': 0.0}, 'gamma': True}, {'id': 15, 'left': {'O2_F': 1, 'O_F': 1}, 'right': {'V_F': 2}, 'rate': 'recomb_LH', 'gas_specie': '', 'model_dict': {'SF': 1.0, 'E': 15.0, 'nu_D': 10000000000000.0, 'factor': 1.0}, 'gamma': True}, {'id': 16, 'left': {'O_S': 1}, 'right': {'Vdb_S': 1}, 'rate': 'create_meta', 'gas_specie': 'O2fast', 'model_dict': {'SF': 1.0, 'E': 0.0, 'Emin': 2.9, 'E_de': 30.0, 'E_di': 15.0}, 'gamma': False}, {'id': 17, 'left': {'O_S': 1}, 'right': {'Vdb_S': 1}, 'rate': 'create_meta', 'gas_specie': 'Ofast', 'model_dict': {'SF': 0.0, 'E': 0.0, 'Emin': 2.9, 'E_de': 30.0, 'E_di': 15.0}, 'gamma': False}, {'id': 18, 'left': {'V_S': 1}, 'right': {'Vdb_S': 1}, 'rate': 'create_meta', 'gas_specie': 'O2fast', 'model_dict': {'SF': 1.0, 'E': 0.0, 'Emin': 2.9, 'E_de': 30.0, 'E_di': 15.0}, 'gamma': False}, {'id': 19, 'left': {'V_S': 1}, 'right': {'Vdb_S': 1}, 'rate': 'create_meta', 'gas_specie': 'Ofast', 'model_dict': {'SF': 0.0, 'E': 0.0, 'Emin': 2.9, 'E_de': 30.0, 'E_di': 15.0}, 'gamma': False}, {'id': 20, 'left': {'Vdb_S': 1}, 'right': {'Odb_S': 1}, 'rate': 'adsorption', 'gas_specie': 'O', 'model_dict': {'SF': 1.0, 'E': 0.0}, 'gamma': False}, {'id': 21, 'left': {'Vdb_S': 1}, 'right': {'V_S': 1}, 'rate': 'destroy_meta', 'gas_specie': 'O', 'model_dict': {'SF': 1.0, 'E': 0.0, 'Ealpha': 3400.0}, 'gamma': False}, {'id': 22, 'left': {'Vdb_S': 1}, 'right': {'V_S': 1}, 'rate': 'destroy_meta', 'gas_specie': 'O2', 'model_dict': {'SF': 1.0, 'E': 0.0, 'Ealpha': 3400.0}, 'gamma': False}, {'id': 23, 'left': {'Odb_S': 1}, 'right': {'V_S': 1}, 'rate': 'destroy_meta', 'gas_specie': 'O2', 'model_dict': {'SF': 1.0, 'E': 0.0, 'Ealpha': 3400.0}, 'gamma': True}, {'id': 24, 'left': {'Odb_S': 1}, 'right': {'V_S': 1}, 'rate': 'destroy_meta', 'gas_specie': 'O', 'model_dict': {'SF': 1.0, 'E': 0.0, 'Ealpha': 3400.0}, 'gamma': True}, {'id': 25, 'left': {'Odb_S': 1}, 'right': {'Vdb_S': 1}, 'rate': 'recomb_ER_meta', 'gas_specie': 'O', 'model_dict': {'SF': 1.0, 'E': 0.0, 'Ealpha': 3400.0}, 'gamma': True}, {'id': 26, 'left': {'O_F': 1, 'Vdb_S': 1}, 'right': {'Odb_S': 1, 'V_F': 1}, 'rate': 'diffusion', 'gas_specie': '', 'model_dict': {'SF': 1.0, 'E': 30.0, 'nu_D': 10000000000000.0, 'factor': 0.75}, 'gamma': False}, {'id': 27, 'left': {'O_F': 1, 'Odb_S': 1}, 'right': {'V_F': 1, 'Vdb_S': 1}, 'rate': 'recomb_LH', 'gas_specie': '', 'model_dict': {'SF': 1.0, 'E': 30.0, 'nu_D': 10000000000000.0, 'factor': 0.75}, 'gamma': True}]\n",
      "dict_keys(['CO', 'N', 'O', 'Tnw', 'Tw', 'current', 'pressure', 'fluxO2', 'fluxO', 'fluxCO', 'fluxCO2', 'EavgMB', 'Ion'])\n"
     ]
    }
   ],
   "source": [
    "\n",
    "exp_file = os.path.join(output_folder_path, exp_data_file)\n",
    "\n",
    "sim = sim_system.Simulator(reactions_file, const_dict, exp_file, initial_state_dict, transformations_exp=transformations_exp)\n",
    "print(sim.output_parser['rates_model'])\n",
    "print(sim.output_parser['reactions_list'])\n",
    "\n",
    "print(sim.exp_data_arr[0].keys())\n"
   ]
  },
  {
   "cell_type": "code",
   "execution_count": 5,
   "metadata": {},
   "outputs": [
    {
     "name": "stdout",
     "output_type": "stream",
     "text": [
      "dO2_F/dt = -1.0*O2_F*O_F*r_15 - 1.0*O2_F*r_10 - 1.0*O2_F*r_12 - 1.0*O2_F*r_14 + 1.0*r_9*(-O2_F - O_F + 1.0)\n",
      "dO_F/dt = -1.0*O2_F*O_F*r_15 - 2.0*O_F**2*r_8 - 0.02*O_F*O_S*r_7 - 0.02*O_F*Odb_S*r_27 - 0.02*O_F*Vdb_S*r_26 - 1.0*O_F*r_11 - 1.0*O_F*r_2 - 1.0*O_F*r_4 - 0.02*O_F*r_5*(-O_S - Odb_S - Vdb_S + 1.0) + 1.0*r_1*(-O2_F - O_F + 1.0)\n",
      "dO_S/dt = -1.0*O_F*O_S*r_7 + 1.0*O_F*r_5*(-O_S - Odb_S - Vdb_S + 1.0) - 1.0*O_S*r_16 - 1.0*O_S*r_17 - 1.0*O_S*r_6 + 1.0*r_3*(-O_S - Odb_S - Vdb_S + 1.0)\n",
      "dOdb_S/dt = -1.0*O_F*Odb_S*r_27 + 1.0*O_F*Vdb_S*r_26 - 1.0*Odb_S*r_23 - 1.0*Odb_S*r_24 - 1.0*Odb_S*r_25 + 1.0*Vdb_S*r_20\n",
      "dVdb_S/dt = 1.0*O_F*Odb_S*r_27 - 1.0*O_F*Vdb_S*r_26 + 1.0*O_S*r_16 + 1.0*O_S*r_17 + 1.0*Odb_S*r_25 - 1.0*Vdb_S*r_20 - 1.0*Vdb_S*r_21 - 1.0*Vdb_S*r_22 + 1.0*r_18*(-O_S - Odb_S - Vdb_S + 1.0) + 1.0*r_19*(-O_S - Odb_S - Vdb_S + 1.0)\n",
      "params shape:  (500, 66, 2)\n"
     ]
    },
    {
     "ename": "AttributeError",
     "evalue": "'NoneType' object has no attribute 'keys'",
     "output_type": "error",
     "traceback": [
      "\u001b[0;31m---------------------------------------------------------------------------\u001b[0m",
      "\u001b[0;31mRemoteTraceback\u001b[0m                           Traceback (most recent call last)",
      "\u001b[0;31mRemoteTraceback\u001b[0m: \n\"\"\"\nTraceback (most recent call last):\n  File \"/opt/miniconda3/envs/LLM/lib/python3.12/site-packages/multiprocess/pool.py\", line 125, in worker\n    result = (True, func(*args, **kwds))\n                    ^^^^^^^^^^^^^^^^^^^\n  File \"/opt/miniconda3/envs/LLM/lib/python3.12/site-packages/multiprocess/pool.py\", line 48, in mapstar\n    return list(map(*args))\n           ^^^^^^^^^^^^^^^^\n  File \"/opt/miniconda3/envs/LLM/lib/python3.12/site-packages/pathos/helpers/mp_helper.py\", line 15, in <lambda>\n    func = lambda args: f(*args)\n                        ^^^^^^^^\n  File \"/Users/joseafonso/Desktop/PlasmaDM/Uncertainty.py\", line 165, in <lambda>\n    result = pool.map(lambda params:self.solve_simulation_exp(params, exp_data_arr, reactions_list, exp_uncert_list), params_exp_arr)\n                                    ^^^^^^^^^^^^^^^^^^^^^^^^^^^^^^^^^^^^^^^^^^^^^^^^^^^^^^^^^^^^^^^^^^^^^^^^^^^^^^^^\n  File \"/Users/joseafonso/Desktop/PlasmaDM/Uncertainty.py\", line 124, in solve_simulation_exp\n    print(key, self.transformations_exp.keys())\n               ^^^^^^^^^^^^^^^^^^^^^^^^^^^^^\nAttributeError: 'NoneType' object has no attribute 'keys'\n\"\"\"",
      "\nThe above exception was the direct cause of the following exception:\n",
      "\u001b[0;31mAttributeError\u001b[0m                            Traceback (most recent call last)",
      "\u001b[1;32m/Users/joseafonso/Desktop/PlasmaDM/testUncertainty.ipynb Cell 5\u001b[0m line \u001b[0;36m3\n\u001b[1;32m     <a href='vscode-notebook-cell:/Users/joseafonso/Desktop/PlasmaDM/testUncertainty.ipynb#W4sZmlsZQ%3D%3D?line=25'>26</a>\u001b[0m exp_uncert_list \u001b[39m=\u001b[39m [[\u001b[39m'\u001b[39m\u001b[39mCO\u001b[39m\u001b[39m'\u001b[39m, \u001b[39m0.1\u001b[39m], \n\u001b[1;32m     <a href='vscode-notebook-cell:/Users/joseafonso/Desktop/PlasmaDM/testUncertainty.ipynb#W4sZmlsZQ%3D%3D?line=26'>27</a>\u001b[0m                    [\u001b[39m'\u001b[39m\u001b[39mTw\u001b[39m\u001b[39m'\u001b[39m, \u001b[39m0.01\u001b[39m]]\n\u001b[1;32m     <a href='vscode-notebook-cell:/Users/joseafonso/Desktop/PlasmaDM/testUncertainty.ipynb#W4sZmlsZQ%3D%3D?line=29'>30</a>\u001b[0m \u001b[39m# params_mod_arr, gammas_arr = error_prop.error_propagation_model(model_uncert_list)\u001b[39;00m\n\u001b[1;32m     <a href='vscode-notebook-cell:/Users/joseafonso/Desktop/PlasmaDM/testUncertainty.ipynb#W4sZmlsZQ%3D%3D?line=30'>31</a>\u001b[0m \u001b[39m# print(params_mod_arr)\u001b[39;00m\n\u001b[1;32m     <a href='vscode-notebook-cell:/Users/joseafonso/Desktop/PlasmaDM/testUncertainty.ipynb#W4sZmlsZQ%3D%3D?line=31'>32</a>\u001b[0m \u001b[39m# print(gammas_arr)\u001b[39;00m\n\u001b[0;32m---> <a href='vscode-notebook-cell:/Users/joseafonso/Desktop/PlasmaDM/testUncertainty.ipynb#W4sZmlsZQ%3D%3D?line=33'>34</a>\u001b[0m params_exp_arr, gammas_arr \u001b[39m=\u001b[39m error_prop\u001b[39m.\u001b[39;49merror_propagation_exp(exp_uncert_list)\n",
      "File \u001b[0;32m~/Desktop/PlasmaDM/Uncertainty.py:165\u001b[0m, in \u001b[0;36mErrorPropagator.error_propagation_exp\u001b[0;34m(self, exp_uncert_list, N, nb_workers)\u001b[0m\n\u001b[1;32m    162\u001b[0m \u001b[39mprint\u001b[39m(\u001b[39m\"\u001b[39m\u001b[39mparams shape: \u001b[39m\u001b[39m\"\u001b[39m, params_exp_arr\u001b[39m.\u001b[39mshape)\n\u001b[1;32m    164\u001b[0m pool \u001b[39m=\u001b[39m ProcessPool(nodes\u001b[39m=\u001b[39mnb_workers)\n\u001b[0;32m--> 165\u001b[0m result \u001b[39m=\u001b[39m pool\u001b[39m.\u001b[39;49mmap(\u001b[39mlambda\u001b[39;49;00m params:\u001b[39mself\u001b[39;49m\u001b[39m.\u001b[39;49msolve_simulation_exp(params, exp_data_arr, reactions_list, exp_uncert_list), params_exp_arr)\n\u001b[1;32m    166\u001b[0m pool\u001b[39m.\u001b[39mclose()\n\u001b[1;32m    168\u001b[0m result \u001b[39m=\u001b[39m np\u001b[39m.\u001b[39marray(result)\n",
      "File \u001b[0;32m/opt/miniconda3/envs/LLM/lib/python3.12/site-packages/pathos/multiprocessing.py:154\u001b[0m, in \u001b[0;36mProcessPool.map\u001b[0;34m(self, f, *args, **kwds)\u001b[0m\n\u001b[1;32m    152\u001b[0m \u001b[39mif\u001b[39;00m \u001b[39mnot\u001b[39;00m OLD312a7:\n\u001b[1;32m    153\u001b[0m     warnings\u001b[39m.\u001b[39mfilterwarnings(\u001b[39m'\u001b[39m\u001b[39mignore\u001b[39m\u001b[39m'\u001b[39m, category\u001b[39m=\u001b[39m\u001b[39mDeprecationWarning\u001b[39;00m)\n\u001b[0;32m--> 154\u001b[0m \u001b[39mreturn\u001b[39;00m _pool\u001b[39m.\u001b[39;49mmap(star(f), \u001b[39mzip\u001b[39;49m(\u001b[39m*\u001b[39;49margs), \u001b[39m*\u001b[39;49m\u001b[39m*\u001b[39;49mkwds)\n",
      "File \u001b[0;32m/opt/miniconda3/envs/LLM/lib/python3.12/site-packages/multiprocess/pool.py:367\u001b[0m, in \u001b[0;36mPool.map\u001b[0;34m(self, func, iterable, chunksize)\u001b[0m\n\u001b[1;32m    362\u001b[0m \u001b[39mdef\u001b[39;00m \u001b[39mmap\u001b[39m(\u001b[39mself\u001b[39m, func, iterable, chunksize\u001b[39m=\u001b[39m\u001b[39mNone\u001b[39;00m):\n\u001b[1;32m    363\u001b[0m \u001b[39m    \u001b[39m\u001b[39m'''\u001b[39;00m\n\u001b[1;32m    364\u001b[0m \u001b[39m    Apply `func` to each element in `iterable`, collecting the results\u001b[39;00m\n\u001b[1;32m    365\u001b[0m \u001b[39m    in a list that is returned.\u001b[39;00m\n\u001b[1;32m    366\u001b[0m \u001b[39m    '''\u001b[39;00m\n\u001b[0;32m--> 367\u001b[0m     \u001b[39mreturn\u001b[39;00m \u001b[39mself\u001b[39;49m\u001b[39m.\u001b[39;49m_map_async(func, iterable, mapstar, chunksize)\u001b[39m.\u001b[39;49mget()\n",
      "File \u001b[0;32m/opt/miniconda3/envs/LLM/lib/python3.12/site-packages/multiprocess/pool.py:774\u001b[0m, in \u001b[0;36mApplyResult.get\u001b[0;34m(self, timeout)\u001b[0m\n\u001b[1;32m    772\u001b[0m     \u001b[39mreturn\u001b[39;00m \u001b[39mself\u001b[39m\u001b[39m.\u001b[39m_value\n\u001b[1;32m    773\u001b[0m \u001b[39melse\u001b[39;00m:\n\u001b[0;32m--> 774\u001b[0m     \u001b[39mraise\u001b[39;00m \u001b[39mself\u001b[39m\u001b[39m.\u001b[39m_value\n",
      "\u001b[0;31mAttributeError\u001b[0m: 'NoneType' object has no attribute 'keys'"
     ]
    }
   ],
   "source": [
    "\n",
    "if __name__ == '__main__':\n",
    "    exp_file = os.path.join(output_folder_path, exp_data_file)\n",
    "\n",
    "    sim = sim_system.Simulator(reactions_file, const_dict, exp_file, initial_state_dict, transformations_exp=transformations_exp)\n",
    "    \n",
    "    def func_uncertainty_dict(params):\n",
    "        \n",
    "        E, nu_D = params\n",
    "        dict_mod_vec = [\n",
    "        {\"id\": 1, \"rate\": \"adsorption\", \"model_dict\": {\"E\": E}},\n",
    "        {\"id\": 8, \"rate\": None, \"model_dict\": {\"nu_D\": nu_D}}\n",
    "        ]\n",
    "        return dict_mod_vec\n",
    "    \n",
    "    \n",
    "    def func(x):\n",
    "        return x\n",
    "    \n",
    "    #### truncated gaussian distribution \n",
    "    \n",
    "    error_prop = unc.ErrorPropagator(sim, func_uncertainty_dict, func, transformations_exp=transformations_exp)\n",
    "    \n",
    "    model_uncert_list = [[0.0, 0.1],\n",
    "                         [1e13, 0.1]]  \n",
    "    \n",
    "    exp_uncert_list = [['CO', 0.1], \n",
    "                       ['Tw', 0.01]]\n",
    "    \n",
    "    \n",
    "    # params_mod_arr, gammas_arr = error_prop.error_propagation_model(model_uncert_list)\n",
    "    # print(params_mod_arr)\n",
    "    # print(gammas_arr)\n",
    "    \n",
    "    params_exp_arr, gammas_arr = error_prop.error_propagation_exp(exp_uncert_list)\n",
    "    \n",
    "    "
   ]
  },
  {
   "cell_type": "code",
   "execution_count": null,
   "metadata": {},
   "outputs": [],
   "source": []
  },
  {
   "cell_type": "code",
   "execution_count": null,
   "metadata": {},
   "outputs": [],
   "source": []
  },
  {
   "cell_type": "code",
   "execution_count": null,
   "metadata": {},
   "outputs": [],
   "source": [
    "\n",
    "\n",
    "# def truncated_gaussian(mean=0, error=0.1, min_value=0.0, max_value=np.inf, min_sigma=1.0):\n",
    "    \n",
    "#     sigma = error * mean\n",
    "#     sigma = max(sigma, min_sigma)\n",
    "#     lower, upper = min_value, max_value\n",
    "#     a, b = (lower - mu) / sigma, (upper - mu) / sigma\n",
    "    \n",
    "#     distribution = sp.stats.truncnorm(a, b, loc=mu, scale=sigma)\n",
    "#     return distribution\n",
    "    \n",
    "\n",
    "# dict_sim_pdfs = {\n",
    "#     'E_O': truncnorm\n",
    "# }\n",
    "\n",
    "\n",
    "\n",
    "    \n",
    "\n",
    "\n",
    "\n",
    "\n"
   ]
  }
 ],
 "metadata": {
  "kernelspec": {
   "display_name": "LLM",
   "language": "python",
   "name": "python3"
  },
  "language_info": {
   "codemirror_mode": {
    "name": "ipython",
    "version": 3
   },
   "file_extension": ".py",
   "mimetype": "text/x-python",
   "name": "python",
   "nbconvert_exporter": "python",
   "pygments_lexer": "ipython3",
   "version": "3.12.7"
  }
 },
 "nbformat": 4,
 "nbformat_minor": 2
}
