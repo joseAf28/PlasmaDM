{
 "cells": [
  {
   "cell_type": "code",
   "execution_count": 1,
   "metadata": {},
   "outputs": [],
   "source": [
    "import numpy as np\n",
    "import pandas as pd\n",
    "import os\n",
    "import re\n",
    "import pathlib\n",
    "import h5py\n",
    "\n",
    "import src.SimData  as sim_data"
   ]
  },
  {
   "cell_type": "code",
   "execution_count": 2,
   "metadata": {},
   "outputs": [],
   "source": [
    "\n",
    "def read_data_buffer(data_file):\n",
    "    n_rows = None\n",
    "    data_dict_h5 = {}\n",
    "    \n",
    "    with h5py.File(data_file, \"r\") as file:\n",
    "        keys_hdf5 = list(file.keys())\n",
    "        for key in keys_hdf5:\n",
    "            data_dict_h5[key] = file[key][:]\n",
    "            if n_rows is None and key != 'File_Data': # Use any data column to get n_rows\n",
    "                n_rows = len(data_dict_h5[key])\n",
    "    \n",
    "    return data_dict_h5\n"
   ]
  },
  {
   "cell_type": "code",
   "execution_count": 3,
   "metadata": {},
   "outputs": [],
   "source": [
    "\n",
    "### jorge dataset \n",
    "data_file_jorge = \"Buffer_Data/Experimental_data_CO_Jorge.hdf5\"\n",
    "data_dict_h5_jorge = read_data_buffer(data_file_jorge)\n",
    "\n",
    "data_dict_h5_jorge.pop('File_Data')\n",
    "pd_jorge = pd.DataFrame(data_dict_h5_jorge)"
   ]
  },
  {
   "cell_type": "code",
   "execution_count": 4,
   "metadata": {},
   "outputs": [
    {
     "name": "stdout",
     "output_type": "stream",
     "text": [
      "     C  CO  CO2                 O                 O2            O3  \\\n",
      "0  0.0   0    0  8157238605327579  16385293162655330  5.460660e+11   \n",
      "1  0.0   0    0  8157238605327579  16385293162655330  5.460660e+11   \n",
      "2  0.0   0    0  7734088067177275  16748044168456480  5.432798e+11   \n",
      "3  0.0   0    0  7734088067177275  16748044168456480  5.432798e+11   \n",
      "4  0.0   0    0  9699256414667572  25296339610481060  8.603773e+11   \n",
      "\n",
      "         Tgas         Tnw  Tw  current  frac_CO2  gamma_exp  pressure  \n",
      "0  394.848150  332.243200  50       40       0.0   0.000775       1.0  \n",
      "1  394.848150  332.243200  50       40       0.0   0.000843       1.0  \n",
      "2  395.333494  332.346773  50       40       0.0   0.000775       1.0  \n",
      "3  395.333494  332.346773  50       40       0.0   0.000843       1.0  \n",
      "4  419.001166  335.174979  50       40       0.0   0.000827       1.5  \n"
     ]
    }
   ],
   "source": [
    "print(pd_jorge.head())"
   ]
  },
  {
   "cell_type": "code",
   "execution_count": 5,
   "metadata": {},
   "outputs": [],
   "source": [
    "\n",
    "### loki datsaset\n",
    "data_file_loki = \"Buffer_Data/Experimental_data_CO_TD_LoKIV2.hdf5\"\n",
    "data_dict_h5_loki = read_data_buffer(data_file_loki)\n",
    "\n",
    "data_dict_h5_loki.pop('File_Data')\n",
    "pd_loki = pd.DataFrame(data_dict_h5_loki)\n"
   ]
  },
  {
   "cell_type": "code",
   "execution_count": 6,
   "metadata": {},
   "outputs": [
    {
     "name": "stdout",
     "output_type": "stream",
     "text": [
      "dict_keys(['C', 'CO', 'CO2', 'O', 'O2', 'O3', 'Tgas', 'Tnw', 'Tw', 'current', 'frac_CO2', 'gamma_exp', 'pressure'])\n",
      "[1.5 2.  3.  5.  0.8 1.  1.5 2.  3.  5.  1.5 2.  3.  5.  1.  0.8 1.5 2.\n",
      " 3.  5.  0.4 0.6 0.8 1.  1.5 0.4 0.6 0.8 0.4 1.  1.5 0.4 0.6 0.8 1.  0.4\n",
      " 0.4 0.6 0.8 1.  1.5 2.  3.  5.  0.4 0.6 0.6 0.8 1.  1.5 2.  3.  5.  0.4\n",
      " 0.6 0.8 1.  1.5 2.  0.4 0.6 0.8 1.  2.  3.  0.4 3.  5.  0.4 0.4 0.6 1.\n",
      " 1.  1. ]\n"
     ]
    }
   ],
   "source": [
    "print(data_dict_h5_loki.keys())\n",
    "print(data_dict_h5_loki['pressure'])"
   ]
  },
  {
   "cell_type": "code",
   "execution_count": 7,
   "metadata": {},
   "outputs": [],
   "source": [
    "\n",
    "###  TD dataset\n",
    "data_file_paper = \"Buffer_Data/Experimental_data_Paper.hdf5\"\n",
    "data_dict_h5_paper = read_data_buffer(data_file_paper)\n",
    "\n",
    "data_dict_h5_paper.pop('File_Data')\n",
    "pd_paper = pd.DataFrame(data_dict_h5_paper)"
   ]
  },
  {
   "cell_type": "code",
   "execution_count": 8,
   "metadata": {},
   "outputs": [
    {
     "data": {
      "text/html": [
       "<div>\n",
       "<style scoped>\n",
       "    .dataframe tbody tr th:only-of-type {\n",
       "        vertical-align: middle;\n",
       "    }\n",
       "\n",
       "    .dataframe tbody tr th {\n",
       "        vertical-align: top;\n",
       "    }\n",
       "\n",
       "    .dataframe thead th {\n",
       "        text-align: right;\n",
       "    }\n",
       "</style>\n",
       "<table border=\"1\" class=\"dataframe\">\n",
       "  <thead>\n",
       "    <tr style=\"text-align: right;\">\n",
       "      <th></th>\n",
       "      <th>C</th>\n",
       "      <th>CO</th>\n",
       "      <th>CO2</th>\n",
       "      <th>O</th>\n",
       "      <th>O2</th>\n",
       "      <th>O3</th>\n",
       "      <th>Tgas</th>\n",
       "      <th>Tnw</th>\n",
       "      <th>Tw</th>\n",
       "      <th>current</th>\n",
       "      <th>frac_CO2</th>\n",
       "      <th>gamma_exp</th>\n",
       "      <th>pressure</th>\n",
       "    </tr>\n",
       "  </thead>\n",
       "  <tbody>\n",
       "    <tr>\n",
       "      <th>0</th>\n",
       "      <td>0.0</td>\n",
       "      <td>0</td>\n",
       "      <td>0</td>\n",
       "      <td>8157238605327579</td>\n",
       "      <td>16385293162655330</td>\n",
       "      <td>5.460660e+11</td>\n",
       "      <td>394.848150</td>\n",
       "      <td>332.243200</td>\n",
       "      <td>50</td>\n",
       "      <td>40</td>\n",
       "      <td>0.0</td>\n",
       "      <td>0.000775</td>\n",
       "      <td>1.0</td>\n",
       "    </tr>\n",
       "    <tr>\n",
       "      <th>1</th>\n",
       "      <td>0.0</td>\n",
       "      <td>0</td>\n",
       "      <td>0</td>\n",
       "      <td>8157238605327579</td>\n",
       "      <td>16385293162655330</td>\n",
       "      <td>5.460660e+11</td>\n",
       "      <td>394.848150</td>\n",
       "      <td>332.243200</td>\n",
       "      <td>50</td>\n",
       "      <td>40</td>\n",
       "      <td>0.0</td>\n",
       "      <td>0.000843</td>\n",
       "      <td>1.0</td>\n",
       "    </tr>\n",
       "    <tr>\n",
       "      <th>2</th>\n",
       "      <td>0.0</td>\n",
       "      <td>0</td>\n",
       "      <td>0</td>\n",
       "      <td>7734088067177275</td>\n",
       "      <td>16748044168456480</td>\n",
       "      <td>5.432798e+11</td>\n",
       "      <td>395.333494</td>\n",
       "      <td>332.346773</td>\n",
       "      <td>50</td>\n",
       "      <td>40</td>\n",
       "      <td>0.0</td>\n",
       "      <td>0.000775</td>\n",
       "      <td>1.0</td>\n",
       "    </tr>\n",
       "    <tr>\n",
       "      <th>3</th>\n",
       "      <td>0.0</td>\n",
       "      <td>0</td>\n",
       "      <td>0</td>\n",
       "      <td>7734088067177275</td>\n",
       "      <td>16748044168456480</td>\n",
       "      <td>5.432798e+11</td>\n",
       "      <td>395.333494</td>\n",
       "      <td>332.346773</td>\n",
       "      <td>50</td>\n",
       "      <td>40</td>\n",
       "      <td>0.0</td>\n",
       "      <td>0.000843</td>\n",
       "      <td>1.0</td>\n",
       "    </tr>\n",
       "    <tr>\n",
       "      <th>4</th>\n",
       "      <td>0.0</td>\n",
       "      <td>0</td>\n",
       "      <td>0</td>\n",
       "      <td>9699256414667572</td>\n",
       "      <td>25296339610481060</td>\n",
       "      <td>8.603773e+11</td>\n",
       "      <td>419.001166</td>\n",
       "      <td>335.174979</td>\n",
       "      <td>50</td>\n",
       "      <td>40</td>\n",
       "      <td>0.0</td>\n",
       "      <td>0.000827</td>\n",
       "      <td>1.5</td>\n",
       "    </tr>\n",
       "  </tbody>\n",
       "</table>\n",
       "</div>"
      ],
      "text/plain": [
       "     C  CO  CO2                 O                 O2            O3  \\\n",
       "0  0.0   0    0  8157238605327579  16385293162655330  5.460660e+11   \n",
       "1  0.0   0    0  8157238605327579  16385293162655330  5.460660e+11   \n",
       "2  0.0   0    0  7734088067177275  16748044168456480  5.432798e+11   \n",
       "3  0.0   0    0  7734088067177275  16748044168456480  5.432798e+11   \n",
       "4  0.0   0    0  9699256414667572  25296339610481060  8.603773e+11   \n",
       "\n",
       "         Tgas         Tnw  Tw  current  frac_CO2  gamma_exp  pressure  \n",
       "0  394.848150  332.243200  50       40       0.0   0.000775       1.0  \n",
       "1  394.848150  332.243200  50       40       0.0   0.000843       1.0  \n",
       "2  395.333494  332.346773  50       40       0.0   0.000775       1.0  \n",
       "3  395.333494  332.346773  50       40       0.0   0.000843       1.0  \n",
       "4  419.001166  335.174979  50       40       0.0   0.000827       1.5  "
      ]
     },
     "execution_count": 8,
     "metadata": {},
     "output_type": "execute_result"
    }
   ],
   "source": [
    "pd_jorge.head()"
   ]
  },
  {
   "cell_type": "code",
   "execution_count": 9,
   "metadata": {},
   "outputs": [
    {
     "name": "stdout",
     "output_type": "stream",
     "text": [
      "dict_keys(['CO', 'N', 'O', 'Tnw', 'Tw', 'current', 'gamma_exp', 'pressure'])\n",
      "[0.4 0.6 0.8 1.5 2.  3.  0.4 0.6 0.8 1.  1.5 2.  3.  5.  7.5 0.4 0.6 0.8\n",
      " 1.  1.5 2.  3.  5.  0.4 0.6 0.8 1.  1.5 2.  3.  5.  7.5 0.4 0.6 0.8 1.\n",
      " 1.5 2.  3.  5.  0.4 0.6 0.8 1.  1.5 2.  3.  5.  7.5 0.4 0.6 0.8 1.  1.5\n",
      " 2.  3.  5.  0.4 0.6 0.8 1.  1.5 2.  3.  5.  7.5]\n",
      "(66,)\n"
     ]
    }
   ],
   "source": [
    "print(data_dict_h5_paper.keys())\n",
    "print(data_dict_h5_paper['pressure'])\n",
    "print(data_dict_h5_paper['CO'].shape)\n",
    "\n",
    "rename_fields = {'N' : 'O2'}\n",
    "pd_paper = pd_paper.rename(columns=rename_fields)\n"
   ]
  },
  {
   "cell_type": "code",
   "execution_count": 10,
   "metadata": {},
   "outputs": [],
   "source": [
    "\n",
    "combined_df = pd.concat([pd_jorge, pd_loki, pd_paper], ignore_index=True)\n",
    "filled_df = combined_df.fillna(0)\n",
    "final_df = filled_df.drop_duplicates()"
   ]
  },
  {
   "cell_type": "code",
   "execution_count": 11,
   "metadata": {},
   "outputs": [
    {
     "name": "stdout",
     "output_type": "stream",
     "text": [
      "     C   CO  CO2             O            O2            O3        Tgas  \\\n",
      "0  0.0  0.0  0.0  8.157239e+15  1.638529e+16  5.460660e+11  394.848150   \n",
      "1  0.0  0.0  0.0  8.157239e+15  1.638529e+16  5.460660e+11  394.848150   \n",
      "2  0.0  0.0  0.0  7.734088e+15  1.674804e+16  5.432798e+11  395.333494   \n",
      "3  0.0  0.0  0.0  7.734088e+15  1.674804e+16  5.432798e+11  395.333494   \n",
      "4  0.0  0.0  0.0  9.699256e+15  2.529634e+16  8.603773e+11  419.001166   \n",
      "\n",
      "          Tnw    Tw  current  frac_CO2  gamma_exp  pressure  \n",
      "0  332.243200  50.0     40.0       0.0   0.000775       1.0  \n",
      "1  332.243200  50.0     40.0       0.0   0.000843       1.0  \n",
      "2  332.346773  50.0     40.0       0.0   0.000775       1.0  \n",
      "3  332.346773  50.0     40.0       0.0   0.000843       1.0  \n",
      "4  335.174979  50.0     40.0       0.0   0.000827       1.5  \n",
      "(225, 13)\n"
     ]
    }
   ],
   "source": [
    "print(final_df.head())\n",
    "print(final_df.shape)"
   ]
  },
  {
   "cell_type": "code",
   "execution_count": 12,
   "metadata": {},
   "outputs": [
    {
     "name": "stdout",
     "output_type": "stream",
     "text": [
      "54\n",
      "171\n",
      "0.24\n"
     ]
    }
   ],
   "source": [
    "# print(list(final_df['CO']))\n",
    "\n",
    "low_nb = np.sum(final_df['pressure'] < 1.0)\n",
    "high_nb = np.sum(final_df['pressure'] >= 1.0)\n",
    "\n",
    "print(low_nb)\n",
    "print(high_nb)\n",
    "print(low_nb/(low_nb + high_nb))\n"
   ]
  },
  {
   "cell_type": "code",
   "execution_count": 15,
   "metadata": {},
   "outputs": [
    {
     "name": "stdout",
     "output_type": "stream",
     "text": [
      "109    1.131152e+16\n",
      "110    2.084902e+16\n",
      "111    2.735803e+16\n",
      "112    3.952033e+16\n",
      "113    6.310036e+16\n",
      "           ...     \n",
      "204    0.000000e+00\n",
      "205    0.000000e+00\n",
      "206    0.000000e+00\n",
      "207    0.000000e+00\n",
      "208    0.000000e+00\n",
      "Name: CO, Length: 100, dtype: float64\n"
     ]
    }
   ],
   "source": [
    "print(final_df['CO'][100:200])"
   ]
  },
  {
   "cell_type": "code",
   "execution_count": 13,
   "metadata": {},
   "outputs": [
    {
     "ename": "NameError",
     "evalue": "name 'ping' is not defined",
     "output_type": "error",
     "traceback": [
      "\u001b[0;31m---------------------------------------------------------------------------\u001b[0m",
      "\u001b[0;31mNameError\u001b[0m                                 Traceback (most recent call last)",
      "\u001b[1;32m/Users/joseafonso/Desktop/PlasmaDM/explore_data.ipynb Cell 13\u001b[0m line \u001b[0;36m1\n\u001b[0;32m----> <a href='vscode-notebook-cell:/Users/joseafonso/Desktop/PlasmaDM/explore_data.ipynb#X20sZmlsZQ%3D%3D?line=0'>1</a>\u001b[0m ping()\n",
      "\u001b[0;31mNameError\u001b[0m: name 'ping' is not defined"
     ]
    }
   ],
   "source": [
    "ping()"
   ]
  },
  {
   "cell_type": "code",
   "execution_count": null,
   "metadata": {},
   "outputs": [],
   "source": [
    "### convert to excel\n",
    "\n",
    "path_excel = \"Experimental_data_CO/Experimental_data_CO_O_merged.xlsx\"\n",
    "final_df.to_excel(path_excel, index=True)"
   ]
  },
  {
   "cell_type": "code",
   "execution_count": null,
   "metadata": {},
   "outputs": [],
   "source": [
    "\n",
    "schema_buffer = {\n",
    "    \"pressure\":     \"pressure\",\n",
    "    \"current\":      \"current\",\n",
    "    \"frac_CO2\":     \"frac_CO2\",\n",
    "    \"Tgas\":         \"Tgas\",\n",
    "    \"Tnw\":          \"Tnw\", \n",
    "    \"Tw\":           \"Tw\",\n",
    "    \"O\":            \"O\",\n",
    "    \"O2\":           \"O2\",\n",
    "    \"O3\":           \"O3\",\n",
    "    \"C\":            \"C\",\n",
    "    \"CO\":           \"CO\",\n",
    "    \"CO2\":          \"CO2\",\n",
    "    \"gamma_exp\":    \"gamma_exp\"\n",
    "}\n",
    "\n",
    "output_file = \"Experimental_data_CO_O_merged.hdf5\"\n",
    "file_path = [path_excel]\n",
    "\n",
    "data_loader = sim_data.DataLoader(schema_buffer, output_file=output_file, files_path=file_path)\n",
    "data_loader.load_data(force_update=True)"
   ]
  }
 ],
 "metadata": {
  "kernelspec": {
   "display_name": "plasmas",
   "language": "python",
   "name": "python3"
  },
  "language_info": {
   "codemirror_mode": {
    "name": "ipython",
    "version": 3
   },
   "file_extension": ".py",
   "mimetype": "text/x-python",
   "name": "python",
   "nbconvert_exporter": "python",
   "pygments_lexer": "ipython3",
   "version": "3.12.7"
  }
 },
 "nbformat": 4,
 "nbformat_minor": 2
}
