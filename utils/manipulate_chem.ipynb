{
 "cells": [
  {
   "cell_type": "code",
   "execution_count": 1,
   "metadata": {},
   "outputs": [],
   "source": [
    "import json\n",
    "\n",
    "with open(\"reactions/reactionsSimpleV1.json\", \"r\") as file:\n",
    "    data = json.load(file)\n"
   ]
  },
  {
   "cell_type": "code",
   "execution_count": 2,
   "metadata": {},
   "outputs": [],
   "source": [
    "\n",
    "dict_conv = {\n",
    "    \"adsorption\": \"thermalEffusionSurface_SKO\",\n",
    "    \"desorption\": \"thermalDesorption\",\n",
    "    \"recomb_ER\": \"thermalEffusionSurface_SKO\",\n",
    "    \"recomb_LH\": \"surfaceTransport\",\n",
    "    \"diffusion\": \"surfaceTransport\"\n",
    "}\n",
    "\n",
    "species_conv = {\n",
    "    'O_F' : 'wall_O(F)',\n",
    "    'V_F' : 'wall_F(v)',\n",
    "    'V_S' : 'wall_S(v)',\n",
    "    'O_S' : 'wall_O(S)',\n",
    "    'CO_S': 'wall_CO(S)',\n",
    "    'CO_F' : 'wall_CO(F)',\n",
    "    'CO2_F': 'wall_CO2(F)',\n",
    "    'O' : 'O(3P)',\n",
    "    'O2' : 'O2(X)',\n",
    "    'CO2' : 'CO2(X)',\n",
    "    'CO': 'CO(X)'\n",
    "}\n",
    "\n",
    "rates_conv = {\n",
    "    \"thermalEffusionSurface_SKO\" : \"1, 0, nearWallTemperature, gamma\",\n",
    "    \"thermalDesorption\" : \"1.0e15, 30e3\",\n",
    "    \"surfaceTransport\" : \"1e13, 15e3, 1, 20.0e3, false, gamma\"\n",
    "}\n"
   ]
  },
  {
   "cell_type": "code",
   "execution_count": 3,
   "metadata": {},
   "outputs": [
    {
     "name": "stdout",
     "output_type": "stream",
     "text": [
      "{'SF': 1.0, 'E': 30.0, 'nu_d': 1000000000000000.0}\n"
     ]
    }
   ],
   "source": [
    "print(data[1]['model_dict'])"
   ]
  },
  {
   "cell_type": "code",
   "execution_count": 4,
   "metadata": {},
   "outputs": [],
   "source": [
    "\n",
    "equation_mod = []\n",
    "name_mod = []\n",
    "rate2mod = []\n",
    "\n",
    "max_col1 = float('-inf')\n",
    "max_col2 = float('-inf')\n",
    "max_col3 = float('-inf')\n",
    "\n",
    "for i in range(len(data)):\n",
    "    \n",
    "    rate = data[i]['rate']\n",
    "    if rate in dict_conv:\n",
    "        vec = data[i]['equation'].split(' ')\n",
    "        vec_mod = [species_conv.get(ele, ele) for ele in vec]\n",
    "        new_eq = ' '.join(vec_mod)\n",
    "        new_rate = dict_conv[data[i]['rate']]\n",
    "        args2change = rates_conv[new_rate]\n",
    "        \n",
    "        max_col1 = max(max_col1, len(new_eq))\n",
    "        max_col2 = max(max_col2, len(new_rate))\n",
    "        max_col3 = max(max_col3, len(args2change))\n",
    "        \n",
    "        equation_mod.append(new_eq)\n",
    "        name_mod.append(new_rate)\n",
    "        rate2mod.append(args2change)"
   ]
  },
  {
   "cell_type": "code",
   "execution_count": 5,
   "metadata": {},
   "outputs": [],
   "source": [
    "\n",
    "with open(\"test.chem\", \"w\") as file:\n",
    "    for i in range(len(equation_mod)):\n",
    "        file.write(f\"{equation_mod[i]:<{max_col1}}              | {name_mod[i]:<{max_col2}}         | {rate2mod[i]:<{max_col3}} |  \\n\")\n"
   ]
  },
  {
   "cell_type": "code",
   "execution_count": null,
   "metadata": {},
   "outputs": [],
   "source": []
  }
 ],
 "metadata": {
  "kernelspec": {
   "display_name": "plasmas",
   "language": "python",
   "name": "python3"
  },
  "language_info": {
   "codemirror_mode": {
    "name": "ipython",
    "version": 3
   },
   "file_extension": ".py",
   "mimetype": "text/x-python",
   "name": "python",
   "nbconvert_exporter": "python",
   "pygments_lexer": "ipython3",
   "version": "3.12.3"
  }
 },
 "nbformat": 4,
 "nbformat_minor": 2
}
